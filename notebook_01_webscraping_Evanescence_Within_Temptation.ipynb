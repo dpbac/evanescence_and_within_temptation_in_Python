{
 "cells": [
  {
   "cell_type": "markdown",
   "metadata": {},
   "source": [
    "In this first notebook I'll apply web scraping to obtain lyrics of Evanescence and Within Temptation from the web. \n",
    "\n",
    "First, I've checked the web around for some lyrics' sites with lyrics of both bands. My goal them is to use the same code to extract lyrics for both bands.\n",
    "\n",
    "Some of the websites I've explored were \n",
    "\n",
    "- http://www.metrolyrics.com\n",
    "- https://www.azlyrics.com/\n",
    "- https://www.songteksten.nl/\n",
    "- https://www.songteksten.net/\n",
    "\n",
    "To extract hyperlinks I've used the packages: \n",
    "\n",
    "* [requests](https://pypi.org/project/requests/) \n",
    "* [BeautifulSoup](https://www.crummy.com/software/BeautifulSoup/bs4/doc/). \n",
    "\n",
    "You will notice that some simple [Python string methods](https://www.w3schools.com/python/python_strings.asp) were used with the task of retrieving lyrics. So let's start webscraping.\n",
    "\n",
    "P.S.: Notice that the data retrieved will depend when you do it since websites suffer updates."
   ]
  },
  {
   "cell_type": "markdown",
   "metadata": {
    "toc": true
   },
   "source": [
    "<h1>Table of Contents<span class=\"tocSkip\"></span></h1>\n",
    "<div class=\"toc\"><ul class=\"toc-item\"><li><span><a href=\"#Load-Packages\" data-toc-modified-id=\"Load-Packages-1\"><span class=\"toc-item-num\">1&nbsp;&nbsp;</span><strong>Load Packages</strong></a></span></li><li><span><a href=\"#Webscraping\" data-toc-modified-id=\"Webscraping-2\"><span class=\"toc-item-num\">2&nbsp;&nbsp;</span><strong>Webscraping</strong></a></span><ul class=\"toc-item\"><li><span><a href=\"#Retrieving-hyperlinks-of-lyrics\" data-toc-modified-id=\"Retrieving-hyperlinks-of-lyrics-2.1\"><span class=\"toc-item-num\">2.1&nbsp;&nbsp;</span>Retrieving hyperlinks of lyrics</a></span><ul class=\"toc-item\"><li><span><a href=\"#Retrieving-from-metrolyrics\" data-toc-modified-id=\"Retrieving-from-metrolyrics-2.1.1\"><span class=\"toc-item-num\">2.1.1&nbsp;&nbsp;</span>Retrieving from <a href=\"https://www.metrolyrics.com/\" target=\"_blank\">metrolyrics</a></a></span></li><li><span><a href=\"#Retrieving-from-songteksten.net\" data-toc-modified-id=\"Retrieving-from-songteksten.net-2.1.2\"><span class=\"toc-item-num\">2.1.2&nbsp;&nbsp;</span>Retrieving from <a href=\"https://songteksten.net/\" target=\"_blank\">songteksten.net</a></a></span></li><li><span><a href=\"#Retrieving-from-songteksten.nl\" data-toc-modified-id=\"Retrieving-from-songteksten.nl-2.1.3\"><span class=\"toc-item-num\">2.1.3&nbsp;&nbsp;</span>Retrieving from <a href=\"https://www.songteksten.nl/\" target=\"_blank\">songteksten.nl</a></a></span></li><li><span><a href=\"#Retrieving-from-AZLyrics\" data-toc-modified-id=\"Retrieving-from-AZLyrics-2.1.4\"><span class=\"toc-item-num\">2.1.4&nbsp;&nbsp;</span>Retrieving from <a href=\"https://www.azlyrics.com/\" target=\"_blank\">AZLyrics</a></a></span></li></ul></li></ul></li><li><span><a href=\"#Extracting-lyrics-from-a-webpage\" data-toc-modified-id=\"Extracting-lyrics-from-a-webpage-3\"><span class=\"toc-item-num\">3&nbsp;&nbsp;</span><strong>Extracting lyrics from a webpage</strong></a></span><ul class=\"toc-item\"><li><span><a href=\"#Extracting-lyric-from-songteksten.net\" data-toc-modified-id=\"Extracting-lyric-from-songteksten.net-3.1\"><span class=\"toc-item-num\">3.1&nbsp;&nbsp;</span>Extracting lyric from songteksten.net</a></span><ul class=\"toc-item\"><li><span><a href=\"#Try-another-one\" data-toc-modified-id=\"Try-another-one-3.1.1\"><span class=\"toc-item-num\">3.1.1&nbsp;&nbsp;</span>Try another one</a></span></li></ul></li></ul></li><li><span><a href=\"#Applying-the-same-to-Within-Temptation\" data-toc-modified-id=\"Applying-the-same-to-Within-Temptation-4\"><span class=\"toc-item-num\">4&nbsp;&nbsp;</span><strong>Applying the same to Within Temptation</strong></a></span><ul class=\"toc-item\"><li><span><a href=\"#STEP-1---Retrieving-hyperlinks-from-songteksten.net\" data-toc-modified-id=\"STEP-1---Retrieving-hyperlinks-from-songteksten.net-4.1\"><span class=\"toc-item-num\">4.1&nbsp;&nbsp;</span>STEP 1 - Retrieving hyperlinks from songteksten.net</a></span></li><li><span><a href=\"#STEP-2---Keeping-only-hyperlinks-of-lyrics\" data-toc-modified-id=\"STEP-2---Keeping-only-hyperlinks-of-lyrics-4.2\"><span class=\"toc-item-num\">4.2&nbsp;&nbsp;</span>STEP 2 - Keeping only hyperlinks of lyrics</a></span></li><li><span><a href=\"#STEP-3---Extracting-song-titles-and-lyrics-from-lyric's-hyperlink\" data-toc-modified-id=\"STEP-3---Extracting-song-titles-and-lyrics-from-lyric's-hyperlink-4.3\"><span class=\"toc-item-num\">4.3&nbsp;&nbsp;</span>STEP 3 - Extracting song titles and lyrics from lyric's hyperlink</a></span></li><li><span><a href=\"#Saving-song's-titles-and-lyrics-in-a-.csv-file\" data-toc-modified-id=\"Saving-song's-titles-and-lyrics-in-a-.csv-file-4.4\"><span class=\"toc-item-num\">4.4&nbsp;&nbsp;</span>Saving song's titles and lyrics in a .csv file</a></span></li></ul></li><li><span><a href=\"#Conclusions\" data-toc-modified-id=\"Conclusions-5\"><span class=\"toc-item-num\">5&nbsp;&nbsp;</span><strong>Conclusions</strong></a></span></li></ul></div>"
   ]
  },
  {
   "cell_type": "markdown",
   "metadata": {},
   "source": [
    "# **Load Packages**"
   ]
  },
  {
   "cell_type": "code",
   "execution_count": 1,
   "metadata": {},
   "outputs": [],
   "source": [
    "# importing packages\n",
    "\n",
    "import requests\n",
    "from bs4 import BeautifulSoup\n",
    "import pandas as pd\n",
    "import time\n",
    "\n",
    "TodaysDate = time.strftime(\"%Y-%m-%d\")\n",
    "\n",
    "pd.options.display.max_rows = 999\n"
   ]
  },
  {
   "cell_type": "markdown",
   "metadata": {},
   "source": [
    "# **Webscraping**"
   ]
  },
  {
   "cell_type": "markdown",
   "metadata": {},
   "source": [
    "The first step is to extract addresses of hyperlinks of each band's lyric. Webpages chosen usually present title of lyrics where each title is a hyperlink to a lyric. Like this, once we have all hyperlinks, we will be able to extract each one of the lyrics using those links.\n",
    "\n",
    "The following function retrieves all hyperlinks within the main page. However, each website considered has its own particularities which must be considered when filtering out hyperlinks of lyrics.\n"
   ]
  },
  {
   "cell_type": "code",
   "execution_count": 2,
   "metadata": {
    "ExecuteTime": {
     "end_time": "2020-01-08T14:42:28.584835Z",
     "start_time": "2020-01-08T14:42:28.031311Z"
    }
   },
   "outputs": [],
   "source": [
    "def retrieve_hyperlinks(main_url):\n",
    "    \"\"\" \n",
    "    Extract all hyperlinks in 'main_url' and return a list with these hyperlinks \n",
    "    \"\"\"\n",
    "    \n",
    "    # Send request and catch response: r\n",
    "\n",
    "    r = requests.get(main_url)\n",
    "\n",
    "    # Extracts response as html: html_doc\n",
    "    html_doc = r.text\n",
    "\n",
    "    # Create a BeautifulSoup object from the HTML: soup\n",
    "    soup = BeautifulSoup(html_doc,\"lxml\")\n",
    "    \n",
    "    # Find all 'a' tags (which define hyperlinks): a_tags\n",
    "\n",
    "    a_tags = soup.find_all('a')\n",
    "    \n",
    "    # Create a list with hyperlinks found\n",
    "\n",
    "    list_links = [link.get('href') for link in a_tags]\n",
    "    \n",
    "    # Remove none values if there is some\n",
    "    \n",
    "    list_links = list(filter(None, list_links)) \n",
    "    \n",
    "    return list_links"
   ]
  },
  {
   "cell_type": "markdown",
   "metadata": {},
   "source": [
    "## Retrieving hyperlinks of lyrics\n",
    "\n",
    "Once we obtain all hyperlinks, we need to select those that contains lyrics. For now, we are investigating different lyrics' websites and each one presents a slightly different structure that must be considered when filtering out hyperlinks. \n",
    "\n",
    "By working with different websites, we can choose the one that we consider the most appropriated for extracting the lyrics.\n",
    "\n",
    "Notice that initially we will be only considering `Evanescence` lyrics. However, as said, we have already checked that all websites considered also contain lyrics from `Within Temptation`. Therefore, once we have our solution, it will be applicable for both bands."
   ]
  },
  {
   "cell_type": "markdown",
   "metadata": {},
   "source": [
    "### Retrieving from [metrolyrics](https://www.metrolyrics.com/)\n",
    "\n",
    "To retrieve lyrics of Evanescence from the `metrolyrics` first, we apply the above function using `main_url` = 'http://www.metrolyrics.com/evanescence-lyrics.html'.\n",
    "\n",
    "Then, as expected, we notice that not all hyperlinks are related to lyrics, so we need to filter those out and keep only the ones containing lyrics.\n"
   ]
  },
  {
   "cell_type": "code",
   "execution_count": 3,
   "metadata": {
    "ExecuteTime": {
     "end_time": "2020-01-08T14:42:29.013686Z",
     "start_time": "2020-01-08T14:42:28.589816Z"
    }
   },
   "outputs": [
    {
     "name": "stdout",
     "output_type": "stream",
     "text": [
      "\n",
      " Number of links before filtering: 110\n"
     ]
    },
    {
     "data": {
      "text/plain": [
       "['https://www.metrolyrics.com/lost-in-paradise-lyrics-evanescence.html',\n",
       " 'https://www.metrolyrics.com/gcf-in-saipan-lyrics-bts.html#/correction',\n",
       " 'https://www.metrolyrics.com/weight-of-the-world-lyrics-evanescence.html',\n",
       " 'https://www.metrolyrics.com/evanescence-news.html',\n",
       " 'https://www.metrolyrics.com/missing-lyrics-evanescence.html',\n",
       " 'https://www.metrolyrics.com/if-you-dont-mind-lyrics-evanescence.html',\n",
       " 'https://www.metrolyrics.com/never-was-never-will-be-everybodys-fool-lyrics-evanescence.html',\n",
       " 'https://www.metrolyrics.com/going-under-lyrics-evanescence.html',\n",
       " 'https://www.metrolyrics.com/my-immortal-lyrics-evanescence.html',\n",
       " 'https://www.metrolyrics.com/everybodys-fool-lyrics-evanescence.html',\n",
       " 'https://www.metrolyrics.com/bleed-lyrics-evanescence.html',\n",
       " 'https://www.metrolyrics.com/lies-lyrics-evanescence.html',\n",
       " 'https://www.metrolyrics.com/the-last-song-im-wasting-on-you-lyrics-evanescence.html',\n",
       " 'https://www.metrolyrics.com/even-in-death-lyrics-evanescence.html',\n",
       " 'https://www.metrolyrics.com/hells-angels-lyrics-evanescence.html',\n",
       " 'https://www.metrolyrics.com/bring-me-to-life-lyrics-evanescence.html',\n",
       " 'https://www.metrolyrics.com/taking-over-me-lyrics-evanescence.html',\n",
       " 'https://www.metrolyrics.com/wake-me-up-inside-lyrics-evanescence.html',\n",
       " 'https://www.metrolyrics.com/before-the-dawn-lyrics-evanescence.html',\n",
       " 'https://www.metrolyrics.com/my-last-breath-lyrics-evanescence.html']"
      ]
     },
     "execution_count": 3,
     "metadata": {},
     "output_type": "execute_result"
    }
   ],
   "source": [
    "url = 'http://www.metrolyrics.com/evanescence-lyrics.html'\n",
    "list_links_lyrics_metrolyrics = retrieve_hyperlinks(url)\n",
    "\n",
    "# remove probable repetitions\n",
    "\n",
    "list_links_lyrics_metrolyrics = list(set(list_links_lyrics_metrolyrics))\n",
    "\n",
    "print('\\n Number of links before filtering:', len(list_links_lyrics_metrolyrics))\n",
    "list_links_lyrics_metrolyrics[:20]"
   ]
  },
  {
   "cell_type": "markdown",
   "metadata": {},
   "source": [
    "A quick look in the list above reveals that links containing lyrics are of the form 'http://www.metrolyrics.com/TITLE-lyrics-evanescence.html'. So, we can select the elements of the list that contains '-lyrics-evanescence.html'.\n",
    "\n",
    "The list comprehension bellow does the job and return us 77 hyperlinks instead of the initial 110 hyperlinks."
   ]
  },
  {
   "cell_type": "code",
   "execution_count": 4,
   "metadata": {
    "ExecuteTime": {
     "end_time": "2020-01-08T14:42:29.035643Z",
     "start_time": "2020-01-08T14:42:29.019671Z"
    }
   },
   "outputs": [
    {
     "name": "stdout",
     "output_type": "stream",
     "text": [
      "\n",
      " Number of links after filtering: 77\n"
     ]
    },
    {
     "data": {
      "text/plain": [
       "['https://www.metrolyrics.com/lost-in-paradise-lyrics-evanescence.html',\n",
       " 'https://www.metrolyrics.com/weight-of-the-world-lyrics-evanescence.html',\n",
       " 'https://www.metrolyrics.com/missing-lyrics-evanescence.html',\n",
       " 'https://www.metrolyrics.com/if-you-dont-mind-lyrics-evanescence.html',\n",
       " 'https://www.metrolyrics.com/never-was-never-will-be-everybodys-fool-lyrics-evanescence.html',\n",
       " 'https://www.metrolyrics.com/going-under-lyrics-evanescence.html',\n",
       " 'https://www.metrolyrics.com/my-immortal-lyrics-evanescence.html',\n",
       " 'https://www.metrolyrics.com/everybodys-fool-lyrics-evanescence.html',\n",
       " 'https://www.metrolyrics.com/bleed-lyrics-evanescence.html',\n",
       " 'https://www.metrolyrics.com/lies-lyrics-evanescence.html',\n",
       " 'https://www.metrolyrics.com/the-last-song-im-wasting-on-you-lyrics-evanescence.html',\n",
       " 'https://www.metrolyrics.com/even-in-death-lyrics-evanescence.html',\n",
       " 'https://www.metrolyrics.com/hells-angels-lyrics-evanescence.html',\n",
       " 'https://www.metrolyrics.com/bring-me-to-life-lyrics-evanescence.html',\n",
       " 'https://www.metrolyrics.com/taking-over-me-lyrics-evanescence.html',\n",
       " 'https://www.metrolyrics.com/wake-me-up-inside-lyrics-evanescence.html',\n",
       " 'https://www.metrolyrics.com/before-the-dawn-lyrics-evanescence.html',\n",
       " 'https://www.metrolyrics.com/my-last-breath-lyrics-evanescence.html',\n",
       " 'https://www.metrolyrics.com/call-me-when-your-sober-lyrics-evanescence.html',\n",
       " 'https://www.metrolyrics.com/good-enough-lyrics-evanescence.html',\n",
       " 'https://www.metrolyrics.com/like-you-lyrics-evanescence.html',\n",
       " 'https://www.metrolyrics.com/secret-door-lyrics-evanescence.html',\n",
       " 'https://www.metrolyrics.com/your-star-lyrics-evanescence.html',\n",
       " 'https://www.metrolyrics.com/made-of-stone-lyrics-evanescence.html',\n",
       " 'https://www.metrolyrics.com/so-close-lyrics-evanescence.html',\n",
       " 'https://www.metrolyrics.com/sweet-sacrifice-lyrics-evanescence.html',\n",
       " 'https://www.metrolyrics.com/the-other-side-lyrics-evanescence.html',\n",
       " 'https://www.metrolyrics.com/you-lyrics-evanescence.html',\n",
       " 'https://www.metrolyrics.com/call-me-when-youre-sober-lyrics-evanescence.html',\n",
       " 'https://www.metrolyrics.com/the-change-lyrics-evanescence.html',\n",
       " 'https://www.metrolyrics.com/halfway-up-the-stairs-lyrics-evanescence.html',\n",
       " 'https://www.metrolyrics.com/thoughtless-lyrics-evanescence.html',\n",
       " 'https://www.metrolyrics.com/haunted-lyrics-evanescence.html',\n",
       " 'https://www.metrolyrics.com/imperfection-lyrics-evanescence.html',\n",
       " 'https://www.metrolyrics.com/new-way-to-bleed-lyrics-evanescence.html',\n",
       " 'https://www.metrolyrics.com/where-will-you-go-lyrics-evanescence.html',\n",
       " 'https://www.metrolyrics.com/what-you-want-lyrics-evanescence.html',\n",
       " 'https://www.metrolyrics.com/fall-into-you-lyrics-evanescence.html',\n",
       " 'https://www.metrolyrics.com/the-only-one-lyrics-evanescence.html',\n",
       " 'https://www.metrolyrics.com/away-from-me-lyrics-evanescence.html',\n",
       " 'https://www.metrolyrics.com/cartoon-network-song-lyrics-evanescence.html',\n",
       " 'https://www.metrolyrics.com/whisper-lyrics-evanescence.html',\n",
       " 'https://www.metrolyrics.com/lost-whispers-intro-lyrics-evanescence.html',\n",
       " 'https://www.metrolyrics.com/all-that-i-am-living-for-lyrics-evanescence.html',\n",
       " 'https://www.metrolyrics.com/lithium-lyrics-evanescence.html',\n",
       " 'https://www.metrolyrics.com/never-go-back-lyrics-evanescence.html',\n",
       " 'https://www.metrolyrics.com/field-of-innocence-lyrics-evanescence.html',\n",
       " 'https://www.metrolyrics.com/somebody-like-you-lyrics-evanescence.html',\n",
       " 'https://www.metrolyrics.com/liquid-blue-lyrics-evanescence.html',\n",
       " 'https://www.metrolyrics.com/my-heart-is-broken-lyrics-evanescence.html',\n",
       " 'https://www.metrolyrics.com/my-immortal-band-version-lyrics-evanescence.html',\n",
       " 'https://www.metrolyrics.com/breathe-no-more-lyrics-evanescence.html',\n",
       " 'https://www.metrolyrics.com/erase-this-lyrics-evanescence.html',\n",
       " 'https://www.metrolyrics.com/forgive-me-lyrics-evanescence.html',\n",
       " 'https://www.metrolyrics.com/imaginary-lyrics-evanescence.html',\n",
       " 'https://www.metrolyrics.com/broken-lyrics-evanescence.html',\n",
       " 'https://www.metrolyrics.com/end-of-the-dream-lyrics-evanescence.html',\n",
       " 'https://www.metrolyrics.com/wasted-on-you-lyrics-evanescence.html',\n",
       " 'https://www.metrolyrics.com/hello-lyrics-evanescence.html',\n",
       " 'https://www.metrolyrics.com/anywhere-lyrics-evanescence.html',\n",
       " 'https://www.metrolyrics.com/i-hate-everything-about-you-lyrics-evanescence.html',\n",
       " 'https://www.metrolyrics.com/understanding-lyrics-evanescence.html',\n",
       " 'https://www.metrolyrics.com/sallys-song-lyrics-evanescence.html',\n",
       " 'https://www.metrolyrics.com/listen-to-the-rain-lyrics-evanescence.html',\n",
       " 'https://www.metrolyrics.com/angel-of-mine-lyrics-evanescence.html',\n",
       " 'https://www.metrolyrics.com/the-boys-of-summer-lyrics-evanescence.html',\n",
       " 'https://www.metrolyrics.com/the-last-day-lyrics-evanescence.html',\n",
       " 'https://www.metrolyrics.com/lacrymosa-lyrics-evanescence.html',\n",
       " 'https://www.metrolyrics.com/wash-it-all-away-lyrics-evanescence.html',\n",
       " 'https://www.metrolyrics.com/tourniquet-lyrics-evanescence.html',\n",
       " 'https://www.metrolyrics.com/solitude-lyrics-evanescence.html',\n",
       " 'https://www.metrolyrics.com/october-lyrics-evanescence.html',\n",
       " 'https://www.metrolyrics.com/together-again-lyrics-evanescence.html',\n",
       " 'https://www.metrolyrics.com/taking-me-over-lyrics-evanescence.html',\n",
       " 'https://www.metrolyrics.com/somebody-like-you-lyrics-evanescence.html#/correction',\n",
       " 'https://www.metrolyrics.com/lose-control-lyrics-evanescence.html',\n",
       " 'https://www.metrolyrics.com/snow-white-queen-lyrics-evanescence.html']"
      ]
     },
     "execution_count": 4,
     "metadata": {},
     "output_type": "execute_result"
    }
   ],
   "source": [
    "list_links_lyrics_metrolyrics = [link for link in list_links_lyrics_metrolyrics if '-lyrics-evanescence.html' in link]\n",
    "print('\\n Number of links after filtering:', len(list_links_lyrics_metrolyrics))\n",
    "list_links_lyrics_metrolyrics\n"
   ]
  },
  {
   "cell_type": "markdown",
   "metadata": {},
   "source": [
    "After filtering, we see that some links finishing with '/correction', so we update the list comprehension above to eliminate the links with '/correction'."
   ]
  },
  {
   "cell_type": "code",
   "execution_count": 5,
   "metadata": {
    "ExecuteTime": {
     "end_time": "2020-01-08T14:42:29.069534Z",
     "start_time": "2020-01-08T14:42:29.044600Z"
    }
   },
   "outputs": [
    {
     "name": "stdout",
     "output_type": "stream",
     "text": [
      "\n",
      " Number of links after updated filtering: 76\n"
     ]
    },
    {
     "data": {
      "text/plain": [
       "['https://www.metrolyrics.com/all-that-i-am-living-for-lyrics-evanescence.html',\n",
       " 'https://www.metrolyrics.com/angel-of-mine-lyrics-evanescence.html',\n",
       " 'https://www.metrolyrics.com/anywhere-lyrics-evanescence.html',\n",
       " 'https://www.metrolyrics.com/away-from-me-lyrics-evanescence.html',\n",
       " 'https://www.metrolyrics.com/before-the-dawn-lyrics-evanescence.html',\n",
       " 'https://www.metrolyrics.com/bleed-lyrics-evanescence.html',\n",
       " 'https://www.metrolyrics.com/breathe-no-more-lyrics-evanescence.html',\n",
       " 'https://www.metrolyrics.com/bring-me-to-life-lyrics-evanescence.html',\n",
       " 'https://www.metrolyrics.com/broken-lyrics-evanescence.html',\n",
       " 'https://www.metrolyrics.com/call-me-when-your-sober-lyrics-evanescence.html',\n",
       " 'https://www.metrolyrics.com/call-me-when-youre-sober-lyrics-evanescence.html',\n",
       " 'https://www.metrolyrics.com/cartoon-network-song-lyrics-evanescence.html',\n",
       " 'https://www.metrolyrics.com/end-of-the-dream-lyrics-evanescence.html',\n",
       " 'https://www.metrolyrics.com/erase-this-lyrics-evanescence.html',\n",
       " 'https://www.metrolyrics.com/even-in-death-lyrics-evanescence.html',\n",
       " 'https://www.metrolyrics.com/everybodys-fool-lyrics-evanescence.html',\n",
       " 'https://www.metrolyrics.com/fall-into-you-lyrics-evanescence.html',\n",
       " 'https://www.metrolyrics.com/field-of-innocence-lyrics-evanescence.html',\n",
       " 'https://www.metrolyrics.com/forgive-me-lyrics-evanescence.html',\n",
       " 'https://www.metrolyrics.com/going-under-lyrics-evanescence.html',\n",
       " 'https://www.metrolyrics.com/good-enough-lyrics-evanescence.html',\n",
       " 'https://www.metrolyrics.com/halfway-up-the-stairs-lyrics-evanescence.html',\n",
       " 'https://www.metrolyrics.com/haunted-lyrics-evanescence.html',\n",
       " 'https://www.metrolyrics.com/hello-lyrics-evanescence.html',\n",
       " 'https://www.metrolyrics.com/hells-angels-lyrics-evanescence.html',\n",
       " 'https://www.metrolyrics.com/i-hate-everything-about-you-lyrics-evanescence.html',\n",
       " 'https://www.metrolyrics.com/if-you-dont-mind-lyrics-evanescence.html',\n",
       " 'https://www.metrolyrics.com/imaginary-lyrics-evanescence.html',\n",
       " 'https://www.metrolyrics.com/imperfection-lyrics-evanescence.html',\n",
       " 'https://www.metrolyrics.com/lacrymosa-lyrics-evanescence.html',\n",
       " 'https://www.metrolyrics.com/lies-lyrics-evanescence.html',\n",
       " 'https://www.metrolyrics.com/like-you-lyrics-evanescence.html',\n",
       " 'https://www.metrolyrics.com/liquid-blue-lyrics-evanescence.html',\n",
       " 'https://www.metrolyrics.com/listen-to-the-rain-lyrics-evanescence.html',\n",
       " 'https://www.metrolyrics.com/lithium-lyrics-evanescence.html',\n",
       " 'https://www.metrolyrics.com/lose-control-lyrics-evanescence.html',\n",
       " 'https://www.metrolyrics.com/lost-in-paradise-lyrics-evanescence.html',\n",
       " 'https://www.metrolyrics.com/lost-whispers-intro-lyrics-evanescence.html',\n",
       " 'https://www.metrolyrics.com/made-of-stone-lyrics-evanescence.html',\n",
       " 'https://www.metrolyrics.com/missing-lyrics-evanescence.html',\n",
       " 'https://www.metrolyrics.com/my-heart-is-broken-lyrics-evanescence.html',\n",
       " 'https://www.metrolyrics.com/my-immortal-band-version-lyrics-evanescence.html',\n",
       " 'https://www.metrolyrics.com/my-immortal-lyrics-evanescence.html',\n",
       " 'https://www.metrolyrics.com/my-last-breath-lyrics-evanescence.html',\n",
       " 'https://www.metrolyrics.com/never-go-back-lyrics-evanescence.html',\n",
       " 'https://www.metrolyrics.com/never-was-never-will-be-everybodys-fool-lyrics-evanescence.html',\n",
       " 'https://www.metrolyrics.com/new-way-to-bleed-lyrics-evanescence.html',\n",
       " 'https://www.metrolyrics.com/october-lyrics-evanescence.html',\n",
       " 'https://www.metrolyrics.com/sallys-song-lyrics-evanescence.html',\n",
       " 'https://www.metrolyrics.com/secret-door-lyrics-evanescence.html',\n",
       " 'https://www.metrolyrics.com/snow-white-queen-lyrics-evanescence.html',\n",
       " 'https://www.metrolyrics.com/so-close-lyrics-evanescence.html',\n",
       " 'https://www.metrolyrics.com/solitude-lyrics-evanescence.html',\n",
       " 'https://www.metrolyrics.com/somebody-like-you-lyrics-evanescence.html',\n",
       " 'https://www.metrolyrics.com/sweet-sacrifice-lyrics-evanescence.html',\n",
       " 'https://www.metrolyrics.com/taking-me-over-lyrics-evanescence.html',\n",
       " 'https://www.metrolyrics.com/taking-over-me-lyrics-evanescence.html',\n",
       " 'https://www.metrolyrics.com/the-boys-of-summer-lyrics-evanescence.html',\n",
       " 'https://www.metrolyrics.com/the-change-lyrics-evanescence.html',\n",
       " 'https://www.metrolyrics.com/the-last-day-lyrics-evanescence.html',\n",
       " 'https://www.metrolyrics.com/the-last-song-im-wasting-on-you-lyrics-evanescence.html',\n",
       " 'https://www.metrolyrics.com/the-only-one-lyrics-evanescence.html',\n",
       " 'https://www.metrolyrics.com/the-other-side-lyrics-evanescence.html',\n",
       " 'https://www.metrolyrics.com/thoughtless-lyrics-evanescence.html',\n",
       " 'https://www.metrolyrics.com/together-again-lyrics-evanescence.html',\n",
       " 'https://www.metrolyrics.com/tourniquet-lyrics-evanescence.html',\n",
       " 'https://www.metrolyrics.com/understanding-lyrics-evanescence.html',\n",
       " 'https://www.metrolyrics.com/wake-me-up-inside-lyrics-evanescence.html',\n",
       " 'https://www.metrolyrics.com/wash-it-all-away-lyrics-evanescence.html',\n",
       " 'https://www.metrolyrics.com/wasted-on-you-lyrics-evanescence.html',\n",
       " 'https://www.metrolyrics.com/weight-of-the-world-lyrics-evanescence.html',\n",
       " 'https://www.metrolyrics.com/what-you-want-lyrics-evanescence.html',\n",
       " 'https://www.metrolyrics.com/where-will-you-go-lyrics-evanescence.html',\n",
       " 'https://www.metrolyrics.com/whisper-lyrics-evanescence.html',\n",
       " 'https://www.metrolyrics.com/you-lyrics-evanescence.html',\n",
       " 'https://www.metrolyrics.com/your-star-lyrics-evanescence.html']"
      ]
     },
     "execution_count": 5,
     "metadata": {},
     "output_type": "execute_result"
    }
   ],
   "source": [
    "# updated version\n",
    "\n",
    "list_links_lyrics_metrolyrics = [link for link in list_links_lyrics_metrolyrics if \n",
    "                                 ('-lyrics-evanescence.html' in link and '/correction' not in link)]\n",
    "\n",
    "print('\\n Number of links after updated filtering:', len(list_links_lyrics_metrolyrics))\n",
    "\n",
    "list_links_lyrics_metrolyrics.sort()\n",
    "list_links_lyrics_metrolyrics"
   ]
  },
  {
   "cell_type": "markdown",
   "metadata": {},
   "source": [
    "So finally, for metrolyrics we have obtained 76 hyperlinks of Evanescence's lyrics. \n",
    "\n",
    "Let's check the other websites."
   ]
  },
  {
   "cell_type": "markdown",
   "metadata": {},
   "source": [
    "### Retrieving from [songteksten.net](https://songteksten.net/)\n",
    "\n",
    "This webpage presents 3 pages with links to lyrics, so we need to apply function `retrieve_hyperlinks` on all 3 pages. For this we set all three url in a list and use a for-loop in order to retrieve all hyperlinks in these pages. After that we apply filtering that will keep only hyperlinks of lyrics.\n",
    "\n",
    "Before filtering we have 233 links after filtering 86. Observe that although there is apparently no repetition, there are different versions of the same music (e.g. lies and lies-remix)."
   ]
  },
  {
   "cell_type": "code",
   "execution_count": 6,
   "metadata": {
    "ExecuteTime": {
     "end_time": "2020-01-08T14:42:29.897319Z",
     "start_time": "2020-01-08T14:42:29.077511Z"
    }
   },
   "outputs": [
    {
     "name": "stdout",
     "output_type": "stream",
     "text": [
      "Number of links before filtering: 233\n"
     ]
    }
   ],
   "source": [
    "# retrieving all hyperlinks\n",
    "urls = ['https://songteksten.net/artist/lyrics/1938/evanescence.html',\n",
    "       'https://songteksten.net/artist/lyrics/1938/evanescence/page/2.html',\n",
    "       'https://songteksten.net/artist/lyrics/1938/evanescence/page/3.html']\n",
    "\n",
    "list_links_lyrics_songteksten_net = []\n",
    "\n",
    "for url in urls:\n",
    "    list_links_lyrics_songteksten_net.extend(retrieve_hyperlinks(url))\n",
    "    \n",
    "# remove probable repetitions\n",
    "\n",
    "list_links_lyrics_songteksten_net = list(set(list_links_lyrics_songteksten_net))\n",
    "\n",
    "    \n",
    "print('Number of links before filtering:', len(list_links_lyrics_songteksten_net))"
   ]
  },
  {
   "cell_type": "code",
   "execution_count": 7,
   "metadata": {
    "ExecuteTime": {
     "end_time": "2020-01-08T14:42:29.925248Z",
     "start_time": "2020-01-08T14:42:29.904300Z"
    }
   },
   "outputs": [
    {
     "data": {
      "text/plain": [
       "['https://songteksten.net/lyric/3648/96617/john-legend/all-of-me.html',\n",
       " 'https://songteksten.net/news/106417/anouk-gaat-in-zelfquarantaine-om-lockdownversoepeling.html',\n",
       " 'https://songteksten.net/artists/o.html',\n",
       " 'https://songteksten.net/news/106410/bners-demonstreren-online-voor-culturele-sector.html',\n",
       " 'https://songteksten.net/albums/album/447/2312/george-michael/older.html',\n",
       " 'https://songteksten.net/artist/lyrics/1938/evanescence.html',\n",
       " 'https://forum.songteksten.net/index.php?topic=3564.msg86895;topicseen#new',\n",
       " 'https://songteksten.net/lyric/1938/32041/evanescence/listen-to-the-rain.html',\n",
       " 'https://songteksten.net/lyric/1938/48350/evanescence/zero.html',\n",
       " 'https://songteksten.net/news/106412/robert-kijkt-terug-op-bizar-seizoen-all-you-need-is-love.html',\n",
       " 'https://songteksten.net/lyric/1938/32518/evanescence/i-must-be-dreaming.html',\n",
       " 'https://songteksten.net/news/106411/actrice-en-presentatrice-martine-bijl-een-jaar-dood.html',\n",
       " 'https://songteksten.net/lyric/1938/92309/evanescence/the-end.html',\n",
       " 'https://songteksten.net/artist/lyrics/2047/nena.html',\n",
       " '//songteksten.net/lyric/add.html',\n",
       " 'https://songteksten.net/artists/w.html',\n",
       " 'https://songteksten.net/news/106416/charly-luske-opgelicht-via-whatsapp.html',\n",
       " 'https://songteksten.net/artist/lyrics/239/rolling-stones.html',\n",
       " 'https://songteksten.net/lyric/1938/30606/evanescence/breathe-no-more.html',\n",
       " '/',\n",
       " 'http://www.evanescence.com/',\n",
       " 'https://songteksten.net/lyric/1938/30588/evanescence/taking-over-me.html',\n",
       " 'https://songteksten.net/artist/lyrics/9317/sunnery-james-ryan-marciano.html',\n",
       " 'https://songteksten.net/lyric/1938/30598/evanescence/goodnight.html',\n",
       " 'https://songteksten.net/artists/b.html',\n",
       " 'https://songteksten.net/lyric/1938/59305/evanescence/like-you.html',\n",
       " 'https://songteksten.net/lyric/1938/77210/evanescence/my-cartoon-network.html',\n",
       " 'https://songteksten.net/lyric/1938/93920/evanescence/erase-this.html',\n",
       " 'https://songteksten.net/lyric/1938/30586/evanescence/tourniquet.html',\n",
       " '//songteksten.net/albums.html',\n",
       " 'https://songteksten.net/lyric/1938/30604/evanescence/exodus.html',\n",
       " 'https://songteksten.net/artist/lyrics/102/ilse-delange.html',\n",
       " 'https://songteksten.net/albums/album/7419/2310/niels-destadsbader/boven-de-wolken-fan-editie.html',\n",
       " 'https://songteksten.net/lyric/1938/59303/evanescence/snow-white-queen.html',\n",
       " 'https://songteksten.net/lyric/1938/92371/evanescence/lost-in-paradise.html',\n",
       " 'https://songteksten.net/lyric/1938/30601/evanescence/understanding-wash-it-all-away.html',\n",
       " 'https://songteksten.net/lyric/8601/102664/maan/ze-huilt-maar-ze-lacht.html',\n",
       " 'https://songteksten.net/lyric/1938/59302/evanescence/cloud-nine.html',\n",
       " 'https://songteksten.net/lyric/1938/31715/evanescence/i-believe-in-you.html',\n",
       " 'https://songteksten.net/lyric/1938/59304/evanescence/lacrymosa.html',\n",
       " 'https://songteksten.net/lyric/1938/45002/evanescence/imaginary.html',\n",
       " 'https://songteksten.net/news/106418/pamela-anderson-heeft-iconische-rode-baywatch-badpak-nog-steeds.html',\n",
       " 'https://songteksten.net/lyric/1938/93934/evanescence/sick.html',\n",
       " 'https://songteksten.net/albums/album/7419/2308/niels-destadsbader/boven-de-wolken.html',\n",
       " 'https://songteksten.net/lyric/1938/59306/evanescence/lose-control.html',\n",
       " 'https://songteksten.net/artists/i.html',\n",
       " 'https://songteksten.net/lyric/1938/40741/evanescence/before-the-dawn.html',\n",
       " 'https://songteksten.net/lyric/8920/102837/davina-michelle/17-miljoen-mensen.html',\n",
       " 'https://songteksten.net/artist/lyrics/8751/anne-marie.html',\n",
       " 'https://songteksten.net/artist/lyrics/8506/alesso.html',\n",
       " 'https://songteksten.net/lyric/1938/48348/evanescence/fall-into-you.html',\n",
       " 'https://songteksten.net/lyric/1938/100302/evanescence/imperfection.html',\n",
       " 'https://songteksten.net/news/106413/gaby-blaaser-droomt-over-rtl-boulevard-en-duitsland.html',\n",
       " 'https://songteksten.net/lyric/1938/30594/evanescence/even-in-death.html',\n",
       " 'https://songteksten.net/lyric/1938/39243/evanescence/broken.html',\n",
       " 'https://songteksten.net/lyric/1938/30608/evanescence/solitude.html',\n",
       " 'https://songteksten.net/artist/lyrics/8493/twenty-one-pilots.html',\n",
       " 'https://songteksten.net/lyric/1938/30582/evanescence/everybodys-fool.html',\n",
       " 'https://songteksten.net/artist/lyrics/60/marco-borsato.html',\n",
       " 'https://songteksten.net/lyric/1938/77101/evanescence/bleed.html',\n",
       " 'https://songteksten.net/albums/album/102/2315/ilse-delange/ilse-delange.html',\n",
       " 'https://songteksten.net/albums/add/1938.html',\n",
       " 'https://songteksten.net/artists/e.html',\n",
       " 'https://songteksten.net/artists/l.html',\n",
       " '#',\n",
       " 'https://songteksten.net/lyric/1938/37965/evanescence/the-last-day.html',\n",
       " 'https://songteksten.net/lyric/1938/59310/evanescence/good-enough.html',\n",
       " 'https://songteksten.net/albums/album/1938/344/evanescence/anywhere-but-home.html',\n",
       " 'https://songteksten.net/lyric/60/96869/marco-borsato/samen-voor-altijd.html',\n",
       " 'https://songteksten.net/lyric/1938/91880/evanescence/what-you-want.html',\n",
       " 'https://songteksten.net/artist/lyrics/192/guus-meeuwis.html',\n",
       " 'https://songteksten.net/lyric/1938/30599/evanescence/october.html',\n",
       " 'https://songteksten.net/lyric/1938/93921/evanescence/end-of-the-dream.html',\n",
       " 'https://songteksten.net/lyric/1938/59299/evanescence/sweet-sacrifice.html',\n",
       " 'https://songteksten.net/artist/lyrics/7328/jan-rot.html',\n",
       " '//songteksten.net/lyrics/latest.html',\n",
       " 'https://songteksten.net/artists/r.html',\n",
       " 'https://songteksten.net/artists/h.html',\n",
       " 'https://songteksten.net/lyric/1938/93937/evanescence/say-you-will.html',\n",
       " '//songteksten.net',\n",
       " 'https://songteksten.net/artists/z.html',\n",
       " 'https://songteksten.net/lyric/1938/30585/evanescence/haunted.html',\n",
       " 'https://songteksten.net/lyric/1938/93924/evanescence/never-go-back.html',\n",
       " '//songteksten.net/translations/popular.html',\n",
       " 'https://songteksten.net/artist/lyrics/8601/maan.html',\n",
       " 'https://songteksten.net/lyric/9049/101801/danny-vera/roller-coaster.html',\n",
       " 'https://songteksten.net/artists/x.html',\n",
       " 'https://songteksten.net/info/1187/rss-api-functies.html',\n",
       " 'https://songteksten.net/artist/downloads/1938/evanescence.html',\n",
       " 'https://songteksten.net/artists/y.html',\n",
       " 'https://songteksten.net/lyric/9313/103045/surf-mesa/ily-i-love-you-baby.html',\n",
       " 'https://songteksten.net/lyric/1938/92310/evanescence/my-heart-is-broken.html',\n",
       " 'https://songteksten.net/lyric/add/1938.html',\n",
       " 'https://songteksten.net/lyric/1938/32033/evanescence/must-be-dreaming.html',\n",
       " 'https://songteksten.net/lyric/2047/31578/nena/99-luftballons.html',\n",
       " 'https://songteksten.net/lyric/1938/58354/evanescence/call-me-when-youre-sober.html',\n",
       " '//songteksten.net/albums/add.html',\n",
       " 'https://songteksten.net/albums/album/403/2317/band-zonder-banaan/bart.html',\n",
       " 'https://songteksten.net/lyric/1938/93938/evanescence/secret-door.html',\n",
       " 'https://songteksten.net/lyric/1938/41509/evanescence/restless.html',\n",
       " 'https://songteksten.net/lyric/1938/77224/evanescence/angel-of-mine.html',\n",
       " 'https://songteksten.net/lyric/1938/30597/evanescence/away-from-me.html',\n",
       " 'https://songteksten.net/artist/lyrics/8920/davina-michelle.html',\n",
       " 'https://songteksten.net/lyric/2126/103051/trijntje-oosterhuis/als-ik-je-laat-gaan.html',\n",
       " 'https://songteksten.net/lyric/1938/30596/evanescence/lies.html',\n",
       " 'https://songteksten.net/lyric/1938/30584/evanescence/my-immortal.html',\n",
       " 'https://songteksten.net/lyric/1938/59300/evanescence/weight-of-the-world.html',\n",
       " 'https://songteksten.net/artist/lyrics/8640/laura-tesoro.html',\n",
       " 'https://songteksten.net/artist/lyrics/9217/emma-heesters.html',\n",
       " 'https://songteksten.net/artist/translations/1938/evanescence.html',\n",
       " 'https://songteksten.net/lyric/8282/100156/imagine-dragons/believer.html',\n",
       " 'https://songteksten.net/lyric/1938/93919/evanescence/disappear.html',\n",
       " 'https://songteksten.net/artists/8.html',\n",
       " 'https://songteksten.net/lyric/9217/103047/emma-heesters/net-als-toen.html',\n",
       " 'https://songteksten.net/artists/6.html',\n",
       " 'https://songteksten.net/albums/album/1786/2314/genesis/we-cant-dance.html',\n",
       " 'https://songteksten.net/lyric/1938/73582/evanescence/4th-of-july.html',\n",
       " 'https://songteksten.net/lyric/1938/50255/evanescence/forever-gone-forever-you.html',\n",
       " 'https://songteksten.net/artist/lyrics/3648/john-legend.html',\n",
       " 'https://songteksten.net/artists/t.html',\n",
       " 'https://songteksten.net/lyric/1938/30605/evanescence/farther-away.html',\n",
       " 'http://bandhosting.nl',\n",
       " 'https://songteksten.net/lyric/1938/59309/evanescence/all-that-im-living-for.html',\n",
       " 'https://songteksten.net/lyric/1938/59301/evanescence/lithium.html',\n",
       " 'https://songteksten.net/news/106414/amerikaanse-sterren-protesteren-na-dood-george-floyd.html',\n",
       " 'https://songteksten.net/artist/lyrics/1786/genesis.html',\n",
       " 'https://songteksten.net/lyric/1938/73657/evanescence/lies-remix.html',\n",
       " 'https://songteksten.net/artists/n.html',\n",
       " 'https://songteksten.net/artist/lyrics/9314/emilee.html',\n",
       " 'https://songteksten.net/news/106409/onderzoek-geen-misstanden-bij-toneelgroep-oostpool.html',\n",
       " 'https://songteksten.net/artists/j.html',\n",
       " '//forum.songteksten.net/index.php?action=login',\n",
       " 'https://songteksten.net/artists/p.html',\n",
       " 'https://songteksten.net/artist/lyrics/9316/roy-english.html',\n",
       " 'https://songteksten.net/lyric/1938/30581/evanescence/going-under.html',\n",
       " '//songteksten.net/translations/latest.html',\n",
       " 'https://songteksten.net/lyric/1938/30607/evanescence/missing.html',\n",
       " 'https://songteksten.net/artist/lyrics/9049/danny-vera.html',\n",
       " 'https://songteksten.net/artists/u.html',\n",
       " 'https://songteksten.net/artists/m.html',\n",
       " 'https://songteksten.net/albums/album/7419/2307/niels-destadsbader/dertig.html',\n",
       " 'https://songteksten.net/lyric/1938/48349/evanescence/heart-shaped-box.html',\n",
       " 'https://songteksten.net/lyric/1938/93922/evanescence/made-of-stone.html',\n",
       " 'https://songteksten.net/artist/lyrics/1938/evanescence/page/3.html',\n",
       " 'https://songteksten.net/artists/2.html',\n",
       " 'https://songteksten.net/lyric/1938/30593/evanescence/fields-of-innocence.html',\n",
       " 'https://songteksten.net/lyric/1938/30603/evanescence/forgive-me.html',\n",
       " 'https://songteksten.net/albums/album/1938/864/evanescence/the-open-door.html',\n",
       " 'https://songteksten.net/artists/q.html',\n",
       " 'https://songteksten.net/lyric/1938/30590/evanescence/my-last-breath.html',\n",
       " 'https://songteksten.net/genres/genre/0.html',\n",
       " 'https://songteksten.net/artist/lyrics/447/george-michael.html',\n",
       " 'https://songteksten.net/lyric/1938/31324/evanescence/you-dont-have-to-cry.html',\n",
       " 'https://forum.songteksten.net/index.php?topic=3567.msg86900;topicseen#new',\n",
       " 'https://songteksten.net/adverteren.html',\n",
       " 'https://songteksten.net/info/1186/privacy.html',\n",
       " 'https://songteksten.net/lyric/8506/103048/alesso/cool.html',\n",
       " 'https://songteksten.net/albums/album/1938/171/evanescence/fallen.html',\n",
       " 'https://songteksten.net/artist/lyrics/9313/surf-mesa.html',\n",
       " 'https://forum.songteksten.net/index.php?topic=3568.msg86899;topicseen#new',\n",
       " 'https://songteksten.net/lyric/1938/30595/evanescence/anywhere.html',\n",
       " 'https://songteksten.net/lyric/8493/103046/twenty-one-pilots/level-of-concern.html',\n",
       " 'https://songteksten.net/lyric/1938/93939/evanescence/the-other-side.html',\n",
       " 'https://songteksten.net/artist/lyrics/1938/evanescence/page/1.html',\n",
       " 'https://songteksten.net/artists/k.html',\n",
       " '//songteksten.net/videos.html',\n",
       " 'https://songteksten.net/lyric/60/98333/marco-borsato/mooi.html',\n",
       " 'https://songteksten.net/artist/lyrics/2126/trijntje-oosterhuis.html',\n",
       " 'https://forum.songteksten.net/index.php?topic=3565.msg86896;topicseen#new',\n",
       " 'https://songteksten.net/lyric/8640/103053/laura-tesoro/beast.html',\n",
       " 'https://songteksten.net/profile/view/33726/survivor.html',\n",
       " 'https://songteksten.net/info/1185/over-ons.html',\n",
       " 'https://songteksten.net/lyric/192/103052/guus-meeuwis/nooit-niet-verliefd.html',\n",
       " 'https://songteksten.net/albums/album/102/2316/ilse-delange/gravel-dust.html',\n",
       " '//songteksten.net/artists.html',\n",
       " 'https://songteksten.net/artists/9.html',\n",
       " 'https://songteksten.net/lyric/3343/41798/ramses-shaffy/zing-vecht-huil-bid-lach-werk-en-bewonder.html',\n",
       " 'https://songteksten.net/lyric/1938/30609/evanescence/bring-me-to-life.html',\n",
       " 'https://songteksten.net/artists/f.html',\n",
       " 'https://songteksten.net/lyric/1938/30602/evanescence/give-unto-me.html',\n",
       " 'https://songteksten.net/lyric/1938/65087/evanescence/thoughtless.html',\n",
       " 'https://songteksten.net/artists/4.html',\n",
       " 'https://songteksten.net/artist/lyrics/403/band-zonder-banaan.html',\n",
       " 'https://songteksten.net/artists/3.html',\n",
       " 'https://songteksten.net/artists/v.html',\n",
       " 'https://songteksten.net/lyric/1938/93936/evanescence/swimming-home.html',\n",
       " 'https://songteksten.net/lyric/8751/103054/anne-marie/her.html',\n",
       " '//songteksten.net/genres.html',\n",
       " 'https://songteksten.net/albums/album/7328/2313/jan-rot/magistraal.html',\n",
       " 'https://songteksten.net/albums/album/239/2311/rolling-stones/voodoo-lounge.html',\n",
       " 'https://forum.songteksten.net/index.php?topic=3567.msg86898;topicseen#new',\n",
       " 'https://songteksten.net/artist/albums/1938/evanescence.html',\n",
       " 'https://songteksten.net/lyric/9221/103050/lauv/chasing-fire.html',\n",
       " '//songteksten.net/lyrics/popular.html',\n",
       " 'https://songteksten.net/lyric/162/4872/k3/heyah-mama.html',\n",
       " 'https://songteksten.net/artists/d.html',\n",
       " '//forum.songteksten.net',\n",
       " 'https://songteksten.net/artists/7.html',\n",
       " 'https://songteksten.net/artist/lyrics/9221/lauv.html',\n",
       " 'https://songteksten.net/lyric/1938/74649/evanescence/wash-it-all-away.html',\n",
       " 'https://songteksten.net/artist/lyrics/3343/ramses-shaffy.html',\n",
       " 'https://songteksten.net/artist/lyrics/7419/niels-destadsbader.html',\n",
       " 'https://songteksten.net/artist/lyrics/1938/evanescence/page/2.html',\n",
       " 'https://songteksten.net/artists/a.html',\n",
       " 'https://songteksten.net/lyric/1938/87754/evanescence/wake-me-up-inside-bring-me-to-life.html',\n",
       " 'https://songteksten.net/lyric/1938/59307/evanescence/the-only-one.html',\n",
       " 'https://songteksten.net/artists/s.html',\n",
       " 'https://songteksten.net/artists/1.html',\n",
       " 'https://songteksten.net/artist/lyrics/8282/imagine-dragons.html',\n",
       " 'https://songteksten.net/lyric/1938/30591/evanescence/whisper.html',\n",
       " 'https://songteksten.net/lyric/1938/33820/evanescence/surrender.html',\n",
       " 'https://songteksten.net/lyric/1938/74589/evanescence/where-will-you-go-ep-version.html',\n",
       " 'https://songteksten.net/lyric/1938/59308/evanescence/your-star.html',\n",
       " 'https://songteksten.net/lyric/1938/74262/evanescence/the-last-song-im-wasting-on-you.html',\n",
       " 'https://songteksten.net/artists/g.html',\n",
       " 'https://songteksten.net/',\n",
       " 'https://songteksten.net/artists/5.html',\n",
       " 'https://songteksten.net/lyric/1938/52535/evanescence/haunting-you.html',\n",
       " 'https://songteksten.net/lyric/1938/93923/evanescence/new-way-to-bleed.html',\n",
       " 'https://songteksten.net/lyric/1938/30600/evanescence/so-close.html',\n",
       " 'https://songteksten.net/lyric/1938/93940/evanescence/the-change.html',\n",
       " 'https://songteksten.net/lyric/1938/46791/evanescence/anything-for-you.html',\n",
       " 'https://songteksten.net/lyric/1938/30592/evanescence/where-will-you-go.html',\n",
       " 'https://songteksten.net/artists/c.html',\n",
       " 'https://songteksten.net/editors/signup/1938.html',\n",
       " 'https://songteksten.net/lyric/1938/31716/evanescence/you.html',\n",
       " 'https://songteksten.net/news/97302/within-temptation-en-evanescence-samen-op-tournee.html',\n",
       " 'https://songteksten.net/lyric/1938/83436/evanescence/together-again.html',\n",
       " 'https://songteksten.net/artist/lyrics/162/k3.html',\n",
       " 'https://songteksten.net/news/106415/netflix-koopt-egyptian-theatre-in-hollywood.html',\n",
       " 'https://songteksten.net/lyric/1938/30589/evanescence/hello.html',\n",
       " 'https://songteksten.net/lyric/9221/103049/lauv/i-like-me-better.html',\n",
       " 'https://songteksten.net/news/97627/extra-show-van-within-temptation-en-evanescence-in-amsterdam.html']"
      ]
     },
     "execution_count": 7,
     "metadata": {},
     "output_type": "execute_result"
    }
   ],
   "source": [
    "list_links_lyrics_songteksten_net"
   ]
  },
  {
   "cell_type": "markdown",
   "metadata": {},
   "source": [
    "In this case, to obtain lyrics we need to keep links that contain '/songteksten.net/lyric/1938' which will do by extracting the information from the url address."
   ]
  },
  {
   "cell_type": "code",
   "execution_count": 8,
   "metadata": {
    "ExecuteTime": {
     "end_time": "2020-01-08T14:42:29.954166Z",
     "start_time": "2020-01-08T14:42:29.930230Z"
    }
   },
   "outputs": [
    {
     "name": "stdout",
     "output_type": "stream",
     "text": [
      "Number of links after filtering: 86\n"
     ]
    }
   ],
   "source": [
    "# using url address to filter lyrics\n",
    "\n",
    "spliting = urls[0].split('/')\n",
    "filter_lyrics = spliting[2]+'/lyric/'+spliting[-2]\n",
    "\n",
    "list_links_lyrics_songteksten_net = [link for link in list_links_lyrics_songteksten_net if (filter_lyrics \n",
    "                                                                              in link) ]\n",
    "\n",
    "print('Number of links after filtering:', len(list_links_lyrics_songteksten_net))\n"
   ]
  },
  {
   "cell_type": "code",
   "execution_count": 9,
   "metadata": {
    "ExecuteTime": {
     "end_time": "2020-01-08T14:42:29.982092Z",
     "start_time": "2020-01-08T14:42:29.957158Z"
    }
   },
   "outputs": [
    {
     "data": {
      "text/plain": [
       "['4th-of-july',\n",
       " 'all-that-im-living-for',\n",
       " 'angel-of-mine',\n",
       " 'anything-for-you',\n",
       " 'anywhere',\n",
       " 'away-from-me',\n",
       " 'before-the-dawn',\n",
       " 'bleed',\n",
       " 'breathe-no-more',\n",
       " 'bring-me-to-life',\n",
       " 'broken',\n",
       " 'call-me-when-youre-sober',\n",
       " 'cloud-nine',\n",
       " 'disappear',\n",
       " 'end-of-the-dream',\n",
       " 'erase-this',\n",
       " 'even-in-death',\n",
       " 'everybodys-fool',\n",
       " 'exodus',\n",
       " 'fall-into-you',\n",
       " 'farther-away',\n",
       " 'fields-of-innocence',\n",
       " 'forever-gone-forever-you',\n",
       " 'forgive-me',\n",
       " 'give-unto-me',\n",
       " 'going-under',\n",
       " 'good-enough',\n",
       " 'goodnight',\n",
       " 'haunted',\n",
       " 'haunting-you',\n",
       " 'heart-shaped-box',\n",
       " 'hello',\n",
       " 'i-believe-in-you',\n",
       " 'i-must-be-dreaming',\n",
       " 'imaginary',\n",
       " 'imperfection',\n",
       " 'lacrymosa',\n",
       " 'lies',\n",
       " 'lies-remix',\n",
       " 'like-you',\n",
       " 'listen-to-the-rain',\n",
       " 'lithium',\n",
       " 'lose-control',\n",
       " 'lost-in-paradise',\n",
       " 'made-of-stone',\n",
       " 'missing',\n",
       " 'must-be-dreaming',\n",
       " 'my-cartoon-network',\n",
       " 'my-heart-is-broken',\n",
       " 'my-immortal',\n",
       " 'my-last-breath',\n",
       " 'never-go-back',\n",
       " 'new-way-to-bleed',\n",
       " 'october',\n",
       " 'restless',\n",
       " 'say-you-will',\n",
       " 'secret-door',\n",
       " 'sick',\n",
       " 'snow-white-queen',\n",
       " 'so-close',\n",
       " 'solitude',\n",
       " 'surrender',\n",
       " 'sweet-sacrifice',\n",
       " 'swimming-home',\n",
       " 'taking-over-me',\n",
       " 'the-change',\n",
       " 'the-end',\n",
       " 'the-last-day',\n",
       " 'the-last-song-im-wasting-on-you',\n",
       " 'the-only-one',\n",
       " 'the-other-side',\n",
       " 'thoughtless',\n",
       " 'together-again',\n",
       " 'tourniquet',\n",
       " 'understanding-wash-it-all-away',\n",
       " 'wake-me-up-inside-bring-me-to-life',\n",
       " 'wash-it-all-away',\n",
       " 'weight-of-the-world',\n",
       " 'what-you-want',\n",
       " 'where-will-you-go',\n",
       " 'where-will-you-go-ep-version',\n",
       " 'whisper',\n",
       " 'you',\n",
       " 'you-dont-have-to-cry',\n",
       " 'your-star',\n",
       " 'zero']"
      ]
     },
     "execution_count": 9,
     "metadata": {},
     "output_type": "execute_result"
    }
   ],
   "source": [
    "#Extracting the titles of the song and rearranging in alphabetical order for quick inspection\n",
    "\n",
    "list_titles = [link.split('/')[-1].split('.')[-2] for link in list_links_lyrics_songteksten_net ]\n",
    "list_titles.sort()\n",
    "list_titles"
   ]
  },
  {
   "cell_type": "markdown",
   "metadata": {},
   "source": [
    "### Retrieving from [songteksten.nl](https://www.songteksten.nl/)\n",
    "\n",
    "Similarly, to songteksten.net we have multiple pages with hyperlinks. "
   ]
  },
  {
   "cell_type": "code",
   "execution_count": 10,
   "metadata": {
    "ExecuteTime": {
     "end_time": "2020-01-08T14:42:31.141994Z",
     "start_time": "2020-01-08T14:42:29.986081Z"
    }
   },
   "outputs": [
    {
     "name": "stdout",
     "output_type": "stream",
     "text": [
      "Number of links before filtering: 128\n"
     ]
    }
   ],
   "source": [
    "# retrieving all hyperlinks\n",
    "urls = ['https://www.songteksten.nl/artiest/4713/evanescence.htm',\n",
    "       'https://www.songteksten.nl/artiest/4713/2/evanescence.htm']\n",
    "\n",
    "\n",
    "list_links_lyrics_songteksten_nl = []\n",
    "\n",
    "for url in urls:\n",
    "    list_links_lyrics_songteksten_nl.extend(retrieve_hyperlinks(url))\n",
    "    \n",
    "# removing probable repetitions\n",
    "list_links_lyrics_songteksten_nl = list(set(list_links_lyrics_songteksten_nl))\n",
    "    \n",
    "print('Number of links before filtering:', len(list_links_lyrics_songteksten_nl))"
   ]
  },
  {
   "cell_type": "code",
   "execution_count": 11,
   "metadata": {
    "ExecuteTime": {
     "end_time": "2020-01-08T14:42:31.171919Z",
     "start_time": "2020-01-08T14:42:31.149968Z"
    }
   },
   "outputs": [
    {
     "data": {
      "text/plain": [
       "['/songteksten/41310/evanescence/going-under.htm',\n",
       " '/songteksten/42848/evanescence/forgive-me.htm',\n",
       " '/songteksten/174663/evanescence/demise.htm',\n",
       " '/songteksten/67508/evanescence/lacrymosa.htm',\n",
       " '/songteksten/795424/evanescence/sick.htm',\n",
       " '/songteksten/43906/evanescence/away-from-me.htm',\n",
       " '/songteksten/67507/evanescence/good-enough.htm',\n",
       " '/songteksten/174664/evanescence/ascension-of-the-spirit.htm',\n",
       " '/songteksten/67513/evanescence/sweet-sacrifice.htm',\n",
       " '/songteksten/49240/evanescence/forever-gone-forever-you.htm',\n",
       " '/songteksten/360750/evanescence/made-of-stone-.htm',\n",
       " '/',\n",
       " '/songteksten/41812/evanescence/even-in-death.htm',\n",
       " '/index.php',\n",
       " '/songteksten/67512/evanescence/snow-white-queen.htm',\n",
       " '/songteksten/174658/evanescence/goodnight.htm',\n",
       " '/songteksten/360416/evanescence/what-you-want.htm',\n",
       " '/songteksten/41313/evanescence/i-believe-in-you.htm',\n",
       " '/songteksten/45787/evanescence/zero.htm',\n",
       " '/songteksten/74927/evanescence/jealous.htm',\n",
       " 'https://www.twitter.com/songtekstennl',\n",
       " '/songteksten/795426/evanescence/the-other-side.htm',\n",
       " '/songteksten/53438/evanescence/feel-for-you.htm',\n",
       " '/songteksten/174661/evanescence/field-of-innocence.htm',\n",
       " '/songteksten/66131/evanescence/my-tourniquet.htm',\n",
       " '/songteksten/67511/evanescence/lose-control.htm',\n",
       " '/artiest/4713/evanescence',\n",
       " '/artiest/4713/evanescence.htm',\n",
       " '/songteksten/67504/evanescence/all-that-i-m-living-for.htm',\n",
       " '/songteksten/174662/evanescence/eternal.htm',\n",
       " '/privacy.pdf',\n",
       " '/songteksten/45785/evanescence/4th-of-july.htm',\n",
       " '/songteksten/367425/evanescence/do-what-you-want.htm',\n",
       " '/songteksten/68458/evanescence/cartoon-network.htm',\n",
       " '/songteksten/363714/evanescence/new-way-to-bleed.htm',\n",
       " '/songteksten/890454/evanescence/the-end-of-the-dream.htm',\n",
       " '#',\n",
       " '/songteksten/889460/evanescence/imperfection.htm',\n",
       " '/songteksten/43242/evanescence/surrender.htm',\n",
       " '/songteksten/67514/evanescence/the-only-one.htm',\n",
       " '/songteksten/67515/evanescence/weight-of-the-world.htm',\n",
       " '/songteksten/41318/evanescence/tourniquet.htm',\n",
       " '/songteksten/44308/evanescence/breathe-no-more.htm',\n",
       " '/songteksten/45472/evanescence/give-unto-me.htm',\n",
       " '/songteksten/795422/evanescence/never-go-back.htm',\n",
       " '/songteksten/50229/evanescence/you-amy-lee-solo-.htm',\n",
       " '/songteksten/360153/evanescence/holding-my-last-breathe.htm',\n",
       " '/songteksten/41317/evanescence/taking-over-me.htm',\n",
       " '/songteksten/360790/evanescence/the-change.htm',\n",
       " '/songteksten/67509/evanescence/like-you.htm',\n",
       " '/songteksten/45011/evanescence/broken.htm',\n",
       " '/songteksten/add',\n",
       " '/songteksten/45470/evanescence/listen-to-the-rain.htm',\n",
       " '/songteksten/41309/evanescence/fields-of-innocence.htm',\n",
       " '/songteksten/43026/evanescence/can-t-wash-it-all-away.htm',\n",
       " '/songteksten/50227/evanescence/fallen.htm',\n",
       " '/songteksten/48710/evanescence/exodus.htm',\n",
       " '/songteksten/74928/evanescence/lynn.htm',\n",
       " '/songteksten/360165/evanescence/sally-s-song.htm',\n",
       " '/songteksten/42849/evanescence/lies.htm',\n",
       " '/artiest/4713/video/evanescence.htm',\n",
       " '/songteksten/361700/evanescence/say-you-will.htm',\n",
       " '/songteksten/67698/evanescence/sweet-sacrafice.htm',\n",
       " '/songteksten/846609/evanescence/all-that-i-am-living-for.htm',\n",
       " '/songteksten/43244/evanescence/understanding.htm',\n",
       " '/songteksten/795425/evanescence/lost-in-paradise.htm',\n",
       " '/songteksten/795872/evanescence/disappear.htm',\n",
       " '/songteksten/67506/evanescence/cloud-nine.htm',\n",
       " '/search',\n",
       " '/songteksten/45786/evanescence/thoughtless.htm',\n",
       " '/songteksten/994425/evanescence/the-in-between--piano-solo-.htm',\n",
       " '/songteksten/362685/evanescence/erase-this.htm',\n",
       " '/songteksten/45471/evanescence/so-close.htm',\n",
       " '/songteksten/795870/evanescence/on-the-songs%3a-lost-in-paradise.htm',\n",
       " '/songteksten/41308/evanescence/farther-away.htm',\n",
       " '/songteksten/43243/evanescence/anything-for-you.htm',\n",
       " '/songteksten/43246/evanescence/before-the-dawn.htm',\n",
       " '/songteksten/67505/evanescence/call-me-when-you-re-sober.htm',\n",
       " '/songteksten/42850/evanescence/imaginary.htm',\n",
       " '/songteksten/174660/evanescence/origin.htm',\n",
       " '/songteksten/43025/evanescence/i-must-be-dreaming.htm',\n",
       " 'http://www.facebook.com/songteksten',\n",
       " 'http://www.google.com/+songteksten',\n",
       " '/songteksten/56458/evanescence/wisper.htm',\n",
       " '/songteksten/53790/evanescence/orestes--a-perfect-circle-.htm',\n",
       " '/songteksten/53789/evanescence/solitude.htm',\n",
       " '/songteksten/41315/evanescence/my-immortal.htm',\n",
       " '/songteksten/67732/evanescence/lacrymose.htm',\n",
       " '/songteksten/174659/evanescence/the-end.htm',\n",
       " '/songteksten/795421/evanescence/swimming-home.htm',\n",
       " '/browse/e.htm',\n",
       " '/songteksten/360788/evanescence/my-heart-is-broken.htm',\n",
       " '/songteksten/67516/evanescence/your-star.htm',\n",
       " '/keuze',\n",
       " '/songteksten/74925/evanescence/angel-of-mine.htm',\n",
       " '/songteksten/41307/evanescence/exodus--demo-.htm',\n",
       " '/songteksten/41319/evanescence/wake-me-up-inside.htm',\n",
       " '/songteksten/43023/evanescence/where-will-you-go.htm',\n",
       " '/songteksten/891173/evanescence/bring-me-to-life--synthesis-.htm',\n",
       " '/songteksten/74926/evanescence/imaginery.htm',\n",
       " '/songteksten/67510/evanescence/lithium.htm',\n",
       " '/songteksten/47539/evanescence/real-life.htm',\n",
       " '/songteksten/74929/evanescence/the-last-song-i-m-wasting-on-you.htm',\n",
       " '/songteksten/45370/evanescence/goodnite.htm',\n",
       " '/songteksten/43245/evanescence/missing.htm',\n",
       " '/top45',\n",
       " '/songteksten/41312/evanescence/hello.htm',\n",
       " '/songteksten/795423/evanescence/oceans.htm',\n",
       " '/songteksten/43024/evanescence/anywhere.htm',\n",
       " '/songteksten/48712/evanescence/you--amy-lee-solo-.htm',\n",
       " '/songteksten/48711/evanescence/forever.htm',\n",
       " '/songteksten/88807/evanescence/together-again.htm',\n",
       " '/songteksten/795871/evanescence/secret-door.htm',\n",
       " '/songteksten/41311/evanescence/haunted.htm',\n",
       " '/songteksten/994419/evanescence/overture.htm',\n",
       " '/songteksten/41316/evanescence/my-last-breath.htm',\n",
       " '/songteksten/41320/evanescence/whisper.htm',\n",
       " '/songteksten/41306/evanescence/everybody-s-fool.htm',\n",
       " '/songteksten/48713/evanescence/bleed.htm',\n",
       " '/songteksten/41321/evanescence/you.htm',\n",
       " '/songteksten/49746/evanescence/missing--not-for-your-ears-.htm',\n",
       " '/artiest/4713/2/evanescence.htm',\n",
       " '/songteksten/47280/evanescence/october.htm',\n",
       " '/songteksten/43907/evanescence/the-last-day.htm',\n",
       " '/songteksten/53025/evanescence/thoughless.htm',\n",
       " '/songteksten/41305/evanescence/bring-me-to-life.htm',\n",
       " '/songteksten/49745/evanescence/heart-shaped-box.htm',\n",
       " '/songteksten/890455/evanescence/hi-lo.htm']"
      ]
     },
     "execution_count": 11,
     "metadata": {},
     "output_type": "execute_result"
    }
   ],
   "source": [
    "list_links_lyrics_songteksten_nl"
   ]
  },
  {
   "cell_type": "code",
   "execution_count": 12,
   "metadata": {
    "ExecuteTime": {
     "end_time": "2020-01-08T14:42:31.191859Z",
     "start_time": "2020-01-08T14:42:31.176898Z"
    }
   },
   "outputs": [
    {
     "data": {
      "text/plain": [
       "112"
      ]
     },
     "execution_count": 12,
     "metadata": {},
     "output_type": "execute_result"
    }
   ],
   "source": [
    "# Only keeping the hyperlinks of the lyrics\n",
    "\n",
    "list_links_lyrics_songteksten_nl = [link for link in list_links_lyrics_songteksten_nl \n",
    "                                    if ('/evanescence/' in link) ]\n",
    "\n",
    "len(list_links_lyrics_songteksten_nl)"
   ]
  },
  {
   "cell_type": "code",
   "execution_count": 13,
   "metadata": {
    "ExecuteTime": {
     "end_time": "2020-01-08T14:42:31.236735Z",
     "start_time": "2020-01-08T14:42:31.197841Z"
    }
   },
   "outputs": [
    {
     "data": {
      "text/plain": [
       "['/songteksten/41310/evanescence/going-under.htm',\n",
       " '/songteksten/42848/evanescence/forgive-me.htm',\n",
       " '/songteksten/174663/evanescence/demise.htm',\n",
       " '/songteksten/67508/evanescence/lacrymosa.htm',\n",
       " '/songteksten/795424/evanescence/sick.htm',\n",
       " '/songteksten/43906/evanescence/away-from-me.htm',\n",
       " '/songteksten/67507/evanescence/good-enough.htm',\n",
       " '/songteksten/174664/evanescence/ascension-of-the-spirit.htm',\n",
       " '/songteksten/67513/evanescence/sweet-sacrifice.htm',\n",
       " '/songteksten/49240/evanescence/forever-gone-forever-you.htm',\n",
       " '/songteksten/360750/evanescence/made-of-stone-.htm',\n",
       " '/songteksten/41812/evanescence/even-in-death.htm',\n",
       " '/songteksten/67512/evanescence/snow-white-queen.htm',\n",
       " '/songteksten/174658/evanescence/goodnight.htm',\n",
       " '/songteksten/360416/evanescence/what-you-want.htm',\n",
       " '/songteksten/41313/evanescence/i-believe-in-you.htm',\n",
       " '/songteksten/45787/evanescence/zero.htm',\n",
       " '/songteksten/74927/evanescence/jealous.htm',\n",
       " '/songteksten/795426/evanescence/the-other-side.htm',\n",
       " '/songteksten/53438/evanescence/feel-for-you.htm',\n",
       " '/songteksten/174661/evanescence/field-of-innocence.htm',\n",
       " '/songteksten/66131/evanescence/my-tourniquet.htm',\n",
       " '/songteksten/67511/evanescence/lose-control.htm',\n",
       " '/songteksten/67504/evanescence/all-that-i-m-living-for.htm',\n",
       " '/songteksten/174662/evanescence/eternal.htm',\n",
       " '/songteksten/45785/evanescence/4th-of-july.htm',\n",
       " '/songteksten/367425/evanescence/do-what-you-want.htm',\n",
       " '/songteksten/68458/evanescence/cartoon-network.htm',\n",
       " '/songteksten/363714/evanescence/new-way-to-bleed.htm',\n",
       " '/songteksten/890454/evanescence/the-end-of-the-dream.htm',\n",
       " '/songteksten/889460/evanescence/imperfection.htm',\n",
       " '/songteksten/43242/evanescence/surrender.htm',\n",
       " '/songteksten/67514/evanescence/the-only-one.htm',\n",
       " '/songteksten/67515/evanescence/weight-of-the-world.htm',\n",
       " '/songteksten/41318/evanescence/tourniquet.htm',\n",
       " '/songteksten/44308/evanescence/breathe-no-more.htm',\n",
       " '/songteksten/45472/evanescence/give-unto-me.htm',\n",
       " '/songteksten/795422/evanescence/never-go-back.htm',\n",
       " '/songteksten/50229/evanescence/you-amy-lee-solo-.htm',\n",
       " '/songteksten/360153/evanescence/holding-my-last-breathe.htm',\n",
       " '/songteksten/41317/evanescence/taking-over-me.htm',\n",
       " '/songteksten/360790/evanescence/the-change.htm',\n",
       " '/songteksten/67509/evanescence/like-you.htm',\n",
       " '/songteksten/45011/evanescence/broken.htm',\n",
       " '/songteksten/45470/evanescence/listen-to-the-rain.htm',\n",
       " '/songteksten/41309/evanescence/fields-of-innocence.htm',\n",
       " '/songteksten/43026/evanescence/can-t-wash-it-all-away.htm',\n",
       " '/songteksten/50227/evanescence/fallen.htm',\n",
       " '/songteksten/48710/evanescence/exodus.htm',\n",
       " '/songteksten/74928/evanescence/lynn.htm',\n",
       " '/songteksten/360165/evanescence/sally-s-song.htm',\n",
       " '/songteksten/42849/evanescence/lies.htm',\n",
       " '/songteksten/361700/evanescence/say-you-will.htm',\n",
       " '/songteksten/67698/evanescence/sweet-sacrafice.htm',\n",
       " '/songteksten/846609/evanescence/all-that-i-am-living-for.htm',\n",
       " '/songteksten/43244/evanescence/understanding.htm',\n",
       " '/songteksten/795425/evanescence/lost-in-paradise.htm',\n",
       " '/songteksten/795872/evanescence/disappear.htm',\n",
       " '/songteksten/67506/evanescence/cloud-nine.htm',\n",
       " '/songteksten/45786/evanescence/thoughtless.htm',\n",
       " '/songteksten/994425/evanescence/the-in-between--piano-solo-.htm',\n",
       " '/songteksten/362685/evanescence/erase-this.htm',\n",
       " '/songteksten/45471/evanescence/so-close.htm',\n",
       " '/songteksten/795870/evanescence/on-the-songs%3a-lost-in-paradise.htm',\n",
       " '/songteksten/41308/evanescence/farther-away.htm',\n",
       " '/songteksten/43243/evanescence/anything-for-you.htm',\n",
       " '/songteksten/43246/evanescence/before-the-dawn.htm',\n",
       " '/songteksten/67505/evanescence/call-me-when-you-re-sober.htm',\n",
       " '/songteksten/42850/evanescence/imaginary.htm',\n",
       " '/songteksten/174660/evanescence/origin.htm',\n",
       " '/songteksten/43025/evanescence/i-must-be-dreaming.htm',\n",
       " '/songteksten/56458/evanescence/wisper.htm',\n",
       " '/songteksten/53790/evanescence/orestes--a-perfect-circle-.htm',\n",
       " '/songteksten/53789/evanescence/solitude.htm',\n",
       " '/songteksten/41315/evanescence/my-immortal.htm',\n",
       " '/songteksten/67732/evanescence/lacrymose.htm',\n",
       " '/songteksten/174659/evanescence/the-end.htm',\n",
       " '/songteksten/795421/evanescence/swimming-home.htm',\n",
       " '/songteksten/360788/evanescence/my-heart-is-broken.htm',\n",
       " '/songteksten/67516/evanescence/your-star.htm',\n",
       " '/songteksten/74925/evanescence/angel-of-mine.htm',\n",
       " '/songteksten/41307/evanescence/exodus--demo-.htm',\n",
       " '/songteksten/41319/evanescence/wake-me-up-inside.htm',\n",
       " '/songteksten/43023/evanescence/where-will-you-go.htm',\n",
       " '/songteksten/891173/evanescence/bring-me-to-life--synthesis-.htm',\n",
       " '/songteksten/74926/evanescence/imaginery.htm',\n",
       " '/songteksten/67510/evanescence/lithium.htm',\n",
       " '/songteksten/47539/evanescence/real-life.htm',\n",
       " '/songteksten/74929/evanescence/the-last-song-i-m-wasting-on-you.htm',\n",
       " '/songteksten/45370/evanescence/goodnite.htm',\n",
       " '/songteksten/43245/evanescence/missing.htm',\n",
       " '/songteksten/41312/evanescence/hello.htm',\n",
       " '/songteksten/795423/evanescence/oceans.htm',\n",
       " '/songteksten/43024/evanescence/anywhere.htm',\n",
       " '/songteksten/48712/evanescence/you--amy-lee-solo-.htm',\n",
       " '/songteksten/48711/evanescence/forever.htm',\n",
       " '/songteksten/88807/evanescence/together-again.htm',\n",
       " '/songteksten/795871/evanescence/secret-door.htm',\n",
       " '/songteksten/41311/evanescence/haunted.htm',\n",
       " '/songteksten/994419/evanescence/overture.htm',\n",
       " '/songteksten/41316/evanescence/my-last-breath.htm',\n",
       " '/songteksten/41320/evanescence/whisper.htm',\n",
       " '/songteksten/41306/evanescence/everybody-s-fool.htm',\n",
       " '/songteksten/48713/evanescence/bleed.htm',\n",
       " '/songteksten/41321/evanescence/you.htm',\n",
       " '/songteksten/49746/evanescence/missing--not-for-your-ears-.htm',\n",
       " '/songteksten/47280/evanescence/october.htm',\n",
       " '/songteksten/43907/evanescence/the-last-day.htm',\n",
       " '/songteksten/53025/evanescence/thoughless.htm',\n",
       " '/songteksten/41305/evanescence/bring-me-to-life.htm',\n",
       " '/songteksten/49745/evanescence/heart-shaped-box.htm',\n",
       " '/songteksten/890455/evanescence/hi-lo.htm']"
      ]
     },
     "execution_count": 13,
     "metadata": {},
     "output_type": "execute_result"
    }
   ],
   "source": [
    "list_links_lyrics_songteksten_nl"
   ]
  },
  {
   "cell_type": "code",
   "execution_count": 14,
   "metadata": {
    "scrolled": true
   },
   "outputs": [
    {
     "data": {
      "text/plain": [
       "['4th-of-july',\n",
       " 'all-that-i-am-living-for',\n",
       " 'all-that-i-m-living-for',\n",
       " 'angel-of-mine',\n",
       " 'anything-for-you',\n",
       " 'anywhere',\n",
       " 'ascension-of-the-spirit',\n",
       " 'away-from-me',\n",
       " 'before-the-dawn',\n",
       " 'bleed',\n",
       " 'breathe-no-more',\n",
       " 'bring-me-to-life',\n",
       " 'bring-me-to-life--synthesis-',\n",
       " 'broken',\n",
       " 'call-me-when-you-re-sober',\n",
       " 'can-t-wash-it-all-away',\n",
       " 'cartoon-network',\n",
       " 'cloud-nine',\n",
       " 'demise',\n",
       " 'disappear',\n",
       " 'do-what-you-want',\n",
       " 'erase-this',\n",
       " 'eternal',\n",
       " 'even-in-death',\n",
       " 'everybody-s-fool',\n",
       " 'exodus',\n",
       " 'exodus--demo-',\n",
       " 'fallen',\n",
       " 'farther-away',\n",
       " 'feel-for-you',\n",
       " 'field-of-innocence',\n",
       " 'fields-of-innocence',\n",
       " 'forever',\n",
       " 'forever-gone-forever-you',\n",
       " 'forgive-me',\n",
       " 'give-unto-me',\n",
       " 'going-under',\n",
       " 'good-enough',\n",
       " 'goodnight',\n",
       " 'goodnite',\n",
       " 'haunted',\n",
       " 'heart-shaped-box',\n",
       " 'hello',\n",
       " 'hi-lo',\n",
       " 'holding-my-last-breathe',\n",
       " 'i-believe-in-you',\n",
       " 'i-must-be-dreaming',\n",
       " 'imaginary',\n",
       " 'imaginery',\n",
       " 'imperfection',\n",
       " 'jealous',\n",
       " 'lacrymosa',\n",
       " 'lacrymose',\n",
       " 'lies',\n",
       " 'like-you',\n",
       " 'listen-to-the-rain',\n",
       " 'lithium',\n",
       " 'lose-control',\n",
       " 'lost-in-paradise',\n",
       " 'lynn',\n",
       " 'made-of-stone-',\n",
       " 'missing',\n",
       " 'missing--not-for-your-ears-',\n",
       " 'my-heart-is-broken',\n",
       " 'my-immortal',\n",
       " 'my-last-breath',\n",
       " 'my-tourniquet',\n",
       " 'never-go-back',\n",
       " 'new-way-to-bleed',\n",
       " 'oceans',\n",
       " 'october',\n",
       " 'on-the-songs%3a-lost-in-paradise',\n",
       " 'orestes--a-perfect-circle-',\n",
       " 'origin',\n",
       " 'overture',\n",
       " 'real-life',\n",
       " 'sally-s-song',\n",
       " 'say-you-will',\n",
       " 'secret-door',\n",
       " 'sick',\n",
       " 'snow-white-queen',\n",
       " 'so-close',\n",
       " 'solitude',\n",
       " 'surrender',\n",
       " 'sweet-sacrafice',\n",
       " 'sweet-sacrifice',\n",
       " 'swimming-home',\n",
       " 'taking-over-me',\n",
       " 'the-change',\n",
       " 'the-end',\n",
       " 'the-end-of-the-dream',\n",
       " 'the-in-between--piano-solo-',\n",
       " 'the-last-day',\n",
       " 'the-last-song-i-m-wasting-on-you',\n",
       " 'the-only-one',\n",
       " 'the-other-side',\n",
       " 'thoughless',\n",
       " 'thoughtless',\n",
       " 'together-again',\n",
       " 'tourniquet',\n",
       " 'understanding',\n",
       " 'wake-me-up-inside',\n",
       " 'weight-of-the-world',\n",
       " 'what-you-want',\n",
       " 'where-will-you-go',\n",
       " 'whisper',\n",
       " 'wisper',\n",
       " 'you',\n",
       " 'you--amy-lee-solo-',\n",
       " 'you-amy-lee-solo-',\n",
       " 'your-star',\n",
       " 'zero']"
      ]
     },
     "execution_count": 14,
     "metadata": {},
     "output_type": "execute_result"
    }
   ],
   "source": [
    "#Extracting the titles of the song and rearranging in alphabetical order for quick inspection\n",
    "\n",
    "list_titles = [link.split('/')[-1].split('.')[-2] for link in list_links_lyrics_songteksten_nl]\n",
    "list_titles.sort()\n",
    "list_titles"
   ]
  },
  {
   "cell_type": "markdown",
   "metadata": {},
   "source": [
    "Before filtering we have 128 hyperlinks, after that 112. A quick inspection reveals often misspelling."
   ]
  },
  {
   "cell_type": "markdown",
   "metadata": {},
   "source": [
    "### Retrieving from [AZLyrics](https://www.azlyrics.com/)\n",
    "\n",
    "The last website investigated as the first one has only one main page with all lyrics. "
   ]
  },
  {
   "cell_type": "code",
   "execution_count": 15,
   "metadata": {
    "ExecuteTime": {
     "end_time": "2020-01-08T14:42:31.429221Z",
     "start_time": "2020-01-08T14:42:31.240725Z"
    }
   },
   "outputs": [
    {
     "name": "stdout",
     "output_type": "stream",
     "text": [
      "\n",
      " Number of links before filtering: 129\n"
     ]
    },
    {
     "data": {
      "text/plain": [
       "['../lyrics/evanescence/hilo.html',\n",
       " '../lyrics/evanescence/secretdoor.html',\n",
       " '//www.azlyrics.com/privacy.html',\n",
       " '../lyrics/evanescence/thechange.html',\n",
       " '//www.azlyrics.com/u.html',\n",
       " '../a/amylee.html',\n",
       " '../lyrics/evanescence/goingunder.html',\n",
       " '../lyrics/evanescence/lostwhispers.html',\n",
       " '../lyrics/evanescence/yourstar.html',\n",
       " '//www.azlyrics.com/contact.html',\n",
       " '../lyrics/evanescence/itwasallalie.html',\n",
       " 'mailto:?subject=Evanescence%20Lyrics&body=https%3A%2F%2Fwww.azlyrics.com%2Fe%2Fevanescence.html',\n",
       " '../lyrics/evanescence/lithium.html',\n",
       " '//www.azlyrics.com/i.html',\n",
       " '../lyrics/evanescence/nevergoback.html',\n",
       " '../lyrics/evanescence/surrender.html',\n",
       " '//www.azlyrics.com/copyright.html',\n",
       " '../lyrics/evanescence/exodus.html',\n",
       " '../lyrics/evanescence/breathenomore.html',\n",
       " '../lyrics/evanescence/wherewillyougo.html',\n",
       " '../lyrics/evanescence/fieldofinnocence.html',\n",
       " '//www.azlyrics.com/adv.html',\n",
       " '../lyrics/evanescence/heartshapedbox.html',\n",
       " '../lyrics/evanescence/october.html',\n",
       " '../lyrics/evanescence/tourniquet.html',\n",
       " '../lyrics/evanescence/beforethedawn.html',\n",
       " '../lyrics/evanescence/bringmetolifesynthesis.html',\n",
       " '../lyrics/evanescence/missing.html',\n",
       " '../lyrics/evanescence/imaginaryorigin.html',\n",
       " '../lyrics/evanescence/whisper.html',\n",
       " '//www.azlyrics.com/t.html',\n",
       " '../lyrics/evanescence/theonlyone.html',\n",
       " '../lyrics/evanescence/understandingwashitallaway.html',\n",
       " '../lyrics/evanescence/sweetsacrifice.html',\n",
       " '../lyrics/evanescence/sayyouwill.html',\n",
       " '../lyrics/evanescence/myimmortal572226.html',\n",
       " '../lyrics/evanescence/takingoverme.html',\n",
       " '//www.azlyrics.com/x.html',\n",
       " '//www.azlyrics.com/h.html',\n",
       " '../lyrics/evanescence/disappear.html',\n",
       " '../lyrics/evanescence/lostinparadise.html',\n",
       " '../lyrics/evanescence/goodnight.html',\n",
       " '//www.azlyrics.com/r.html',\n",
       " '../lyrics/evanescence/origin.html',\n",
       " '//www.azlyrics.com/d.html',\n",
       " '../lyrics/evanescence/evenindeath.html',\n",
       " '../lyrics/evanescence/awayfromme.html',\n",
       " '//www.azlyrics.com/k.html',\n",
       " '../lyrics/evanescence/bringmetolife.html',\n",
       " 'https://www.facebook.com/sharer.php?u=https%3A%2F%2Fwww.azlyrics.com%2Fe%2Fevanescence.html&title=Evanescence%20Lyrics&display=page',\n",
       " '../lyrics/evanescence/haunted.html',\n",
       " '../lyrics/evanescence/swimminghome.html',\n",
       " '../lyrics/evanescence/anythingforyou.html',\n",
       " '../lyrics/evanescence/whisperoriginversion.html',\n",
       " '../lyrics/evanescence/likeyou.html',\n",
       " '../lyrics/evanescence/soclose.html',\n",
       " '../lyrics/evanescence/lies.html',\n",
       " '//www.azlyrics.com/g.html',\n",
       " '../lyrics/evanescence/whatyouwant.html',\n",
       " '../lyrics/evanescence/snowwhitequeen.html',\n",
       " '../lyrics/evanescence/lacrymosa.html',\n",
       " '../lyrics/evanescence/zero.html',\n",
       " '//www.azlyrics.com/o.html',\n",
       " '../lyrics/evanescence/solitude.html',\n",
       " '//www.azlyrics.com/s.html',\n",
       " '../lyrics/evanescence/fartheraway.html',\n",
       " '../lyrics/evanescence/imaginary.html',\n",
       " '//www.azlyrics.com/m.html',\n",
       " '../lyrics/evanescence/cloudnine.html',\n",
       " '../lyrics/evanescence/evenindeath2016version.html',\n",
       " '../lyrics/evanescence/madeofstone.html',\n",
       " '//www.azlyrics.com/19.html',\n",
       " '../lyrics/evanescence/theendofthedream.html',\n",
       " '../lyrics/evanescence/listentotherain.html',\n",
       " '../lyrics/evanescence/myimmortal.html',\n",
       " '../lyrics/evanescence/thoughtless.html',\n",
       " '//www.azlyrics.com/v.html',\n",
       " '../lyrics/evanescence/ifyoudontmind.html',\n",
       " '//www.azlyrics.com/q.html',\n",
       " '../lyrics/evanescence/imaginary572221.html',\n",
       " '//www.facebook.com/pages/AZLyricscom/154139197951223',\n",
       " '../lyrics/evanescence/thelastsongimwastingonyou.html',\n",
       " '../lyrics/evanescence/untitledyoucantkillthemeinyou.html',\n",
       " '../lyrics/evanescence/myheartisbroken.html',\n",
       " '//www.azlyrics.com/a.html',\n",
       " '//www.azlyrics.com/b.html',\n",
       " '../lyrics/evanescence/anywhere.html',\n",
       " '//www.azlyrics.com/y.html',\n",
       " '../lyrics/evanescence/thechain.html',\n",
       " '../lyrics/evanescence/myheartisbroken572217.html',\n",
       " '../lyrics/evanescence/forgiveme.html',\n",
       " '../lyrics/evanescence/sick.html',\n",
       " '../lyrics/evanescence/giveuntome.html',\n",
       " '//www.azlyrics.com/z.html',\n",
       " '//www.azlyrics.com/c.html',\n",
       " '//www.azlyrics.com/n.html',\n",
       " '../lyrics/evanescence/goodenough.html',\n",
       " '../lyrics/evanescence/mylastbreath.html',\n",
       " '../lyrics/evanescence/you.html',\n",
       " '../lyrics/evanescence/endofthedream.html',\n",
       " '//www.azlyrics.com/e.html',\n",
       " '../lyrics/evanescence/erasethis.html',\n",
       " '../lyrics/evanescence/takecover.html',\n",
       " '//www.azlyrics.com',\n",
       " '//www.azlyrics.com/j.html',\n",
       " '../lyrics/evanescence/oceans.html',\n",
       " '../lyrics/evanescence/everybodysfool.html',\n",
       " '../lyrics/evanescence/callmewhenyouresober.html',\n",
       " '//www.stlyrics.com',\n",
       " '//www.azlyrics.com/p.html',\n",
       " '../lyrics/evanescence/lacrymosa572218.html',\n",
       " '../lyrics/evanescence/bleedimustbedreaming.html',\n",
       " '//www.azlyrics.com/l.html',\n",
       " '../lyrics/evanescence/losecontrol.html',\n",
       " '//www.azlyrics.com/w.html',\n",
       " '../lyrics/evanescence/hello.html',\n",
       " '../lyrics/evanescence/haunteddemo.html',\n",
       " '../lyrics/evanescence/wastedonyou.html',\n",
       " '//www.azlyrics.com/f.html',\n",
       " 'https://twitter.com/intent/tweet?url=https%3A%2F%2Fwww.azlyrics.com%2Fe%2Fevanescence.html&text=Evanescence%20Lyrics',\n",
       " '../lyrics/evanescence/anewwaytobleed.html',\n",
       " '../lyrics/evanescence/theotherside.html',\n",
       " '../lyrics/evanescence/togetheragain.html',\n",
       " '//www.azlyrics.com/cookie.html',\n",
       " '../add.php',\n",
       " '../lyrics/evanescence/imperfection.html',\n",
       " '../lyrics/evanescence/allthatimlivingfor.html',\n",
       " '../lyrics/evanescence/weightoftheworld.html',\n",
       " '../lyrics/evanescence/forevergoneforeveryou.html']"
      ]
     },
     "execution_count": 15,
     "metadata": {},
     "output_type": "execute_result"
    }
   ],
   "source": [
    "url = 'https://www.azlyrics.com/e/evanescence.html'\n",
    "\n",
    "list_links_lyrics_azlyrics = retrieve_hyperlinks(url)\n",
    "\n",
    "# removing possible repetitions \n",
    "\n",
    "list_links_lyrics_azlyrics = list(set(list_links_lyrics_azlyrics))\n",
    "\n",
    "print('\\n Number of links before filtering:', len(list_links_lyrics_azlyrics))\n",
    "list_links_lyrics_azlyrics"
   ]
  },
  {
   "cell_type": "markdown",
   "metadata": {},
   "source": [
    "And in this case our filtering list comprehension uses '/lyrics/' to keep only the relevant links. "
   ]
  },
  {
   "cell_type": "code",
   "execution_count": 16,
   "metadata": {
    "ExecuteTime": {
     "end_time": "2020-01-08T14:42:31.451163Z",
     "start_time": "2020-01-08T14:42:31.436204Z"
    }
   },
   "outputs": [
    {
     "name": "stdout",
     "output_type": "stream",
     "text": [
      "\n",
      " Number of links after updated filtering and applying set: 89\n"
     ]
    }
   ],
   "source": [
    "list_links_lyrics_azlyrics = [link for link in list_links_lyrics_azlyrics if '/lyrics/' in link ]\n",
    "\n",
    "print('\\n Number of links after updated filtering and applying set:', len(list_links_lyrics_azlyrics))"
   ]
  },
  {
   "cell_type": "code",
   "execution_count": 17,
   "metadata": {
    "ExecuteTime": {
     "end_time": "2020-01-08T14:42:31.481082Z",
     "start_time": "2020-01-08T14:42:31.456148Z"
    }
   },
   "outputs": [
    {
     "data": {
      "text/plain": [
       "['../lyrics/evanescence/allthatimlivingfor.html',\n",
       " '../lyrics/evanescence/anewwaytobleed.html',\n",
       " '../lyrics/evanescence/anythingforyou.html',\n",
       " '../lyrics/evanescence/anywhere.html',\n",
       " '../lyrics/evanescence/awayfromme.html',\n",
       " '../lyrics/evanescence/beforethedawn.html',\n",
       " '../lyrics/evanescence/bleedimustbedreaming.html',\n",
       " '../lyrics/evanescence/breathenomore.html',\n",
       " '../lyrics/evanescence/bringmetolife.html',\n",
       " '../lyrics/evanescence/bringmetolifesynthesis.html',\n",
       " '../lyrics/evanescence/callmewhenyouresober.html',\n",
       " '../lyrics/evanescence/cloudnine.html',\n",
       " '../lyrics/evanescence/disappear.html',\n",
       " '../lyrics/evanescence/endofthedream.html',\n",
       " '../lyrics/evanescence/erasethis.html',\n",
       " '../lyrics/evanescence/evenindeath.html',\n",
       " '../lyrics/evanescence/evenindeath2016version.html',\n",
       " '../lyrics/evanescence/everybodysfool.html',\n",
       " '../lyrics/evanescence/exodus.html',\n",
       " '../lyrics/evanescence/fartheraway.html',\n",
       " '../lyrics/evanescence/fieldofinnocence.html',\n",
       " '../lyrics/evanescence/forevergoneforeveryou.html',\n",
       " '../lyrics/evanescence/forgiveme.html',\n",
       " '../lyrics/evanescence/giveuntome.html',\n",
       " '../lyrics/evanescence/goingunder.html',\n",
       " '../lyrics/evanescence/goodenough.html',\n",
       " '../lyrics/evanescence/goodnight.html',\n",
       " '../lyrics/evanescence/haunted.html',\n",
       " '../lyrics/evanescence/haunteddemo.html',\n",
       " '../lyrics/evanescence/heartshapedbox.html',\n",
       " '../lyrics/evanescence/hello.html',\n",
       " '../lyrics/evanescence/hilo.html',\n",
       " '../lyrics/evanescence/ifyoudontmind.html',\n",
       " '../lyrics/evanescence/imaginary.html',\n",
       " '../lyrics/evanescence/imaginary572221.html',\n",
       " '../lyrics/evanescence/imaginaryorigin.html',\n",
       " '../lyrics/evanescence/imperfection.html',\n",
       " '../lyrics/evanescence/itwasallalie.html',\n",
       " '../lyrics/evanescence/lacrymosa.html',\n",
       " '../lyrics/evanescence/lacrymosa572218.html',\n",
       " '../lyrics/evanescence/lies.html',\n",
       " '../lyrics/evanescence/likeyou.html',\n",
       " '../lyrics/evanescence/listentotherain.html',\n",
       " '../lyrics/evanescence/lithium.html',\n",
       " '../lyrics/evanescence/losecontrol.html',\n",
       " '../lyrics/evanescence/lostinparadise.html',\n",
       " '../lyrics/evanescence/lostwhispers.html',\n",
       " '../lyrics/evanescence/madeofstone.html',\n",
       " '../lyrics/evanescence/missing.html',\n",
       " '../lyrics/evanescence/myheartisbroken.html',\n",
       " '../lyrics/evanescence/myheartisbroken572217.html',\n",
       " '../lyrics/evanescence/myimmortal.html',\n",
       " '../lyrics/evanescence/myimmortal572226.html',\n",
       " '../lyrics/evanescence/mylastbreath.html',\n",
       " '../lyrics/evanescence/nevergoback.html',\n",
       " '../lyrics/evanescence/oceans.html',\n",
       " '../lyrics/evanescence/october.html',\n",
       " '../lyrics/evanescence/origin.html',\n",
       " '../lyrics/evanescence/sayyouwill.html',\n",
       " '../lyrics/evanescence/secretdoor.html',\n",
       " '../lyrics/evanescence/sick.html',\n",
       " '../lyrics/evanescence/snowwhitequeen.html',\n",
       " '../lyrics/evanescence/soclose.html',\n",
       " '../lyrics/evanescence/solitude.html',\n",
       " '../lyrics/evanescence/surrender.html',\n",
       " '../lyrics/evanescence/sweetsacrifice.html',\n",
       " '../lyrics/evanescence/swimminghome.html',\n",
       " '../lyrics/evanescence/takecover.html',\n",
       " '../lyrics/evanescence/takingoverme.html',\n",
       " '../lyrics/evanescence/thechain.html',\n",
       " '../lyrics/evanescence/thechange.html',\n",
       " '../lyrics/evanescence/theendofthedream.html',\n",
       " '../lyrics/evanescence/thelastsongimwastingonyou.html',\n",
       " '../lyrics/evanescence/theonlyone.html',\n",
       " '../lyrics/evanescence/theotherside.html',\n",
       " '../lyrics/evanescence/thoughtless.html',\n",
       " '../lyrics/evanescence/togetheragain.html',\n",
       " '../lyrics/evanescence/tourniquet.html',\n",
       " '../lyrics/evanescence/understandingwashitallaway.html',\n",
       " '../lyrics/evanescence/untitledyoucantkillthemeinyou.html',\n",
       " '../lyrics/evanescence/wastedonyou.html',\n",
       " '../lyrics/evanescence/weightoftheworld.html',\n",
       " '../lyrics/evanescence/whatyouwant.html',\n",
       " '../lyrics/evanescence/wherewillyougo.html',\n",
       " '../lyrics/evanescence/whisper.html',\n",
       " '../lyrics/evanescence/whisperoriginversion.html',\n",
       " '../lyrics/evanescence/you.html',\n",
       " '../lyrics/evanescence/yourstar.html',\n",
       " '../lyrics/evanescence/zero.html']"
      ]
     },
     "execution_count": 17,
     "metadata": {},
     "output_type": "execute_result"
    }
   ],
   "source": [
    "# organizing in alphabetical order to make visualization easy\n",
    "list_links_lyrics_azlyrics.sort()\n",
    "list_links_lyrics_azlyrics"
   ]
  },
  {
   "cell_type": "markdown",
   "metadata": {},
   "source": [
    "# **Extracting lyrics from a webpage**\n",
    "\n",
    "Now is time to use the hyperlinks of lyrics obtained in the previous section to extract lyrics.\n",
    "\n",
    "From the sites inspected before, I've decided to eliminate songteksten.nl because of the misspelling issues, and to work further with songteksten.net because it seemed to be the less complicate to extract lyrics (based on html structure).\n",
    "\n",
    "The following functions handle this task by using `BeautifullSoup` to parse the html and prettify it. After that I use some strings methods from Python to have the lyrics both in string format but also in list format. "
   ]
  },
  {
   "cell_type": "code",
   "execution_count": 18,
   "metadata": {
    "ExecuteTime": {
     "end_time": "2020-01-08T14:42:31.529951Z",
     "start_time": "2020-01-08T14:42:31.498037Z"
    }
   },
   "outputs": [],
   "source": [
    "def extract_lyric_from_url(url_lyric):\n",
    "    \"\"\" \n",
    "    Extract lyrics after prettify beautiful soup from www.songteksten.nl \n",
    "    \"\"\"\n",
    "    \n",
    "    \n",
    "    # send a http request\n",
    "    r_lyric = requests.get(url_lyric)\n",
    "    \n",
    "    # obtain text with html containt of the url\n",
    "    html_doc_lyric = r_lyric.text\n",
    "    \n",
    "    # making html easier to read\n",
    "    soup_lyric = BeautifulSoup(html_doc_lyric,\"lxml\")\n",
    "\n",
    "    \n",
    "    # prettifying it\n",
    "    soup_lyric_pretty = soup_lyric.prettify()\n",
    "    \n",
    "    # Isolating deal that contains the lyric\n",
    "    \n",
    "    text = soup_lyric_pretty.split('</h1>\\n')[1].split('<div class=\"buma-consent\" role=\"alert\">')[0]\n",
    "\n",
    "    # Cleaning text and building a list with it\n",
    "    list_lyrics = text.split('<br/>\\n')\n",
    "    list_lyrics = [item.replace('\\n','') for item in list_lyrics]\n",
    "    list_lyrics = [item.lstrip().rstrip() for item in list_lyrics]\n",
    "    \n",
    "    # removing empty elements from the list\n",
    "    \n",
    "    for item in list_lyrics:\n",
    "        if str(item) == '':\n",
    "            list_lyrics.remove(item)\n",
    "            \n",
    "    # this part was added after noticing that at least one lyric was not following the normal pattern\n",
    "    \n",
    "    if '<div' in list_lyrics[0]:\n",
    "        list_lyrics = list_lyrics[1:]\n",
    "        \n",
    "        \n",
    "    # Having the lyrics in string format\n",
    "    \n",
    "    lyrics = '. '.join(list_lyrics)\n",
    "            \n",
    "    \n",
    "    # returning both list and string\n",
    "    \n",
    "    return list_lyrics, lyrics"
   ]
  },
  {
   "cell_type": "markdown",
   "metadata": {},
   "source": [
    "## Extracting lyric from songteksten.net"
   ]
  },
  {
   "cell_type": "code",
   "execution_count": 19,
   "metadata": {
    "ExecuteTime": {
     "end_time": "2020-01-08T14:42:31.571839Z",
     "start_time": "2020-01-08T14:42:31.555883Z"
    }
   },
   "outputs": [
    {
     "name": "stdout",
     "output_type": "stream",
     "text": [
      "https://songteksten.net/lyric/1938/48350/evanescence/zero.html \n",
      "\n"
     ]
    }
   ],
   "source": [
    "url_lyric = list_links_lyrics_songteksten_net[1]\n",
    "\n",
    "print(url_lyric,'\\n')"
   ]
  },
  {
   "cell_type": "code",
   "execution_count": 20,
   "metadata": {
    "ExecuteTime": {
     "end_time": "2020-01-08T14:42:31.892985Z",
     "start_time": "2020-01-08T14:42:31.577824Z"
    }
   },
   "outputs": [
    {
     "data": {
      "text/plain": [
       "['My reflection, dirty mirror',\n",
       " \"There's no connection to myself\",\n",
       " \"I'm your lover, I'm your zero\",\n",
       " \"I'm in the face of your dreams of glass\",\n",
       " 'So save your prayers',\n",
       " \"For when we're really gonna need'em\",\n",
       " 'Throw out your cares and fly',\n",
       " 'Wanna go for a ride?',\n",
       " \"She's the one for me\",\n",
       " \"She's all I really need\",\n",
       " \"Cause she's the one for me\",\n",
       " 'Emptiness is loneliness,',\n",
       " 'and loneliness is cleanliness',\n",
       " 'And cleanliness is godliness,',\n",
       " 'And god is empty just like me',\n",
       " 'You never believe',\n",
       " 'Intoxicated with the madness',\n",
       " \"I'm in love with my sadness\",\n",
       " 'Bullshit fakers, enchanted kingdoms',\n",
       " 'The fasion victims chew their charcoal teeth',\n",
       " 'I never let on',\n",
       " 'That I was on a sinking ship',\n",
       " 'I never let on that I was down',\n",
       " 'You blame yourself',\n",
       " \"For what you can't ignore\",\n",
       " 'You blame yourself for wanting more',\n",
       " \"She's the one for me\",\n",
       " \"She's all I really need\",\n",
       " \"She's the one for me\",\n",
       " \"She's my one and only\"]"
      ]
     },
     "execution_count": 20,
     "metadata": {},
     "output_type": "execute_result"
    }
   ],
   "source": [
    "list_lyrics = extract_lyric_from_url(url_lyric)[0]\n",
    "list_lyrics"
   ]
  },
  {
   "cell_type": "code",
   "execution_count": 21,
   "metadata": {
    "ExecuteTime": {
     "end_time": "2020-01-08T14:42:32.198165Z",
     "start_time": "2020-01-08T14:42:31.900960Z"
    }
   },
   "outputs": [
    {
     "data": {
      "text/plain": [
       "\"My reflection, dirty mirror. There's no connection to myself. I'm your lover, I'm your zero. I'm in the face of your dreams of glass. So save your prayers. For when we're really gonna need'em. Throw out your cares and fly. Wanna go for a ride?. She's the one for me. She's all I really need. Cause she's the one for me. Emptiness is loneliness,. and loneliness is cleanliness. And cleanliness is godliness,. And god is empty just like me. You never believe. Intoxicated with the madness. I'm in love with my sadness. Bullshit fakers, enchanted kingdoms. The fasion victims chew their charcoal teeth. I never let on. That I was on a sinking ship. I never let on that I was down. You blame yourself. For what you can't ignore. You blame yourself for wanting more. She's the one for me. She's all I really need. She's the one for me. She's my one and only\""
      ]
     },
     "execution_count": 21,
     "metadata": {},
     "output_type": "execute_result"
    }
   ],
   "source": [
    "lyrics = extract_lyric_from_url(url_lyric)[1]\n",
    "lyrics"
   ]
  },
  {
   "cell_type": "markdown",
   "metadata": {},
   "source": [
    "### Try another one"
   ]
  },
  {
   "cell_type": "code",
   "execution_count": 22,
   "metadata": {
    "ExecuteTime": {
     "end_time": "2020-01-08T14:42:32.211130Z",
     "start_time": "2020-01-08T14:42:32.203151Z"
    }
   },
   "outputs": [
    {
     "name": "stdout",
     "output_type": "stream",
     "text": [
      "https://songteksten.net/lyric/1938/30586/evanescence/tourniquet.html\n"
     ]
    }
   ],
   "source": [
    "url_lyric = list_links_lyrics_songteksten_net[10]\n",
    "\n",
    "print(url_lyric)"
   ]
  },
  {
   "cell_type": "code",
   "execution_count": 23,
   "metadata": {
    "ExecuteTime": {
     "end_time": "2020-01-08T14:42:32.556206Z",
     "start_time": "2020-01-08T14:42:32.217114Z"
    }
   },
   "outputs": [
    {
     "data": {
      "text/plain": [
       "['I tried to kill the pain',\n",
       " 'But only brought more (so much more)',\n",
       " 'I lay dying',\n",
       " \"And I'm pouring crimson regret and betrayal\",\n",
       " \"I'm dying (dying)\",\n",
       " 'Praying (praying)',\n",
       " 'Bleeding (bleeding)',\n",
       " 'And screaming',\n",
       " 'Am I too lost to be saved?',\n",
       " 'Am I too lost?',\n",
       " 'My God, my tourniquet',\n",
       " 'Return to me salvation',\n",
       " 'My God, my tourniquet',\n",
       " 'Return to me salvation',\n",
       " 'Do you remember me?',\n",
       " 'Lost for so long',\n",
       " 'Will you be on the other side?',\n",
       " 'Will you forget me?',\n",
       " \"I'm dying (dying)\",\n",
       " 'Praying (praying)',\n",
       " 'Bleeding (bleeding)',\n",
       " 'And screaming',\n",
       " 'Am I too lost to be saved?',\n",
       " 'Am I too lost?',\n",
       " 'My God, my tourniquet',\n",
       " 'Return to me salvation',\n",
       " 'My God, my tourniquet',\n",
       " 'Return to me salvation',\n",
       " '(Return to me salvation)',\n",
       " '[I want to die]',\n",
       " 'My God, my tourniquet',\n",
       " 'Return to me salvation',\n",
       " 'My God, my tourniquet',\n",
       " 'Return to me salvation',\n",
       " 'My wounds cry for the grave',\n",
       " 'My soul cries for deliverance',\n",
       " 'Will I be denied?',\n",
       " 'Christ -',\n",
       " 'tourniquet -',\n",
       " 'my suicide']"
      ]
     },
     "execution_count": 23,
     "metadata": {},
     "output_type": "execute_result"
    }
   ],
   "source": [
    "list_lyrics = extract_lyric_from_url(url_lyric)[0]\n",
    "list_lyrics"
   ]
  },
  {
   "cell_type": "code",
   "execution_count": 24,
   "metadata": {
    "ExecuteTime": {
     "end_time": "2020-01-08T14:42:32.851418Z",
     "start_time": "2020-01-08T14:42:32.563189Z"
    }
   },
   "outputs": [
    {
     "data": {
      "text/plain": [
       "\"I tried to kill the pain. But only brought more (so much more). I lay dying. And I'm pouring crimson regret and betrayal. I'm dying (dying). Praying (praying). Bleeding (bleeding). And screaming. Am I too lost to be saved?. Am I too lost?. My God, my tourniquet. Return to me salvation. My God, my tourniquet. Return to me salvation. Do you remember me?. Lost for so long. Will you be on the other side?. Will you forget me?. I'm dying (dying). Praying (praying). Bleeding (bleeding). And screaming. Am I too lost to be saved?. Am I too lost?. My God, my tourniquet. Return to me salvation. My God, my tourniquet. Return to me salvation. (Return to me salvation). [I want to die]. My God, my tourniquet. Return to me salvation. My God, my tourniquet. Return to me salvation. My wounds cry for the grave. My soul cries for deliverance. Will I be denied?. Christ -. tourniquet -. my suicide\""
      ]
     },
     "execution_count": 24,
     "metadata": {},
     "output_type": "execute_result"
    }
   ],
   "source": [
    "lyrics = extract_lyric_from_url(url_lyric)[1]\n",
    "lyrics"
   ]
  },
  {
   "cell_type": "markdown",
   "metadata": {},
   "source": [
    "It seems to work just fine!\n",
    "\n",
    "Let's run for all songs and save all strings in a list so we can use to put together with the data we will put together about songs of Evanescence!"
   ]
  },
  {
   "cell_type": "code",
   "execution_count": 25,
   "metadata": {
    "ExecuteTime": {
     "end_time": "2020-01-08T14:42:32.858420Z",
     "start_time": "2020-01-08T14:42:32.853413Z"
    }
   },
   "outputs": [],
   "source": [
    "list_lyrics_evanescence = []\n",
    "list_title_lyrics_evanescence = []"
   ]
  },
  {
   "cell_type": "code",
   "execution_count": 26,
   "metadata": {
    "ExecuteTime": {
     "end_time": "2020-01-08T14:42:32.887321Z",
     "start_time": "2020-01-08T14:42:32.867377Z"
    }
   },
   "outputs": [
    {
     "data": {
      "text/plain": [
       "86"
      ]
     },
     "execution_count": 26,
     "metadata": {},
     "output_type": "execute_result"
    }
   ],
   "source": [
    "len(list_links_lyrics_songteksten_net)"
   ]
  },
  {
   "cell_type": "code",
   "execution_count": 27,
   "metadata": {
    "ExecuteTime": {
     "end_time": "2020-01-08T14:42:55.140799Z",
     "start_time": "2020-01-08T14:42:32.897295Z"
    }
   },
   "outputs": [],
   "source": [
    "# building lists with titles of lyrics and lyrics\n",
    "\n",
    "for url_lyric in list_links_lyrics_songteksten_net:\n",
    "    \n",
    "    list_title_lyrics_evanescence.append(url_lyric.split('/')[-1].split('.')[-2])\n",
    "    list_lyrics_evanescence.append(extract_lyric_from_url(url_lyric)[1])\n"
   ]
  },
  {
   "cell_type": "markdown",
   "metadata": {},
   "source": [
    "Just verifying that everything is as expected."
   ]
  },
  {
   "cell_type": "code",
   "execution_count": 28,
   "metadata": {
    "ExecuteTime": {
     "end_time": "2020-01-08T14:42:55.197647Z",
     "start_time": "2020-01-08T14:42:55.150773Z"
    }
   },
   "outputs": [
    {
     "data": {
      "text/plain": [
       "86"
      ]
     },
     "execution_count": 28,
     "metadata": {},
     "output_type": "execute_result"
    }
   ],
   "source": [
    "len(list_title_lyrics_evanescence)"
   ]
  },
  {
   "cell_type": "code",
   "execution_count": 29,
   "metadata": {
    "ExecuteTime": {
     "end_time": "2020-01-08T14:42:55.268480Z",
     "start_time": "2020-01-08T14:42:55.201637Z"
    }
   },
   "outputs": [
    {
     "data": {
      "text/plain": [
       "86"
      ]
     },
     "execution_count": 29,
     "metadata": {},
     "output_type": "execute_result"
    }
   ],
   "source": [
    "len(list_lyrics_evanescence)"
   ]
  },
  {
   "cell_type": "markdown",
   "metadata": {},
   "source": [
    "Now we create a Pandas data frame with song title and lyrics that will be saved in .csv format for later use."
   ]
  },
  {
   "cell_type": "code",
   "execution_count": 30,
   "metadata": {
    "ExecuteTime": {
     "end_time": "2020-01-08T14:42:57.764783Z",
     "start_time": "2020-01-08T14:42:55.272447Z"
    }
   },
   "outputs": [],
   "source": [
    "# Creating a dataframe with song titles and lyrics\n",
    "\n",
    "df = pd.DataFrame({'song_title': list_title_lyrics_evanescence,\n",
    "                  'lyrics': list_lyrics_evanescence})"
   ]
  },
  {
   "cell_type": "code",
   "execution_count": 31,
   "metadata": {
    "ExecuteTime": {
     "end_time": "2020-01-08T14:42:57.812656Z",
     "start_time": "2020-01-08T14:42:57.769771Z"
    },
    "scrolled": false
   },
   "outputs": [
    {
     "data": {
      "text/html": [
       "<div>\n",
       "<style scoped>\n",
       "    .dataframe tbody tr th:only-of-type {\n",
       "        vertical-align: middle;\n",
       "    }\n",
       "\n",
       "    .dataframe tbody tr th {\n",
       "        vertical-align: top;\n",
       "    }\n",
       "\n",
       "    .dataframe thead th {\n",
       "        text-align: right;\n",
       "    }\n",
       "</style>\n",
       "<table border=\"1\" class=\"dataframe\">\n",
       "  <thead>\n",
       "    <tr style=\"text-align: right;\">\n",
       "      <th></th>\n",
       "      <th>song_title</th>\n",
       "      <th>lyrics</th>\n",
       "    </tr>\n",
       "  </thead>\n",
       "  <tbody>\n",
       "    <tr>\n",
       "      <th>0</th>\n",
       "      <td>listen-to-the-rain</td>\n",
       "      <td>Listen listen. Listen listen. Listen listen. L...</td>\n",
       "    </tr>\n",
       "    <tr>\n",
       "      <th>1</th>\n",
       "      <td>zero</td>\n",
       "      <td>My reflection, dirty mirror. There's no connec...</td>\n",
       "    </tr>\n",
       "    <tr>\n",
       "      <th>2</th>\n",
       "      <td>i-must-be-dreaming</td>\n",
       "      <td>How can I pretend that I don't see. What you h...</td>\n",
       "    </tr>\n",
       "    <tr>\n",
       "      <th>3</th>\n",
       "      <td>the-end</td>\n",
       "      <td>I found a grave. Brushed off the face. Felt yo...</td>\n",
       "    </tr>\n",
       "    <tr>\n",
       "      <th>4</th>\n",
       "      <td>breathe-no-more</td>\n",
       "      <td>I've been looking in the mirror for so long.. ...</td>\n",
       "    </tr>\n",
       "  </tbody>\n",
       "</table>\n",
       "</div>"
      ],
      "text/plain": [
       "           song_title                                             lyrics\n",
       "0  listen-to-the-rain  Listen listen. Listen listen. Listen listen. L...\n",
       "1                zero  My reflection, dirty mirror. There's no connec...\n",
       "2  i-must-be-dreaming  How can I pretend that I don't see. What you h...\n",
       "3             the-end  I found a grave. Brushed off the face. Felt yo...\n",
       "4     breathe-no-more  I've been looking in the mirror for so long.. ..."
      ]
     },
     "execution_count": 31,
     "metadata": {},
     "output_type": "execute_result"
    }
   ],
   "source": [
    "df.head()"
   ]
  },
  {
   "cell_type": "markdown",
   "metadata": {},
   "source": [
    "Before saving this data frame in .csv format for future use let's remove '-' from the song title and make all titles lower case by applying '.lower()'.\n",
    "\n",
    "By keeping the format of song's title uniform we make our life easier when wanting to add more information about those songs. For instances, some metadata, like album title and year that was recorded."
   ]
  },
  {
   "cell_type": "code",
   "execution_count": 32,
   "metadata": {
    "ExecuteTime": {
     "end_time": "2020-01-08T14:42:57.835593Z",
     "start_time": "2020-01-08T14:42:57.819634Z"
    }
   },
   "outputs": [],
   "source": [
    "df['song_title'] = df['song_title'].apply(lambda x: x.replace('-',' ').lower())"
   ]
  },
  {
   "cell_type": "code",
   "execution_count": 33,
   "metadata": {
    "ExecuteTime": {
     "end_time": "2020-01-08T14:42:57.889449Z",
     "start_time": "2020-01-08T14:42:57.844568Z"
    }
   },
   "outputs": [
    {
     "data": {
      "text/html": [
       "<div>\n",
       "<style scoped>\n",
       "    .dataframe tbody tr th:only-of-type {\n",
       "        vertical-align: middle;\n",
       "    }\n",
       "\n",
       "    .dataframe tbody tr th {\n",
       "        vertical-align: top;\n",
       "    }\n",
       "\n",
       "    .dataframe thead th {\n",
       "        text-align: right;\n",
       "    }\n",
       "</style>\n",
       "<table border=\"1\" class=\"dataframe\">\n",
       "  <thead>\n",
       "    <tr style=\"text-align: right;\">\n",
       "      <th></th>\n",
       "      <th>song_title</th>\n",
       "      <th>lyrics</th>\n",
       "    </tr>\n",
       "  </thead>\n",
       "  <tbody>\n",
       "    <tr>\n",
       "      <th>0</th>\n",
       "      <td>listen to the rain</td>\n",
       "      <td>Listen listen. Listen listen. Listen listen. L...</td>\n",
       "    </tr>\n",
       "    <tr>\n",
       "      <th>1</th>\n",
       "      <td>zero</td>\n",
       "      <td>My reflection, dirty mirror. There's no connec...</td>\n",
       "    </tr>\n",
       "    <tr>\n",
       "      <th>2</th>\n",
       "      <td>i must be dreaming</td>\n",
       "      <td>How can I pretend that I don't see. What you h...</td>\n",
       "    </tr>\n",
       "    <tr>\n",
       "      <th>3</th>\n",
       "      <td>the end</td>\n",
       "      <td>I found a grave. Brushed off the face. Felt yo...</td>\n",
       "    </tr>\n",
       "    <tr>\n",
       "      <th>4</th>\n",
       "      <td>breathe no more</td>\n",
       "      <td>I've been looking in the mirror for so long.. ...</td>\n",
       "    </tr>\n",
       "  </tbody>\n",
       "</table>\n",
       "</div>"
      ],
      "text/plain": [
       "           song_title                                             lyrics\n",
       "0  listen to the rain  Listen listen. Listen listen. Listen listen. L...\n",
       "1                zero  My reflection, dirty mirror. There's no connec...\n",
       "2  i must be dreaming  How can I pretend that I don't see. What you h...\n",
       "3             the end  I found a grave. Brushed off the face. Felt yo...\n",
       "4     breathe no more  I've been looking in the mirror for so long.. ..."
      ]
     },
     "execution_count": 33,
     "metadata": {},
     "output_type": "execute_result"
    }
   ],
   "source": [
    "df.head()"
   ]
  },
  {
   "cell_type": "markdown",
   "metadata": {},
   "source": [
    "Checking if there are duplicated `song_title`."
   ]
  },
  {
   "cell_type": "code",
   "execution_count": 34,
   "metadata": {},
   "outputs": [
    {
     "name": "stdout",
     "output_type": "stream",
     "text": [
      "Empty DataFrame\n",
      "Columns: [song_title, lyrics]\n",
      "Index: []\n"
     ]
    }
   ],
   "source": [
    "# Find a duplicate rows\n",
    "duplicateDFRow = df[df.duplicated()]\n",
    "print(duplicateDFRow)"
   ]
  },
  {
   "cell_type": "code",
   "execution_count": 35,
   "metadata": {},
   "outputs": [
    {
     "data": {
      "text/html": [
       "<div>\n",
       "<style scoped>\n",
       "    .dataframe tbody tr th:only-of-type {\n",
       "        vertical-align: middle;\n",
       "    }\n",
       "\n",
       "    .dataframe tbody tr th {\n",
       "        vertical-align: top;\n",
       "    }\n",
       "\n",
       "    .dataframe thead th {\n",
       "        text-align: right;\n",
       "    }\n",
       "</style>\n",
       "<table border=\"1\" class=\"dataframe\">\n",
       "  <thead>\n",
       "    <tr style=\"text-align: right;\">\n",
       "      <th></th>\n",
       "      <th>song_title</th>\n",
       "      <th>lyrics</th>\n",
       "    </tr>\n",
       "  </thead>\n",
       "  <tbody>\n",
       "    <tr>\n",
       "      <th>0</th>\n",
       "      <td>4th of july</td>\n",
       "      <td>Shower in the dark day. Clean sparks driving d...</td>\n",
       "    </tr>\n",
       "    <tr>\n",
       "      <th>1</th>\n",
       "      <td>all that im living for</td>\n",
       "      <td>All that I'm living for. All that I'm dying fo...</td>\n",
       "    </tr>\n",
       "    <tr>\n",
       "      <th>2</th>\n",
       "      <td>angel of mine</td>\n",
       "      <td>You are everything I need to see. Smile and su...</td>\n",
       "    </tr>\n",
       "    <tr>\n",
       "      <th>3</th>\n",
       "      <td>anything for you</td>\n",
       "      <td>I'd give anything to give me to you. Can you f...</td>\n",
       "    </tr>\n",
       "    <tr>\n",
       "      <th>4</th>\n",
       "      <td>anywhere</td>\n",
       "      <td>Dear my love, haven't you wanted to be with me...</td>\n",
       "    </tr>\n",
       "  </tbody>\n",
       "</table>\n",
       "</div>"
      ],
      "text/plain": [
       "               song_title                                             lyrics\n",
       "0             4th of july  Shower in the dark day. Clean sparks driving d...\n",
       "1  all that im living for  All that I'm living for. All that I'm dying fo...\n",
       "2           angel of mine  You are everything I need to see. Smile and su...\n",
       "3        anything for you  I'd give anything to give me to you. Can you f...\n",
       "4                anywhere  Dear my love, haven't you wanted to be with me..."
      ]
     },
     "execution_count": 35,
     "metadata": {},
     "output_type": "execute_result"
    }
   ],
   "source": [
    "# Organize dataframe in alphabetical order\n",
    "df.sort_values('song_title', inplace = True)\n",
    "df.reset_index(drop = True, inplace = True)\n",
    "df.head()"
   ]
  },
  {
   "cell_type": "code",
   "execution_count": 36,
   "metadata": {
    "ExecuteTime": {
     "end_time": "2020-01-08T14:42:57.931336Z",
     "start_time": "2020-01-08T14:42:57.901416Z"
    }
   },
   "outputs": [],
   "source": [
    "# saving dataframe to .csv\n",
    "\n",
    "df.to_csv(\"./data/lyrics_evanescence_\"+TodaysDate+\".csv\", index = False)"
   ]
  },
  {
   "cell_type": "code",
   "execution_count": 37,
   "metadata": {
    "ExecuteTime": {
     "end_time": "2020-01-08T14:42:58.055007Z",
     "start_time": "2020-01-08T14:42:57.937323Z"
    }
   },
   "outputs": [
    {
     "data": {
      "text/html": [
       "<div>\n",
       "<style scoped>\n",
       "    .dataframe tbody tr th:only-of-type {\n",
       "        vertical-align: middle;\n",
       "    }\n",
       "\n",
       "    .dataframe tbody tr th {\n",
       "        vertical-align: top;\n",
       "    }\n",
       "\n",
       "    .dataframe thead th {\n",
       "        text-align: right;\n",
       "    }\n",
       "</style>\n",
       "<table border=\"1\" class=\"dataframe\">\n",
       "  <thead>\n",
       "    <tr style=\"text-align: right;\">\n",
       "      <th></th>\n",
       "      <th>song_title</th>\n",
       "      <th>lyrics</th>\n",
       "    </tr>\n",
       "  </thead>\n",
       "  <tbody>\n",
       "    <tr>\n",
       "      <th>0</th>\n",
       "      <td>4th of july</td>\n",
       "      <td>Shower in the dark day. Clean sparks driving d...</td>\n",
       "    </tr>\n",
       "    <tr>\n",
       "      <th>1</th>\n",
       "      <td>all that im living for</td>\n",
       "      <td>All that I'm living for. All that I'm dying fo...</td>\n",
       "    </tr>\n",
       "    <tr>\n",
       "      <th>2</th>\n",
       "      <td>angel of mine</td>\n",
       "      <td>You are everything I need to see. Smile and su...</td>\n",
       "    </tr>\n",
       "    <tr>\n",
       "      <th>3</th>\n",
       "      <td>anything for you</td>\n",
       "      <td>I'd give anything to give me to you. Can you f...</td>\n",
       "    </tr>\n",
       "    <tr>\n",
       "      <th>4</th>\n",
       "      <td>anywhere</td>\n",
       "      <td>Dear my love, haven't you wanted to be with me...</td>\n",
       "    </tr>\n",
       "  </tbody>\n",
       "</table>\n",
       "</div>"
      ],
      "text/plain": [
       "               song_title                                             lyrics\n",
       "0             4th of july  Shower in the dark day. Clean sparks driving d...\n",
       "1  all that im living for  All that I'm living for. All that I'm dying fo...\n",
       "2           angel of mine  You are everything I need to see. Smile and su...\n",
       "3        anything for you  I'd give anything to give me to you. Can you f...\n",
       "4                anywhere  Dear my love, haven't you wanted to be with me..."
      ]
     },
     "execution_count": 37,
     "metadata": {},
     "output_type": "execute_result"
    }
   ],
   "source": [
    "# testing saved .csv\n",
    "\n",
    "df2 = pd.read_csv(\"./data/lyrics_evanescence_\"+TodaysDate+\".csv\")\n",
    "\n",
    "df2.head()"
   ]
  },
  {
   "cell_type": "code",
   "execution_count": 38,
   "metadata": {
    "ExecuteTime": {
     "end_time": "2020-01-08T14:42:58.090909Z",
     "start_time": "2020-01-08T14:42:58.072957Z"
    }
   },
   "outputs": [
    {
     "data": {
      "text/plain": [
       "(86, 2)"
      ]
     },
     "execution_count": 38,
     "metadata": {},
     "output_type": "execute_result"
    }
   ],
   "source": [
    "df2.shape"
   ]
  },
  {
   "cell_type": "code",
   "execution_count": 39,
   "metadata": {
    "ExecuteTime": {
     "end_time": "2020-01-08T14:42:58.112851Z",
     "start_time": "2020-01-08T14:42:58.098887Z"
    }
   },
   "outputs": [],
   "source": [
    "del df2"
   ]
  },
  {
   "cell_type": "markdown",
   "metadata": {},
   "source": [
    "# **Applying the same to Within Temptation**\n",
    "\n",
    "Previously, we have tried 4 different lyrics' websites to retrieve Evanescence's lyrics and we have chosen songteksten.net to extract those lyrics. \n",
    "\n",
    "Some reasons why I chose `songteksten.net`:\n",
    "\n",
    "1. When filtering we used `songteksten.net/lyric/number_of_the_artist` and this can be extracted from the url which make easy for us to generalize the code for both or even other bands.\n",
    "\n",
    "2. Title of the songs are of the form words separated by '-' which can be easily put in a form to facilitate merging with additional data as we've already planned.\n",
    "\n",
    "Summarizing, the steps to retrieve lyrics are:\n",
    "\n",
    "1. Apply function to retrieve hyperlinks\n",
    "2. Filter out hyperlinks that do not contain lyrics\n",
    "3. Apply function to retrieve hyperlinks (Step 1) to extract lyrics.\n",
    "\n",
    "And those will be now also applied to retrieve lyrics of Within Temptation.\n"
   ]
  },
  {
   "cell_type": "markdown",
   "metadata": {},
   "source": [
    "## STEP 1 - Retrieving hyperlinks from songteksten.net"
   ]
  },
  {
   "cell_type": "code",
   "execution_count": 40,
   "metadata": {
    "ExecuteTime": {
     "end_time": "2020-01-08T14:42:58.976542Z",
     "start_time": "2020-01-08T14:42:58.119832Z"
    }
   },
   "outputs": [
    {
     "name": "stdout",
     "output_type": "stream",
     "text": [
      "Number of links before filtering: 231\n"
     ]
    }
   ],
   "source": [
    "# retrieving all hyperlinks\n",
    "urls = ['https://songteksten.net/artist/lyrics/320/within-temptation.html',\n",
    "       'https://songteksten.net/artist/lyrics/320/within-temptation/page/2.html',\n",
    "       'https://songteksten.net/artist/lyrics/320/within-temptation/page/3.html']\n",
    "\n",
    "list_links_lyrics_songteksten_net = []\n",
    "\n",
    "for url in urls:\n",
    "    list_links_lyrics_songteksten_net.extend(retrieve_hyperlinks(url))\n",
    "    \n",
    "# removing possible duplicates\n",
    "list_links_lyrics_songteksten_net = list(set(list_links_lyrics_songteksten_net))\n",
    "\n",
    "    \n",
    "print('Number of links before filtering:', len(list_links_lyrics_songteksten_net))"
   ]
  },
  {
   "cell_type": "code",
   "execution_count": 41,
   "metadata": {
    "ExecuteTime": {
     "end_time": "2020-01-08T14:42:59.006461Z",
     "start_time": "2020-01-08T14:42:58.985516Z"
    }
   },
   "outputs": [
    {
     "data": {
      "text/plain": [
       "['https://songteksten.net/lyric/3648/96617/john-legend/all-of-me.html',\n",
       " 'https://songteksten.net/lyric/320/11149/within-temptation/our-farewell.html',\n",
       " 'https://songteksten.net/lyric/320/75323/within-temptation/sounds-of-freedom.html',\n",
       " 'https://songteksten.net/news/106417/anouk-gaat-in-zelfquarantaine-om-lockdownversoepeling.html',\n",
       " 'https://songteksten.net/artists/o.html',\n",
       " 'https://songteksten.net/news/106410/bners-demonstreren-online-voor-culturele-sector.html',\n",
       " 'https://songteksten.net/albums/album/447/2312/george-michael/older.html',\n",
       " 'https://songteksten.net/lyric/320/11878/within-temptation/the-gatekeeper.html',\n",
       " 'https://songteksten.net/lyric/320/73688/within-temptation/gothic-christmas.html',\n",
       " 'https://forum.songteksten.net/index.php?topic=3564.msg86895;topicseen#new']"
      ]
     },
     "execution_count": 41,
     "metadata": {},
     "output_type": "execute_result"
    }
   ],
   "source": [
    "list_links_lyrics_songteksten_net[:10]"
   ]
  },
  {
   "cell_type": "markdown",
   "metadata": {},
   "source": [
    "## STEP 2 - Keeping only hyperlinks of lyrics"
   ]
  },
  {
   "cell_type": "code",
   "execution_count": 42,
   "metadata": {
    "ExecuteTime": {
     "end_time": "2020-01-08T14:42:59.043363Z",
     "start_time": "2020-01-08T14:42:59.012444Z"
    }
   },
   "outputs": [
    {
     "name": "stdout",
     "output_type": "stream",
     "text": [
      "Number of links after filtering: 74\n"
     ]
    }
   ],
   "source": [
    "# filtering hyperlinks which contain lyrics - specific for songteksten.net\n",
    "\n",
    "# using url address to filter lyrics\n",
    "\n",
    "spliting = urls[0].split('/')\n",
    "filter_lyrics = spliting[2]+'/lyric/'+spliting[-2]\n",
    "\n",
    "list_links_lyrics_songteksten_net = [link for link in list_links_lyrics_songteksten_net if (filter_lyrics \n",
    "                                                                              in link) ]\n",
    "\n",
    "print('Number of links after filtering:', len(list_links_lyrics_songteksten_net))"
   ]
  },
  {
   "cell_type": "markdown",
   "metadata": {},
   "source": [
    "Before filtering there were 231, after filtering 74 hyperlinks are indeed from Within Temptation's lyrics."
   ]
  },
  {
   "cell_type": "markdown",
   "metadata": {},
   "source": [
    "## STEP 3 - Extracting song titles and lyrics from lyric's hyperlink"
   ]
  },
  {
   "cell_type": "code",
   "execution_count": 43,
   "metadata": {
    "ExecuteTime": {
     "end_time": "2020-01-08T14:42:59.076276Z",
     "start_time": "2020-01-08T14:42:59.049346Z"
    }
   },
   "outputs": [
    {
     "name": "stdout",
     "output_type": "stream",
     "text": [
      "https://songteksten.net/lyric/320/75323/within-temptation/sounds-of-freedom.html\n"
     ]
    }
   ],
   "source": [
    "url_lyric = list_links_lyrics_songteksten_net[1]\n",
    "\n",
    "print(url_lyric)"
   ]
  },
  {
   "cell_type": "code",
   "execution_count": 44,
   "metadata": {
    "ExecuteTime": {
     "end_time": "2020-01-08T14:42:59.415367Z",
     "start_time": "2020-01-08T14:42:59.086247Z"
    }
   },
   "outputs": [
    {
     "data": {
      "text/plain": [
       "['Your call is coming',\n",
       " \"I'm dreaming away\",\n",
       " 'For what lies hidden',\n",
       " 'It needs to be found',\n",
       " 'Sounds of freedom make me wanna try',\n",
       " 'When the ghosts are found',\n",
       " 'They will lead us to tomorrow',\n",
       " 'Sounds of freedom make me wanna try',\n",
       " 'Voices forgotten',\n",
       " 'I hear them close by',\n",
       " 'Ghosts from the past i can see through their eyes',\n",
       " 'Are these the ancestors leaving me signs?',\n",
       " 'Sounds of freedom make me wanna try',\n",
       " 'When the ghosts are found',\n",
       " 'They will lead us to tomorrow',\n",
       " 'Sounds of freedom make me wanna try',\n",
       " 'The sounds, they are all around',\n",
       " 'Forces start moving out',\n",
       " \"Taking sides, though there's so much\",\n",
       " 'That i need to know',\n",
       " 'And soon it will be shown',\n",
       " 'Sounds of freedom make me wanna try',\n",
       " 'When the ghosts are found',\n",
       " 'They will lead us to tomorrow',\n",
       " 'Sounds of freedom make me wanna try',\n",
       " 'When the ghosts are found,',\n",
       " 'They will lead us to tomorrow',\n",
       " 'When the ghosts are found,',\n",
       " 'They will lead us to tomorrow',\n",
       " 'If we could restart how it was before tomorrow']"
      ]
     },
     "execution_count": 44,
     "metadata": {},
     "output_type": "execute_result"
    }
   ],
   "source": [
    "# lyrics in form of list\n",
    "list_lyrics = extract_lyric_from_url(url_lyric)[0]\n",
    "list_lyrics"
   ]
  },
  {
   "cell_type": "code",
   "execution_count": 45,
   "metadata": {
    "ExecuteTime": {
     "end_time": "2020-01-08T14:42:59.756457Z",
     "start_time": "2020-01-08T14:42:59.426348Z"
    }
   },
   "outputs": [
    {
     "data": {
      "text/plain": [
       "\"Your call is coming. I'm dreaming away. For what lies hidden. It needs to be found. Sounds of freedom make me wanna try. When the ghosts are found. They will lead us to tomorrow. Sounds of freedom make me wanna try. Voices forgotten. I hear them close by. Ghosts from the past i can see through their eyes. Are these the ancestors leaving me signs?. Sounds of freedom make me wanna try. When the ghosts are found. They will lead us to tomorrow. Sounds of freedom make me wanna try. The sounds, they are all around. Forces start moving out. Taking sides, though there's so much. That i need to know. And soon it will be shown. Sounds of freedom make me wanna try. When the ghosts are found. They will lead us to tomorrow. Sounds of freedom make me wanna try. When the ghosts are found,. They will lead us to tomorrow. When the ghosts are found,. They will lead us to tomorrow. If we could restart how it was before tomorrow\""
      ]
     },
     "execution_count": 45,
     "metadata": {},
     "output_type": "execute_result"
    }
   ],
   "source": [
    "# lyrics in form of string\n",
    "\n",
    "lyrics = extract_lyric_from_url(url_lyric)[1]\n",
    "lyrics"
   ]
  },
  {
   "cell_type": "markdown",
   "metadata": {},
   "source": [
    "## Saving song's titles and lyrics in a .csv file\n",
    "\n",
    "Just like before we save the result in a .csv to be used in our further analysis."
   ]
  },
  {
   "cell_type": "code",
   "execution_count": 46,
   "metadata": {
    "ExecuteTime": {
     "end_time": "2020-01-08T14:43:19.372607Z",
     "start_time": "2020-01-08T14:42:59.770418Z"
    }
   },
   "outputs": [],
   "source": [
    "# building lists with titles of lyrics and lyrics\n",
    "list_title_lyrics_within_temptation = []\n",
    "list_lyrics_within_temptation = []\n",
    "\n",
    "for url_lyric in list_links_lyrics_songteksten_net:\n",
    "    \n",
    "    list_title_lyrics_within_temptation.append(url_lyric.split('/')[-1].split('.')[-2])\n",
    "    list_lyrics_within_temptation.append(extract_lyric_from_url(url_lyric)[1])\n"
   ]
  },
  {
   "cell_type": "code",
   "execution_count": 47,
   "metadata": {
    "ExecuteTime": {
     "end_time": "2020-01-08T14:43:19.386400Z",
     "start_time": "2020-01-08T14:43:19.374457Z"
    }
   },
   "outputs": [
    {
     "data": {
      "text/plain": [
       "74"
      ]
     },
     "execution_count": 47,
     "metadata": {},
     "output_type": "execute_result"
    }
   ],
   "source": [
    "len(list_title_lyrics_within_temptation)"
   ]
  },
  {
   "cell_type": "code",
   "execution_count": 48,
   "metadata": {
    "ExecuteTime": {
     "end_time": "2020-01-08T14:43:19.420313Z",
     "start_time": "2020-01-08T14:43:19.389390Z"
    }
   },
   "outputs": [
    {
     "data": {
      "text/plain": [
       "74"
      ]
     },
     "execution_count": 48,
     "metadata": {},
     "output_type": "execute_result"
    }
   ],
   "source": [
    "len(list_lyrics_within_temptation)"
   ]
  },
  {
   "cell_type": "code",
   "execution_count": 49,
   "metadata": {
    "ExecuteTime": {
     "end_time": "2020-01-08T14:43:19.440254Z",
     "start_time": "2020-01-08T14:43:19.422302Z"
    }
   },
   "outputs": [],
   "source": [
    "df = pd.DataFrame({'song_title': list_title_lyrics_within_temptation,\n",
    "                  'lyrics': list_lyrics_within_temptation})"
   ]
  },
  {
   "cell_type": "code",
   "execution_count": 50,
   "metadata": {
    "ExecuteTime": {
     "end_time": "2020-01-08T14:43:19.457209Z",
     "start_time": "2020-01-08T14:43:19.445240Z"
    }
   },
   "outputs": [],
   "source": [
    "# Here we also remove '-' from the title of the songs\n",
    "\n",
    "df['song_title'] = df['song_title'].apply(lambda x: x.replace('-',' ').lower())"
   ]
  },
  {
   "cell_type": "code",
   "execution_count": 51,
   "metadata": {
    "ExecuteTime": {
     "end_time": "2020-01-08T14:43:19.503085Z",
     "start_time": "2020-01-08T14:43:19.462195Z"
    }
   },
   "outputs": [
    {
     "data": {
      "text/html": [
       "<div>\n",
       "<style scoped>\n",
       "    .dataframe tbody tr th:only-of-type {\n",
       "        vertical-align: middle;\n",
       "    }\n",
       "\n",
       "    .dataframe tbody tr th {\n",
       "        vertical-align: top;\n",
       "    }\n",
       "\n",
       "    .dataframe thead th {\n",
       "        text-align: right;\n",
       "    }\n",
       "</style>\n",
       "<table border=\"1\" class=\"dataframe\">\n",
       "  <thead>\n",
       "    <tr style=\"text-align: right;\">\n",
       "      <th></th>\n",
       "      <th>song_title</th>\n",
       "      <th>lyrics</th>\n",
       "    </tr>\n",
       "  </thead>\n",
       "  <tbody>\n",
       "    <tr>\n",
       "      <th>0</th>\n",
       "      <td>our farewell</td>\n",
       "      <td>In my hands. A legacy of memories. I can hear ...</td>\n",
       "    </tr>\n",
       "    <tr>\n",
       "      <th>1</th>\n",
       "      <td>sounds of freedom</td>\n",
       "      <td>Your call is coming. I'm dreaming away. For wh...</td>\n",
       "    </tr>\n",
       "    <tr>\n",
       "      <th>2</th>\n",
       "      <td>the gatekeeper</td>\n",
       "      <td>The shadows of the night,. are unleashed again...</td>\n",
       "    </tr>\n",
       "    <tr>\n",
       "      <th>3</th>\n",
       "      <td>gothic christmas</td>\n",
       "      <td>We're gonna have a gothic christmas. That is w...</td>\n",
       "    </tr>\n",
       "    <tr>\n",
       "      <th>4</th>\n",
       "      <td>enter</td>\n",
       "      <td>Welcome to my home. The gates of time have ope...</td>\n",
       "    </tr>\n",
       "  </tbody>\n",
       "</table>\n",
       "</div>"
      ],
      "text/plain": [
       "          song_title                                             lyrics\n",
       "0       our farewell  In my hands. A legacy of memories. I can hear ...\n",
       "1  sounds of freedom  Your call is coming. I'm dreaming away. For wh...\n",
       "2     the gatekeeper  The shadows of the night,. are unleashed again...\n",
       "3   gothic christmas  We're gonna have a gothic christmas. That is w...\n",
       "4              enter  Welcome to my home. The gates of time have ope..."
      ]
     },
     "execution_count": 51,
     "metadata": {},
     "output_type": "execute_result"
    }
   ],
   "source": [
    "df.head()"
   ]
  },
  {
   "cell_type": "code",
   "execution_count": 52,
   "metadata": {},
   "outputs": [
    {
     "name": "stdout",
     "output_type": "stream",
     "text": [
      "Empty DataFrame\n",
      "Columns: [song_title, lyrics]\n",
      "Index: []\n"
     ]
    }
   ],
   "source": [
    "# Find a duplicate rows\n",
    "duplicateDFRow = df[df.duplicated()]\n",
    "print(duplicateDFRow)"
   ]
  },
  {
   "cell_type": "code",
   "execution_count": 53,
   "metadata": {},
   "outputs": [
    {
     "data": {
      "text/html": [
       "<div>\n",
       "<style scoped>\n",
       "    .dataframe tbody tr th:only-of-type {\n",
       "        vertical-align: middle;\n",
       "    }\n",
       "\n",
       "    .dataframe tbody tr th {\n",
       "        vertical-align: top;\n",
       "    }\n",
       "\n",
       "    .dataframe thead th {\n",
       "        text-align: right;\n",
       "    }\n",
       "</style>\n",
       "<table border=\"1\" class=\"dataframe\">\n",
       "  <thead>\n",
       "    <tr style=\"text-align: right;\">\n",
       "      <th></th>\n",
       "      <th>song_title</th>\n",
       "      <th>lyrics</th>\n",
       "    </tr>\n",
       "  </thead>\n",
       "  <tbody>\n",
       "    <tr>\n",
       "      <th>0</th>\n",
       "      <td>a dangerous mind</td>\n",
       "      <td>Cause something is not right. I follow the sig...</td>\n",
       "    </tr>\n",
       "    <tr>\n",
       "      <th>1</th>\n",
       "      <td>a demons fate</td>\n",
       "      <td>Ooh, ooh, ooh, ooh, ooh. Ooh, ooh, ooh, ooh, o...</td>\n",
       "    </tr>\n",
       "    <tr>\n",
       "      <th>2</th>\n",
       "      <td>all i need</td>\n",
       "      <td>I'm dying to catch my breath. Oh why don't I e...</td>\n",
       "    </tr>\n",
       "    <tr>\n",
       "      <th>3</th>\n",
       "      <td>angels</td>\n",
       "      <td>Sparkling angel I believed. You were my saviou...</td>\n",
       "    </tr>\n",
       "    <tr>\n",
       "      <th>4</th>\n",
       "      <td>another day</td>\n",
       "      <td>I know you are going away. I take my love into...</td>\n",
       "    </tr>\n",
       "  </tbody>\n",
       "</table>\n",
       "</div>"
      ],
      "text/plain": [
       "         song_title                                             lyrics\n",
       "0  a dangerous mind  Cause something is not right. I follow the sig...\n",
       "1     a demons fate  Ooh, ooh, ooh, ooh, ooh. Ooh, ooh, ooh, ooh, o...\n",
       "2        all i need  I'm dying to catch my breath. Oh why don't I e...\n",
       "3            angels  Sparkling angel I believed. You were my saviou...\n",
       "4       another day  I know you are going away. I take my love into..."
      ]
     },
     "execution_count": 53,
     "metadata": {},
     "output_type": "execute_result"
    }
   ],
   "source": [
    "# Organize dataframe in alphabetical order\n",
    "df.sort_values('song_title', inplace = True)\n",
    "df.reset_index(drop = True, inplace = True)\n",
    "df.head()"
   ]
  },
  {
   "cell_type": "code",
   "execution_count": 54,
   "metadata": {
    "ExecuteTime": {
     "end_time": "2020-01-08T14:43:19.532009Z",
     "start_time": "2020-01-08T14:43:19.506078Z"
    }
   },
   "outputs": [],
   "source": [
    "# saving dataframe to .csv\n",
    "\n",
    "df.to_csv(\"./data/lyrics_within_temptation_\"+TodaysDate+\".csv\", index = False)"
   ]
  },
  {
   "cell_type": "code",
   "execution_count": 55,
   "metadata": {
    "ExecuteTime": {
     "end_time": "2020-01-08T14:43:19.570904Z",
     "start_time": "2020-01-08T14:43:19.535997Z"
    }
   },
   "outputs": [],
   "source": [
    "df2 = pd.read_csv(\"./data/lyrics_within_temptation_\"+TodaysDate+\".csv\")"
   ]
  },
  {
   "cell_type": "code",
   "execution_count": 56,
   "metadata": {
    "ExecuteTime": {
     "end_time": "2020-01-08T14:43:19.607806Z",
     "start_time": "2020-01-08T14:43:19.572899Z"
    }
   },
   "outputs": [
    {
     "data": {
      "text/html": [
       "<div>\n",
       "<style scoped>\n",
       "    .dataframe tbody tr th:only-of-type {\n",
       "        vertical-align: middle;\n",
       "    }\n",
       "\n",
       "    .dataframe tbody tr th {\n",
       "        vertical-align: top;\n",
       "    }\n",
       "\n",
       "    .dataframe thead th {\n",
       "        text-align: right;\n",
       "    }\n",
       "</style>\n",
       "<table border=\"1\" class=\"dataframe\">\n",
       "  <thead>\n",
       "    <tr style=\"text-align: right;\">\n",
       "      <th></th>\n",
       "      <th>song_title</th>\n",
       "      <th>lyrics</th>\n",
       "    </tr>\n",
       "  </thead>\n",
       "  <tbody>\n",
       "    <tr>\n",
       "      <th>0</th>\n",
       "      <td>a dangerous mind</td>\n",
       "      <td>Cause something is not right. I follow the sig...</td>\n",
       "    </tr>\n",
       "    <tr>\n",
       "      <th>1</th>\n",
       "      <td>a demons fate</td>\n",
       "      <td>Ooh, ooh, ooh, ooh, ooh. Ooh, ooh, ooh, ooh, o...</td>\n",
       "    </tr>\n",
       "    <tr>\n",
       "      <th>2</th>\n",
       "      <td>all i need</td>\n",
       "      <td>I'm dying to catch my breath. Oh why don't I e...</td>\n",
       "    </tr>\n",
       "    <tr>\n",
       "      <th>3</th>\n",
       "      <td>angels</td>\n",
       "      <td>Sparkling angel I believed. You were my saviou...</td>\n",
       "    </tr>\n",
       "    <tr>\n",
       "      <th>4</th>\n",
       "      <td>another day</td>\n",
       "      <td>I know you are going away. I take my love into...</td>\n",
       "    </tr>\n",
       "  </tbody>\n",
       "</table>\n",
       "</div>"
      ],
      "text/plain": [
       "         song_title                                             lyrics\n",
       "0  a dangerous mind  Cause something is not right. I follow the sig...\n",
       "1     a demons fate  Ooh, ooh, ooh, ooh, ooh. Ooh, ooh, ooh, ooh, o...\n",
       "2        all i need  I'm dying to catch my breath. Oh why don't I e...\n",
       "3            angels  Sparkling angel I believed. You were my saviou...\n",
       "4       another day  I know you are going away. I take my love into..."
      ]
     },
     "execution_count": 56,
     "metadata": {},
     "output_type": "execute_result"
    }
   ],
   "source": [
    "df2.head()"
   ]
  },
  {
   "cell_type": "code",
   "execution_count": 57,
   "metadata": {
    "ExecuteTime": {
     "end_time": "2020-01-08T14:43:19.640718Z",
     "start_time": "2020-01-08T14:43:19.614791Z"
    },
    "scrolled": true
   },
   "outputs": [
    {
     "data": {
      "text/plain": [
       "(74, 2)"
      ]
     },
     "execution_count": 57,
     "metadata": {},
     "output_type": "execute_result"
    }
   ],
   "source": [
    "df2.shape"
   ]
  },
  {
   "cell_type": "code",
   "execution_count": 58,
   "metadata": {
    "ExecuteTime": {
     "end_time": "2020-01-08T14:43:19.654680Z",
     "start_time": "2020-01-08T14:43:19.647700Z"
    }
   },
   "outputs": [],
   "source": [
    "del df2"
   ]
  },
  {
   "cell_type": "markdown",
   "metadata": {},
   "source": [
    "# **Conclusions**\n",
    "\n",
    "In this notebook we have built a Python web scraper using `BeatifulSoup` and `requests`. A script is also available in [GitHub](https://github.com/dpbac/evanescence_and_within_temptation_in_Python/blob/master/webscraping_lyrics.py).\n",
    "\n",
    "After trying different websites we choose [songteksten.net](https://songteksten.net/) to retrieve lyrics from [Evanescence](https://songteksten.net/artist/lyrics/1938/evanescence.html) and [Within Temptation](https://songteksten.net/artist/lyrics/320/within-temptation.html). Dataframes with retrieved lyrics and their titles were built and saved in the form of .csv files for later analysis.\n",
    "\n",
    "`Webscraping` is a nice and very useful way to obtain data. One disadvantage is the possibility of having the structure of the webpage changed forcing major updates in the code. In this sense, retrieving data by using API is a more stable way, however not always possible.\n",
    "\n",
    "In future, I plan to use also [Genius API](https://docs.genius.com/) to retrieve lyrics."
   ]
  }
 ],
 "metadata": {
  "hide_input": false,
  "kernelspec": {
   "display_name": "Python 3",
   "language": "python",
   "name": "python3"
  },
  "language_info": {
   "codemirror_mode": {
    "name": "ipython",
    "version": 3
   },
   "file_extension": ".py",
   "mimetype": "text/x-python",
   "name": "python",
   "nbconvert_exporter": "python",
   "pygments_lexer": "ipython3",
   "version": "3.6.7"
  },
  "toc": {
   "base_numbering": 1,
   "nav_menu": {},
   "number_sections": true,
   "sideBar": true,
   "skip_h1_title": false,
   "title_cell": "Table of Contents",
   "title_sidebar": "Contents",
   "toc_cell": true,
   "toc_position": {
    "height": "calc(100% - 180px)",
    "left": "10px",
    "top": "150px",
    "width": "256px"
   },
   "toc_section_display": true,
   "toc_window_display": true
  },
  "varInspector": {
   "cols": {
    "lenName": 16,
    "lenType": 16,
    "lenVar": 40
   },
   "kernels_config": {
    "python": {
     "delete_cmd_postfix": "",
     "delete_cmd_prefix": "del ",
     "library": "var_list.py",
     "varRefreshCmd": "print(var_dic_list())"
    },
    "r": {
     "delete_cmd_postfix": ") ",
     "delete_cmd_prefix": "rm(",
     "library": "var_list.r",
     "varRefreshCmd": "cat(var_dic_list()) "
    }
   },
   "types_to_exclude": [
    "module",
    "function",
    "builtin_function_or_method",
    "instance",
    "_Feature"
   ],
   "window_display": false
  }
 },
 "nbformat": 4,
 "nbformat_minor": 2
}
