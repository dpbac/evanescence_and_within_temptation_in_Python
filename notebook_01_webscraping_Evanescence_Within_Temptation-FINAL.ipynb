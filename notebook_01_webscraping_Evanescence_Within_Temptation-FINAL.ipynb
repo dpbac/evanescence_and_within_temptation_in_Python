{
 "cells": [
  {
   "cell_type": "markdown",
   "metadata": {},
   "source": [
    "In this first notebook I'll apply web scraping to obtain lyrics of Evanescence and Within Temptation from the web. \n",
    "\n",
    "First, I've checked the web around for some lyrics' sites with lyrics of both bands. My goal them is to use the same code to extract lyrics for both bands.\n",
    "\n",
    "Some of the websites I've explored were \n",
    "\n",
    "- http://www.metrolyrics.com\n",
    "- https://www.azlyrics.com/\n",
    "- https://www.songteksten.nl/\n",
    "- https://www.songteksten.net/\n",
    "\n",
    "To extract hyperlinks I've used the packages: \n",
    "\n",
    "* [requests](https://pypi.org/project/requests/) \n",
    "* [BeautifulSoup](https://www.crummy.com/software/BeautifulSoup/bs4/doc/). \n",
    "\n",
    "You will notice that some simple [Python string methods](https://www.w3schools.com/python/python_strings.asp) were used with the task of retrieving lyrics. So let's start webscraping."
   ]
  },
  {
   "cell_type": "markdown",
   "metadata": {},
   "source": [
    "# **Webscraping**"
   ]
  },
  {
   "cell_type": "markdown",
   "metadata": {},
   "source": [
    "The first step is to extract addresses of links of each lyric of the band. The webpages chosen usually present title of lyrics where each title is a hyperlink to a lyric. Like this, once we have all hyperlinks, we will be able to extract each one of the lyrics using those links.\n",
    "\n",
    "The following function retrieves all hyperlinks within the main page. However, each website considered has its own particularities which must be considered when filtering out hyperlinks of the lyrics.\n"
   ]
  },
  {
   "cell_type": "code",
   "execution_count": 1,
   "metadata": {
    "ExecuteTime": {
     "end_time": "2020-01-08T14:42:28.584835Z",
     "start_time": "2020-01-08T14:42:28.031311Z"
    }
   },
   "outputs": [],
   "source": [
    "# importing packages\n",
    "\n",
    "import requests\n",
    "from bs4 import BeautifulSoup\n",
    "\n",
    "\n",
    "def retrieve_hyperlinks(main_url):\n",
    "    \"\"\" Extract all hyperlinks in 'main_url' and return a list with these hyperlinks \"\"\"\n",
    "    \n",
    "    # Packages the request, send the request and catch the response: r\n",
    "\n",
    "    r = requests.get(main_url)\n",
    "\n",
    "    # Extracts the response as html: html_doc\n",
    "    html_doc = r.text\n",
    "\n",
    "    # Create a BeautifulSoup object from the HTML: soup\n",
    "    soup = BeautifulSoup(html_doc)\n",
    "    \n",
    "    # Find all 'a' tags (which define hyperlinks): a_tags\n",
    "\n",
    "    a_tags = soup.find_all('a')\n",
    "    \n",
    "    # Create a list with hyperlinks found\n",
    "\n",
    "    list_links = [link.get('href') for link in a_tags]\n",
    "    \n",
    "    # Remove none values if there is some\n",
    "    \n",
    "    list_links = list(filter(None, list_links)) \n",
    "    \n",
    "    return list_links"
   ]
  },
  {
   "cell_type": "markdown",
   "metadata": {},
   "source": [
    "## Retrieving hyperlinks of lyrics\n",
    "\n",
    "Once we obtain all hyperlinks, we need to select those that contains lyrics. For now, we are investigating different lyrics' websites and each one presents a slightly different structure that must be considered when filtering out hyperlinks. \n",
    "\n",
    "By working with different websites, we can choose the one that we consider the most appropriated for extracting the lyrics.\n",
    "\n",
    "Notice that initially we will be only considering evanescence lyrics. However, as said, we have already checked that all websites considered also contain lyrics from Within Temptation. Therefore, once we have our solution, it will be applicable for both bands."
   ]
  },
  {
   "cell_type": "markdown",
   "metadata": {},
   "source": [
    "### Retrieving from [metrolyrics](https://www.metrolyrics.com/)\n",
    "\n",
    "To retrieve lyrics of Evanescence from the `metrolyrics` first, we apply the above function using `main_url` = 'http://www.metrolyrics.com/evanescence-lyrics.html'.\n",
    "\n",
    "Then, as expected, we notice that not all hyperlinks are related to lyrics, so we need to filter those out and keep only the ones containing lyrics.\n"
   ]
  },
  {
   "cell_type": "code",
   "execution_count": 2,
   "metadata": {
    "ExecuteTime": {
     "end_time": "2020-01-08T14:42:29.013686Z",
     "start_time": "2020-01-08T14:42:28.589816Z"
    }
   },
   "outputs": [
    {
     "name": "stdout",
     "output_type": "stream",
     "text": [
      "\n",
      " Number of links before filtering: 112\n"
     ]
    },
    {
     "data": {
      "text/plain": [
       "['https://www.metrolyrics.com/even-in-death-lyrics-evanescence.html',\n",
       " 'https://www.metrolyrics.com/the-chain-lyrics-evanescence.html',\n",
       " 'https://www.metrolyrics.com/so-close-lyrics-evanescence.html',\n",
       " 'https://www.metrolyrics.com/thoughtless-lyrics-evanescence.html',\n",
       " 'https://www.metrolyrics.com/the-only-one-lyrics-evanescence.html',\n",
       " 'https://www.metrolyrics.com/hello-lyrics-evanescence.html',\n",
       " 'https://www.metrolyrics.com/lithium-lyrics-evanescence.html',\n",
       " 'https://www.metrolyrics.com/broken-lyrics-evanescence.html',\n",
       " 'https://www.metrolyrics.com/secret-door-lyrics-evanescence.html',\n",
       " 'https://www.metrolyrics.com/bring-me-to-life-lyrics-x-factor-uk.html',\n",
       " 'https://www.metrolyrics.com/fall-into-you-lyrics-evanescence.html',\n",
       " 'https://www.metrolyrics.com/evanescence-alpage-1.html',\n",
       " 'https://www.metrolyrics.com/breathe-no-more-lyrics-evanescence.html',\n",
       " 'https://www.metrolyrics.com/everybodys-fool-lyrics-evanescence.html',\n",
       " 'https://www.metrolyrics.com/shes-sexy-17-stray-cats-ml-video-nua.html',\n",
       " 'javascript:void(0)',\n",
       " 'https://www.metrolyrics.com/new-way-to-bleed-lyrics-evanescence.html',\n",
       " 'https://www.metrolyrics.com/if-you-dont-mind-lyrics-evanescence.html',\n",
       " 'https://www.metrolyrics.com/whisper-lyrics-evanescence.html',\n",
       " 'https://www.metrolyrics.com/you-lyrics-evanescence.html']"
      ]
     },
     "execution_count": 2,
     "metadata": {},
     "output_type": "execute_result"
    }
   ],
   "source": [
    "url = 'http://www.metrolyrics.com/evanescence-lyrics.html'\n",
    "list_links_lyrics_metrolyrics = retrieve_hyperlinks(url)\n",
    "\n",
    "# remove probable repetitions\n",
    "\n",
    "list_links_lyrics_metrolyrics = list(set(list_links_lyrics_metrolyrics))\n",
    "\n",
    "print('\\n Number of links before filtering:', len(list_links_lyrics_metrolyrics))\n",
    "list_links_lyrics_metrolyrics[:20]"
   ]
  },
  {
   "cell_type": "markdown",
   "metadata": {},
   "source": [
    "A quick look in the list above reveals that links containing lyrics are of the form 'http://www.metrolyrics.com/TITLE-lyrics-evanescence.html'. So, we can select the elements of the list that contains '-lyrics-evanescence.html'.\n",
    "\n",
    "The list comprehension bellow does the job and return us 80 hyperlinks instead of the initial 118 hyperlinks."
   ]
  },
  {
   "cell_type": "code",
   "execution_count": 3,
   "metadata": {
    "ExecuteTime": {
     "end_time": "2020-01-08T14:42:29.035643Z",
     "start_time": "2020-01-08T14:42:29.019671Z"
    }
   },
   "outputs": [
    {
     "name": "stdout",
     "output_type": "stream",
     "text": [
      "\n",
      " Number of links after filtering: 80\n"
     ]
    },
    {
     "data": {
      "text/plain": [
       "['https://www.metrolyrics.com/even-in-death-lyrics-evanescence.html',\n",
       " 'https://www.metrolyrics.com/the-chain-lyrics-evanescence.html',\n",
       " 'https://www.metrolyrics.com/so-close-lyrics-evanescence.html',\n",
       " 'https://www.metrolyrics.com/thoughtless-lyrics-evanescence.html',\n",
       " 'https://www.metrolyrics.com/the-only-one-lyrics-evanescence.html',\n",
       " 'https://www.metrolyrics.com/hello-lyrics-evanescence.html',\n",
       " 'https://www.metrolyrics.com/lithium-lyrics-evanescence.html',\n",
       " 'https://www.metrolyrics.com/broken-lyrics-evanescence.html',\n",
       " 'https://www.metrolyrics.com/secret-door-lyrics-evanescence.html',\n",
       " 'https://www.metrolyrics.com/fall-into-you-lyrics-evanescence.html',\n",
       " 'https://www.metrolyrics.com/breathe-no-more-lyrics-evanescence.html',\n",
       " 'https://www.metrolyrics.com/everybodys-fool-lyrics-evanescence.html',\n",
       " 'https://www.metrolyrics.com/new-way-to-bleed-lyrics-evanescence.html',\n",
       " 'https://www.metrolyrics.com/if-you-dont-mind-lyrics-evanescence.html',\n",
       " 'https://www.metrolyrics.com/whisper-lyrics-evanescence.html',\n",
       " 'https://www.metrolyrics.com/you-lyrics-evanescence.html',\n",
       " 'https://www.metrolyrics.com/the-change-lyrics-evanescence.html',\n",
       " 'https://www.metrolyrics.com/the-last-day-lyrics-evanescence.html',\n",
       " 'https://www.metrolyrics.com/imperfection-lyrics-evanescence.html',\n",
       " 'https://www.metrolyrics.com/end-of-the-dream-lyrics-evanescence.html',\n",
       " 'https://www.metrolyrics.com/my-last-breath-lyrics-evanescence.html',\n",
       " 'https://www.metrolyrics.com/october-lyrics-evanescence.html',\n",
       " 'https://www.metrolyrics.com/for-you-lyrics-evanescence.html',\n",
       " 'https://www.metrolyrics.com/tourniquet-lyrics-evanescence.html',\n",
       " 'https://www.metrolyrics.com/hells-angels-lyrics-evanescence.html',\n",
       " 'https://www.metrolyrics.com/your-star-lyrics-evanescence.html',\n",
       " 'https://www.metrolyrics.com/listen-to-the-rain-lyrics-evanescence.html',\n",
       " 'https://www.metrolyrics.com/imaginary-lyrics-evanescence.html',\n",
       " 'https://www.metrolyrics.com/lies-lyrics-evanescence.html',\n",
       " 'https://www.metrolyrics.com/never-was-never-will-be-everybodys-fool-lyrics-evanescence.html',\n",
       " 'https://www.metrolyrics.com/lost-whispers-intro-lyrics-evanescence.html',\n",
       " 'https://www.metrolyrics.com/i-hate-everything-about-you-lyrics-evanescence.html',\n",
       " 'https://www.metrolyrics.com/my-immortal-band-version-lyrics-evanescence.html',\n",
       " 'https://www.metrolyrics.com/taking-over-me-lyrics-evanescence.html',\n",
       " 'https://www.metrolyrics.com/somebody-like-you-lyrics-evanescence.html#/correction',\n",
       " 'https://www.metrolyrics.com/solitude-lyrics-evanescence.html',\n",
       " 'https://www.metrolyrics.com/cartoon-network-song-lyrics-evanescence.html',\n",
       " 'https://www.metrolyrics.com/wake-me-up-inside-lyrics-evanescence.html',\n",
       " 'https://www.metrolyrics.com/liquid-blue-lyrics-evanescence.html',\n",
       " 'https://www.metrolyrics.com/cloud-nine-lyrics-evanescence.html',\n",
       " 'https://www.metrolyrics.com/field-of-innocence-lyrics-evanescence.html',\n",
       " 'https://www.metrolyrics.com/call-me-when-youre-a-sober-lyrics-evanescence.html',\n",
       " 'https://www.metrolyrics.com/lost-in-paradise-lyrics-evanescence.html',\n",
       " 'https://www.metrolyrics.com/weight-of-the-world-lyrics-evanescence.html',\n",
       " 'https://www.metrolyrics.com/forgive-me-lyrics-evanescence.html',\n",
       " 'https://www.metrolyrics.com/bleed-lyrics-evanescence.html',\n",
       " 'https://www.metrolyrics.com/call-me-when-youre-sober-lyrics-evanescence.html',\n",
       " 'https://www.metrolyrics.com/angel-of-mine-lyrics-evanescence.html',\n",
       " 'https://www.metrolyrics.com/sallys-song-lyrics-evanescence.html',\n",
       " 'https://www.metrolyrics.com/never-go-back-lyrics-evanescence.html',\n",
       " 'https://www.metrolyrics.com/erase-this-lyrics-evanescence.html',\n",
       " 'https://www.metrolyrics.com/haunted-lyrics-evanescence.html',\n",
       " 'https://www.metrolyrics.com/sweet-sacrifice-lyrics-evanescence.html',\n",
       " 'https://www.metrolyrics.com/missing-lyrics-evanescence.html',\n",
       " 'https://www.metrolyrics.com/bring-me-to-life-lyrics-evanescence.html',\n",
       " 'https://www.metrolyrics.com/anywhere-lyrics-evanescence.html',\n",
       " 'https://www.metrolyrics.com/the-last-song-im-wasting-on-you-lyrics-evanescence.html',\n",
       " 'https://www.metrolyrics.com/unraveling-interlude-lyrics-evanescence.html#/correction',\n",
       " 'https://www.metrolyrics.com/taking-me-over-lyrics-evanescence.html',\n",
       " 'https://www.metrolyrics.com/together-again-lyrics-evanescence.html',\n",
       " 'https://www.metrolyrics.com/the-chain-from-gears-5-lyrics-evanescence.html',\n",
       " 'https://www.metrolyrics.com/understanding-lyrics-evanescence.html',\n",
       " 'https://www.metrolyrics.com/before-the-dawn-lyrics-evanescence.html',\n",
       " 'https://www.metrolyrics.com/somebody-like-you-lyrics-evanescence.html',\n",
       " 'https://www.metrolyrics.com/like-you-lyrics-evanescence.html',\n",
       " 'https://www.metrolyrics.com/lacrymosa-lyrics-evanescence.html',\n",
       " 'https://www.metrolyrics.com/the-other-side-lyrics-evanescence.html',\n",
       " 'https://www.metrolyrics.com/going-under-lyrics-evanescence.html',\n",
       " 'https://www.metrolyrics.com/the-boys-of-summer-lyrics-evanescence.html',\n",
       " 'https://www.metrolyrics.com/away-from-me-lyrics-evanescence.html',\n",
       " 'https://www.metrolyrics.com/where-will-you-go-lyrics-evanescence.html',\n",
       " 'https://www.metrolyrics.com/overture-lyrics-evanescence.html#/correction',\n",
       " 'https://www.metrolyrics.com/my-heart-is-broken-lyrics-evanescence.html',\n",
       " 'https://www.metrolyrics.com/wash-it-all-away-lyrics-evanescence.html',\n",
       " 'https://www.metrolyrics.com/made-of-stone-lyrics-evanescence.html',\n",
       " 'https://www.metrolyrics.com/my-immortal-lyrics-evanescence.html',\n",
       " 'https://www.metrolyrics.com/call-me-when-your-sober-lyrics-evanescence.html',\n",
       " 'https://www.metrolyrics.com/good-enough-lyrics-evanescence.html',\n",
       " 'https://www.metrolyrics.com/what-you-want-lyrics-evanescence.html',\n",
       " 'https://www.metrolyrics.com/snow-white-queen-lyrics-evanescence.html']"
      ]
     },
     "execution_count": 3,
     "metadata": {},
     "output_type": "execute_result"
    }
   ],
   "source": [
    "list_links_lyrics_metrolyrics = [link for link in list_links_lyrics_metrolyrics if '-lyrics-evanescence.html' in link]\n",
    "print('\\n Number of links after filtering:', len(list_links_lyrics_metrolyrics))\n",
    "list_links_lyrics_metrolyrics\n"
   ]
  },
  {
   "cell_type": "markdown",
   "metadata": {},
   "source": [
    "After filtering, we see that the 3 last links finishing with '/correction', so we update the list comprehension above to eliminate the links with '/correction'."
   ]
  },
  {
   "cell_type": "code",
   "execution_count": 4,
   "metadata": {
    "ExecuteTime": {
     "end_time": "2020-01-08T14:42:29.069534Z",
     "start_time": "2020-01-08T14:42:29.044600Z"
    }
   },
   "outputs": [
    {
     "name": "stdout",
     "output_type": "stream",
     "text": [
      "\n",
      " Number of links after updated filtering and applying set: 77\n"
     ]
    },
    {
     "data": {
      "text/plain": [
       "['https://www.metrolyrics.com/angel-of-mine-lyrics-evanescence.html',\n",
       " 'https://www.metrolyrics.com/anywhere-lyrics-evanescence.html',\n",
       " 'https://www.metrolyrics.com/away-from-me-lyrics-evanescence.html',\n",
       " 'https://www.metrolyrics.com/before-the-dawn-lyrics-evanescence.html',\n",
       " 'https://www.metrolyrics.com/bleed-lyrics-evanescence.html',\n",
       " 'https://www.metrolyrics.com/breathe-no-more-lyrics-evanescence.html',\n",
       " 'https://www.metrolyrics.com/bring-me-to-life-lyrics-evanescence.html',\n",
       " 'https://www.metrolyrics.com/broken-lyrics-evanescence.html',\n",
       " 'https://www.metrolyrics.com/call-me-when-your-sober-lyrics-evanescence.html',\n",
       " 'https://www.metrolyrics.com/call-me-when-youre-a-sober-lyrics-evanescence.html',\n",
       " 'https://www.metrolyrics.com/call-me-when-youre-sober-lyrics-evanescence.html',\n",
       " 'https://www.metrolyrics.com/cartoon-network-song-lyrics-evanescence.html',\n",
       " 'https://www.metrolyrics.com/cloud-nine-lyrics-evanescence.html',\n",
       " 'https://www.metrolyrics.com/end-of-the-dream-lyrics-evanescence.html',\n",
       " 'https://www.metrolyrics.com/erase-this-lyrics-evanescence.html',\n",
       " 'https://www.metrolyrics.com/even-in-death-lyrics-evanescence.html',\n",
       " 'https://www.metrolyrics.com/everybodys-fool-lyrics-evanescence.html',\n",
       " 'https://www.metrolyrics.com/fall-into-you-lyrics-evanescence.html',\n",
       " 'https://www.metrolyrics.com/field-of-innocence-lyrics-evanescence.html',\n",
       " 'https://www.metrolyrics.com/for-you-lyrics-evanescence.html',\n",
       " 'https://www.metrolyrics.com/forgive-me-lyrics-evanescence.html',\n",
       " 'https://www.metrolyrics.com/going-under-lyrics-evanescence.html',\n",
       " 'https://www.metrolyrics.com/good-enough-lyrics-evanescence.html',\n",
       " 'https://www.metrolyrics.com/haunted-lyrics-evanescence.html',\n",
       " 'https://www.metrolyrics.com/hello-lyrics-evanescence.html',\n",
       " 'https://www.metrolyrics.com/hells-angels-lyrics-evanescence.html',\n",
       " 'https://www.metrolyrics.com/i-hate-everything-about-you-lyrics-evanescence.html',\n",
       " 'https://www.metrolyrics.com/if-you-dont-mind-lyrics-evanescence.html',\n",
       " 'https://www.metrolyrics.com/imaginary-lyrics-evanescence.html',\n",
       " 'https://www.metrolyrics.com/imperfection-lyrics-evanescence.html',\n",
       " 'https://www.metrolyrics.com/lacrymosa-lyrics-evanescence.html',\n",
       " 'https://www.metrolyrics.com/lies-lyrics-evanescence.html',\n",
       " 'https://www.metrolyrics.com/like-you-lyrics-evanescence.html',\n",
       " 'https://www.metrolyrics.com/liquid-blue-lyrics-evanescence.html',\n",
       " 'https://www.metrolyrics.com/listen-to-the-rain-lyrics-evanescence.html',\n",
       " 'https://www.metrolyrics.com/lithium-lyrics-evanescence.html',\n",
       " 'https://www.metrolyrics.com/lost-in-paradise-lyrics-evanescence.html',\n",
       " 'https://www.metrolyrics.com/lost-whispers-intro-lyrics-evanescence.html',\n",
       " 'https://www.metrolyrics.com/made-of-stone-lyrics-evanescence.html',\n",
       " 'https://www.metrolyrics.com/missing-lyrics-evanescence.html',\n",
       " 'https://www.metrolyrics.com/my-heart-is-broken-lyrics-evanescence.html',\n",
       " 'https://www.metrolyrics.com/my-immortal-band-version-lyrics-evanescence.html',\n",
       " 'https://www.metrolyrics.com/my-immortal-lyrics-evanescence.html',\n",
       " 'https://www.metrolyrics.com/my-last-breath-lyrics-evanescence.html',\n",
       " 'https://www.metrolyrics.com/never-go-back-lyrics-evanescence.html',\n",
       " 'https://www.metrolyrics.com/never-was-never-will-be-everybodys-fool-lyrics-evanescence.html',\n",
       " 'https://www.metrolyrics.com/new-way-to-bleed-lyrics-evanescence.html',\n",
       " 'https://www.metrolyrics.com/october-lyrics-evanescence.html',\n",
       " 'https://www.metrolyrics.com/sallys-song-lyrics-evanescence.html',\n",
       " 'https://www.metrolyrics.com/secret-door-lyrics-evanescence.html',\n",
       " 'https://www.metrolyrics.com/snow-white-queen-lyrics-evanescence.html',\n",
       " 'https://www.metrolyrics.com/so-close-lyrics-evanescence.html',\n",
       " 'https://www.metrolyrics.com/solitude-lyrics-evanescence.html',\n",
       " 'https://www.metrolyrics.com/somebody-like-you-lyrics-evanescence.html',\n",
       " 'https://www.metrolyrics.com/sweet-sacrifice-lyrics-evanescence.html',\n",
       " 'https://www.metrolyrics.com/taking-me-over-lyrics-evanescence.html',\n",
       " 'https://www.metrolyrics.com/taking-over-me-lyrics-evanescence.html',\n",
       " 'https://www.metrolyrics.com/the-boys-of-summer-lyrics-evanescence.html',\n",
       " 'https://www.metrolyrics.com/the-chain-from-gears-5-lyrics-evanescence.html',\n",
       " 'https://www.metrolyrics.com/the-chain-lyrics-evanescence.html',\n",
       " 'https://www.metrolyrics.com/the-change-lyrics-evanescence.html',\n",
       " 'https://www.metrolyrics.com/the-last-day-lyrics-evanescence.html',\n",
       " 'https://www.metrolyrics.com/the-last-song-im-wasting-on-you-lyrics-evanescence.html',\n",
       " 'https://www.metrolyrics.com/the-only-one-lyrics-evanescence.html',\n",
       " 'https://www.metrolyrics.com/the-other-side-lyrics-evanescence.html',\n",
       " 'https://www.metrolyrics.com/thoughtless-lyrics-evanescence.html',\n",
       " 'https://www.metrolyrics.com/together-again-lyrics-evanescence.html',\n",
       " 'https://www.metrolyrics.com/tourniquet-lyrics-evanescence.html',\n",
       " 'https://www.metrolyrics.com/understanding-lyrics-evanescence.html',\n",
       " 'https://www.metrolyrics.com/wake-me-up-inside-lyrics-evanescence.html',\n",
       " 'https://www.metrolyrics.com/wash-it-all-away-lyrics-evanescence.html',\n",
       " 'https://www.metrolyrics.com/weight-of-the-world-lyrics-evanescence.html',\n",
       " 'https://www.metrolyrics.com/what-you-want-lyrics-evanescence.html',\n",
       " 'https://www.metrolyrics.com/where-will-you-go-lyrics-evanescence.html',\n",
       " 'https://www.metrolyrics.com/whisper-lyrics-evanescence.html',\n",
       " 'https://www.metrolyrics.com/you-lyrics-evanescence.html',\n",
       " 'https://www.metrolyrics.com/your-star-lyrics-evanescence.html']"
      ]
     },
     "execution_count": 4,
     "metadata": {},
     "output_type": "execute_result"
    }
   ],
   "source": [
    "# updated version\n",
    "\n",
    "list_links_lyrics_metrolyrics = [link for link in list_links_lyrics_metrolyrics if \n",
    "                                 ('-lyrics-evanescence.html' in link and '/correction' not in link)]\n",
    "\n",
    "print('\\n Number of links after updated filtering and applying set:', len(list_links_lyrics_metrolyrics))\n",
    "\n",
    "list_links_lyrics_metrolyrics.sort()\n",
    "list_links_lyrics_metrolyrics"
   ]
  },
  {
   "cell_type": "markdown",
   "metadata": {},
   "source": [
    "So finally, for metrolyrics we have obtained 77 hyperlinks of Evanescence's lyrics. \n",
    "\n",
    "Let's check the other websites."
   ]
  },
  {
   "cell_type": "markdown",
   "metadata": {},
   "source": [
    "### Retrieving from [songteksten.net](https://songteksten.net/)\n",
    "\n",
    "This webpage presents 3 pages with links to lyrics, so we need to apply the function on all links.\n",
    "\n",
    "Before filtering we have 568 links after filtering 86. Observe that although there is apparently no repetition, there are different versions of the same music (e.g. lies and lies-remix)."
   ]
  },
  {
   "cell_type": "code",
   "execution_count": 5,
   "metadata": {
    "ExecuteTime": {
     "end_time": "2020-01-08T14:42:29.897319Z",
     "start_time": "2020-01-08T14:42:29.077511Z"
    }
   },
   "outputs": [
    {
     "name": "stdout",
     "output_type": "stream",
     "text": [
      "Number of links before filtering: 223\n"
     ]
    }
   ],
   "source": [
    "# retrieving all hyperlinks\n",
    "urls = ['https://songteksten.net/artist/lyrics/1938/evanescence.html',\n",
    "       'https://songteksten.net/artist/lyrics/1938/evanescence/page/2.html',\n",
    "       'https://songteksten.net/artist/lyrics/1938/evanescence/page/3.html']\n",
    "\n",
    "list_links_lyrics_songteksten_net = []\n",
    "\n",
    "for url in urls:\n",
    "    list_links_lyrics_songteksten_net.extend(retrieve_hyperlinks(url))\n",
    "    \n",
    "# remove probable repetitions\n",
    "\n",
    "list_links_lyrics_songteksten_net = list(set(list_links_lyrics_songteksten_net))\n",
    "\n",
    "    \n",
    "print('Number of links before filtering:', len(list_links_lyrics_songteksten_net))"
   ]
  },
  {
   "cell_type": "code",
   "execution_count": 6,
   "metadata": {
    "ExecuteTime": {
     "end_time": "2020-01-08T14:42:29.925248Z",
     "start_time": "2020-01-08T14:42:29.904300Z"
    }
   },
   "outputs": [
    {
     "data": {
      "text/plain": [
       "['https://songteksten.net/artists/u.html',\n",
       " 'https://songteksten.net/lyric/1938/87754/evanescence/wake-me-up-inside-bring-me-to-life.html',\n",
       " 'https://songteksten.net/artists/7.html',\n",
       " 'https://songteksten.net/artists/j.html',\n",
       " 'https://songteksten.net/lyric/2294/46260/leonard-cohen/hallelujah.html',\n",
       " 'https://songteksten.net/artists/x.html',\n",
       " 'https://songteksten.net/lyric/9173/102289/tones-and-i/dance-monkey.html',\n",
       " 'https://songteksten.net/lyric/1938/30606/evanescence/breathe-no-more.html',\n",
       " 'https://songteksten.net/albums/album/1938/864/evanescence/the-open-door.html',\n",
       " '//songteksten.net/albums/add.html',\n",
       " 'https://songteksten.net/adverteren.html',\n",
       " 'https://songteksten.net/lyric/1938/30581/evanescence/going-under.html',\n",
       " 'https://songteksten.net/artists/i.html',\n",
       " 'https://songteksten.net/news/97302/within-temptation-en-evanescence-samen-op-tournee.html',\n",
       " 'https://songteksten.net/lyric/1938/77101/evanescence/bleed.html',\n",
       " 'https://songteksten.net/lyric/725/21878/bing-crosby/rudolph-the-red-nosed-reindeer.html',\n",
       " '//songteksten.net/videos.html',\n",
       " 'https://songteksten.net/news/101266/postuum-nieuw-nummer-verschenen-op-geboortedag-bowie.html',\n",
       " 'https://songteksten.net/lyric/1938/59307/evanescence/the-only-one.html',\n",
       " 'https://songteksten.net/artists/b.html',\n",
       " 'https://songteksten.net/lyric/1938/93936/evanescence/swimming-home.html',\n",
       " '//songteksten.net/translations/latest.html',\n",
       " 'https://songteksten.net/artists/8.html',\n",
       " 'https://songteksten.net/lyric/1938/48350/evanescence/zero.html',\n",
       " 'https://songteksten.net/lyric/1938/92310/evanescence/my-heart-is-broken.html',\n",
       " 'https://songteksten.net/news/101265/davina-michelle-zingt-titelsong-duits-tv-programma.html',\n",
       " 'https://songteksten.net/lyric/1938/30599/evanescence/october.html',\n",
       " 'https://songteksten.net/lyric/1938/30600/evanescence/so-close.html',\n",
       " 'https://songteksten.net/artists/f.html',\n",
       " 'https://songteksten.net/lyric/1938/77224/evanescence/angel-of-mine.html',\n",
       " 'https://songteksten.net/albums/album/2135/2297/toto/fahrenheit.html',\n",
       " 'https://songteksten.net/lyric/1938/30588/evanescence/taking-over-me.html',\n",
       " 'https://songteksten.net/lyric/1938/74589/evanescence/where-will-you-go-ep-version.html',\n",
       " 'https://songteksten.net/lyric/9064/102577/rolf-sanchez/pa-olvidarte.html',\n",
       " 'https://songteksten.net/lyric/1938/59301/evanescence/lithium.html',\n",
       " 'https://songteksten.net/lyric/1938/31324/evanescence/you-dont-have-to-cry.html',\n",
       " 'https://songteksten.net/lyric/1938/93937/evanescence/say-you-will.html',\n",
       " 'https://songteksten.net/albums/add/1938.html',\n",
       " 'https://songteksten.net/artist/lyrics/7846/tim-akkerman.html',\n",
       " 'https://songteksten.net/news/101262/uri-geller-solliciteert-naar-baan-bij-britse-overheid.html',\n",
       " '/',\n",
       " 'https://songteksten.net/news/97627/extra-show-van-within-temptation-en-evanescence-in-amsterdam.html',\n",
       " 'https://songteksten.net/albums/album/232/2299/rammstein/rammstein.html',\n",
       " 'https://songteksten.net/artist/lyrics/232/rammstein.html',\n",
       " 'https://songteksten.net/lyric/1938/30584/evanescence/my-immortal.html',\n",
       " 'https://songteksten.net/lyric/1938/83436/evanescence/together-again.html',\n",
       " 'https://songteksten.net/artists/h.html',\n",
       " 'https://songteksten.net/albums/album/7419/2305/niels-destadsbader/speeltijd.html',\n",
       " 'https://songteksten.net/lyric/9049/101801/danny-vera/roller-coaster.html',\n",
       " 'https://songteksten.net/lyric/1938/30589/evanescence/hello.html',\n",
       " 'https://songteksten.net/lyric/1938/30605/evanescence/farther-away.html',\n",
       " 'https://songteksten.net/albums/album/7419/2308/niels-destadsbader/boven-de-wolken.html',\n",
       " 'https://songteksten.net/artist/lyrics/1938/evanescence/page/3.html',\n",
       " 'https://songteksten.net/lyric/7419/102712/niels-destadsbader/voor-altijd-en-een-dag.html',\n",
       " 'https://songteksten.net/lyric/1938/30602/evanescence/give-unto-me.html',\n",
       " 'https://songteksten.net/lyric/1938/93922/evanescence/made-of-stone.html',\n",
       " 'https://songteksten.net/lyric/1938/59306/evanescence/lose-control.html',\n",
       " 'https://songteksten.net/artists/9.html',\n",
       " 'https://songteksten.net/artists/c.html',\n",
       " 'https://songteksten.net/lyric/1938/30593/evanescence/fields-of-innocence.html',\n",
       " 'https://songteksten.net/lyric/1938/92371/evanescence/lost-in-paradise.html',\n",
       " 'http://www.evanescence.com/',\n",
       " 'https://songteksten.net/artists/s.html',\n",
       " '//songteksten.net/artists.html',\n",
       " 'https://songteksten.net/lyric/1938/59304/evanescence/lacrymosa.html',\n",
       " 'https://songteksten.net/lyric/1938/30590/evanescence/my-last-breath.html',\n",
       " 'https://songteksten.net/lyric/1938/93924/evanescence/never-go-back.html',\n",
       " 'https://songteksten.net/lyric/1938/30608/evanescence/solitude.html',\n",
       " 'https://songteksten.net/lyric/1938/93940/evanescence/the-change.html',\n",
       " 'https://songteksten.net/lyric/7419/102706/niels-destadsbader/tranen-met-tuiten.html',\n",
       " 'https://songteksten.net/lyric/1938/30598/evanescence/goodnight.html',\n",
       " 'https://songteksten.net/lyric/1938/30601/evanescence/understanding-wash-it-all-away.html',\n",
       " 'https://songteksten.net/lyric/1938/93939/evanescence/the-other-side.html',\n",
       " '//songteksten.net/lyrics/popular.html',\n",
       " 'https://songteksten.net/artists/v.html',\n",
       " 'https://songteksten.net/lyric/1938/93938/evanescence/secret-door.html',\n",
       " 'https://songteksten.net/lyric/1938/30592/evanescence/where-will-you-go.html',\n",
       " 'https://songteksten.net/lyric/1938/30594/evanescence/even-in-death.html',\n",
       " 'https://songteksten.net/lyric/1938/74262/evanescence/the-last-song-im-wasting-on-you.html',\n",
       " 'https://songteksten.net/lyric/1938/93934/evanescence/sick.html',\n",
       " 'https://songteksten.net/artists/o.html',\n",
       " 'https://songteksten.net/lyric/1938/91880/evanescence/what-you-want.html',\n",
       " 'https://songteksten.net/artists/p.html',\n",
       " 'https://songteksten.net/lyric/1938/40741/evanescence/before-the-dawn.html',\n",
       " 'https://songteksten.net/lyric/7419/102713/niels-destadsbader/voor-jou-alleen.html',\n",
       " 'https://songteksten.net/lyric/1938/74649/evanescence/wash-it-all-away.html',\n",
       " 'https://songteksten.net/editors/signup/1938.html',\n",
       " 'https://songteksten.net/lyric/1938/30603/evanescence/forgive-me.html',\n",
       " 'https://songteksten.net/lyric/1938/59310/evanescence/good-enough.html',\n",
       " 'https://songteksten.net/lyric/1938/73582/evanescence/4th-of-july.html',\n",
       " 'https://songteksten.net/lyric/1938/48348/evanescence/fall-into-you.html',\n",
       " 'https://songteksten.net/lyric/1938/59305/evanescence/like-you.html',\n",
       " 'https://songteksten.net/lyric/1938/32033/evanescence/must-be-dreaming.html',\n",
       " 'https://songteksten.net/',\n",
       " 'https://songteksten.net/artist/lyrics/9064/rolf-sanchez.html',\n",
       " 'https://songteksten.net/lyric/8601/102664/maan/ze-huilt-maar-ze-lacht.html',\n",
       " '//songteksten.net/albums.html',\n",
       " 'https://songteksten.net/artists/5.html',\n",
       " 'https://songteksten.net/lyric/1938/93923/evanescence/new-way-to-bleed.html',\n",
       " 'https://songteksten.net/lyric/7419/102711/niels-destadsbader/vlinders-in-haar-buik.html',\n",
       " 'https://songteksten.net/news/101264/oeuvreprijs-voor-omroep-max-baas-jan-slagter.html',\n",
       " 'https://songteksten.net/lyric/1938/59308/evanescence/your-star.html',\n",
       " 'https://songteksten.net/lyric/1938/33820/evanescence/surrender.html',\n",
       " 'https://songteksten.net/news/101257/jennifer-hoffman-wacht-op-inspiratie-ilse-warringa.html',\n",
       " 'http://bandhosting.nl',\n",
       " 'https://songteksten.net/lyric/3709/44226/ajax/ajax-clublied.html',\n",
       " 'https://songteksten.net/lyric/7419/102703/niels-destadsbader/skwon-meiske.html',\n",
       " 'https://songteksten.net/lyric/1938/93919/evanescence/disappear.html',\n",
       " 'https://songteksten.net/artist/lyrics/9049/danny-vera.html',\n",
       " 'https://songteksten.net/artist/lyrics/9173/tones-and-i.html',\n",
       " 'https://songteksten.net/lyric/1938/31715/evanescence/i-believe-in-you.html',\n",
       " 'https://songteksten.net/lyric/1938/93920/evanescence/erase-this.html',\n",
       " '//songteksten.net/lyric/add.html',\n",
       " 'https://songteksten.net/artists/z.html',\n",
       " 'https://songteksten.net/artist/lyrics/2135/toto.html',\n",
       " 'https://songteksten.net/lyric/1938/93921/evanescence/end-of-the-dream.html',\n",
       " 'https://songteksten.net/artist/albums/1938/evanescence.html',\n",
       " 'https://songteksten.net/albums/album/4166/2298/earth-wind-and-fire/i-am.html',\n",
       " 'https://songteksten.net/artist/downloads/1938/evanescence.html',\n",
       " 'https://songteksten.net/lyric/7419/102710/niels-destadsbader/verover-mij.html',\n",
       " 'https://songteksten.net/artists/q.html',\n",
       " 'https://songteksten.net/info/1187/rss-api-functies.html',\n",
       " 'https://songteksten.net/info/1186/privacy.html',\n",
       " 'https://songteksten.net/lyric/1938/100302/evanescence/imperfection.html',\n",
       " '//songteksten.net',\n",
       " 'https://songteksten.net/lyric/1938/59302/evanescence/cloud-nine.html',\n",
       " 'https://songteksten.net/lyric/1938/52535/evanescence/haunting-you.html',\n",
       " 'https://songteksten.net/lyric/9019/102217/snelle/reunie.html',\n",
       " 'https://songteksten.net/lyric/1938/31716/evanescence/you.html',\n",
       " 'https://songteksten.net/news/101259/snollebollekes-van-links-naar-rechts-op-strand-almere.html',\n",
       " 'https://songteksten.net/artist/lyrics/9217/emma-heesters.html',\n",
       " 'https://songteksten.net/lyric/1938/59309/evanescence/all-that-im-living-for.html',\n",
       " 'https://songteksten.net/albums/album/7419/2307/niels-destadsbader/dertig.html',\n",
       " 'https://songteksten.net/artist/lyrics/725/bing-crosby.html',\n",
       " 'https://forum.songteksten.net/index.php?topic=1327.msg86861;topicseen#new',\n",
       " 'https://songteksten.net/lyric/1938/30582/evanescence/everybodys-fool.html',\n",
       " 'https://songteksten.net/profile/view/33726/survivor.html',\n",
       " 'https://songteksten.net/lyric/1938/30586/evanescence/tourniquet.html',\n",
       " '#',\n",
       " 'https://songteksten.net/lyric/7419/102709/niels-destadsbader/vergeef-me.html',\n",
       " 'https://songteksten.net/lyric/1938/30597/evanescence/away-from-me.html',\n",
       " 'https://songteksten.net/lyric/1938/30585/evanescence/haunted.html',\n",
       " 'https://songteksten.net/albums/album/1938/344/evanescence/anywhere-but-home.html',\n",
       " 'https://songteksten.net/artist/lyrics/7419/niels-destadsbader.html',\n",
       " 'https://songteksten.net/artist/lyrics/3709/ajax.html',\n",
       " 'https://forum.songteksten.net/index.php?topic=1327.msg86865;topicseen#new',\n",
       " 'https://songteksten.net/artist/lyrics/9019/snelle.html',\n",
       " 'https://songteksten.net/artist/lyrics/8601/maan.html',\n",
       " 'https://songteksten.net/artist/lyrics/4166/earth-wind-and-fire.html',\n",
       " 'https://songteksten.net/lyric/7419/102704/niels-destadsbader/tokio.html',\n",
       " 'https://songteksten.net/artist/lyrics/8117/ed-sheeran.html',\n",
       " 'https://songteksten.net/artists/2.html',\n",
       " 'https://songteksten.net/artists/d.html',\n",
       " 'https://songteksten.net/info/1185/over-ons.html',\n",
       " 'https://songteksten.net/lyric/1938/59300/evanescence/weight-of-the-world.html',\n",
       " 'https://songteksten.net/lyric/1938/59299/evanescence/sweet-sacrifice.html',\n",
       " 'https://songteksten.net/lyric/1938/30604/evanescence/exodus.html',\n",
       " 'https://songteksten.net/artists/k.html',\n",
       " 'https://songteksten.net/albums/album/7419/2306/niels-destadsbader/speeltijd-niels-wiels-editie.html',\n",
       " 'https://songteksten.net/artist/lyrics/60/marco-borsato.html',\n",
       " 'https://songteksten.net/lyric/1938/77210/evanescence/my-cartoon-network.html',\n",
       " 'https://songteksten.net/artist/lyrics/1938/evanescence/page/1.html',\n",
       " 'https://songteksten.net/artists/t.html',\n",
       " '//forum.songteksten.net',\n",
       " 'https://songteksten.net/lyric/1938/58354/evanescence/call-me-when-youre-sober.html',\n",
       " 'https://songteksten.net/news/101261/songfestivalinzending-jordan-roy-overladen-met-felicitaties.html',\n",
       " 'https://songteksten.net/lyric/1938/45002/evanescence/imaginary.html',\n",
       " 'https://songteksten.net/genres/genre/0.html',\n",
       " 'https://songteksten.net/lyric/add/1938.html',\n",
       " 'https://songteksten.net/lyric/1938/30591/evanescence/whisper.html',\n",
       " 'https://songteksten.net/lyric/1938/30596/evanescence/lies.html',\n",
       " 'https://songteksten.net/lyric/1938/30595/evanescence/anywhere.html',\n",
       " 'https://songteksten.net/lyric/1938/30609/evanescence/bring-me-to-life.html',\n",
       " 'https://songteksten.net/artists/e.html',\n",
       " 'https://songteksten.net/artists/n.html',\n",
       " 'https://songteksten.net/lyric/60/98333/marco-borsato/mooi.html',\n",
       " 'https://songteksten.net/artists/1.html',\n",
       " 'https://songteksten.net/lyric/1938/48349/evanescence/heart-shaped-box.html',\n",
       " 'https://songteksten.net/artist/lyrics/2881/maroon-5.html',\n",
       " 'https://songteksten.net/lyric/2881/102433/maroon-5/memories.html',\n",
       " '//forum.songteksten.net/index.php?action=login',\n",
       " 'https://songteksten.net/artists/3.html',\n",
       " 'https://songteksten.net/lyric/1938/37965/evanescence/the-last-day.html',\n",
       " 'https://songteksten.net/artists/g.html',\n",
       " 'https://songteksten.net/artists/w.html',\n",
       " 'https://forum.songteksten.net/index.php?topic=1327.msg86864;topicseen#new',\n",
       " 'https://songteksten.net/lyric/1938/92309/evanescence/the-end.html',\n",
       " 'https://songteksten.net/artists/r.html',\n",
       " 'https://songteksten.net/artists/6.html',\n",
       " 'https://songteksten.net/albums/album/8117/2300/ed-sheeran/no-6-collaborations-project.html',\n",
       " 'https://songteksten.net/lyric/1938/73657/evanescence/lies-remix.html',\n",
       " 'https://songteksten.net/artists/4.html',\n",
       " 'https://songteksten.net/news/101263/vlamingen-mogen-temptation-island-wel-zien.html',\n",
       " 'https://songteksten.net/artist/lyrics/1938/evanescence/page/2.html',\n",
       " 'https://songteksten.net/news/101260/humberto-was-nerveus-voor-jinek.html',\n",
       " 'https://songteksten.net/albums/album/1938/171/evanescence/fallen.html',\n",
       " 'https://songteksten.net/lyric/7419/102714/niels-destadsbader/het-licht-gaat-uit.html',\n",
       " 'https://songteksten.net/artists/m.html',\n",
       " 'https://songteksten.net/lyric/1938/59303/evanescence/snow-white-queen.html',\n",
       " 'https://songteksten.net/artists/a.html',\n",
       " 'https://forum.songteksten.net/index.php?topic=3545.msg86866;topicseen#new',\n",
       " 'https://songteksten.net/artist/lyrics/7902/kensington.html',\n",
       " 'https://songteksten.net/lyric/1938/46791/evanescence/anything-for-you.html',\n",
       " 'https://songteksten.net/lyric/1938/30607/evanescence/missing.html',\n",
       " 'https://songteksten.net/albums/album/7902/2304/kensington/time.html',\n",
       " '//songteksten.net/lyrics/latest.html',\n",
       " 'https://songteksten.net/artist/translations/1938/evanescence.html',\n",
       " '//songteksten.net/translations/popular.html',\n",
       " 'https://songteksten.net/lyric/1938/50255/evanescence/forever-gone-forever-you.html',\n",
       " 'https://songteksten.net/artist/lyrics/1938/evanescence.html',\n",
       " 'https://songteksten.net/lyric/1938/41509/evanescence/restless.html',\n",
       " 'https://songteksten.net/artists/y.html',\n",
       " 'https://songteksten.net/lyric/1938/65087/evanescence/thoughtless.html',\n",
       " 'https://songteksten.net/albums/album/7846/2302/tim-akkerman/lions-dont-cry.html',\n",
       " 'https://songteksten.net/lyric/1938/32518/evanescence/i-must-be-dreaming.html',\n",
       " 'https://songteksten.net/artist/lyrics/2294/leonard-cohen.html',\n",
       " 'https://songteksten.net/news/101258/igmar-zwijgt-over-relatiebreuk-met-fien.html',\n",
       " 'https://songteksten.net/artists/l.html',\n",
       " 'https://songteksten.net/lyric/7419/102708/niels-destadsbader/vandaag.html',\n",
       " 'https://forum.songteksten.net/index.php?topic=3543.msg86862;topicseen#new',\n",
       " 'https://songteksten.net/lyric/1938/39243/evanescence/broken.html',\n",
       " 'https://songteksten.net/lyric/1938/32041/evanescence/listen-to-the-rain.html',\n",
       " '//songteksten.net/genres.html']"
      ]
     },
     "execution_count": 6,
     "metadata": {},
     "output_type": "execute_result"
    }
   ],
   "source": [
    "list_links_lyrics_songteksten_net"
   ]
  },
  {
   "cell_type": "markdown",
   "metadata": {},
   "source": [
    "In this case, to obtain lyrics we need to keep links that contain '/songteksten.net/lyric/1938' which will do by extracting the information from the url address."
   ]
  },
  {
   "cell_type": "code",
   "execution_count": 7,
   "metadata": {
    "ExecuteTime": {
     "end_time": "2020-01-08T14:42:29.954166Z",
     "start_time": "2020-01-08T14:42:29.930230Z"
    }
   },
   "outputs": [
    {
     "name": "stdout",
     "output_type": "stream",
     "text": [
      "Number of links after filtering: 86\n"
     ]
    }
   ],
   "source": [
    "# using url address to filter lyrics\n",
    "\n",
    "spliting = urls[0].split('/')\n",
    "filter_lyrics = spliting[2]+'/lyric/'+spliting[-2]\n",
    "\n",
    "list_links_lyrics_songteksten_net = [link for link in list_links_lyrics_songteksten_net if (filter_lyrics \n",
    "                                                                              in link) ]\n",
    "\n",
    "print('Number of links after filtering:', len(list_links_lyrics_songteksten_net))\n"
   ]
  },
  {
   "cell_type": "code",
   "execution_count": 8,
   "metadata": {
    "ExecuteTime": {
     "end_time": "2020-01-08T14:42:29.982092Z",
     "start_time": "2020-01-08T14:42:29.957158Z"
    }
   },
   "outputs": [
    {
     "data": {
      "text/plain": [
       "['4th-of-july',\n",
       " 'all-that-im-living-for',\n",
       " 'angel-of-mine',\n",
       " 'anything-for-you',\n",
       " 'anywhere',\n",
       " 'away-from-me',\n",
       " 'before-the-dawn',\n",
       " 'bleed',\n",
       " 'breathe-no-more',\n",
       " 'bring-me-to-life',\n",
       " 'broken',\n",
       " 'call-me-when-youre-sober',\n",
       " 'cloud-nine',\n",
       " 'disappear',\n",
       " 'end-of-the-dream',\n",
       " 'erase-this',\n",
       " 'even-in-death',\n",
       " 'everybodys-fool',\n",
       " 'exodus',\n",
       " 'fall-into-you',\n",
       " 'farther-away',\n",
       " 'fields-of-innocence',\n",
       " 'forever-gone-forever-you',\n",
       " 'forgive-me',\n",
       " 'give-unto-me',\n",
       " 'going-under',\n",
       " 'good-enough',\n",
       " 'goodnight',\n",
       " 'haunted',\n",
       " 'haunting-you',\n",
       " 'heart-shaped-box',\n",
       " 'hello',\n",
       " 'i-believe-in-you',\n",
       " 'i-must-be-dreaming',\n",
       " 'imaginary',\n",
       " 'imperfection',\n",
       " 'lacrymosa',\n",
       " 'lies',\n",
       " 'lies-remix',\n",
       " 'like-you',\n",
       " 'listen-to-the-rain',\n",
       " 'lithium',\n",
       " 'lose-control',\n",
       " 'lost-in-paradise',\n",
       " 'made-of-stone',\n",
       " 'missing',\n",
       " 'must-be-dreaming',\n",
       " 'my-cartoon-network',\n",
       " 'my-heart-is-broken',\n",
       " 'my-immortal',\n",
       " 'my-last-breath',\n",
       " 'never-go-back',\n",
       " 'new-way-to-bleed',\n",
       " 'october',\n",
       " 'restless',\n",
       " 'say-you-will',\n",
       " 'secret-door',\n",
       " 'sick',\n",
       " 'snow-white-queen',\n",
       " 'so-close',\n",
       " 'solitude',\n",
       " 'surrender',\n",
       " 'sweet-sacrifice',\n",
       " 'swimming-home',\n",
       " 'taking-over-me',\n",
       " 'the-change',\n",
       " 'the-end',\n",
       " 'the-last-day',\n",
       " 'the-last-song-im-wasting-on-you',\n",
       " 'the-only-one',\n",
       " 'the-other-side',\n",
       " 'thoughtless',\n",
       " 'together-again',\n",
       " 'tourniquet',\n",
       " 'understanding-wash-it-all-away',\n",
       " 'wake-me-up-inside-bring-me-to-life',\n",
       " 'wash-it-all-away',\n",
       " 'weight-of-the-world',\n",
       " 'what-you-want',\n",
       " 'where-will-you-go',\n",
       " 'where-will-you-go-ep-version',\n",
       " 'whisper',\n",
       " 'you',\n",
       " 'you-dont-have-to-cry',\n",
       " 'your-star',\n",
       " 'zero']"
      ]
     },
     "execution_count": 8,
     "metadata": {},
     "output_type": "execute_result"
    }
   ],
   "source": [
    "#Extracting the titles of the song and rearranging in alphabetical order for quick inspection\n",
    "\n",
    "list_titles = [link.split('/')[-1].split('.')[-2] for link in list_links_lyrics_songteksten_net ]\n",
    "list_titles.sort()\n",
    "list_titles"
   ]
  },
  {
   "cell_type": "markdown",
   "metadata": {},
   "source": [
    "### Retrieving from [songteksten.nl](https://www.songteksten.nl/)\n",
    "\n",
    "Similarly, to songteksten.net we have multiple pages with hyperlinks."
   ]
  },
  {
   "cell_type": "code",
   "execution_count": 9,
   "metadata": {
    "ExecuteTime": {
     "end_time": "2020-01-08T14:42:31.141994Z",
     "start_time": "2020-01-08T14:42:29.986081Z"
    }
   },
   "outputs": [
    {
     "name": "stdout",
     "output_type": "stream",
     "text": [
      "Number of links before filtering: 128\n"
     ]
    }
   ],
   "source": [
    "# retrieving all hyperlinks\n",
    "urls = ['https://www.songteksten.nl/artiest/4713/evanescence.htm',\n",
    "       'https://www.songteksten.nl/artiest/4713/2/evanescence.htm']\n",
    "\n",
    "\n",
    "list_links_lyrics_songteksten_nl = []\n",
    "\n",
    "for url in urls:\n",
    "    list_links_lyrics_songteksten_nl.extend(retrieve_hyperlinks(url))\n",
    "    \n",
    "# removing probable repetitions\n",
    "list_links_lyrics_songteksten_nl = list(set(list_links_lyrics_songteksten_nl))\n",
    "    \n",
    "print('Number of links before filtering:', len(list_links_lyrics_songteksten_nl))"
   ]
  },
  {
   "cell_type": "code",
   "execution_count": 10,
   "metadata": {
    "ExecuteTime": {
     "end_time": "2020-01-08T14:42:31.171919Z",
     "start_time": "2020-01-08T14:42:31.149968Z"
    }
   },
   "outputs": [
    {
     "data": {
      "text/plain": [
       "['/songteksten/41311/evanescence/haunted.htm',\n",
       " '/songteksten/43246/evanescence/before-the-dawn.htm',\n",
       " '/songteksten/795422/evanescence/never-go-back.htm',\n",
       " '/songteksten/66131/evanescence/my-tourniquet.htm',\n",
       " '/songteksten/45785/evanescence/4th-of-july.htm',\n",
       " '/top45',\n",
       " '/songteksten/74925/evanescence/angel-of-mine.htm',\n",
       " '/songteksten/88807/evanescence/together-again.htm',\n",
       " '/songteksten/41312/evanescence/hello.htm',\n",
       " '/songteksten/890455/evanescence/hi-lo.htm',\n",
       " '/songteksten/67511/evanescence/lose-control.htm',\n",
       " '/songteksten/360790/evanescence/the-change.htm',\n",
       " '/songteksten/42849/evanescence/lies.htm',\n",
       " '/songteksten/367425/evanescence/do-what-you-want.htm',\n",
       " '/songteksten/41306/evanescence/everybody-s-fool.htm',\n",
       " '/songteksten/53790/evanescence/orestes--a-perfect-circle-.htm',\n",
       " '/songteksten/45370/evanescence/goodnite.htm',\n",
       " '/songteksten/49240/evanescence/forever-gone-forever-you.htm',\n",
       " 'http://www.facebook.com/songteksten',\n",
       " '/songteksten/41321/evanescence/you.htm',\n",
       " '/songteksten/41315/evanescence/my-immortal.htm',\n",
       " '/songteksten/795871/evanescence/secret-door.htm',\n",
       " '/',\n",
       " '/songteksten/67508/evanescence/lacrymosa.htm',\n",
       " '/songteksten/43245/evanescence/missing.htm',\n",
       " '/songteksten/43906/evanescence/away-from-me.htm',\n",
       " '/artiest/4713/evanescence.htm',\n",
       " '/songteksten/74929/evanescence/the-last-song-i-m-wasting-on-you.htm',\n",
       " '/songteksten/48711/evanescence/forever.htm',\n",
       " '/songteksten/50229/evanescence/you-amy-lee-solo-.htm',\n",
       " '/songteksten/45787/evanescence/zero.htm',\n",
       " '/songteksten/360165/evanescence/sally-s-song.htm',\n",
       " '/songteksten/41308/evanescence/farther-away.htm',\n",
       " '/songteksten/795421/evanescence/swimming-home.htm',\n",
       " '/songteksten/846609/evanescence/all-that-i-am-living-for.htm',\n",
       " '/privacy.pdf',\n",
       " '/songteksten/45471/evanescence/so-close.htm',\n",
       " '/songteksten/43242/evanescence/surrender.htm',\n",
       " '/songteksten/43907/evanescence/the-last-day.htm',\n",
       " '/songteksten/795870/evanescence/on-the-songs%3a-lost-in-paradise.htm',\n",
       " '/songteksten/362685/evanescence/erase-this.htm',\n",
       " '/songteksten/360153/evanescence/holding-my-last-breathe.htm',\n",
       " '/songteksten/67516/evanescence/your-star.htm',\n",
       " '/songteksten/41313/evanescence/i-believe-in-you.htm',\n",
       " '/songteksten/360416/evanescence/what-you-want.htm',\n",
       " '/songteksten/43024/evanescence/anywhere.htm',\n",
       " '/songteksten/68458/evanescence/cartoon-network.htm',\n",
       " '/songteksten/360750/evanescence/made-of-stone-.htm',\n",
       " '/songteksten/67515/evanescence/weight-of-the-world.htm',\n",
       " '/songteksten/174661/evanescence/field-of-innocence.htm',\n",
       " '/songteksten/43026/evanescence/can-t-wash-it-all-away.htm',\n",
       " '/songteksten/67505/evanescence/call-me-when-you-re-sober.htm',\n",
       " '/songteksten/47280/evanescence/october.htm',\n",
       " '/songteksten/47539/evanescence/real-life.htm',\n",
       " '/songteksten/add',\n",
       " '/songteksten/45472/evanescence/give-unto-me.htm',\n",
       " '/songteksten/45011/evanescence/broken.htm',\n",
       " '/songteksten/41318/evanescence/tourniquet.htm',\n",
       " '/songteksten/360788/evanescence/my-heart-is-broken.htm',\n",
       " 'http://www.google.com/+songteksten',\n",
       " '/songteksten/44308/evanescence/breathe-no-more.htm',\n",
       " '/songteksten/795872/evanescence/disappear.htm',\n",
       " '/songteksten/41317/evanescence/taking-over-me.htm',\n",
       " '/songteksten/49745/evanescence/heart-shaped-box.htm',\n",
       " '/songteksten/43025/evanescence/i-must-be-dreaming.htm',\n",
       " '/songteksten/41305/evanescence/bring-me-to-life.htm',\n",
       " '/songteksten/42850/evanescence/imaginary.htm',\n",
       " '/songteksten/890454/evanescence/the-end-of-the-dream.htm',\n",
       " '/songteksten/48713/evanescence/bleed.htm',\n",
       " '/search',\n",
       " '/songteksten/891173/evanescence/bring-me-to-life--synthesis-.htm',\n",
       " '/songteksten/174663/evanescence/demise.htm',\n",
       " '/songteksten/53025/evanescence/thoughless.htm',\n",
       " '/songteksten/48710/evanescence/exodus.htm',\n",
       " '/songteksten/49746/evanescence/missing--not-for-your-ears-.htm',\n",
       " '/songteksten/889460/evanescence/imperfection.htm',\n",
       " '/songteksten/67509/evanescence/like-you.htm',\n",
       " '/songteksten/67513/evanescence/sweet-sacrifice.htm',\n",
       " '#',\n",
       " '/songteksten/41319/evanescence/wake-me-up-inside.htm',\n",
       " '/songteksten/74928/evanescence/lynn.htm',\n",
       " '/songteksten/795425/evanescence/lost-in-paradise.htm',\n",
       " '/songteksten/50227/evanescence/fallen.htm',\n",
       " '/songteksten/74926/evanescence/imaginery.htm',\n",
       " '/songteksten/174660/evanescence/origin.htm',\n",
       " '/songteksten/53438/evanescence/feel-for-you.htm',\n",
       " '/browse/e.htm',\n",
       " '/keuze',\n",
       " '/songteksten/67732/evanescence/lacrymose.htm',\n",
       " '/artiest/4713/video/evanescence.htm',\n",
       " '/songteksten/45470/evanescence/listen-to-the-rain.htm',\n",
       " '/index.php',\n",
       " '/songteksten/56458/evanescence/wisper.htm',\n",
       " '/songteksten/43244/evanescence/understanding.htm',\n",
       " '/songteksten/67512/evanescence/snow-white-queen.htm',\n",
       " '/songteksten/53789/evanescence/solitude.htm',\n",
       " '/songteksten/41309/evanescence/fields-of-innocence.htm',\n",
       " '/songteksten/795423/evanescence/oceans.htm',\n",
       " '/songteksten/67514/evanescence/the-only-one.htm',\n",
       " '/songteksten/67510/evanescence/lithium.htm',\n",
       " '/songteksten/41812/evanescence/even-in-death.htm',\n",
       " '/songteksten/74927/evanescence/jealous.htm',\n",
       " '/artiest/4713/evanescence',\n",
       " '/songteksten/41307/evanescence/exodus--demo-.htm',\n",
       " '/songteksten/41320/evanescence/whisper.htm',\n",
       " '/songteksten/41316/evanescence/my-last-breath.htm',\n",
       " '/artiest/4713/2/evanescence.htm',\n",
       " '/songteksten/363714/evanescence/new-way-to-bleed.htm',\n",
       " '/songteksten/795426/evanescence/the-other-side.htm',\n",
       " '/songteksten/174659/evanescence/the-end.htm',\n",
       " '/songteksten/45786/evanescence/thoughtless.htm',\n",
       " '/songteksten/67504/evanescence/all-that-i-m-living-for.htm',\n",
       " '/songteksten/67506/evanescence/cloud-nine.htm',\n",
       " '/songteksten/174658/evanescence/goodnight.htm',\n",
       " '/songteksten/994425/evanescence/the-in-between--piano-solo-.htm',\n",
       " '/songteksten/994419/evanescence/overture.htm',\n",
       " '/songteksten/174664/evanescence/ascension-of-the-spirit.htm',\n",
       " '/songteksten/42848/evanescence/forgive-me.htm',\n",
       " '/songteksten/174662/evanescence/eternal.htm',\n",
       " '/songteksten/67698/evanescence/sweet-sacrafice.htm',\n",
       " '/songteksten/361700/evanescence/say-you-will.htm',\n",
       " '/songteksten/67507/evanescence/good-enough.htm',\n",
       " '/songteksten/41310/evanescence/going-under.htm',\n",
       " '/songteksten/48712/evanescence/you--amy-lee-solo-.htm',\n",
       " '/songteksten/795424/evanescence/sick.htm',\n",
       " 'https://www.twitter.com/songtekstennl',\n",
       " '/songteksten/43243/evanescence/anything-for-you.htm',\n",
       " '/songteksten/43023/evanescence/where-will-you-go.htm']"
      ]
     },
     "execution_count": 10,
     "metadata": {},
     "output_type": "execute_result"
    }
   ],
   "source": [
    "list_links_lyrics_songteksten_nl"
   ]
  },
  {
   "cell_type": "code",
   "execution_count": 11,
   "metadata": {
    "ExecuteTime": {
     "end_time": "2020-01-08T14:42:31.191859Z",
     "start_time": "2020-01-08T14:42:31.176898Z"
    }
   },
   "outputs": [
    {
     "data": {
      "text/plain": [
       "112"
      ]
     },
     "execution_count": 11,
     "metadata": {},
     "output_type": "execute_result"
    }
   ],
   "source": [
    "# Only keeping the hyperlinks of the lyrics\n",
    "\n",
    "list_links_lyrics_songteksten_nl = [link for link in list_links_lyrics_songteksten_nl \n",
    "                                    if ('/evanescence/' in link) ]\n",
    "\n",
    "len(list_links_lyrics_songteksten_nl)"
   ]
  },
  {
   "cell_type": "code",
   "execution_count": 12,
   "metadata": {
    "ExecuteTime": {
     "end_time": "2020-01-08T14:42:31.236735Z",
     "start_time": "2020-01-08T14:42:31.197841Z"
    }
   },
   "outputs": [
    {
     "data": {
      "text/plain": [
       "['/songteksten/41311/evanescence/haunted.htm',\n",
       " '/songteksten/43246/evanescence/before-the-dawn.htm',\n",
       " '/songteksten/795422/evanescence/never-go-back.htm',\n",
       " '/songteksten/66131/evanescence/my-tourniquet.htm',\n",
       " '/songteksten/45785/evanescence/4th-of-july.htm',\n",
       " '/songteksten/74925/evanescence/angel-of-mine.htm',\n",
       " '/songteksten/88807/evanescence/together-again.htm',\n",
       " '/songteksten/41312/evanescence/hello.htm',\n",
       " '/songteksten/890455/evanescence/hi-lo.htm',\n",
       " '/songteksten/67511/evanescence/lose-control.htm',\n",
       " '/songteksten/360790/evanescence/the-change.htm',\n",
       " '/songteksten/42849/evanescence/lies.htm',\n",
       " '/songteksten/367425/evanescence/do-what-you-want.htm',\n",
       " '/songteksten/41306/evanescence/everybody-s-fool.htm',\n",
       " '/songteksten/53790/evanescence/orestes--a-perfect-circle-.htm',\n",
       " '/songteksten/45370/evanescence/goodnite.htm',\n",
       " '/songteksten/49240/evanescence/forever-gone-forever-you.htm',\n",
       " '/songteksten/41321/evanescence/you.htm',\n",
       " '/songteksten/41315/evanescence/my-immortal.htm',\n",
       " '/songteksten/795871/evanescence/secret-door.htm',\n",
       " '/songteksten/67508/evanescence/lacrymosa.htm',\n",
       " '/songteksten/43245/evanescence/missing.htm',\n",
       " '/songteksten/43906/evanescence/away-from-me.htm',\n",
       " '/songteksten/74929/evanescence/the-last-song-i-m-wasting-on-you.htm',\n",
       " '/songteksten/48711/evanescence/forever.htm',\n",
       " '/songteksten/50229/evanescence/you-amy-lee-solo-.htm',\n",
       " '/songteksten/45787/evanescence/zero.htm',\n",
       " '/songteksten/360165/evanescence/sally-s-song.htm',\n",
       " '/songteksten/41308/evanescence/farther-away.htm',\n",
       " '/songteksten/795421/evanescence/swimming-home.htm',\n",
       " '/songteksten/846609/evanescence/all-that-i-am-living-for.htm',\n",
       " '/songteksten/45471/evanescence/so-close.htm',\n",
       " '/songteksten/43242/evanescence/surrender.htm',\n",
       " '/songteksten/43907/evanescence/the-last-day.htm',\n",
       " '/songteksten/795870/evanescence/on-the-songs%3a-lost-in-paradise.htm',\n",
       " '/songteksten/362685/evanescence/erase-this.htm',\n",
       " '/songteksten/360153/evanescence/holding-my-last-breathe.htm',\n",
       " '/songteksten/67516/evanescence/your-star.htm',\n",
       " '/songteksten/41313/evanescence/i-believe-in-you.htm',\n",
       " '/songteksten/360416/evanescence/what-you-want.htm',\n",
       " '/songteksten/43024/evanescence/anywhere.htm',\n",
       " '/songteksten/68458/evanescence/cartoon-network.htm',\n",
       " '/songteksten/360750/evanescence/made-of-stone-.htm',\n",
       " '/songteksten/67515/evanescence/weight-of-the-world.htm',\n",
       " '/songteksten/174661/evanescence/field-of-innocence.htm',\n",
       " '/songteksten/43026/evanescence/can-t-wash-it-all-away.htm',\n",
       " '/songteksten/67505/evanescence/call-me-when-you-re-sober.htm',\n",
       " '/songteksten/47280/evanescence/october.htm',\n",
       " '/songteksten/47539/evanescence/real-life.htm',\n",
       " '/songteksten/45472/evanescence/give-unto-me.htm',\n",
       " '/songteksten/45011/evanescence/broken.htm',\n",
       " '/songteksten/41318/evanescence/tourniquet.htm',\n",
       " '/songteksten/360788/evanescence/my-heart-is-broken.htm',\n",
       " '/songteksten/44308/evanescence/breathe-no-more.htm',\n",
       " '/songteksten/795872/evanescence/disappear.htm',\n",
       " '/songteksten/41317/evanescence/taking-over-me.htm',\n",
       " '/songteksten/49745/evanescence/heart-shaped-box.htm',\n",
       " '/songteksten/43025/evanescence/i-must-be-dreaming.htm',\n",
       " '/songteksten/41305/evanescence/bring-me-to-life.htm',\n",
       " '/songteksten/42850/evanescence/imaginary.htm',\n",
       " '/songteksten/890454/evanescence/the-end-of-the-dream.htm',\n",
       " '/songteksten/48713/evanescence/bleed.htm',\n",
       " '/songteksten/891173/evanescence/bring-me-to-life--synthesis-.htm',\n",
       " '/songteksten/174663/evanescence/demise.htm',\n",
       " '/songteksten/53025/evanescence/thoughless.htm',\n",
       " '/songteksten/48710/evanescence/exodus.htm',\n",
       " '/songteksten/49746/evanescence/missing--not-for-your-ears-.htm',\n",
       " '/songteksten/889460/evanescence/imperfection.htm',\n",
       " '/songteksten/67509/evanescence/like-you.htm',\n",
       " '/songteksten/67513/evanescence/sweet-sacrifice.htm',\n",
       " '/songteksten/41319/evanescence/wake-me-up-inside.htm',\n",
       " '/songteksten/74928/evanescence/lynn.htm',\n",
       " '/songteksten/795425/evanescence/lost-in-paradise.htm',\n",
       " '/songteksten/50227/evanescence/fallen.htm',\n",
       " '/songteksten/74926/evanescence/imaginery.htm',\n",
       " '/songteksten/174660/evanescence/origin.htm',\n",
       " '/songteksten/53438/evanescence/feel-for-you.htm',\n",
       " '/songteksten/67732/evanescence/lacrymose.htm',\n",
       " '/songteksten/45470/evanescence/listen-to-the-rain.htm',\n",
       " '/songteksten/56458/evanescence/wisper.htm',\n",
       " '/songteksten/43244/evanescence/understanding.htm',\n",
       " '/songteksten/67512/evanescence/snow-white-queen.htm',\n",
       " '/songteksten/53789/evanescence/solitude.htm',\n",
       " '/songteksten/41309/evanescence/fields-of-innocence.htm',\n",
       " '/songteksten/795423/evanescence/oceans.htm',\n",
       " '/songteksten/67514/evanescence/the-only-one.htm',\n",
       " '/songteksten/67510/evanescence/lithium.htm',\n",
       " '/songteksten/41812/evanescence/even-in-death.htm',\n",
       " '/songteksten/74927/evanescence/jealous.htm',\n",
       " '/songteksten/41307/evanescence/exodus--demo-.htm',\n",
       " '/songteksten/41320/evanescence/whisper.htm',\n",
       " '/songteksten/41316/evanescence/my-last-breath.htm',\n",
       " '/songteksten/363714/evanescence/new-way-to-bleed.htm',\n",
       " '/songteksten/795426/evanescence/the-other-side.htm',\n",
       " '/songteksten/174659/evanescence/the-end.htm',\n",
       " '/songteksten/45786/evanescence/thoughtless.htm',\n",
       " '/songteksten/67504/evanescence/all-that-i-m-living-for.htm',\n",
       " '/songteksten/67506/evanescence/cloud-nine.htm',\n",
       " '/songteksten/174658/evanescence/goodnight.htm',\n",
       " '/songteksten/994425/evanescence/the-in-between--piano-solo-.htm',\n",
       " '/songteksten/994419/evanescence/overture.htm',\n",
       " '/songteksten/174664/evanescence/ascension-of-the-spirit.htm',\n",
       " '/songteksten/42848/evanescence/forgive-me.htm',\n",
       " '/songteksten/174662/evanescence/eternal.htm',\n",
       " '/songteksten/67698/evanescence/sweet-sacrafice.htm',\n",
       " '/songteksten/361700/evanescence/say-you-will.htm',\n",
       " '/songteksten/67507/evanescence/good-enough.htm',\n",
       " '/songteksten/41310/evanescence/going-under.htm',\n",
       " '/songteksten/48712/evanescence/you--amy-lee-solo-.htm',\n",
       " '/songteksten/795424/evanescence/sick.htm',\n",
       " '/songteksten/43243/evanescence/anything-for-you.htm',\n",
       " '/songteksten/43023/evanescence/where-will-you-go.htm']"
      ]
     },
     "execution_count": 12,
     "metadata": {},
     "output_type": "execute_result"
    }
   ],
   "source": [
    "list_links_lyrics_songteksten_nl"
   ]
  },
  {
   "cell_type": "markdown",
   "metadata": {},
   "source": [
    "A quick inspection reveals often misspelling."
   ]
  },
  {
   "cell_type": "markdown",
   "metadata": {},
   "source": [
    "### Retrieving from [AZLyrics](https://www.azlyrics.com/)\n",
    "\n",
    "The last website investigated as the first one has only one main page with all lyrics. "
   ]
  },
  {
   "cell_type": "code",
   "execution_count": 13,
   "metadata": {
    "ExecuteTime": {
     "end_time": "2020-01-08T14:42:31.429221Z",
     "start_time": "2020-01-08T14:42:31.240725Z"
    }
   },
   "outputs": [
    {
     "name": "stdout",
     "output_type": "stream",
     "text": [
      "\n",
      " Number of links before filtering: 128\n"
     ]
    },
    {
     "data": {
      "text/plain": [
       "['../lyrics/evanescence/madeofstone.html',\n",
       " '//www.azlyrics.com/t.html',\n",
       " '../lyrics/evanescence/beforethedawn.html',\n",
       " '../lyrics/evanescence/anewwaytobleed.html',\n",
       " '../lyrics/evanescence/endofthedream.html',\n",
       " '../a/amylee.html',\n",
       " '../lyrics/evanescence/takingoverme.html',\n",
       " '../lyrics/evanescence/goingunder.html',\n",
       " '../lyrics/evanescence/losecontrol.html',\n",
       " '../lyrics/evanescence/erasethis.html',\n",
       " '../lyrics/evanescence/tourniquet.html',\n",
       " '../lyrics/evanescence/thechain.html',\n",
       " '../lyrics/evanescence/evenindeath2016version.html',\n",
       " '//www.azlyrics.com/a.html',\n",
       " '//www.stlyrics.com',\n",
       " '../lyrics/evanescence/heartshapedbox.html',\n",
       " '../lyrics/evanescence/surrender.html',\n",
       " '../lyrics/evanescence/fartheraway.html',\n",
       " '../lyrics/evanescence/exodus.html',\n",
       " '//www.facebook.com/pages/AZLyricscom/154139197951223',\n",
       " '//www.azlyrics.com/copyright.html',\n",
       " '../lyrics/evanescence/disappear.html',\n",
       " '//www.azlyrics.com/n.html',\n",
       " '../lyrics/evanescence/haunteddemo.html',\n",
       " '//www.azlyrics.com/z.html',\n",
       " '../lyrics/evanescence/sayyouwill.html',\n",
       " '../lyrics/evanescence/myheartisbroken572217.html',\n",
       " '../lyrics/evanescence/likeyou.html',\n",
       " '../lyrics/evanescence/listentotherain.html',\n",
       " '//www.azlyrics.com/w.html',\n",
       " '//www.azlyrics.com/19.html',\n",
       " '../lyrics/evanescence/bleedimustbedreaming.html',\n",
       " '//www.azlyrics.com/d.html',\n",
       " '../lyrics/evanescence/imaginary572221.html',\n",
       " '../lyrics/evanescence/understandingwashitallaway.html',\n",
       " '../lyrics/evanescence/imperfection.html',\n",
       " '//www.azlyrics.com/r.html',\n",
       " '../lyrics/evanescence/whisperoriginversion.html',\n",
       " '../lyrics/evanescence/lies.html',\n",
       " '../lyrics/evanescence/october.html',\n",
       " 'mailto:?subject=Evanescence%20Lyrics&body=https%3A%2F%2Fwww.azlyrics.com%2Fe%2Fevanescence.html',\n",
       " '../lyrics/evanescence/bringmetolifesynthesis.html',\n",
       " '//www.azlyrics.com/l.html',\n",
       " '../lyrics/evanescence/secretdoor.html',\n",
       " '../lyrics/evanescence/forevergoneforeveryou.html',\n",
       " '../lyrics/evanescence/thoughtless.html',\n",
       " '//www.azlyrics.com/adv.html',\n",
       " '../lyrics/evanescence/soclose.html',\n",
       " '//www.azlyrics.com/p.html',\n",
       " '../lyrics/evanescence/imaginary.html',\n",
       " '../lyrics/evanescence/ifyoudontmind.html',\n",
       " '//www.azlyrics.com/cookie.html',\n",
       " '../lyrics/evanescence/goodnight.html',\n",
       " '//www.azlyrics.com/h.html',\n",
       " '../lyrics/evanescence/whisper.html',\n",
       " '../lyrics/evanescence/callmewhenyouresober.html',\n",
       " '../lyrics/evanescence/hello.html',\n",
       " '//www.azlyrics.com/i.html',\n",
       " '//www.azlyrics.com/o.html',\n",
       " '//www.azlyrics.com/f.html',\n",
       " '../lyrics/evanescence/theendofthedream.html',\n",
       " 'https://www.facebook.com/sharer.php?u=https%3A%2F%2Fwww.azlyrics.com%2Fe%2Fevanescence.html&title=Evanescence%20Lyrics&display=page',\n",
       " '//www.azlyrics.com/j.html',\n",
       " '../lyrics/evanescence/hilo.html',\n",
       " '../lyrics/evanescence/myimmortal572226.html',\n",
       " '../lyrics/evanescence/oceans.html',\n",
       " '//www.azlyrics.com/privacy.html',\n",
       " '../lyrics/evanescence/yourstar.html',\n",
       " '../lyrics/evanescence/whatyouwant.html',\n",
       " '../lyrics/evanescence/allthatimlivingfor.html',\n",
       " '../lyrics/evanescence/goodenough.html',\n",
       " '//www.azlyrics.com/v.html',\n",
       " '../lyrics/evanescence/cloudnine.html',\n",
       " '//www.azlyrics.com/q.html',\n",
       " '../lyrics/evanescence/lostwhispers.html',\n",
       " '../lyrics/evanescence/everybodysfool.html',\n",
       " '../lyrics/evanescence/haunted.html',\n",
       " '../lyrics/evanescence/lacrymosa572218.html',\n",
       " '../lyrics/evanescence/imaginaryorigin.html',\n",
       " '../lyrics/evanescence/mylastbreath.html',\n",
       " 'https://twitter.com/intent/tweet?url=https%3A%2F%2Fwww.azlyrics.com%2Fe%2Fevanescence.html&text=Evanescence%20Lyrics',\n",
       " '//www.azlyrics.com/s.html',\n",
       " '../lyrics/evanescence/missing.html',\n",
       " '//www.azlyrics.com',\n",
       " '//www.azlyrics.com/k.html',\n",
       " '//www.azlyrics.com/b.html',\n",
       " '//www.azlyrics.com/u.html',\n",
       " '../lyrics/evanescence/you.html',\n",
       " '../lyrics/evanescence/thelastsongimwastingonyou.html',\n",
       " '//www.azlyrics.com/y.html',\n",
       " '../lyrics/evanescence/bringmetolife.html',\n",
       " '../lyrics/evanescence/nevergoback.html',\n",
       " '../lyrics/evanescence/lithium.html',\n",
       " '../lyrics/evanescence/itwasallalie.html',\n",
       " '../add.php',\n",
       " '../lyrics/evanescence/swimminghome.html',\n",
       " '../lyrics/evanescence/sick.html',\n",
       " '../lyrics/evanescence/theonlyone.html',\n",
       " '//www.azlyrics.com/m.html',\n",
       " '../lyrics/evanescence/snowwhitequeen.html',\n",
       " '//www.azlyrics.com/x.html',\n",
       " '../lyrics/evanescence/togetheragain.html',\n",
       " '../lyrics/evanescence/lacrymosa.html',\n",
       " '../lyrics/evanescence/zero.html',\n",
       " '../lyrics/evanescence/breathenomore.html',\n",
       " '//www.azlyrics.com/c.html',\n",
       " '//www.azlyrics.com/contact.html',\n",
       " '../lyrics/evanescence/fieldofinnocence.html',\n",
       " '../lyrics/evanescence/myimmortal.html',\n",
       " '../lyrics/evanescence/myheartisbroken.html',\n",
       " '../lyrics/evanescence/origin.html',\n",
       " '../lyrics/evanescence/takecover.html',\n",
       " '../lyrics/evanescence/solitude.html',\n",
       " '../lyrics/evanescence/sweetsacrifice.html',\n",
       " '../lyrics/evanescence/lostinparadise.html',\n",
       " '//www.azlyrics.com/e.html',\n",
       " '../lyrics/evanescence/anythingforyou.html',\n",
       " '//www.azlyrics.com/g.html',\n",
       " '../lyrics/evanescence/thechange.html',\n",
       " '../lyrics/evanescence/giveuntome.html',\n",
       " '../lyrics/evanescence/wherewillyougo.html',\n",
       " '../lyrics/evanescence/anywhere.html',\n",
       " '../lyrics/evanescence/theotherside.html',\n",
       " '../lyrics/evanescence/evenindeath.html',\n",
       " '../lyrics/evanescence/awayfromme.html',\n",
       " '../lyrics/evanescence/weightoftheworld.html',\n",
       " '../lyrics/evanescence/untitledyoucantkillthemeinyou.html',\n",
       " '../lyrics/evanescence/forgiveme.html']"
      ]
     },
     "execution_count": 13,
     "metadata": {},
     "output_type": "execute_result"
    }
   ],
   "source": [
    "url = 'https://www.azlyrics.com/e/evanescence.html'\n",
    "\n",
    "list_links_lyrics_azlyrics = retrieve_hyperlinks(url)\n",
    "\n",
    "# removing possible repetitions \n",
    "\n",
    "list_links_lyrics_azlyrics = list(set(list_links_lyrics_azlyrics))\n",
    "\n",
    "print('\\n Number of links before filtering:', len(list_links_lyrics_azlyrics))\n",
    "list_links_lyrics_azlyrics"
   ]
  },
  {
   "cell_type": "markdown",
   "metadata": {},
   "source": [
    "And in this case our filtering list comprehension uses '/lyrics/' to keep only the relevant links. "
   ]
  },
  {
   "cell_type": "code",
   "execution_count": 14,
   "metadata": {
    "ExecuteTime": {
     "end_time": "2020-01-08T14:42:31.451163Z",
     "start_time": "2020-01-08T14:42:31.436204Z"
    }
   },
   "outputs": [
    {
     "name": "stdout",
     "output_type": "stream",
     "text": [
      "\n",
      " Number of links after updated filtering and applying set: 88\n"
     ]
    }
   ],
   "source": [
    "list_links_lyrics_azlyrics = [link for link in list_links_lyrics_azlyrics if '/lyrics/' in link ]\n",
    "\n",
    "print('\\n Number of links after updated filtering and applying set:', len(list_links_lyrics_azlyrics))"
   ]
  },
  {
   "cell_type": "code",
   "execution_count": 15,
   "metadata": {
    "ExecuteTime": {
     "end_time": "2020-01-08T14:42:31.481082Z",
     "start_time": "2020-01-08T14:42:31.456148Z"
    }
   },
   "outputs": [
    {
     "data": {
      "text/plain": [
       "['../lyrics/evanescence/allthatimlivingfor.html',\n",
       " '../lyrics/evanescence/anewwaytobleed.html',\n",
       " '../lyrics/evanescence/anythingforyou.html',\n",
       " '../lyrics/evanescence/anywhere.html',\n",
       " '../lyrics/evanescence/awayfromme.html',\n",
       " '../lyrics/evanescence/beforethedawn.html',\n",
       " '../lyrics/evanescence/bleedimustbedreaming.html',\n",
       " '../lyrics/evanescence/breathenomore.html',\n",
       " '../lyrics/evanescence/bringmetolife.html',\n",
       " '../lyrics/evanescence/bringmetolifesynthesis.html',\n",
       " '../lyrics/evanescence/callmewhenyouresober.html',\n",
       " '../lyrics/evanescence/cloudnine.html',\n",
       " '../lyrics/evanescence/disappear.html',\n",
       " '../lyrics/evanescence/endofthedream.html',\n",
       " '../lyrics/evanescence/erasethis.html',\n",
       " '../lyrics/evanescence/evenindeath.html',\n",
       " '../lyrics/evanescence/evenindeath2016version.html',\n",
       " '../lyrics/evanescence/everybodysfool.html',\n",
       " '../lyrics/evanescence/exodus.html',\n",
       " '../lyrics/evanescence/fartheraway.html',\n",
       " '../lyrics/evanescence/fieldofinnocence.html',\n",
       " '../lyrics/evanescence/forevergoneforeveryou.html',\n",
       " '../lyrics/evanescence/forgiveme.html',\n",
       " '../lyrics/evanescence/giveuntome.html',\n",
       " '../lyrics/evanescence/goingunder.html',\n",
       " '../lyrics/evanescence/goodenough.html',\n",
       " '../lyrics/evanescence/goodnight.html',\n",
       " '../lyrics/evanescence/haunted.html',\n",
       " '../lyrics/evanescence/haunteddemo.html',\n",
       " '../lyrics/evanescence/heartshapedbox.html',\n",
       " '../lyrics/evanescence/hello.html',\n",
       " '../lyrics/evanescence/hilo.html',\n",
       " '../lyrics/evanescence/ifyoudontmind.html',\n",
       " '../lyrics/evanescence/imaginary.html',\n",
       " '../lyrics/evanescence/imaginary572221.html',\n",
       " '../lyrics/evanescence/imaginaryorigin.html',\n",
       " '../lyrics/evanescence/imperfection.html',\n",
       " '../lyrics/evanescence/itwasallalie.html',\n",
       " '../lyrics/evanescence/lacrymosa.html',\n",
       " '../lyrics/evanescence/lacrymosa572218.html',\n",
       " '../lyrics/evanescence/lies.html',\n",
       " '../lyrics/evanescence/likeyou.html',\n",
       " '../lyrics/evanescence/listentotherain.html',\n",
       " '../lyrics/evanescence/lithium.html',\n",
       " '../lyrics/evanescence/losecontrol.html',\n",
       " '../lyrics/evanescence/lostinparadise.html',\n",
       " '../lyrics/evanescence/lostwhispers.html',\n",
       " '../lyrics/evanescence/madeofstone.html',\n",
       " '../lyrics/evanescence/missing.html',\n",
       " '../lyrics/evanescence/myheartisbroken.html',\n",
       " '../lyrics/evanescence/myheartisbroken572217.html',\n",
       " '../lyrics/evanescence/myimmortal.html',\n",
       " '../lyrics/evanescence/myimmortal572226.html',\n",
       " '../lyrics/evanescence/mylastbreath.html',\n",
       " '../lyrics/evanescence/nevergoback.html',\n",
       " '../lyrics/evanescence/oceans.html',\n",
       " '../lyrics/evanescence/october.html',\n",
       " '../lyrics/evanescence/origin.html',\n",
       " '../lyrics/evanescence/sayyouwill.html',\n",
       " '../lyrics/evanescence/secretdoor.html',\n",
       " '../lyrics/evanescence/sick.html',\n",
       " '../lyrics/evanescence/snowwhitequeen.html',\n",
       " '../lyrics/evanescence/soclose.html',\n",
       " '../lyrics/evanescence/solitude.html',\n",
       " '../lyrics/evanescence/surrender.html',\n",
       " '../lyrics/evanescence/sweetsacrifice.html',\n",
       " '../lyrics/evanescence/swimminghome.html',\n",
       " '../lyrics/evanescence/takecover.html',\n",
       " '../lyrics/evanescence/takingoverme.html',\n",
       " '../lyrics/evanescence/thechain.html',\n",
       " '../lyrics/evanescence/thechange.html',\n",
       " '../lyrics/evanescence/theendofthedream.html',\n",
       " '../lyrics/evanescence/thelastsongimwastingonyou.html',\n",
       " '../lyrics/evanescence/theonlyone.html',\n",
       " '../lyrics/evanescence/theotherside.html',\n",
       " '../lyrics/evanescence/thoughtless.html',\n",
       " '../lyrics/evanescence/togetheragain.html',\n",
       " '../lyrics/evanescence/tourniquet.html',\n",
       " '../lyrics/evanescence/understandingwashitallaway.html',\n",
       " '../lyrics/evanescence/untitledyoucantkillthemeinyou.html',\n",
       " '../lyrics/evanescence/weightoftheworld.html',\n",
       " '../lyrics/evanescence/whatyouwant.html',\n",
       " '../lyrics/evanescence/wherewillyougo.html',\n",
       " '../lyrics/evanescence/whisper.html',\n",
       " '../lyrics/evanescence/whisperoriginversion.html',\n",
       " '../lyrics/evanescence/you.html',\n",
       " '../lyrics/evanescence/yourstar.html',\n",
       " '../lyrics/evanescence/zero.html']"
      ]
     },
     "execution_count": 15,
     "metadata": {},
     "output_type": "execute_result"
    }
   ],
   "source": [
    "# organizing in alphabetical order to make visualization easy\n",
    "list_links_lyrics_azlyrics.sort()\n",
    "list_links_lyrics_azlyrics"
   ]
  },
  {
   "cell_type": "markdown",
   "metadata": {},
   "source": [
    "# **Extract lyrics from a webpage**\n",
    "\n",
    "Now is time to use hyperlinks of the lyrics obtained in the previous section to extract lyrics.\n",
    "\n",
    "From the sites inspected before, I've decided to eliminate songteksten.nl because of the misspelling issues, and I decided to work further with songteksten.net because it seemed to be the less complicate to extract lyrics.\n",
    "\n",
    "The following functions handle this task by using `BeautifullSoup` to parse the html and prettify it. After that I have used some strings methods from Python to have the lyrics both in string format but also in list format."
   ]
  },
  {
   "cell_type": "code",
   "execution_count": 16,
   "metadata": {
    "ExecuteTime": {
     "end_time": "2020-01-08T14:42:31.529951Z",
     "start_time": "2020-01-08T14:42:31.498037Z"
    }
   },
   "outputs": [],
   "source": [
    "def extract_lyric_from_url(url_lyric):\n",
    "    \"\"\" Extract lyrics after prettify beautiful soup from www.songteksten.nl \"\"\"\n",
    "    \n",
    "    \n",
    "    # send a http request\n",
    "    r_lyric = requests.get(url_lyric)\n",
    "    \n",
    "    # obtain text with html containt of the url\n",
    "    html_doc_lyric = r_lyric.text\n",
    "    \n",
    "    # making html easier to read\n",
    "    soup_lyric = BeautifulSoup(html_doc_lyric)\n",
    "\n",
    "    \n",
    "    # prettifying it\n",
    "    soup_lyric_pretty = soup_lyric.prettify()\n",
    "    \n",
    "    # Isolating deal that contains the lyric\n",
    "    \n",
    "    text = soup_lyric_pretty.split('</h1>\\n')[1].split('<div class=\"buma-consent\" role=\"alert\">')[0]\n",
    "\n",
    "    # Cleaning text and building a list with it\n",
    "    list_lyrics = text.split('<br/>\\n')\n",
    "    list_lyrics = [item.replace('\\n','') for item in list_lyrics]\n",
    "    list_lyrics = [item.lstrip().rstrip() for item in list_lyrics]\n",
    "    \n",
    "    # removing empty elements from the list\n",
    "    \n",
    "    for item in list_lyrics:\n",
    "        if str(item) == '':\n",
    "            list_lyrics.remove(item)\n",
    "            \n",
    "    # this part was added after noticing that at least one lyric was not following the normal pattern\n",
    "    \n",
    "    if '<div' in list_lyrics[0]:\n",
    "        list_lyrics = list_lyrics[1:]\n",
    "        \n",
    "        \n",
    "    # Having the lyrics in string format\n",
    "    \n",
    "    lyrics = '. '.join(list_lyrics)\n",
    "            \n",
    "    \n",
    "    # returning both list and string\n",
    "    \n",
    "    return list_lyrics, lyrics"
   ]
  },
  {
   "cell_type": "markdown",
   "metadata": {},
   "source": [
    "## Extracting lyric from songteksten.net"
   ]
  },
  {
   "cell_type": "code",
   "execution_count": 17,
   "metadata": {
    "ExecuteTime": {
     "end_time": "2020-01-08T14:42:31.571839Z",
     "start_time": "2020-01-08T14:42:31.555883Z"
    }
   },
   "outputs": [
    {
     "name": "stdout",
     "output_type": "stream",
     "text": [
      "https://songteksten.net/lyric/1938/30606/evanescence/breathe-no-more.html \n",
      "\n"
     ]
    }
   ],
   "source": [
    "url_lyric = list_links_lyrics_songteksten_net[1]\n",
    "\n",
    "print(url_lyric,'\\n')"
   ]
  },
  {
   "cell_type": "code",
   "execution_count": 18,
   "metadata": {
    "ExecuteTime": {
     "end_time": "2020-01-08T14:42:31.892985Z",
     "start_time": "2020-01-08T14:42:31.577824Z"
    }
   },
   "outputs": [
    {
     "data": {
      "text/plain": [
       "[\"I've been looking in the mirror for so long.\",\n",
       " \"That I've come to believe my soul's on the other side.\",\n",
       " 'Oh the little pieces falling, shatter.',\n",
       " 'Shards of me,',\n",
       " 'Too sharp to put back together.',\n",
       " 'Too small to matter,',\n",
       " 'But big enough to cut me into so many little pieces.',\n",
       " 'If I try to touch her,',\n",
       " 'And I bleed,',\n",
       " 'I bleed,',\n",
       " 'And I breathe,',\n",
       " 'I breathe no more.',\n",
       " 'Take a breath and I try to draw from my spirits well.',\n",
       " 'Yet again you refuse to drink like a stubborn child.',\n",
       " 'Lie to me,',\n",
       " \"Convince me that I've been sick forever.\",\n",
       " 'And all of this,',\n",
       " 'Will make sense when I get better.',\n",
       " 'I know the difference,',\n",
       " 'Between myself and my reflection.',\n",
       " \"I just can't help but to wonder,\",\n",
       " 'Which of us do you love.',\n",
       " 'So I bleed,',\n",
       " 'I bleed,',\n",
       " 'And I breathe,',\n",
       " 'I breathe now...',\n",
       " 'Bleed,',\n",
       " 'I bleed,',\n",
       " 'And I breathe,',\n",
       " 'I breathe,',\n",
       " 'I breathe-',\n",
       " 'I breathe no more.']"
      ]
     },
     "execution_count": 18,
     "metadata": {},
     "output_type": "execute_result"
    }
   ],
   "source": [
    "list_lyrics = extract_lyric_from_url(url_lyric)[0]\n",
    "list_lyrics"
   ]
  },
  {
   "cell_type": "code",
   "execution_count": 19,
   "metadata": {
    "ExecuteTime": {
     "end_time": "2020-01-08T14:42:32.198165Z",
     "start_time": "2020-01-08T14:42:31.900960Z"
    }
   },
   "outputs": [
    {
     "data": {
      "text/plain": [
       "\"I've been looking in the mirror for so long.. That I've come to believe my soul's on the other side.. Oh the little pieces falling, shatter.. Shards of me,. Too sharp to put back together.. Too small to matter,. But big enough to cut me into so many little pieces.. If I try to touch her,. And I bleed,. I bleed,. And I breathe,. I breathe no more.. Take a breath and I try to draw from my spirits well.. Yet again you refuse to drink like a stubborn child.. Lie to me,. Convince me that I've been sick forever.. And all of this,. Will make sense when I get better.. I know the difference,. Between myself and my reflection.. I just can't help but to wonder,. Which of us do you love.. So I bleed,. I bleed,. And I breathe,. I breathe now.... Bleed,. I bleed,. And I breathe,. I breathe,. I breathe-. I breathe no more.\""
      ]
     },
     "execution_count": 19,
     "metadata": {},
     "output_type": "execute_result"
    }
   ],
   "source": [
    "lyrics = extract_lyric_from_url(url_lyric)[1]\n",
    "lyrics"
   ]
  },
  {
   "cell_type": "markdown",
   "metadata": {},
   "source": [
    "### Try another one"
   ]
  },
  {
   "cell_type": "code",
   "execution_count": 20,
   "metadata": {
    "ExecuteTime": {
     "end_time": "2020-01-08T14:42:32.211130Z",
     "start_time": "2020-01-08T14:42:32.203151Z"
    }
   },
   "outputs": [
    {
     "name": "stdout",
     "output_type": "stream",
     "text": [
      "https://songteksten.net/lyric/1938/77224/evanescence/angel-of-mine.html\n"
     ]
    }
   ],
   "source": [
    "url_lyric = list_links_lyrics_songteksten_net[10]\n",
    "\n",
    "print(url_lyric)"
   ]
  },
  {
   "cell_type": "code",
   "execution_count": 21,
   "metadata": {
    "ExecuteTime": {
     "end_time": "2020-01-08T14:42:32.556206Z",
     "start_time": "2020-01-08T14:42:32.217114Z"
    }
   },
   "outputs": [
    {
     "data": {
      "text/plain": [
       "['You are everything I need to see',\n",
       " 'Smile and sunlight makes sunlight to me',\n",
       " 'Laugh and come and look into me',\n",
       " 'Drips of moonlight washing over me',\n",
       " 'Can I show you what you are for me',\n",
       " 'Angel of mine, let me I thank you',\n",
       " 'You have saved me time and time again',\n",
       " 'Angel, I must confess',\n",
       " \"It's you that always gives me strength\",\n",
       " \"And I don't know where I'd be without you\",\n",
       " 'After all these years, one thing is true',\n",
       " 'Constant force within my heart is you',\n",
       " \"You touch me, I feel I'm moving into you\",\n",
       " 'I treasure every day I spend with you',\n",
       " 'All the things I am come down to you',\n",
       " 'Angel of mine',\n",
       " 'Let me thank you',\n",
       " 'You have saved me time and time again',\n",
       " 'Angel, I must confess',\n",
       " \"It's you that always gives me strength\",\n",
       " \"And I don't know where I'd be without you\",\n",
       " 'Back in the arms of my angel',\n",
       " 'Back to the peace that I so love',\n",
       " 'Back in the arms of my angel I can finally rest',\n",
       " 'Giving you a gift that you remind me']"
      ]
     },
     "execution_count": 21,
     "metadata": {},
     "output_type": "execute_result"
    }
   ],
   "source": [
    "list_lyrics = extract_lyric_from_url(url_lyric)[0]\n",
    "list_lyrics"
   ]
  },
  {
   "cell_type": "code",
   "execution_count": 22,
   "metadata": {
    "ExecuteTime": {
     "end_time": "2020-01-08T14:42:32.851418Z",
     "start_time": "2020-01-08T14:42:32.563189Z"
    }
   },
   "outputs": [
    {
     "data": {
      "text/plain": [
       "\"You are everything I need to see. Smile and sunlight makes sunlight to me. Laugh and come and look into me. Drips of moonlight washing over me. Can I show you what you are for me. Angel of mine, let me I thank you. You have saved me time and time again. Angel, I must confess. It's you that always gives me strength. And I don't know where I'd be without you. After all these years, one thing is true. Constant force within my heart is you. You touch me, I feel I'm moving into you. I treasure every day I spend with you. All the things I am come down to you. Angel of mine. Let me thank you. You have saved me time and time again. Angel, I must confess. It's you that always gives me strength. And I don't know where I'd be without you. Back in the arms of my angel. Back to the peace that I so love. Back in the arms of my angel I can finally rest. Giving you a gift that you remind me\""
      ]
     },
     "execution_count": 22,
     "metadata": {},
     "output_type": "execute_result"
    }
   ],
   "source": [
    "lyrics = extract_lyric_from_url(url_lyric)[1]\n",
    "lyrics"
   ]
  },
  {
   "cell_type": "markdown",
   "metadata": {},
   "source": [
    "It seems to work just fine!\n",
    "\n",
    "Let's run for all songs and save all strings in a list so we can use to put together with the data we will put together about songs of Evanescence!"
   ]
  },
  {
   "cell_type": "code",
   "execution_count": 23,
   "metadata": {
    "ExecuteTime": {
     "end_time": "2020-01-08T14:42:32.858420Z",
     "start_time": "2020-01-08T14:42:32.853413Z"
    }
   },
   "outputs": [],
   "source": [
    "list_lyrics_evanescence = []\n",
    "list_title_lyrics_evanescence = []"
   ]
  },
  {
   "cell_type": "code",
   "execution_count": 24,
   "metadata": {
    "ExecuteTime": {
     "end_time": "2020-01-08T14:42:32.887321Z",
     "start_time": "2020-01-08T14:42:32.867377Z"
    }
   },
   "outputs": [
    {
     "data": {
      "text/plain": [
       "86"
      ]
     },
     "execution_count": 24,
     "metadata": {},
     "output_type": "execute_result"
    }
   ],
   "source": [
    "len(list_links_lyrics_songteksten_net)"
   ]
  },
  {
   "cell_type": "code",
   "execution_count": 25,
   "metadata": {
    "ExecuteTime": {
     "end_time": "2020-01-08T14:42:55.140799Z",
     "start_time": "2020-01-08T14:42:32.897295Z"
    }
   },
   "outputs": [],
   "source": [
    "# building lists with titles of lyrics and lyrics\n",
    "\n",
    "for url_lyric in list_links_lyrics_songteksten_net:\n",
    "    \n",
    "    list_title_lyrics_evanescence.append(url_lyric.split('/')[-1].split('.')[-2])\n",
    "    list_lyrics_evanescence.append(extract_lyric_from_url(url_lyric)[1])\n"
   ]
  },
  {
   "cell_type": "markdown",
   "metadata": {},
   "source": [
    "Just verifying that everything is as expected."
   ]
  },
  {
   "cell_type": "code",
   "execution_count": 26,
   "metadata": {
    "ExecuteTime": {
     "end_time": "2020-01-08T14:42:55.197647Z",
     "start_time": "2020-01-08T14:42:55.150773Z"
    }
   },
   "outputs": [
    {
     "data": {
      "text/plain": [
       "86"
      ]
     },
     "execution_count": 26,
     "metadata": {},
     "output_type": "execute_result"
    }
   ],
   "source": [
    "len(list_title_lyrics_evanescence)"
   ]
  },
  {
   "cell_type": "code",
   "execution_count": 27,
   "metadata": {
    "ExecuteTime": {
     "end_time": "2020-01-08T14:42:55.268480Z",
     "start_time": "2020-01-08T14:42:55.201637Z"
    }
   },
   "outputs": [
    {
     "data": {
      "text/plain": [
       "86"
      ]
     },
     "execution_count": 27,
     "metadata": {},
     "output_type": "execute_result"
    }
   ],
   "source": [
    "len(list_lyrics_evanescence)"
   ]
  },
  {
   "cell_type": "markdown",
   "metadata": {},
   "source": [
    "Now we create a Pandas data frame with song title and lyrics that will be saved in .csv format for later use."
   ]
  },
  {
   "cell_type": "code",
   "execution_count": 28,
   "metadata": {
    "ExecuteTime": {
     "end_time": "2020-01-08T14:42:57.764783Z",
     "start_time": "2020-01-08T14:42:55.272447Z"
    }
   },
   "outputs": [],
   "source": [
    "# Creating a dataframe with song titles and lyrics\n",
    "\n",
    "import pandas as pd\n",
    "df = pd.DataFrame({'song_title': list_title_lyrics_evanescence,\n",
    "                  'lyrics': list_lyrics_evanescence})"
   ]
  },
  {
   "cell_type": "code",
   "execution_count": 29,
   "metadata": {
    "ExecuteTime": {
     "end_time": "2020-01-08T14:42:57.812656Z",
     "start_time": "2020-01-08T14:42:57.769771Z"
    },
    "scrolled": false
   },
   "outputs": [
    {
     "data": {
      "text/html": [
       "<div>\n",
       "<style scoped>\n",
       "    .dataframe tbody tr th:only-of-type {\n",
       "        vertical-align: middle;\n",
       "    }\n",
       "\n",
       "    .dataframe tbody tr th {\n",
       "        vertical-align: top;\n",
       "    }\n",
       "\n",
       "    .dataframe thead th {\n",
       "        text-align: right;\n",
       "    }\n",
       "</style>\n",
       "<table border=\"1\" class=\"dataframe\">\n",
       "  <thead>\n",
       "    <tr style=\"text-align: right;\">\n",
       "      <th></th>\n",
       "      <th>song_title</th>\n",
       "      <th>lyrics</th>\n",
       "    </tr>\n",
       "  </thead>\n",
       "  <tbody>\n",
       "    <tr>\n",
       "      <th>0</th>\n",
       "      <td>wake-me-up-inside-bring-me-to-life</td>\n",
       "      <td>How can you see into my eyes. Like open doors....</td>\n",
       "    </tr>\n",
       "    <tr>\n",
       "      <th>1</th>\n",
       "      <td>breathe-no-more</td>\n",
       "      <td>I've been looking in the mirror for so long.. ...</td>\n",
       "    </tr>\n",
       "    <tr>\n",
       "      <th>2</th>\n",
       "      <td>going-under</td>\n",
       "      <td>now I will tell you what I've done for you. 50...</td>\n",
       "    </tr>\n",
       "    <tr>\n",
       "      <th>3</th>\n",
       "      <td>bleed</td>\n",
       "      <td>How can I pretend that I don't see. What you h...</td>\n",
       "    </tr>\n",
       "    <tr>\n",
       "      <th>4</th>\n",
       "      <td>the-only-one</td>\n",
       "      <td>When they all come crashing down- midflight. y...</td>\n",
       "    </tr>\n",
       "  </tbody>\n",
       "</table>\n",
       "</div>"
      ],
      "text/plain": [
       "                           song_title  \\\n",
       "0  wake-me-up-inside-bring-me-to-life   \n",
       "1                     breathe-no-more   \n",
       "2                         going-under   \n",
       "3                               bleed   \n",
       "4                        the-only-one   \n",
       "\n",
       "                                              lyrics  \n",
       "0  How can you see into my eyes. Like open doors....  \n",
       "1  I've been looking in the mirror for so long.. ...  \n",
       "2  now I will tell you what I've done for you. 50...  \n",
       "3  How can I pretend that I don't see. What you h...  \n",
       "4  When they all come crashing down- midflight. y...  "
      ]
     },
     "execution_count": 29,
     "metadata": {},
     "output_type": "execute_result"
    }
   ],
   "source": [
    "df.head()"
   ]
  },
  {
   "cell_type": "markdown",
   "metadata": {},
   "source": [
    "Before saving this data frame in .csv format for future use let's remove '-' from the song title and make all titles lower case by applying '.lower()'.\n",
    "\n",
    "By keeping the format of song's title uniform we make our life easier when wanting to add more information about those songs. For instances, some metadata, like album title and year that was recorded."
   ]
  },
  {
   "cell_type": "code",
   "execution_count": 30,
   "metadata": {
    "ExecuteTime": {
     "end_time": "2020-01-08T14:42:57.835593Z",
     "start_time": "2020-01-08T14:42:57.819634Z"
    }
   },
   "outputs": [],
   "source": [
    "df['song_title'] = df['song_title'].apply(lambda x: x.replace('-',' ').lower())"
   ]
  },
  {
   "cell_type": "code",
   "execution_count": 31,
   "metadata": {
    "ExecuteTime": {
     "end_time": "2020-01-08T14:42:57.889449Z",
     "start_time": "2020-01-08T14:42:57.844568Z"
    }
   },
   "outputs": [
    {
     "data": {
      "text/html": [
       "<div>\n",
       "<style scoped>\n",
       "    .dataframe tbody tr th:only-of-type {\n",
       "        vertical-align: middle;\n",
       "    }\n",
       "\n",
       "    .dataframe tbody tr th {\n",
       "        vertical-align: top;\n",
       "    }\n",
       "\n",
       "    .dataframe thead th {\n",
       "        text-align: right;\n",
       "    }\n",
       "</style>\n",
       "<table border=\"1\" class=\"dataframe\">\n",
       "  <thead>\n",
       "    <tr style=\"text-align: right;\">\n",
       "      <th></th>\n",
       "      <th>song_title</th>\n",
       "      <th>lyrics</th>\n",
       "    </tr>\n",
       "  </thead>\n",
       "  <tbody>\n",
       "    <tr>\n",
       "      <th>0</th>\n",
       "      <td>wake me up inside bring me to life</td>\n",
       "      <td>How can you see into my eyes. Like open doors....</td>\n",
       "    </tr>\n",
       "    <tr>\n",
       "      <th>1</th>\n",
       "      <td>breathe no more</td>\n",
       "      <td>I've been looking in the mirror for so long.. ...</td>\n",
       "    </tr>\n",
       "    <tr>\n",
       "      <th>2</th>\n",
       "      <td>going under</td>\n",
       "      <td>now I will tell you what I've done for you. 50...</td>\n",
       "    </tr>\n",
       "    <tr>\n",
       "      <th>3</th>\n",
       "      <td>bleed</td>\n",
       "      <td>How can I pretend that I don't see. What you h...</td>\n",
       "    </tr>\n",
       "    <tr>\n",
       "      <th>4</th>\n",
       "      <td>the only one</td>\n",
       "      <td>When they all come crashing down- midflight. y...</td>\n",
       "    </tr>\n",
       "  </tbody>\n",
       "</table>\n",
       "</div>"
      ],
      "text/plain": [
       "                           song_title  \\\n",
       "0  wake me up inside bring me to life   \n",
       "1                     breathe no more   \n",
       "2                         going under   \n",
       "3                               bleed   \n",
       "4                        the only one   \n",
       "\n",
       "                                              lyrics  \n",
       "0  How can you see into my eyes. Like open doors....  \n",
       "1  I've been looking in the mirror for so long.. ...  \n",
       "2  now I will tell you what I've done for you. 50...  \n",
       "3  How can I pretend that I don't see. What you h...  \n",
       "4  When they all come crashing down- midflight. y...  "
      ]
     },
     "execution_count": 31,
     "metadata": {},
     "output_type": "execute_result"
    }
   ],
   "source": [
    "df.head()"
   ]
  },
  {
   "cell_type": "code",
   "execution_count": 32,
   "metadata": {
    "ExecuteTime": {
     "end_time": "2020-01-08T14:42:57.931336Z",
     "start_time": "2020-01-08T14:42:57.901416Z"
    }
   },
   "outputs": [],
   "source": [
    "# saving dataframe to .csv\n",
    "\n",
    "df.to_csv(\"./data/lyrics_evanescence.csv\", index = False)"
   ]
  },
  {
   "cell_type": "code",
   "execution_count": 33,
   "metadata": {
    "ExecuteTime": {
     "end_time": "2020-01-08T14:42:58.055007Z",
     "start_time": "2020-01-08T14:42:57.937323Z"
    }
   },
   "outputs": [
    {
     "data": {
      "text/html": [
       "<div>\n",
       "<style scoped>\n",
       "    .dataframe tbody tr th:only-of-type {\n",
       "        vertical-align: middle;\n",
       "    }\n",
       "\n",
       "    .dataframe tbody tr th {\n",
       "        vertical-align: top;\n",
       "    }\n",
       "\n",
       "    .dataframe thead th {\n",
       "        text-align: right;\n",
       "    }\n",
       "</style>\n",
       "<table border=\"1\" class=\"dataframe\">\n",
       "  <thead>\n",
       "    <tr style=\"text-align: right;\">\n",
       "      <th></th>\n",
       "      <th>song_title</th>\n",
       "      <th>lyrics</th>\n",
       "    </tr>\n",
       "  </thead>\n",
       "  <tbody>\n",
       "    <tr>\n",
       "      <th>0</th>\n",
       "      <td>wake me up inside bring me to life</td>\n",
       "      <td>How can you see into my eyes. Like open doors....</td>\n",
       "    </tr>\n",
       "    <tr>\n",
       "      <th>1</th>\n",
       "      <td>breathe no more</td>\n",
       "      <td>I've been looking in the mirror for so long.. ...</td>\n",
       "    </tr>\n",
       "    <tr>\n",
       "      <th>2</th>\n",
       "      <td>going under</td>\n",
       "      <td>now I will tell you what I've done for you. 50...</td>\n",
       "    </tr>\n",
       "    <tr>\n",
       "      <th>3</th>\n",
       "      <td>bleed</td>\n",
       "      <td>How can I pretend that I don't see. What you h...</td>\n",
       "    </tr>\n",
       "    <tr>\n",
       "      <th>4</th>\n",
       "      <td>the only one</td>\n",
       "      <td>When they all come crashing down- midflight. y...</td>\n",
       "    </tr>\n",
       "  </tbody>\n",
       "</table>\n",
       "</div>"
      ],
      "text/plain": [
       "                           song_title  \\\n",
       "0  wake me up inside bring me to life   \n",
       "1                     breathe no more   \n",
       "2                         going under   \n",
       "3                               bleed   \n",
       "4                        the only one   \n",
       "\n",
       "                                              lyrics  \n",
       "0  How can you see into my eyes. Like open doors....  \n",
       "1  I've been looking in the mirror for so long.. ...  \n",
       "2  now I will tell you what I've done for you. 50...  \n",
       "3  How can I pretend that I don't see. What you h...  \n",
       "4  When they all come crashing down- midflight. y...  "
      ]
     },
     "execution_count": 33,
     "metadata": {},
     "output_type": "execute_result"
    }
   ],
   "source": [
    "# testing saved .csv\n",
    "\n",
    "df2 = pd.read_csv(\"./data/lyrics_evanescence.csv\")\n",
    "\n",
    "df2.head()"
   ]
  },
  {
   "cell_type": "code",
   "execution_count": 34,
   "metadata": {
    "ExecuteTime": {
     "end_time": "2020-01-08T14:42:58.090909Z",
     "start_time": "2020-01-08T14:42:58.072957Z"
    }
   },
   "outputs": [
    {
     "data": {
      "text/plain": [
       "(86, 2)"
      ]
     },
     "execution_count": 34,
     "metadata": {},
     "output_type": "execute_result"
    }
   ],
   "source": [
    "df2.shape"
   ]
  },
  {
   "cell_type": "code",
   "execution_count": 35,
   "metadata": {
    "ExecuteTime": {
     "end_time": "2020-01-08T14:42:58.112851Z",
     "start_time": "2020-01-08T14:42:58.098887Z"
    }
   },
   "outputs": [],
   "source": [
    "del df2"
   ]
  },
  {
   "cell_type": "markdown",
   "metadata": {},
   "source": [
    "# **Applying the same to Within Temptation**\n",
    "\n",
    "Previously, we have tried 4 different lyrics' websites to retrieve Evanescence's lyrics and we have chosen songteksten.net to extract those lyrics. \n",
    "\n",
    "Some reasons why I chose `songteksten.net`:\n",
    "\n",
    "1. When filtering we used `songteksten.net/lyric/number_of_the_artist` and this can be extracted from the url which make easy for us to generalize the code for both or even other bands.\n",
    "\n",
    "2. Title of the songs are of the form words separated by '-' which can be easily put in a form to facilitate merging with additional data as we've already planned.\n",
    "\n",
    "Summarizing, the steps to retrieve lyrics are:\n",
    "\n",
    "1. Apply function to retrieve hyperlinks\n",
    "2. Filter out hyperlinks that do not contain lyrics\n",
    "3. Apply function to retrieve hyperlinks (Step 1) to extract lyrics.\n",
    "\n",
    "And those will be now also applied to retrieve lyrics of Within Temptation.\n"
   ]
  },
  {
   "cell_type": "markdown",
   "metadata": {},
   "source": [
    "## STEP 1 - Retrieving hyperlinks from songteksten.net"
   ]
  },
  {
   "cell_type": "code",
   "execution_count": 36,
   "metadata": {
    "ExecuteTime": {
     "end_time": "2020-01-08T14:42:58.976542Z",
     "start_time": "2020-01-08T14:42:58.119832Z"
    }
   },
   "outputs": [
    {
     "name": "stdout",
     "output_type": "stream",
     "text": [
      "Number of links before filtering: 220\n"
     ]
    }
   ],
   "source": [
    "# retrieving all hyperlinks\n",
    "urls = ['https://songteksten.net/artist/lyrics/320/within-temptation.html',\n",
    "       'https://songteksten.net/artist/lyrics/320/within-temptation/page/2.html',\n",
    "       'https://songteksten.net/artist/lyrics/320/within-temptation/page/3.html']\n",
    "\n",
    "list_links_lyrics_songteksten_net = []\n",
    "\n",
    "for url in urls:\n",
    "    list_links_lyrics_songteksten_net.extend(retrieve_hyperlinks(url))\n",
    "    \n",
    "# removing possible duplicates\n",
    "list_links_lyrics_songteksten_net = list(set(list_links_lyrics_songteksten_net))\n",
    "\n",
    "    \n",
    "print('Number of links before filtering:', len(list_links_lyrics_songteksten_net))"
   ]
  },
  {
   "cell_type": "code",
   "execution_count": 37,
   "metadata": {
    "ExecuteTime": {
     "end_time": "2020-01-08T14:42:59.006461Z",
     "start_time": "2020-01-08T14:42:58.985516Z"
    }
   },
   "outputs": [
    {
     "data": {
      "text/plain": [
       "['https://songteksten.net/artists/u.html',\n",
       " 'https://songteksten.net/artists/7.html',\n",
       " 'https://songteksten.net/lyric/320/24061/within-temptation/world-of-make-believe.html',\n",
       " 'https://songteksten.net/artists/j.html',\n",
       " 'https://songteksten.net/lyric/2294/46260/leonard-cohen/hallelujah.html',\n",
       " 'https://songteksten.net/lyric/320/89805/within-temptation/fire-and-ice.html',\n",
       " 'https://songteksten.net/artists/x.html',\n",
       " 'https://songteksten.net/lyric/9173/102289/tones-and-i/dance-monkey.html',\n",
       " 'https://songteksten.net/adverteren.html',\n",
       " '//songteksten.net/albums/add.html']"
      ]
     },
     "execution_count": 37,
     "metadata": {},
     "output_type": "execute_result"
    }
   ],
   "source": [
    "list_links_lyrics_songteksten_net[:10]"
   ]
  },
  {
   "cell_type": "markdown",
   "metadata": {},
   "source": [
    "## STEP 2 - Keeping only hyperlinks of lyrics"
   ]
  },
  {
   "cell_type": "code",
   "execution_count": 38,
   "metadata": {
    "ExecuteTime": {
     "end_time": "2020-01-08T14:42:59.043363Z",
     "start_time": "2020-01-08T14:42:59.012444Z"
    }
   },
   "outputs": [
    {
     "name": "stdout",
     "output_type": "stream",
     "text": [
      "Number of links after filtering: 74\n"
     ]
    }
   ],
   "source": [
    "# filtering hyperlinks which contain lyrics - specific for songteksten.net\n",
    "\n",
    "# using url address to filter lyrics\n",
    "\n",
    "spliting = urls[0].split('/')\n",
    "filter_lyrics = spliting[2]+'/lyric/'+spliting[-2]\n",
    "\n",
    "list_links_lyrics_songteksten_net = [link for link in list_links_lyrics_songteksten_net if (filter_lyrics \n",
    "                                                                              in link) ]\n",
    "\n",
    "print('Number of links after filtering:', len(list_links_lyrics_songteksten_net))"
   ]
  },
  {
   "cell_type": "code",
   "execution_count": 39,
   "metadata": {
    "ExecuteTime": {
     "end_time": "2020-01-08T14:42:59.076276Z",
     "start_time": "2020-01-08T14:42:59.049346Z"
    }
   },
   "outputs": [
    {
     "name": "stdout",
     "output_type": "stream",
     "text": [
      "https://songteksten.net/lyric/320/89805/within-temptation/fire-and-ice.html\n"
     ]
    }
   ],
   "source": [
    "url_lyric = list_links_lyrics_songteksten_net[1]\n",
    "\n",
    "print(url_lyric)"
   ]
  },
  {
   "cell_type": "markdown",
   "metadata": {},
   "source": [
    "## STEP 3 - Extracting song titles and lyrics from lyric's hyperlink"
   ]
  },
  {
   "cell_type": "code",
   "execution_count": 40,
   "metadata": {
    "ExecuteTime": {
     "end_time": "2020-01-08T14:42:59.415367Z",
     "start_time": "2020-01-08T14:42:59.086247Z"
    }
   },
   "outputs": [
    {
     "data": {
      "text/plain": [
       "[\"Every word you're saying is a lie\",\n",
       " 'Run away my dear',\n",
       " 'But every sign will say',\n",
       " 'Your heart is dead',\n",
       " 'Bury all the memories',\n",
       " 'Cover them with dirt',\n",
       " \"Where's the love we once had\",\n",
       " \"Our destiny's unsure\",\n",
       " \"Why can't you see what we had\",\n",
       " 'Let the fire burn the ice',\n",
       " \"Where's the love we once had\",\n",
       " 'Is it all a lie',\n",
       " 'And I still wonder',\n",
       " 'Why heaven has died',\n",
       " 'The skies are all falling',\n",
       " \"I'm breathing but why\",\n",
       " 'In silence I hold on',\n",
       " 'To you and I',\n",
       " 'Closer to insantiy',\n",
       " 'Buries me alive',\n",
       " \"Where's the life we once had\",\n",
       " 'It cannot be denied',\n",
       " \"Why can't you see what we had\",\n",
       " 'Let the fire burn the ice',\n",
       " \"Where's the love we once had\",\n",
       " 'Is it all a lie',\n",
       " 'And I still wonder',\n",
       " 'Why heaven has died',\n",
       " 'The skies are all falling',\n",
       " \"I'm breathing but why\",\n",
       " 'In silence I hold on',\n",
       " 'To you and I',\n",
       " 'You run away, you hide away',\n",
       " 'To the other side of the universe',\n",
       " \"Where you're safe from all that hunts you down\",\n",
       " 'But the world has gone, where you belong',\n",
       " \"And it feels too late so you're moving on\",\n",
       " 'Can you find your way back home',\n",
       " 'And I still wonder',\n",
       " 'Why heaven has died',\n",
       " 'The skies are all falling',\n",
       " \"I'm breathing but why\",\n",
       " 'In silence I hold on',\n",
       " 'To you and I',\n",
       " \"Every word you're saying is a lie\"]"
      ]
     },
     "execution_count": 40,
     "metadata": {},
     "output_type": "execute_result"
    }
   ],
   "source": [
    "# lyrics in form of list\n",
    "list_lyrics = extract_lyric_from_url(url_lyric)[0]\n",
    "list_lyrics"
   ]
  },
  {
   "cell_type": "code",
   "execution_count": 41,
   "metadata": {
    "ExecuteTime": {
     "end_time": "2020-01-08T14:42:59.756457Z",
     "start_time": "2020-01-08T14:42:59.426348Z"
    }
   },
   "outputs": [
    {
     "data": {
      "text/plain": [
       "\"Every word you're saying is a lie. Run away my dear. But every sign will say. Your heart is dead. Bury all the memories. Cover them with dirt. Where's the love we once had. Our destiny's unsure. Why can't you see what we had. Let the fire burn the ice. Where's the love we once had. Is it all a lie. And I still wonder. Why heaven has died. The skies are all falling. I'm breathing but why. In silence I hold on. To you and I. Closer to insantiy. Buries me alive. Where's the life we once had. It cannot be denied. Why can't you see what we had. Let the fire burn the ice. Where's the love we once had. Is it all a lie. And I still wonder. Why heaven has died. The skies are all falling. I'm breathing but why. In silence I hold on. To you and I. You run away, you hide away. To the other side of the universe. Where you're safe from all that hunts you down. But the world has gone, where you belong. And it feels too late so you're moving on. Can you find your way back home. And I still wonder. Why heaven has died. The skies are all falling. I'm breathing but why. In silence I hold on. To you and I. Every word you're saying is a lie\""
      ]
     },
     "execution_count": 41,
     "metadata": {},
     "output_type": "execute_result"
    }
   ],
   "source": [
    "# lyrics in form of string\n",
    "\n",
    "lyrics = extract_lyric_from_url(url_lyric)[1]\n",
    "lyrics"
   ]
  },
  {
   "cell_type": "markdown",
   "metadata": {},
   "source": [
    "## Saving song's titles and lyrics in a .csv file\n",
    "\n",
    "Just like before we save the result in a .csv to be used in our further analysis."
   ]
  },
  {
   "cell_type": "code",
   "execution_count": 42,
   "metadata": {
    "ExecuteTime": {
     "end_time": "2020-01-08T14:43:19.372607Z",
     "start_time": "2020-01-08T14:42:59.770418Z"
    }
   },
   "outputs": [],
   "source": [
    "# building lists with titles of lyrics and lyrics\n",
    "list_title_lyrics_within_temptation = []\n",
    "list_lyrics_within_temptation = []\n",
    "\n",
    "for url_lyric in list_links_lyrics_songteksten_net:\n",
    "    \n",
    "    list_title_lyrics_within_temptation.append(url_lyric.split('/')[-1].split('.')[-2])\n",
    "    list_lyrics_within_temptation.append(extract_lyric_from_url(url_lyric)[1])\n"
   ]
  },
  {
   "cell_type": "code",
   "execution_count": 43,
   "metadata": {
    "ExecuteTime": {
     "end_time": "2020-01-08T14:43:19.386400Z",
     "start_time": "2020-01-08T14:43:19.374457Z"
    }
   },
   "outputs": [
    {
     "data": {
      "text/plain": [
       "74"
      ]
     },
     "execution_count": 43,
     "metadata": {},
     "output_type": "execute_result"
    }
   ],
   "source": [
    "len(list_title_lyrics_within_temptation)"
   ]
  },
  {
   "cell_type": "code",
   "execution_count": 44,
   "metadata": {
    "ExecuteTime": {
     "end_time": "2020-01-08T14:43:19.420313Z",
     "start_time": "2020-01-08T14:43:19.389390Z"
    }
   },
   "outputs": [
    {
     "data": {
      "text/plain": [
       "74"
      ]
     },
     "execution_count": 44,
     "metadata": {},
     "output_type": "execute_result"
    }
   ],
   "source": [
    "len(list_lyrics_within_temptation)"
   ]
  },
  {
   "cell_type": "code",
   "execution_count": 45,
   "metadata": {
    "ExecuteTime": {
     "end_time": "2020-01-08T14:43:19.440254Z",
     "start_time": "2020-01-08T14:43:19.422302Z"
    }
   },
   "outputs": [],
   "source": [
    "df = pd.DataFrame({'song_title': list_title_lyrics_within_temptation,\n",
    "                  'lyrics': list_lyrics_within_temptation})"
   ]
  },
  {
   "cell_type": "code",
   "execution_count": 46,
   "metadata": {
    "ExecuteTime": {
     "end_time": "2020-01-08T14:43:19.457209Z",
     "start_time": "2020-01-08T14:43:19.445240Z"
    }
   },
   "outputs": [],
   "source": [
    "# Here we also remove '-' from the title of the songs\n",
    "\n",
    "df['song_title'] = df['song_title'].apply(lambda x: x.replace('-',' ').lower())"
   ]
  },
  {
   "cell_type": "code",
   "execution_count": 47,
   "metadata": {
    "ExecuteTime": {
     "end_time": "2020-01-08T14:43:19.503085Z",
     "start_time": "2020-01-08T14:43:19.462195Z"
    }
   },
   "outputs": [
    {
     "data": {
      "text/html": [
       "<div>\n",
       "<style scoped>\n",
       "    .dataframe tbody tr th:only-of-type {\n",
       "        vertical-align: middle;\n",
       "    }\n",
       "\n",
       "    .dataframe tbody tr th {\n",
       "        vertical-align: top;\n",
       "    }\n",
       "\n",
       "    .dataframe thead th {\n",
       "        text-align: right;\n",
       "    }\n",
       "</style>\n",
       "<table border=\"1\" class=\"dataframe\">\n",
       "  <thead>\n",
       "    <tr style=\"text-align: right;\">\n",
       "      <th></th>\n",
       "      <th>song_title</th>\n",
       "      <th>lyrics</th>\n",
       "    </tr>\n",
       "  </thead>\n",
       "  <tbody>\n",
       "    <tr>\n",
       "      <th>0</th>\n",
       "      <td>world of make believe</td>\n",
       "      <td>On golden wings. She flies at night. With her ...</td>\n",
       "    </tr>\n",
       "    <tr>\n",
       "      <th>1</th>\n",
       "      <td>fire and ice</td>\n",
       "      <td>Every word you're saying is a lie. Run away my...</td>\n",
       "    </tr>\n",
       "    <tr>\n",
       "      <th>2</th>\n",
       "      <td>grace</td>\n",
       "      <td>Cold are the bones of thy soldiers. Longing fo...</td>\n",
       "    </tr>\n",
       "    <tr>\n",
       "      <th>3</th>\n",
       "      <td>overcome</td>\n",
       "      <td>Where are the heroes. I my time of need. Is my...</td>\n",
       "    </tr>\n",
       "    <tr>\n",
       "      <th>4</th>\n",
       "      <td>somewhere</td>\n",
       "      <td>Lost in the darkness. Hoping for a sign. Inste...</td>\n",
       "    </tr>\n",
       "  </tbody>\n",
       "</table>\n",
       "</div>"
      ],
      "text/plain": [
       "              song_title                                             lyrics\n",
       "0  world of make believe  On golden wings. She flies at night. With her ...\n",
       "1           fire and ice  Every word you're saying is a lie. Run away my...\n",
       "2                  grace  Cold are the bones of thy soldiers. Longing fo...\n",
       "3               overcome  Where are the heroes. I my time of need. Is my...\n",
       "4              somewhere  Lost in the darkness. Hoping for a sign. Inste..."
      ]
     },
     "execution_count": 47,
     "metadata": {},
     "output_type": "execute_result"
    }
   ],
   "source": [
    "df.head()"
   ]
  },
  {
   "cell_type": "code",
   "execution_count": 48,
   "metadata": {
    "ExecuteTime": {
     "end_time": "2020-01-08T14:43:19.532009Z",
     "start_time": "2020-01-08T14:43:19.506078Z"
    }
   },
   "outputs": [],
   "source": [
    "# saving dataframe to .csv\n",
    "\n",
    "df.to_csv(\"./data/lyrics_within_temptation.csv\", index = False)"
   ]
  },
  {
   "cell_type": "code",
   "execution_count": 49,
   "metadata": {
    "ExecuteTime": {
     "end_time": "2020-01-08T14:43:19.570904Z",
     "start_time": "2020-01-08T14:43:19.535997Z"
    }
   },
   "outputs": [],
   "source": [
    "df2 = pd.read_csv(\"./data/lyrics_within_temptation.csv\")"
   ]
  },
  {
   "cell_type": "code",
   "execution_count": 50,
   "metadata": {
    "ExecuteTime": {
     "end_time": "2020-01-08T14:43:19.607806Z",
     "start_time": "2020-01-08T14:43:19.572899Z"
    }
   },
   "outputs": [
    {
     "data": {
      "text/html": [
       "<div>\n",
       "<style scoped>\n",
       "    .dataframe tbody tr th:only-of-type {\n",
       "        vertical-align: middle;\n",
       "    }\n",
       "\n",
       "    .dataframe tbody tr th {\n",
       "        vertical-align: top;\n",
       "    }\n",
       "\n",
       "    .dataframe thead th {\n",
       "        text-align: right;\n",
       "    }\n",
       "</style>\n",
       "<table border=\"1\" class=\"dataframe\">\n",
       "  <thead>\n",
       "    <tr style=\"text-align: right;\">\n",
       "      <th></th>\n",
       "      <th>song_title</th>\n",
       "      <th>lyrics</th>\n",
       "    </tr>\n",
       "  </thead>\n",
       "  <tbody>\n",
       "    <tr>\n",
       "      <th>0</th>\n",
       "      <td>world of make believe</td>\n",
       "      <td>On golden wings. She flies at night. With her ...</td>\n",
       "    </tr>\n",
       "    <tr>\n",
       "      <th>1</th>\n",
       "      <td>fire and ice</td>\n",
       "      <td>Every word you're saying is a lie. Run away my...</td>\n",
       "    </tr>\n",
       "    <tr>\n",
       "      <th>2</th>\n",
       "      <td>grace</td>\n",
       "      <td>Cold are the bones of thy soldiers. Longing fo...</td>\n",
       "    </tr>\n",
       "    <tr>\n",
       "      <th>3</th>\n",
       "      <td>overcome</td>\n",
       "      <td>Where are the heroes. I my time of need. Is my...</td>\n",
       "    </tr>\n",
       "    <tr>\n",
       "      <th>4</th>\n",
       "      <td>somewhere</td>\n",
       "      <td>Lost in the darkness. Hoping for a sign. Inste...</td>\n",
       "    </tr>\n",
       "  </tbody>\n",
       "</table>\n",
       "</div>"
      ],
      "text/plain": [
       "              song_title                                             lyrics\n",
       "0  world of make believe  On golden wings. She flies at night. With her ...\n",
       "1           fire and ice  Every word you're saying is a lie. Run away my...\n",
       "2                  grace  Cold are the bones of thy soldiers. Longing fo...\n",
       "3               overcome  Where are the heroes. I my time of need. Is my...\n",
       "4              somewhere  Lost in the darkness. Hoping for a sign. Inste..."
      ]
     },
     "execution_count": 50,
     "metadata": {},
     "output_type": "execute_result"
    }
   ],
   "source": [
    "df2.head()"
   ]
  },
  {
   "cell_type": "code",
   "execution_count": 51,
   "metadata": {
    "ExecuteTime": {
     "end_time": "2020-01-08T14:43:19.640718Z",
     "start_time": "2020-01-08T14:43:19.614791Z"
    },
    "scrolled": true
   },
   "outputs": [
    {
     "data": {
      "text/plain": [
       "(74, 2)"
      ]
     },
     "execution_count": 51,
     "metadata": {},
     "output_type": "execute_result"
    }
   ],
   "source": [
    "df2.shape"
   ]
  },
  {
   "cell_type": "code",
   "execution_count": 52,
   "metadata": {
    "ExecuteTime": {
     "end_time": "2020-01-08T14:43:19.654680Z",
     "start_time": "2020-01-08T14:43:19.647700Z"
    }
   },
   "outputs": [],
   "source": [
    "del df2"
   ]
  }
 ],
 "metadata": {
  "hide_input": false,
  "kernelspec": {
   "display_name": "Python 3",
   "language": "python",
   "name": "python3"
  },
  "language_info": {
   "codemirror_mode": {
    "name": "ipython",
    "version": 3
   },
   "file_extension": ".py",
   "mimetype": "text/x-python",
   "name": "python",
   "nbconvert_exporter": "python",
   "pygments_lexer": "ipython3",
   "version": "3.6.5"
  },
  "toc": {
   "base_numbering": 1,
   "nav_menu": {},
   "number_sections": true,
   "sideBar": true,
   "skip_h1_title": false,
   "title_cell": "Table of Contents",
   "title_sidebar": "Contents",
   "toc_cell": false,
   "toc_position": {
    "height": "calc(100% - 180px)",
    "left": "10px",
    "top": "150px",
    "width": "256px"
   },
   "toc_section_display": true,
   "toc_window_display": true
  },
  "varInspector": {
   "cols": {
    "lenName": 16,
    "lenType": 16,
    "lenVar": 40
   },
   "kernels_config": {
    "python": {
     "delete_cmd_postfix": "",
     "delete_cmd_prefix": "del ",
     "library": "var_list.py",
     "varRefreshCmd": "print(var_dic_list())"
    },
    "r": {
     "delete_cmd_postfix": ") ",
     "delete_cmd_prefix": "rm(",
     "library": "var_list.r",
     "varRefreshCmd": "cat(var_dic_list()) "
    }
   },
   "types_to_exclude": [
    "module",
    "function",
    "builtin_function_or_method",
    "instance",
    "_Feature"
   ],
   "window_display": false
  }
 },
 "nbformat": 4,
 "nbformat_minor": 2
}
