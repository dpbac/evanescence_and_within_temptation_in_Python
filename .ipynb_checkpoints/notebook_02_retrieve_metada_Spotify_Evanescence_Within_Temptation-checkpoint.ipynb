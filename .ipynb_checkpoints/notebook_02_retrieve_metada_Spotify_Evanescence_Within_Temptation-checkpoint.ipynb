{
 "cells": [
  {
   "cell_type": "markdown",
   "metadata": {},
   "source": [
    "**TO DO**\n",
    "\n",
    "- Think about visualizing and comparing the Two bands (e.g. followers, popularity, related artists)\n",
    "- Add track score in barplot"
   ]
  },
  {
   "cell_type": "markdown",
   "metadata": {},
   "source": [
    "**THIS NOTEBOOK:**\n",
    "\n",
    "- Retrieve metadata at Spotify about songs - Evanescence\n",
    "- Retrieve metadata at Spotify about songs - Within temptation\n",
    "- Merge data retrieved with dataframes obtained with this notebook\n",
    "- Some Visualization\n",
    "\n",
    "**NEXT NOTEBOOKS:**\n",
    "\n",
    "- NLP (sentiment analysis)\n",
    "- Visualization\n",
    "- Retrieve data about both bands from Twitter\n",
    "- Apply Sentiment Analysis to Twitter data\n"
   ]
  },
  {
   "cell_type": "markdown",
   "metadata": {},
   "source": [
    "REFS:\n",
    "\n",
    "- https://developer.spotify.com/dashboard/login\n",
    "- https://developer.spotify.com/documentation/web-api/reference/\n",
    "- https://spotipy.readthedocs.io/en/latest/#"
   ]
  },
  {
   "cell_type": "markdown",
   "metadata": {},
   "source": [
    "In this notebook I'll be using Spotify API to obtain more data about the lyrics we scrapped from the web in the last notebook. To have access to Spotify API is necessary to request you credentials at https://developer.spotify.com/dashboard/login.\n",
    "\n",
    "I'll be using Spotipy is a lightweight Python library for the [Spotify Web API](https://developer.spotify.com/documentation/web-api/)."
   ]
  },
  {
   "cell_type": "markdown",
   "metadata": {},
   "source": [
    "# Access to Spotify API \n",
    "\n",
    "https://developer.spotify.com/dashboard/login\n"
   ]
  },
  {
   "cell_type": "raw",
   "metadata": {
    "ExecuteTime": {
     "end_time": "2019-10-22T15:18:04.831035Z",
     "start_time": "2019-10-22T15:18:04.688970Z"
    }
   },
   "source": [
    "import spotipy \n",
    "from spotipy.oauth2 import SpotifyClientCredentials \n",
    "cid =\n",
    "secret = \n",
    "\n",
    "# maybe redirect uri will be required for some of the commands \n",
    "redirect_uri = \n",
    "\n",
    "# the user id of my account\n",
    "username = \n",
    "\n",
    "client_credentials_manager = SpotifyClientCredentials(client_id=cid, client_secret=secret) \n",
    "sp = spotipy.Spotify(client_credentials_manager=client_credentials_manager)"
   ]
  },
  {
   "cell_type": "code",
   "execution_count": 1,
   "metadata": {
    "ExecuteTime": {
     "end_time": "2020-01-16T16:11:18.946550Z",
     "start_time": "2020-01-16T16:11:18.557946Z"
    }
   },
   "outputs": [],
   "source": [
    "import spotipy \n",
    "from spotipy.oauth2 import SpotifyClientCredentials \n",
    "cid =\"63a77ff40e794a12ae216a18befde98c\" \n",
    "secret = \"a348645cc21845f5b11318d8fa6390c7\" \n",
    "\n",
    "# maybe redirect uri will be required for some of the commands \n",
    "redirect_uri = 'http://127.0.0.1:5001/login/authorized'\n",
    "\n",
    "# the user id of my account\n",
    "username = 'knorxie'\n",
    "\n",
    "client_credentials_manager = SpotifyClientCredentials(client_id=cid, client_secret=secret) \n",
    "sp = spotipy.Spotify(client_credentials_manager=client_credentials_manager)\n"
   ]
  },
  {
   "cell_type": "markdown",
   "metadata": {},
   "source": [
    "# Retrieving information about an artist\n",
    "\n",
    "First we will use the API to retrieve information about the artist using the name of the artist. The function bellow retrieve this information and returns dictionary containing main information about the artist which includes the artist's uri. This information will be use to retrieve, for instance, information about artist's albums."
   ]
  },
  {
   "cell_type": "code",
   "execution_count": 8,
   "metadata": {
    "ExecuteTime": {
     "end_time": "2020-01-16T16:19:03.523089Z",
     "start_time": "2020-01-16T16:19:03.514432Z"
    }
   },
   "outputs": [],
   "source": [
    "def find_artist_info(artist):\n",
    "    \n",
    "    \"\"\" Retrieve main information about an artist given artist's name which includes also name of bands.\n",
    "    \n",
    "    Input:\n",
    "        artist : artist's name (string)\n",
    "    \n",
    "    Output:\n",
    "        dictionary with main info about artist, including related artist. \"\"\"\n",
    "    \n",
    "    # find artist by name and extract uri\n",
    "    \n",
    "    artist_uri = sp.search(q='artist:' + artist, type='artist')['artists']['items'][0]['uri']\n",
    "    \n",
    "    # Extract info about artist\n",
    "    \n",
    "    artist_info = sp.artist(artist_uri)\n",
    "    \n",
    "    # Obtain list of related artists. Similarity is based on analysis of the Spotify community’s listening history.\n",
    "\n",
    "    related = sp.artist_related_artists(artist_uri)\n",
    "    \n",
    "    related_artists = []\n",
    "\n",
    "    for idx in range(len(related['artists'])):\n",
    "        related_artists.append(related['artists'][idx]['name'])\n",
    "    \n",
    "    return {'external_urls': artist_info['external_urls']['spotify'],\n",
    "            'followers' : artist_info['followers']['total'],\n",
    "            'id': artist_info['id'],\n",
    "            'name' : artist_info['name'],\n",
    "            'genres': ', '.join(artist_info['genres']),\n",
    "            'popularity' : artist_info['popularity'],\n",
    "            'related_artists': ', '.join(related_artists),\n",
    "            'uri': artist_uri}\n",
    "    "
   ]
  },
  {
   "cell_type": "code",
   "execution_count": 9,
   "metadata": {
    "ExecuteTime": {
     "end_time": "2020-01-16T16:19:05.515078Z",
     "start_time": "2020-01-16T16:19:05.155268Z"
    }
   },
   "outputs": [
    {
     "data": {
      "text/plain": [
       "{'external_urls': 'https://open.spotify.com/artist/5nGIFgo0shDenQYSE0Sn7c',\n",
       " 'followers': 2508117,\n",
       " 'id': '5nGIFgo0shDenQYSE0Sn7c',\n",
       " 'name': 'Evanescence',\n",
       " 'genres': 'alternative metal, post-grunge',\n",
       " 'popularity': 76,\n",
       " 'related_artists': 'Amy Lee, We Are The Fallen, Within Temptation, Flyleaf, Lacuna Coil, Delain, Seether, Epica, Apocalyptica, Tarja, The Rasmus, Halestorm, In This Moment, Nightwish, Red, Hoobastank, Three Days Grace, 3 Doors Down, The Pretty Reckless, Sirenia',\n",
       " 'uri': 'spotify:artist:5nGIFgo0shDenQYSE0Sn7c'}"
      ]
     },
     "execution_count": 9,
     "metadata": {},
     "output_type": "execute_result"
    }
   ],
   "source": [
    "info_evanescence = find_artist_info('evanescence')\n",
    "info_evanescence"
   ]
  },
  {
   "cell_type": "code",
   "execution_count": 10,
   "metadata": {
    "ExecuteTime": {
     "end_time": "2020-01-16T16:19:17.710793Z",
     "start_time": "2020-01-16T16:19:17.309516Z"
    }
   },
   "outputs": [
    {
     "data": {
      "text/plain": [
       "{'external_urls': 'https://open.spotify.com/artist/3hE8S8ohRErocpkY7uJW4a',\n",
       " 'followers': 728662,\n",
       " 'id': '3hE8S8ohRErocpkY7uJW4a',\n",
       " 'name': 'Within Temptation',\n",
       " 'genres': 'dutch metal, gothic metal, gothic symphonic metal, power metal, symphonic metal',\n",
       " 'popularity': 68,\n",
       " 'related_artists': \"Leaves' Eyes, Epica, Delain, Tarja, Visions of Atlantis, Nemesea, Sirenia, Tristania, Lunatica, Theatre Of Tragedy, Amberian Dawn, After Forever, Xandria, Lacuna Coil, Edenbridge, Nightwish, Stream of Passion, Krypteria, Therion, Apocalyptica\",\n",
       " 'uri': 'spotify:artist:3hE8S8ohRErocpkY7uJW4a'}"
      ]
     },
     "execution_count": 10,
     "metadata": {},
     "output_type": "execute_result"
    }
   ],
   "source": [
    "info_within_temptation = find_artist_info('within temptation')\n",
    "info_within_temptation"
   ]
  },
  {
   "cell_type": "markdown",
   "metadata": {},
   "source": [
    "## Which related artists Evanescence and Within Temptation have in common considering the listeners of Spotify?"
   ]
  },
  {
   "cell_type": "code",
   "execution_count": 11,
   "metadata": {
    "ExecuteTime": {
     "end_time": "2020-01-16T16:20:01.310634Z",
     "start_time": "2020-01-16T16:20:01.305591Z"
    }
   },
   "outputs": [
    {
     "data": {
      "text/plain": [
       "{' Apocalyptica',\n",
       " ' Delain',\n",
       " ' Epica',\n",
       " ' Lacuna Coil',\n",
       " ' Nightwish',\n",
       " ' Sirenia',\n",
       " ' Tarja'}"
      ]
     },
     "execution_count": 11,
     "metadata": {},
     "output_type": "execute_result"
    }
   ],
   "source": [
    "set(info_evanescence['related_artists'].split(',')).intersection(set(set(info_within_temptation['related_artists'].split(','))))"
   ]
  },
  {
   "cell_type": "markdown",
   "metadata": {},
   "source": [
    "So we can say that people that like `Evanescence` and `Within Temptation` also appreciate Apocalyptica, Delain, Epica, Lacuna Coil, Nightwish, Sirenia, and Tarja. In a recommender system point of view we could recommend people to explore this bands ;-)"
   ]
  },
  {
   "cell_type": "markdown",
   "metadata": {},
   "source": [
    "# Artist top tracks"
   ]
  },
  {
   "cell_type": "code",
   "execution_count": 12,
   "metadata": {
    "ExecuteTime": {
     "end_time": "2020-01-16T16:23:38.807277Z",
     "start_time": "2020-01-16T16:23:33.941243Z"
    }
   },
   "outputs": [],
   "source": [
    "import pandas as pd\n",
    "\n",
    "def top_tracks_by_country(artist_uri, country = 'US'):\n",
    "    \"\"\" Get Spotify catalog information about an artist’s top 10 tracks by country. \"\"\"\n",
    "    \n",
    "    track_name = []\n",
    "    track_id = []\n",
    "    track_popularity = []\n",
    "\n",
    "    top = sp.artist_top_tracks(artist_uri, country = country)\n",
    "    \n",
    "    for idx in range(len(top['tracks'])):\n",
    "        track_name.append(top['tracks'][idx]['name'])\n",
    "        track_id.append(top['tracks'][idx]['id'])\n",
    "        track_popularity.append(top['tracks'][idx]['popularity'])\n",
    "        \n",
    "    dict_top = {'track_id': track_id,\n",
    "               'track_name': track_name,\n",
    "               'track_popularity': track_popularity}\n",
    "        \n",
    "    df = pd.DataFrame(dict_top)\n",
    "    \n",
    "    return df"
   ]
  },
  {
   "cell_type": "code",
   "execution_count": 13,
   "metadata": {
    "ExecuteTime": {
     "end_time": "2020-01-16T16:23:46.446628Z",
     "start_time": "2020-01-16T16:23:46.301816Z"
    }
   },
   "outputs": [
    {
     "data": {
      "text/html": [
       "<div>\n",
       "<style scoped>\n",
       "    .dataframe tbody tr th:only-of-type {\n",
       "        vertical-align: middle;\n",
       "    }\n",
       "\n",
       "    .dataframe tbody tr th {\n",
       "        vertical-align: top;\n",
       "    }\n",
       "\n",
       "    .dataframe thead th {\n",
       "        text-align: right;\n",
       "    }\n",
       "</style>\n",
       "<table border=\"1\" class=\"dataframe\">\n",
       "  <thead>\n",
       "    <tr style=\"text-align: right;\">\n",
       "      <th></th>\n",
       "      <th>track_id</th>\n",
       "      <th>track_name</th>\n",
       "      <th>track_popularity</th>\n",
       "    </tr>\n",
       "  </thead>\n",
       "  <tbody>\n",
       "    <tr>\n",
       "      <th>0</th>\n",
       "      <td>0COqiPhxzoWICwFCS4eZcp</td>\n",
       "      <td>Bring Me To Life</td>\n",
       "      <td>78</td>\n",
       "    </tr>\n",
       "    <tr>\n",
       "      <th>1</th>\n",
       "      <td>4UzVcXufOhGUwF56HT7b8M</td>\n",
       "      <td>My Immortal</td>\n",
       "      <td>74</td>\n",
       "    </tr>\n",
       "    <tr>\n",
       "      <th>2</th>\n",
       "      <td>3UygY7qW2cvG9Llkay6i1i</td>\n",
       "      <td>Going Under</td>\n",
       "      <td>69</td>\n",
       "    </tr>\n",
       "    <tr>\n",
       "      <th>3</th>\n",
       "      <td>663Karu2rvKLdnY0eo1n3M</td>\n",
       "      <td>Call Me When You're Sober</td>\n",
       "      <td>65</td>\n",
       "    </tr>\n",
       "    <tr>\n",
       "      <th>4</th>\n",
       "      <td>0tWEB6BxbI48XN79QE1JbT</td>\n",
       "      <td>Everybody's Fool</td>\n",
       "      <td>63</td>\n",
       "    </tr>\n",
       "    <tr>\n",
       "      <th>5</th>\n",
       "      <td>5YaLFRpqpUzgLLDcukNn0H</td>\n",
       "      <td>Lithium</td>\n",
       "      <td>61</td>\n",
       "    </tr>\n",
       "    <tr>\n",
       "      <th>6</th>\n",
       "      <td>0aYUqsvZG7bAslrUkd9Z0g</td>\n",
       "      <td>Hello</td>\n",
       "      <td>58</td>\n",
       "    </tr>\n",
       "    <tr>\n",
       "      <th>7</th>\n",
       "      <td>46fyLy4W9HhAkcb67kLaAV</td>\n",
       "      <td>Tourniquet</td>\n",
       "      <td>58</td>\n",
       "    </tr>\n",
       "    <tr>\n",
       "      <th>8</th>\n",
       "      <td>6Z77oDcn6iI1MHFCBPjl24</td>\n",
       "      <td>Haunted</td>\n",
       "      <td>55</td>\n",
       "    </tr>\n",
       "    <tr>\n",
       "      <th>9</th>\n",
       "      <td>5j7gLuOsBOyqooruGxX4nx</td>\n",
       "      <td>Taking Over Me</td>\n",
       "      <td>55</td>\n",
       "    </tr>\n",
       "  </tbody>\n",
       "</table>\n",
       "</div>"
      ],
      "text/plain": [
       "                 track_id                 track_name  track_popularity\n",
       "0  0COqiPhxzoWICwFCS4eZcp           Bring Me To Life                78\n",
       "1  4UzVcXufOhGUwF56HT7b8M                My Immortal                74\n",
       "2  3UygY7qW2cvG9Llkay6i1i                Going Under                69\n",
       "3  663Karu2rvKLdnY0eo1n3M  Call Me When You're Sober                65\n",
       "4  0tWEB6BxbI48XN79QE1JbT           Everybody's Fool                63\n",
       "5  5YaLFRpqpUzgLLDcukNn0H                    Lithium                61\n",
       "6  0aYUqsvZG7bAslrUkd9Z0g                      Hello                58\n",
       "7  46fyLy4W9HhAkcb67kLaAV                 Tourniquet                58\n",
       "8  6Z77oDcn6iI1MHFCBPjl24                    Haunted                55\n",
       "9  5j7gLuOsBOyqooruGxX4nx             Taking Over Me                55"
      ]
     },
     "execution_count": 13,
     "metadata": {},
     "output_type": "execute_result"
    }
   ],
   "source": [
    "evanescence_uri = info_evanescence['uri']\n",
    "df_evanescence_US = top_tracks_by_country(evanescence_uri)\n",
    "df_evanescence_US"
   ]
  },
  {
   "cell_type": "code",
   "execution_count": 18,
   "metadata": {
    "ExecuteTime": {
     "end_time": "2020-01-16T16:24:46.961818Z",
     "start_time": "2020-01-16T16:24:46.812626Z"
    }
   },
   "outputs": [
    {
     "data": {
      "text/html": [
       "<div>\n",
       "<style scoped>\n",
       "    .dataframe tbody tr th:only-of-type {\n",
       "        vertical-align: middle;\n",
       "    }\n",
       "\n",
       "    .dataframe tbody tr th {\n",
       "        vertical-align: top;\n",
       "    }\n",
       "\n",
       "    .dataframe thead th {\n",
       "        text-align: right;\n",
       "    }\n",
       "</style>\n",
       "<table border=\"1\" class=\"dataframe\">\n",
       "  <thead>\n",
       "    <tr style=\"text-align: right;\">\n",
       "      <th></th>\n",
       "      <th>track_id</th>\n",
       "      <th>track_name</th>\n",
       "      <th>track_popularity</th>\n",
       "    </tr>\n",
       "  </thead>\n",
       "  <tbody>\n",
       "    <tr>\n",
       "      <th>0</th>\n",
       "      <td>0COqiPhxzoWICwFCS4eZcp</td>\n",
       "      <td>Bring Me To Life</td>\n",
       "      <td>78</td>\n",
       "    </tr>\n",
       "    <tr>\n",
       "      <th>1</th>\n",
       "      <td>4UzVcXufOhGUwF56HT7b8M</td>\n",
       "      <td>My Immortal</td>\n",
       "      <td>74</td>\n",
       "    </tr>\n",
       "    <tr>\n",
       "      <th>2</th>\n",
       "      <td>3UygY7qW2cvG9Llkay6i1i</td>\n",
       "      <td>Going Under</td>\n",
       "      <td>69</td>\n",
       "    </tr>\n",
       "    <tr>\n",
       "      <th>3</th>\n",
       "      <td>663Karu2rvKLdnY0eo1n3M</td>\n",
       "      <td>Call Me When You're Sober</td>\n",
       "      <td>65</td>\n",
       "    </tr>\n",
       "    <tr>\n",
       "      <th>4</th>\n",
       "      <td>0tWEB6BxbI48XN79QE1JbT</td>\n",
       "      <td>Everybody's Fool</td>\n",
       "      <td>63</td>\n",
       "    </tr>\n",
       "    <tr>\n",
       "      <th>5</th>\n",
       "      <td>5YaLFRpqpUzgLLDcukNn0H</td>\n",
       "      <td>Lithium</td>\n",
       "      <td>61</td>\n",
       "    </tr>\n",
       "    <tr>\n",
       "      <th>6</th>\n",
       "      <td>0aYUqsvZG7bAslrUkd9Z0g</td>\n",
       "      <td>Hello</td>\n",
       "      <td>58</td>\n",
       "    </tr>\n",
       "    <tr>\n",
       "      <th>7</th>\n",
       "      <td>46fyLy4W9HhAkcb67kLaAV</td>\n",
       "      <td>Tourniquet</td>\n",
       "      <td>58</td>\n",
       "    </tr>\n",
       "    <tr>\n",
       "      <th>8</th>\n",
       "      <td>6Z77oDcn6iI1MHFCBPjl24</td>\n",
       "      <td>Haunted</td>\n",
       "      <td>55</td>\n",
       "    </tr>\n",
       "    <tr>\n",
       "      <th>9</th>\n",
       "      <td>5j7gLuOsBOyqooruGxX4nx</td>\n",
       "      <td>Taking Over Me</td>\n",
       "      <td>55</td>\n",
       "    </tr>\n",
       "  </tbody>\n",
       "</table>\n",
       "</div>"
      ],
      "text/plain": [
       "                 track_id                 track_name  track_popularity\n",
       "0  0COqiPhxzoWICwFCS4eZcp           Bring Me To Life                78\n",
       "1  4UzVcXufOhGUwF56HT7b8M                My Immortal                74\n",
       "2  3UygY7qW2cvG9Llkay6i1i                Going Under                69\n",
       "3  663Karu2rvKLdnY0eo1n3M  Call Me When You're Sober                65\n",
       "4  0tWEB6BxbI48XN79QE1JbT           Everybody's Fool                63\n",
       "5  5YaLFRpqpUzgLLDcukNn0H                    Lithium                61\n",
       "6  0aYUqsvZG7bAslrUkd9Z0g                      Hello                58\n",
       "7  46fyLy4W9HhAkcb67kLaAV                 Tourniquet                58\n",
       "8  6Z77oDcn6iI1MHFCBPjl24                    Haunted                55\n",
       "9  5j7gLuOsBOyqooruGxX4nx             Taking Over Me                55"
      ]
     },
     "execution_count": 18,
     "metadata": {},
     "output_type": "execute_result"
    }
   ],
   "source": [
    "df_evanescence_NL = top_tracks_by_country(evanescence_uri, country='NL')\n",
    "df_evanescence_NL"
   ]
  },
  {
   "cell_type": "code",
   "execution_count": 19,
   "metadata": {
    "ExecuteTime": {
     "end_time": "2020-01-16T16:24:48.626311Z",
     "start_time": "2020-01-16T16:24:48.620243Z"
    }
   },
   "outputs": [
    {
     "data": {
      "text/plain": [
       "True"
      ]
     },
     "execution_count": 19,
     "metadata": {},
     "output_type": "execute_result"
    }
   ],
   "source": [
    "df_evanescence_US.equals(df_evanescence_NL)"
   ]
  },
  {
   "cell_type": "markdown",
   "metadata": {},
   "source": [
    "Both countries have the same top 10 for Evanescence. And what about withing Temptation?"
   ]
  },
  {
   "cell_type": "code",
   "execution_count": 20,
   "metadata": {
    "ExecuteTime": {
     "end_time": "2020-01-16T16:24:52.610931Z",
     "start_time": "2020-01-16T16:24:52.606207Z"
    }
   },
   "outputs": [],
   "source": [
    "within_temptation_uri = info_within_temptation['uri']"
   ]
  },
  {
   "cell_type": "code",
   "execution_count": 21,
   "metadata": {
    "ExecuteTime": {
     "end_time": "2020-01-16T16:24:55.068472Z",
     "start_time": "2020-01-16T16:24:54.867383Z"
    }
   },
   "outputs": [
    {
     "data": {
      "text/plain": [
       "False"
      ]
     },
     "execution_count": 21,
     "metadata": {},
     "output_type": "execute_result"
    }
   ],
   "source": [
    "df_within_temptation_US = top_tracks_by_country(within_temptation_uri)\n",
    "df_within_temptation_NL = top_tracks_by_country(within_temptation_uri, country = 'NL')\n",
    "df_within_temptation_US.equals(df_within_temptation_NL)"
   ]
  },
  {
   "cell_type": "markdown",
   "metadata": {},
   "source": [
    "It seems that the taste of americans and dutchs differ when we talk about Within Temptation. Let's see which one are the top 10 in both countries."
   ]
  },
  {
   "cell_type": "code",
   "execution_count": 22,
   "metadata": {
    "ExecuteTime": {
     "end_time": "2020-01-16T16:25:18.402362Z",
     "start_time": "2020-01-16T16:25:18.389854Z"
    }
   },
   "outputs": [
    {
     "data": {
      "text/html": [
       "<div>\n",
       "<style scoped>\n",
       "    .dataframe tbody tr th:only-of-type {\n",
       "        vertical-align: middle;\n",
       "    }\n",
       "\n",
       "    .dataframe tbody tr th {\n",
       "        vertical-align: top;\n",
       "    }\n",
       "\n",
       "    .dataframe thead th {\n",
       "        text-align: right;\n",
       "    }\n",
       "</style>\n",
       "<table border=\"1\" class=\"dataframe\">\n",
       "  <thead>\n",
       "    <tr style=\"text-align: right;\">\n",
       "      <th></th>\n",
       "      <th>track_id</th>\n",
       "      <th>track_name</th>\n",
       "      <th>track_popularity</th>\n",
       "    </tr>\n",
       "  </thead>\n",
       "  <tbody>\n",
       "    <tr>\n",
       "      <th>0</th>\n",
       "      <td>6XnPopwCZ6odHVVqMsllL5</td>\n",
       "      <td>The Reckoning</td>\n",
       "      <td>57</td>\n",
       "    </tr>\n",
       "    <tr>\n",
       "      <th>1</th>\n",
       "      <td>4BhqnM5lktowwfHqq2JYhg</td>\n",
       "      <td>All I Need</td>\n",
       "      <td>57</td>\n",
       "    </tr>\n",
       "    <tr>\n",
       "      <th>2</th>\n",
       "      <td>3TEwbiC0GhIRStn3Eabtu7</td>\n",
       "      <td>Angels</td>\n",
       "      <td>56</td>\n",
       "    </tr>\n",
       "    <tr>\n",
       "      <th>3</th>\n",
       "      <td>4GBbBy05LoSveNxjKxj26m</td>\n",
       "      <td>Supernova</td>\n",
       "      <td>55</td>\n",
       "    </tr>\n",
       "    <tr>\n",
       "      <th>4</th>\n",
       "      <td>15z9QEJOBV6hDdWsdZwDKP</td>\n",
       "      <td>Stand My Ground</td>\n",
       "      <td>55</td>\n",
       "    </tr>\n",
       "    <tr>\n",
       "      <th>5</th>\n",
       "      <td>5oX5jpeZsXBWEheqE0qqqD</td>\n",
       "      <td>Faster</td>\n",
       "      <td>53</td>\n",
       "    </tr>\n",
       "    <tr>\n",
       "      <th>6</th>\n",
       "      <td>66wcihY2Y8ZSqux6EivMWa</td>\n",
       "      <td>What Have You Done (feat. Keith Caputo)</td>\n",
       "      <td>53</td>\n",
       "    </tr>\n",
       "    <tr>\n",
       "      <th>7</th>\n",
       "      <td>7fm01f9fZNeQCYedC2xhcF</td>\n",
       "      <td>Paradise (What About Us?) [feat. Tarja]</td>\n",
       "      <td>41</td>\n",
       "    </tr>\n",
       "    <tr>\n",
       "      <th>8</th>\n",
       "      <td>5uDWqYSiWqWTXK9CbAKIA8</td>\n",
       "      <td>Endless War</td>\n",
       "      <td>52</td>\n",
       "    </tr>\n",
       "    <tr>\n",
       "      <th>9</th>\n",
       "      <td>0lNhWQBiA483reJSVovSWF</td>\n",
       "      <td>Raise Your Banner</td>\n",
       "      <td>51</td>\n",
       "    </tr>\n",
       "  </tbody>\n",
       "</table>\n",
       "</div>"
      ],
      "text/plain": [
       "                 track_id                               track_name  \\\n",
       "0  6XnPopwCZ6odHVVqMsllL5                            The Reckoning   \n",
       "1  4BhqnM5lktowwfHqq2JYhg                               All I Need   \n",
       "2  3TEwbiC0GhIRStn3Eabtu7                                   Angels   \n",
       "3  4GBbBy05LoSveNxjKxj26m                                Supernova   \n",
       "4  15z9QEJOBV6hDdWsdZwDKP                          Stand My Ground   \n",
       "5  5oX5jpeZsXBWEheqE0qqqD                                   Faster   \n",
       "6  66wcihY2Y8ZSqux6EivMWa  What Have You Done (feat. Keith Caputo)   \n",
       "7  7fm01f9fZNeQCYedC2xhcF  Paradise (What About Us?) [feat. Tarja]   \n",
       "8  5uDWqYSiWqWTXK9CbAKIA8                              Endless War   \n",
       "9  0lNhWQBiA483reJSVovSWF                        Raise Your Banner   \n",
       "\n",
       "   track_popularity  \n",
       "0                57  \n",
       "1                57  \n",
       "2                56  \n",
       "3                55  \n",
       "4                55  \n",
       "5                53  \n",
       "6                53  \n",
       "7                41  \n",
       "8                52  \n",
       "9                51  "
      ]
     },
     "execution_count": 22,
     "metadata": {},
     "output_type": "execute_result"
    }
   ],
   "source": [
    "df_within_temptation_US"
   ]
  },
  {
   "cell_type": "code",
   "execution_count": 23,
   "metadata": {
    "ExecuteTime": {
     "end_time": "2020-01-16T16:25:20.028202Z",
     "start_time": "2020-01-16T16:25:20.015789Z"
    }
   },
   "outputs": [
    {
     "data": {
      "text/html": [
       "<div>\n",
       "<style scoped>\n",
       "    .dataframe tbody tr th:only-of-type {\n",
       "        vertical-align: middle;\n",
       "    }\n",
       "\n",
       "    .dataframe tbody tr th {\n",
       "        vertical-align: top;\n",
       "    }\n",
       "\n",
       "    .dataframe thead th {\n",
       "        text-align: right;\n",
       "    }\n",
       "</style>\n",
       "<table border=\"1\" class=\"dataframe\">\n",
       "  <thead>\n",
       "    <tr style=\"text-align: right;\">\n",
       "      <th></th>\n",
       "      <th>track_id</th>\n",
       "      <th>track_name</th>\n",
       "      <th>track_popularity</th>\n",
       "    </tr>\n",
       "  </thead>\n",
       "  <tbody>\n",
       "    <tr>\n",
       "      <th>0</th>\n",
       "      <td>6XnPopwCZ6odHVVqMsllL5</td>\n",
       "      <td>The Reckoning</td>\n",
       "      <td>57</td>\n",
       "    </tr>\n",
       "    <tr>\n",
       "      <th>1</th>\n",
       "      <td>4BhqnM5lktowwfHqq2JYhg</td>\n",
       "      <td>All I Need</td>\n",
       "      <td>57</td>\n",
       "    </tr>\n",
       "    <tr>\n",
       "      <th>2</th>\n",
       "      <td>3TEwbiC0GhIRStn3Eabtu7</td>\n",
       "      <td>Angels</td>\n",
       "      <td>56</td>\n",
       "    </tr>\n",
       "    <tr>\n",
       "      <th>3</th>\n",
       "      <td>4GBbBy05LoSveNxjKxj26m</td>\n",
       "      <td>Supernova</td>\n",
       "      <td>55</td>\n",
       "    </tr>\n",
       "    <tr>\n",
       "      <th>4</th>\n",
       "      <td>15z9QEJOBV6hDdWsdZwDKP</td>\n",
       "      <td>Stand My Ground</td>\n",
       "      <td>55</td>\n",
       "    </tr>\n",
       "    <tr>\n",
       "      <th>5</th>\n",
       "      <td>28HX0PibeXSL6cfAsvwSgD</td>\n",
       "      <td>Faster</td>\n",
       "      <td>55</td>\n",
       "    </tr>\n",
       "    <tr>\n",
       "      <th>6</th>\n",
       "      <td>66wcihY2Y8ZSqux6EivMWa</td>\n",
       "      <td>What Have You Done (feat. Keith Caputo)</td>\n",
       "      <td>53</td>\n",
       "    </tr>\n",
       "    <tr>\n",
       "      <th>7</th>\n",
       "      <td>2Sp8T3BrAHQmWwl9jLexDF</td>\n",
       "      <td>Paradise (What About Us?) [feat. Tarja]</td>\n",
       "      <td>53</td>\n",
       "    </tr>\n",
       "    <tr>\n",
       "      <th>8</th>\n",
       "      <td>5uDWqYSiWqWTXK9CbAKIA8</td>\n",
       "      <td>Endless War</td>\n",
       "      <td>52</td>\n",
       "    </tr>\n",
       "    <tr>\n",
       "      <th>9</th>\n",
       "      <td>0lNhWQBiA483reJSVovSWF</td>\n",
       "      <td>Raise Your Banner</td>\n",
       "      <td>51</td>\n",
       "    </tr>\n",
       "  </tbody>\n",
       "</table>\n",
       "</div>"
      ],
      "text/plain": [
       "                 track_id                               track_name  \\\n",
       "0  6XnPopwCZ6odHVVqMsllL5                            The Reckoning   \n",
       "1  4BhqnM5lktowwfHqq2JYhg                               All I Need   \n",
       "2  3TEwbiC0GhIRStn3Eabtu7                                   Angels   \n",
       "3  4GBbBy05LoSveNxjKxj26m                                Supernova   \n",
       "4  15z9QEJOBV6hDdWsdZwDKP                          Stand My Ground   \n",
       "5  28HX0PibeXSL6cfAsvwSgD                                   Faster   \n",
       "6  66wcihY2Y8ZSqux6EivMWa  What Have You Done (feat. Keith Caputo)   \n",
       "7  2Sp8T3BrAHQmWwl9jLexDF  Paradise (What About Us?) [feat. Tarja]   \n",
       "8  5uDWqYSiWqWTXK9CbAKIA8                              Endless War   \n",
       "9  0lNhWQBiA483reJSVovSWF                        Raise Your Banner   \n",
       "\n",
       "   track_popularity  \n",
       "0                57  \n",
       "1                57  \n",
       "2                56  \n",
       "3                55  \n",
       "4                55  \n",
       "5                55  \n",
       "6                53  \n",
       "7                53  \n",
       "8                52  \n",
       "9                51  "
      ]
     },
     "execution_count": 23,
     "metadata": {},
     "output_type": "execute_result"
    }
   ],
   "source": [
    "df_within_temptation_NL"
   ]
  },
  {
   "cell_type": "markdown",
   "metadata": {},
   "source": [
    "At the end both country like the same songs. However, Faster and Paradise score better in popularity in The Netherlands."
   ]
  },
  {
   "cell_type": "code",
   "execution_count": 25,
   "metadata": {
    "ExecuteTime": {
     "end_time": "2020-01-16T16:26:23.169281Z",
     "start_time": "2020-01-16T16:26:22.742275Z"
    }
   },
   "outputs": [
    {
     "data": {
      "image/png": "[encoded data removed]",
      "text/plain": [
       "<Figure size 504x288 with 1 Axes>"
      ]
     },
     "metadata": {},
     "output_type": "display_data"
    }
   ],
   "source": [
    "import matplotlib.pyplot as plt\n",
    "import seaborn as sns\n",
    "sns.set(style=\"whitegrid\")\n",
    "\n",
    "# Initialize the matplotlib figure\n",
    "f, ax = plt.subplots(figsize=(7, 4))\n",
    "\n",
    "# Plot top 10 in NL\n",
    "sns.set_color_codes(\"pastel\")\n",
    "sns.barplot(x=\"track_popularity\", y=\"track_name\", data=df_within_temptation_NL,\n",
    "            label=\"NL\", color=\"b\")\n",
    "\n",
    "# Plot top 10 in US\n",
    "sns.set_color_codes(\"muted\")\n",
    "sns.barplot(x=\"track_popularity\", y=\"track_name\", data=df_within_temptation_US,\n",
    "            label=\"US\", color=\"r\")\n",
    "\n",
    "# Add a legend and informative axis label\n",
    "f.suptitle(\"Within Temptation's top 10 in US and The Netherlands\")\n",
    "ax.legend(ncol=1, loc=\"upper left\", frameon=True)\n",
    "ax.set(xlim=(5, 60), ylabel=\"\",\n",
    "       xlabel=\"Popularity of tracks\")\n",
    "sns.despine(left=True, bottom=True)\n",
    "\n",
    "\n"
   ]
  },
  {
   "cell_type": "markdown",
   "metadata": {},
   "source": [
    "**Popularity:** Track's popularity has a value between 0 and 100, with 100 being the most popular. It is calculated by algorithm and is based, in the most part, on the total number of plays the track has had and how recent those plays are.\n",
    "\n",
    "source: https://developer.spotify.com/documentation/web-api/reference/artists/get-artists-top-tracks/\n",
    "\n",
    "Curious to hear a sample of the top 10? Let's include `preview url` to above dataframes so you can have a taste ;-)"
   ]
  },
  {
   "cell_type": "code",
   "execution_count": 60,
   "metadata": {
    "ExecuteTime": {
     "end_time": "2020-01-16T17:04:25.646035Z",
     "start_time": "2020-01-16T17:04:25.641990Z"
    }
   },
   "outputs": [],
   "source": [
    "def insert_preview_url(df, track_id_list):\n",
    "    \n",
    "    list_preview_url = []\n",
    "\n",
    "    for track_id in track_id_list:\n",
    "        list_preview_url.append(sp.track(track_id)['preview_url'])\n",
    "        \n",
    "    df['preview_url'] = list_preview_url\n",
    "    \n",
    "    def make_clickable(url, name):\n",
    "        return '<a href=\"{} rel=\"noopener noreferrer\" target=\"_blank\">{}</a>'.format(url,name)\n",
    "\n",
    "    df['preview_url'] = df.apply(lambda x: make_clickable(x['url'], x['preview_url']) if 'https' in x['preview_url'] else None , axis=1)\n",
    "    \n",
    "    return df"
   ]
  },
  {
   "cell_type": "code",
   "execution_count": 61,
   "metadata": {
    "ExecuteTime": {
     "end_time": "2020-01-16T17:04:27.664873Z",
     "start_time": "2020-01-16T17:04:26.562961Z"
    }
   },
   "outputs": [],
   "source": [
    "# Updated dataframe with top 10 of Evanescence in The Netherlands\n",
    "\n",
    "df = df_within_temptation_NL\n",
    "track_id_list = df_within_temptation_NL['track_id']\n",
    "\n",
    "df = insert_preview_url(df, track_id_list)"
   ]
  },
  {
   "cell_type": "code",
   "execution_count": 62,
   "metadata": {
    "ExecuteTime": {
     "end_time": "2020-01-16T17:04:29.263851Z",
     "start_time": "2020-01-16T17:04:29.251726Z"
    }
   },
   "outputs": [
    {
     "data": {
      "text/html": [
       "<div>\n",
       "<style scoped>\n",
       "    .dataframe tbody tr th:only-of-type {\n",
       "        vertical-align: middle;\n",
       "    }\n",
       "\n",
       "    .dataframe tbody tr th {\n",
       "        vertical-align: top;\n",
       "    }\n",
       "\n",
       "    .dataframe thead th {\n",
       "        text-align: right;\n",
       "    }\n",
       "</style>\n",
       "<table border=\"1\" class=\"dataframe\">\n",
       "  <thead>\n",
       "    <tr style=\"text-align: right;\">\n",
       "      <th></th>\n",
       "      <th>track_id</th>\n",
       "      <th>track_name</th>\n",
       "      <th>track_popularity</th>\n",
       "      <th>preview_url</th>\n",
       "    </tr>\n",
       "  </thead>\n",
       "  <tbody>\n",
       "    <tr>\n",
       "      <th>0</th>\n",
       "      <td>6XnPopwCZ6odHVVqMsllL5</td>\n",
       "      <td>The Reckoning</td>\n",
       "      <td>57</td>\n",
       "      <td>None</td>\n",
       "    </tr>\n",
       "    <tr>\n",
       "      <th>1</th>\n",
       "      <td>4BhqnM5lktowwfHqq2JYhg</td>\n",
       "      <td>All I Need</td>\n",
       "      <td>57</td>\n",
       "      <td>https://p.scdn.co/mp3-preview/613509e6725e4792...</td>\n",
       "    </tr>\n",
       "    <tr>\n",
       "      <th>2</th>\n",
       "      <td>3TEwbiC0GhIRStn3Eabtu7</td>\n",
       "      <td>Angels</td>\n",
       "      <td>56</td>\n",
       "      <td>https://p.scdn.co/mp3-preview/1dbf69a32db3b4d2...</td>\n",
       "    </tr>\n",
       "    <tr>\n",
       "      <th>3</th>\n",
       "      <td>4GBbBy05LoSveNxjKxj26m</td>\n",
       "      <td>Supernova</td>\n",
       "      <td>55</td>\n",
       "      <td>None</td>\n",
       "    </tr>\n",
       "    <tr>\n",
       "      <th>4</th>\n",
       "      <td>15z9QEJOBV6hDdWsdZwDKP</td>\n",
       "      <td>Stand My Ground</td>\n",
       "      <td>55</td>\n",
       "      <td>https://p.scdn.co/mp3-preview/86774c051d057643...</td>\n",
       "    </tr>\n",
       "    <tr>\n",
       "      <th>5</th>\n",
       "      <td>28HX0PibeXSL6cfAsvwSgD</td>\n",
       "      <td>Faster</td>\n",
       "      <td>55</td>\n",
       "      <td>https://p.scdn.co/mp3-preview/dbdeec5d31a3582f...</td>\n",
       "    </tr>\n",
       "    <tr>\n",
       "      <th>6</th>\n",
       "      <td>66wcihY2Y8ZSqux6EivMWa</td>\n",
       "      <td>What Have You Done (feat. Keith Caputo)</td>\n",
       "      <td>53</td>\n",
       "      <td>https://p.scdn.co/mp3-preview/4969cdbad38904f0...</td>\n",
       "    </tr>\n",
       "    <tr>\n",
       "      <th>7</th>\n",
       "      <td>2Sp8T3BrAHQmWwl9jLexDF</td>\n",
       "      <td>Paradise (What About Us?) [feat. Tarja]</td>\n",
       "      <td>53</td>\n",
       "      <td>https://p.scdn.co/mp3-preview/a359f9e3b8d97551...</td>\n",
       "    </tr>\n",
       "    <tr>\n",
       "      <th>8</th>\n",
       "      <td>5uDWqYSiWqWTXK9CbAKIA8</td>\n",
       "      <td>Endless War</td>\n",
       "      <td>52</td>\n",
       "      <td>None</td>\n",
       "    </tr>\n",
       "    <tr>\n",
       "      <th>9</th>\n",
       "      <td>0lNhWQBiA483reJSVovSWF</td>\n",
       "      <td>Raise Your Banner</td>\n",
       "      <td>51</td>\n",
       "      <td>None</td>\n",
       "    </tr>\n",
       "  </tbody>\n",
       "</table>\n",
       "</div>"
      ],
      "text/plain": [
       "                 track_id                               track_name  \\\n",
       "0  6XnPopwCZ6odHVVqMsllL5                            The Reckoning   \n",
       "1  4BhqnM5lktowwfHqq2JYhg                               All I Need   \n",
       "2  3TEwbiC0GhIRStn3Eabtu7                                   Angels   \n",
       "3  4GBbBy05LoSveNxjKxj26m                                Supernova   \n",
       "4  15z9QEJOBV6hDdWsdZwDKP                          Stand My Ground   \n",
       "5  28HX0PibeXSL6cfAsvwSgD                                   Faster   \n",
       "6  66wcihY2Y8ZSqux6EivMWa  What Have You Done (feat. Keith Caputo)   \n",
       "7  2Sp8T3BrAHQmWwl9jLexDF  Paradise (What About Us?) [feat. Tarja]   \n",
       "8  5uDWqYSiWqWTXK9CbAKIA8                              Endless War   \n",
       "9  0lNhWQBiA483reJSVovSWF                        Raise Your Banner   \n",
       "\n",
       "   track_popularity                                        preview_url  \n",
       "0                57                                               None  \n",
       "1                57  https://p.scdn.co/mp3-preview/613509e6725e4792...  \n",
       "2                56  https://p.scdn.co/mp3-preview/1dbf69a32db3b4d2...  \n",
       "3                55                                               None  \n",
       "4                55  https://p.scdn.co/mp3-preview/86774c051d057643...  \n",
       "5                55  https://p.scdn.co/mp3-preview/dbdeec5d31a3582f...  \n",
       "6                53  https://p.scdn.co/mp3-preview/4969cdbad38904f0...  \n",
       "7                53  https://p.scdn.co/mp3-preview/a359f9e3b8d97551...  \n",
       "8                52                                               None  \n",
       "9                51                                               None  "
      ]
     },
     "execution_count": 62,
     "metadata": {},
     "output_type": "execute_result"
    }
   ],
   "source": [
    "df"
   ]
  },
  {
   "cell_type": "code",
   "execution_count": 37,
   "metadata": {
    "ExecuteTime": {
     "end_time": "2020-01-16T16:45:53.799458Z",
     "start_time": "2020-01-16T16:45:53.787737Z"
    }
   },
   "outputs": [
    {
     "name": "stdout",
     "output_type": "stream",
     "text": [
      "<class 'pandas.core.frame.DataFrame'>\n",
      "RangeIndex: 10 entries, 0 to 9\n",
      "Data columns (total 4 columns):\n",
      "track_id            10 non-null object\n",
      "track_name          10 non-null object\n",
      "track_popularity    10 non-null int64\n",
      "preview_url         6 non-null object\n",
      "dtypes: int64(1), object(3)\n",
      "memory usage: 448.0+ bytes\n"
     ]
    }
   ],
   "source": [
    "df.info()"
   ]
  },
  {
   "cell_type": "code",
   "execution_count": null,
   "metadata": {},
   "outputs": [],
   "source": [
    "# Updated dataframe with top 10 of Evanescence in The Netherlands\n",
    "\n"
   ]
  },
  {
   "cell_type": "code",
   "execution_count": 31,
   "metadata": {
    "ExecuteTime": {
     "end_time": "2020-01-16T16:39:22.677760Z",
     "start_time": "2020-01-16T16:39:21.463722Z"
    }
   },
   "outputs": [],
   "source": [
    "list_preview_url = []\n",
    "\n",
    "for track_id in df_within_temptation_NL['track_id']:\n",
    "    list_preview_url.append(sp.track(track_id)['preview_url'])"
   ]
  },
  {
   "cell_type": "code",
   "execution_count": 32,
   "metadata": {
    "ExecuteTime": {
     "end_time": "2020-01-16T16:39:29.163900Z",
     "start_time": "2020-01-16T16:39:29.159161Z"
    }
   },
   "outputs": [
    {
     "data": {
      "text/plain": [
       "[None,\n",
       " 'https://p.scdn.co/mp3-preview/613509e6725e4792adb26010c84bad6eae562b44?cid=63a77ff40e794a12ae216a18befde98c',\n",
       " 'https://p.scdn.co/mp3-preview/1dbf69a32db3b4d23f0311f2bfbd2afd40bfbfdf?cid=63a77ff40e794a12ae216a18befde98c',\n",
       " None,\n",
       " 'https://p.scdn.co/mp3-preview/86774c051d057643a6daaa1b1fdbdca0e2f7c2fc?cid=63a77ff40e794a12ae216a18befde98c',\n",
       " 'https://p.scdn.co/mp3-preview/dbdeec5d31a3582fc06355d9c24d4fc49e7df7f7?cid=63a77ff40e794a12ae216a18befde98c',\n",
       " 'https://p.scdn.co/mp3-preview/4969cdbad38904f03074b30f4a176c6c4408235c?cid=63a77ff40e794a12ae216a18befde98c',\n",
       " 'https://p.scdn.co/mp3-preview/a359f9e3b8d97551260d6d0205ddf9d2edbe76c6?cid=63a77ff40e794a12ae216a18befde98c',\n",
       " None,\n",
       " None]"
      ]
     },
     "execution_count": 32,
     "metadata": {},
     "output_type": "execute_result"
    }
   ],
   "source": [
    "list_preview_url"
   ]
  },
  {
   "cell_type": "markdown",
   "metadata": {},
   "source": [
    "# Retrieving album's information"
   ]
  },
  {
   "cell_type": "markdown",
   "metadata": {},
   "source": [
    "Now that we can retrieve among other information the artist's uri we are able to retrieve information about artist's albums. The following function was construct so relevant information about albums are retrieved and stored in a .csv file."
   ]
  },
  {
   "cell_type": "code",
   "execution_count": 16,
   "metadata": {
    "ExecuteTime": {
     "end_time": "2019-10-25T08:42:23.301769Z",
     "start_time": "2019-10-25T08:42:23.288558Z"
    }
   },
   "outputs": [],
   "source": [
    "import pandas as pd\n",
    "\n",
    "def retrieving_albums_info(artist_uri, file_name, limit = 50, max_nr_albums=2000):\n",
    "    \n",
    "    album_name = []\n",
    "    album_id = []\n",
    "    album_type = []\n",
    "    artists = []\n",
    "    release_date = []\n",
    "    # release_date_precision = []\n",
    "    cover_album = []\n",
    "    total_tracks = []\n",
    "    available_markets = []\n",
    "    total_available_markets = []\n",
    "    uri = []\n",
    "\n",
    "    for i in range(0,max_nr_albums,50):\n",
    "        albums_per_artist = sp.artist_albums(artist_uri, limit=limit, offset=i)\n",
    "        for album in range(len(albums_per_artist['items'])):\n",
    "            album_name.append(albums_per_artist['items'][album]['name'])\n",
    "            album_id.append(albums_per_artist['items'][album]['id'])\n",
    "            album_type.append(albums_per_artist['items'][album]['album_type'])\n",
    "            artists.append(albums_per_artist['items'][album]['artists'][0]['name'])\n",
    "            release_date.append(albums_per_artist['items'][album]['release_date'])\n",
    "    #         release_date_precision.append(albums_per_artist['items'][album]['release_date_precision'])\n",
    "            cover_album.append(albums_per_artist['items'][album]['images'][0]['url'])\n",
    "            total_tracks.append(albums_per_artist['items'][album]['total_tracks'])\n",
    "            available_markets.append(','.join(albums_per_artist['items'][album]['available_markets']))\n",
    "            total_available_markets.append(len(albums_per_artist['items'][album]['available_markets']))\n",
    "        \n",
    "            uri.append(albums_per_artist['items'][album]['uri'])\n",
    "\n",
    "    dict_albums = {'album_name':album_name,\n",
    "                   'album_id': album_id,\n",
    "                   'album_type' : album_type,\n",
    "                   'artists': artists,\n",
    "                   'release_date' : release_date,\n",
    "    #                'release_date_precision' : release_date_precision,\n",
    "                   'cover_album':cover_album,\n",
    "                   'total_tracks':total_tracks,\n",
    "                   'available_markets': available_markets,\n",
    "                   'total_available_markets':total_available_markets,\n",
    "                  'uri': uri}\n",
    "\n",
    "    # creating dataframe\n",
    "\n",
    "    df = pd.DataFrame(dict_albums)\n",
    "\n",
    "    # dropping duplicates based on album_name and release_date\n",
    "\n",
    "    df.drop_duplicates(subset=['album_name','release_date'], keep = 'first', inplace = True)\n",
    "    \n",
    "    # reset index\n",
    "    \n",
    "    df.reset_index(inplace = True)\n",
    "    \n",
    "    # Create year column\n",
    "    \n",
    "    df['release_date'] = pd.to_datetime(df['release_date'],  format='%Y-%m-%d')\n",
    "    \n",
    "    df['release_year'] = df['release_date'].apply(lambda x: x.year)\n",
    "    \n",
    "    # Ordering\n",
    "    \n",
    "    df = df[['album_id', 'album_name', 'album_type', 'artists', 'release_year','release_date', 'cover_album',\n",
    "            'total_tracks','available_markets','total_available_markets', 'uri']]\n",
    "\n",
    "    # saving result in csv\n",
    "\n",
    "    df.to_csv(\"./data/\"+file_name)\n",
    "    \n",
    "    return df\n"
   ]
  },
  {
   "cell_type": "code",
   "execution_count": 17,
   "metadata": {
    "ExecuteTime": {
     "end_time": "2019-10-25T08:42:38.813477Z",
     "start_time": "2019-10-25T08:42:34.133775Z"
    }
   },
   "outputs": [],
   "source": [
    "# retrieve artist's uri \n",
    "\n",
    "artist_uri = info_evanescence['uri']\n",
    "\n",
    "df_albums_evanescence = retrieving_albums_info(artist_uri, file_name='evanescence_albums_info.csv', limit = 50, max_nr_albums=2000)"
   ]
  },
  {
   "cell_type": "code",
   "execution_count": 18,
   "metadata": {
    "ExecuteTime": {
     "end_time": "2019-10-25T08:42:41.369652Z",
     "start_time": "2019-10-25T08:42:41.321305Z"
    },
    "scrolled": false
   },
   "outputs": [
    {
     "data": {
      "text/html": [
       "<div>\n",
       "<style scoped>\n",
       "    .dataframe tbody tr th:only-of-type {\n",
       "        vertical-align: middle;\n",
       "    }\n",
       "\n",
       "    .dataframe tbody tr th {\n",
       "        vertical-align: top;\n",
       "    }\n",
       "\n",
       "    .dataframe thead th {\n",
       "        text-align: right;\n",
       "    }\n",
       "</style>\n",
       "<table border=\"1\" class=\"dataframe\">\n",
       "  <thead>\n",
       "    <tr style=\"text-align: right;\">\n",
       "      <th></th>\n",
       "      <th>album_id</th>\n",
       "      <th>album_name</th>\n",
       "      <th>album_type</th>\n",
       "      <th>artists</th>\n",
       "      <th>release_year</th>\n",
       "      <th>release_date</th>\n",
       "      <th>cover_album</th>\n",
       "      <th>total_tracks</th>\n",
       "      <th>available_markets</th>\n",
       "      <th>total_available_markets</th>\n",
       "      <th>uri</th>\n",
       "    </tr>\n",
       "  </thead>\n",
       "  <tbody>\n",
       "    <tr>\n",
       "      <th>0</th>\n",
       "      <td>12NBjimNnuWAP0OXIlwyrZ</td>\n",
       "      <td>Synthesis Live</td>\n",
       "      <td>album</td>\n",
       "      <td>Evanescence</td>\n",
       "      <td>2018</td>\n",
       "      <td>2018-12-14</td>\n",
       "      <td>https://i.scdn.co/image/ab67616d0000b273d7d7b2...</td>\n",
       "      <td>16</td>\n",
       "      <td>AD,AE,AT,AU,BE,BG,BH,CH,CY,CZ,DE,DK,DZ,EE,EG,E...</td>\n",
       "      <td>58</td>\n",
       "      <td>spotify:album:12NBjimNnuWAP0OXIlwyrZ</td>\n",
       "    </tr>\n",
       "    <tr>\n",
       "      <th>1</th>\n",
       "      <td>2Qg3CxIQ1Urnv700y5jP3j</td>\n",
       "      <td>Synthesis</td>\n",
       "      <td>album</td>\n",
       "      <td>Evanescence</td>\n",
       "      <td>2017</td>\n",
       "      <td>2017-11-10</td>\n",
       "      <td>https://i.scdn.co/image/ab67616d0000b273da80a3...</td>\n",
       "      <td>16</td>\n",
       "      <td>AR,BO,BR,CA,CL,CO,CR,DO,EC,GT,HN,MX,NI,PA,PE,P...</td>\n",
       "      <td>19</td>\n",
       "      <td>spotify:album:2Qg3CxIQ1Urnv700y5jP3j</td>\n",
       "    </tr>\n",
       "    <tr>\n",
       "      <th>2</th>\n",
       "      <td>78S8Z3EOl7hbzePSH4GQyF</td>\n",
       "      <td>Synthesis</td>\n",
       "      <td>album</td>\n",
       "      <td>Evanescence</td>\n",
       "      <td>2017</td>\n",
       "      <td>2017-11-08</td>\n",
       "      <td>https://i.scdn.co/image/ab67616d0000b2731a3c16...</td>\n",
       "      <td>16</td>\n",
       "      <td>JP</td>\n",
       "      <td>1</td>\n",
       "      <td>spotify:album:78S8Z3EOl7hbzePSH4GQyF</td>\n",
       "    </tr>\n",
       "    <tr>\n",
       "      <th>3</th>\n",
       "      <td>55VNOaV0zcQqGSrjOBHKVG</td>\n",
       "      <td>Lost Whispers</td>\n",
       "      <td>album</td>\n",
       "      <td>Evanescence</td>\n",
       "      <td>2016</td>\n",
       "      <td>2016-01-01</td>\n",
       "      <td>https://i.scdn.co/image/5cc5773196912b58bb4d0f...</td>\n",
       "      <td>12</td>\n",
       "      <td>AD,AE,AR,AT,AU,BE,BG,BH,BO,BR,CA,CH,CL,CO,CR,C...</td>\n",
       "      <td>79</td>\n",
       "      <td>spotify:album:55VNOaV0zcQqGSrjOBHKVG</td>\n",
       "    </tr>\n",
       "    <tr>\n",
       "      <th>4</th>\n",
       "      <td>3U85Q4GtR0I3VwgDOKHttO</td>\n",
       "      <td>Evanescence</td>\n",
       "      <td>album</td>\n",
       "      <td>Evanescence</td>\n",
       "      <td>2011</td>\n",
       "      <td>2011-01-01</td>\n",
       "      <td>https://i.scdn.co/image/ab67616d0000b273d1eb58...</td>\n",
       "      <td>12</td>\n",
       "      <td>AD,AE,AR,AT,AU,BE,BG,BH,BO,BR,CA,CH,CL,CO,CR,C...</td>\n",
       "      <td>79</td>\n",
       "      <td>spotify:album:3U85Q4GtR0I3VwgDOKHttO</td>\n",
       "    </tr>\n",
       "    <tr>\n",
       "      <th>5</th>\n",
       "      <td>0CHgu3JbE3Y0XQSejmQqLU</td>\n",
       "      <td>Evanescence (Deluxe Version)</td>\n",
       "      <td>album</td>\n",
       "      <td>Evanescence</td>\n",
       "      <td>2011</td>\n",
       "      <td>2011-01-01</td>\n",
       "      <td>https://i.scdn.co/image/ab67616d0000b273d8f604...</td>\n",
       "      <td>16</td>\n",
       "      <td>AD,AE,AR,AT,AU,BE,BG,BH,BO,BR,CA,CH,CL,CO,CR,C...</td>\n",
       "      <td>79</td>\n",
       "      <td>spotify:album:0CHgu3JbE3Y0XQSejmQqLU</td>\n",
       "    </tr>\n",
       "    <tr>\n",
       "      <th>6</th>\n",
       "      <td>3lFQ9ihSNR5YD0yi0yTzdC</td>\n",
       "      <td>The Open Door</td>\n",
       "      <td>album</td>\n",
       "      <td>Evanescence</td>\n",
       "      <td>2006</td>\n",
       "      <td>2006-01-01</td>\n",
       "      <td>https://i.scdn.co/image/ab67616d0000b273acaaa7...</td>\n",
       "      <td>13</td>\n",
       "      <td>AD,AE,AR,AT,AU,BE,BG,BH,BO,BR,CA,CH,CL,CO,CR,C...</td>\n",
       "      <td>79</td>\n",
       "      <td>spotify:album:3lFQ9ihSNR5YD0yi0yTzdC</td>\n",
       "    </tr>\n",
       "    <tr>\n",
       "      <th>7</th>\n",
       "      <td>5SpQ4sf9sXFWHgUKYCZSDF</td>\n",
       "      <td>Anywhere But Home (Live)</td>\n",
       "      <td>album</td>\n",
       "      <td>Evanescence</td>\n",
       "      <td>2004</td>\n",
       "      <td>2004-01-01</td>\n",
       "      <td>https://i.scdn.co/image/ab67616d0000b273671452...</td>\n",
       "      <td>14</td>\n",
       "      <td>AD,AE,AR,AT,AU,BE,BG,BH,BO,BR,CA,CH,CL,CO,CR,C...</td>\n",
       "      <td>79</td>\n",
       "      <td>spotify:album:5SpQ4sf9sXFWHgUKYCZSDF</td>\n",
       "    </tr>\n",
       "    <tr>\n",
       "      <th>8</th>\n",
       "      <td>02w1xMzzdF2OJxTeh1basm</td>\n",
       "      <td>Fallen</td>\n",
       "      <td>album</td>\n",
       "      <td>Evanescence</td>\n",
       "      <td>2003</td>\n",
       "      <td>2003-01-01</td>\n",
       "      <td>https://i.scdn.co/image/25d08410eb1e3cadc3834f...</td>\n",
       "      <td>12</td>\n",
       "      <td>AD,AE,AR,AT,AU,BE,BG,BH,BO,BR,CA,CH,CL,CO,CR,C...</td>\n",
       "      <td>79</td>\n",
       "      <td>spotify:album:02w1xMzzdF2OJxTeh1basm</td>\n",
       "    </tr>\n",
       "    <tr>\n",
       "      <th>9</th>\n",
       "      <td>30XHtkoW2UpzScXmEq34GA</td>\n",
       "      <td>Hi-Lo (Radio Edit)</td>\n",
       "      <td>single</td>\n",
       "      <td>Evanescence</td>\n",
       "      <td>2018</td>\n",
       "      <td>2018-06-08</td>\n",
       "      <td>https://i.scdn.co/image/ab67616d0000b273e1a2c8...</td>\n",
       "      <td>1</td>\n",
       "      <td>AD,AT,BE,BG,CH,CY,CZ,DE,DK,DZ,EE,ES,FI,FR,GB,G...</td>\n",
       "      <td>38</td>\n",
       "      <td>spotify:album:30XHtkoW2UpzScXmEq34GA</td>\n",
       "    </tr>\n",
       "    <tr>\n",
       "      <th>10</th>\n",
       "      <td>2ZdOV9vcsIqhCdZsUk0xZf</td>\n",
       "      <td>Hi-Lo (feat. Lindsey Stirling)</td>\n",
       "      <td>single</td>\n",
       "      <td>Evanescence</td>\n",
       "      <td>2018</td>\n",
       "      <td>2018-06-08</td>\n",
       "      <td>https://i.scdn.co/image/ab67616d0000b27399c16e...</td>\n",
       "      <td>1</td>\n",
       "      <td>AR,BO,BR,CA,CL,CO,CR,DO,EC,GT,HN,MX,NI,PA,PE,P...</td>\n",
       "      <td>19</td>\n",
       "      <td>spotify:album:2ZdOV9vcsIqhCdZsUk0xZf</td>\n",
       "    </tr>\n",
       "    <tr>\n",
       "      <th>11</th>\n",
       "      <td>5CJaHXc24NUCxl1NTDoiXZ</td>\n",
       "      <td>Lacrymosa</td>\n",
       "      <td>single</td>\n",
       "      <td>Evanescence</td>\n",
       "      <td>2017</td>\n",
       "      <td>2017-10-27</td>\n",
       "      <td>https://i.scdn.co/image/ab67616d0000b27331fcb2...</td>\n",
       "      <td>1</td>\n",
       "      <td>AD,AT,AU,BE,BG,CH,CY,CZ,DE,DK,DZ,EE,EG,ES,FI,F...</td>\n",
       "      <td>49</td>\n",
       "      <td>spotify:album:5CJaHXc24NUCxl1NTDoiXZ</td>\n",
       "    </tr>\n",
       "    <tr>\n",
       "      <th>12</th>\n",
       "      <td>0IOH9SFPWkoggrv6T0fjO3</td>\n",
       "      <td>Imperfection</td>\n",
       "      <td>single</td>\n",
       "      <td>Evanescence</td>\n",
       "      <td>2017</td>\n",
       "      <td>2017-09-15</td>\n",
       "      <td>https://i.scdn.co/image/ab67616d0000b273d543e2...</td>\n",
       "      <td>1</td>\n",
       "      <td>AD,AT,AU,BE,BG,CH,CY,CZ,DE,DK,DZ,EE,EG,ES,FI,F...</td>\n",
       "      <td>49</td>\n",
       "      <td>spotify:album:0IOH9SFPWkoggrv6T0fjO3</td>\n",
       "    </tr>\n",
       "    <tr>\n",
       "      <th>13</th>\n",
       "      <td>5jZYa2Za6usEVssTFuIFY0</td>\n",
       "      <td>Bring Me To Life (Synthesis)</td>\n",
       "      <td>single</td>\n",
       "      <td>Evanescence</td>\n",
       "      <td>2017</td>\n",
       "      <td>2017-09-01</td>\n",
       "      <td>https://i.scdn.co/image/ab67616d0000b273a3f635...</td>\n",
       "      <td>1</td>\n",
       "      <td>JP</td>\n",
       "      <td>1</td>\n",
       "      <td>spotify:album:5jZYa2Za6usEVssTFuIFY0</td>\n",
       "    </tr>\n",
       "    <tr>\n",
       "      <th>14</th>\n",
       "      <td>0P2m1IsAPVcRGmnBUTW8G7</td>\n",
       "      <td>Bring Me to Life (Synthesis)</td>\n",
       "      <td>single</td>\n",
       "      <td>Evanescence</td>\n",
       "      <td>2017</td>\n",
       "      <td>2017-08-18</td>\n",
       "      <td>https://i.scdn.co/image/ab67616d0000b273fab921...</td>\n",
       "      <td>1</td>\n",
       "      <td>AD,AE,AT,AU,BE,BG,BH,CH,CY,CZ,DE,DK,DZ,EE,EG,E...</td>\n",
       "      <td>57</td>\n",
       "      <td>spotify:album:0P2m1IsAPVcRGmnBUTW8G7</td>\n",
       "    </tr>\n",
       "    <tr>\n",
       "      <th>15</th>\n",
       "      <td>75txZS6Wt4fL3rFrrSJtzC</td>\n",
       "      <td>Bring Me To Life (Synthesis)</td>\n",
       "      <td>single</td>\n",
       "      <td>Evanescence</td>\n",
       "      <td>2017</td>\n",
       "      <td>2017-08-18</td>\n",
       "      <td>https://i.scdn.co/image/ab67616d0000b2739157db...</td>\n",
       "      <td>1</td>\n",
       "      <td>AR,BO,BR,CA,CL,CO,CR,DO,EC,GT,HN,MX,NI,PA,PE,P...</td>\n",
       "      <td>19</td>\n",
       "      <td>spotify:album:75txZS6Wt4fL3rFrrSJtzC</td>\n",
       "    </tr>\n",
       "    <tr>\n",
       "      <th>16</th>\n",
       "      <td>6HuLNUKcAkcIUSKZxRU9sO</td>\n",
       "      <td>Together Again</td>\n",
       "      <td>single</td>\n",
       "      <td>Evanescence</td>\n",
       "      <td>2010</td>\n",
       "      <td>2010-01-01</td>\n",
       "      <td>https://i.scdn.co/image/4b7da0b6ca9311f9e02cdd...</td>\n",
       "      <td>1</td>\n",
       "      <td>AD,AE,AR,AT,AU,BE,BG,BH,BO,BR,CA,CH,CL,CO,CR,C...</td>\n",
       "      <td>79</td>\n",
       "      <td>spotify:album:6HuLNUKcAkcIUSKZxRU9sO</td>\n",
       "    </tr>\n",
       "    <tr>\n",
       "      <th>17</th>\n",
       "      <td>6KToKw0CRf4XPJNAi11utr</td>\n",
       "      <td>Meme Songs</td>\n",
       "      <td>album</td>\n",
       "      <td>Various Artists</td>\n",
       "      <td>2019</td>\n",
       "      <td>2019-10-25</td>\n",
       "      <td>https://i.scdn.co/image/eb68e5394a4805962bf56d...</td>\n",
       "      <td>26</td>\n",
       "      <td>AE,AT,AU,BE,BG,BH,CH,CY,CZ,DE,DK,EE,EG,ES,FI,F...</td>\n",
       "      <td>73</td>\n",
       "      <td>spotify:album:6KToKw0CRf4XPJNAi11utr</td>\n",
       "    </tr>\n",
       "    <tr>\n",
       "      <th>18</th>\n",
       "      <td>0oMHEiOI8FROtEQM1QTCVB</td>\n",
       "      <td>Throwback Thursday Mix Vol. 4</td>\n",
       "      <td>album</td>\n",
       "      <td>Various Artists</td>\n",
       "      <td>2019</td>\n",
       "      <td>2019-10-25</td>\n",
       "      <td>https://i.scdn.co/image/7afc7b5676f723ac0c6f8c...</td>\n",
       "      <td>50</td>\n",
       "      <td>AE,AT,AU,BE,BG,BH,CH,CY,CZ,DE,DK,EE,EG,ES,FI,F...</td>\n",
       "      <td>73</td>\n",
       "      <td>spotify:album:0oMHEiOI8FROtEQM1QTCVB</td>\n",
       "    </tr>\n",
       "    <tr>\n",
       "      <th>19</th>\n",
       "      <td>6YUdCuDBFQP2Aj6KMdnvjH</td>\n",
       "      <td>Throwback Thursday Mix Vol. 3</td>\n",
       "      <td>album</td>\n",
       "      <td>Various Artists</td>\n",
       "      <td>2019</td>\n",
       "      <td>2019-10-18</td>\n",
       "      <td>https://i.scdn.co/image/4a942f68da8c07f3b2e9e4...</td>\n",
       "      <td>50</td>\n",
       "      <td>AE,AR,AT,AU,BE,BG,BH,BO,BR,CA,CH,CL,CO,CR,CY,C...</td>\n",
       "      <td>73</td>\n",
       "      <td>spotify:album:6YUdCuDBFQP2Aj6KMdnvjH</td>\n",
       "    </tr>\n",
       "    <tr>\n",
       "      <th>20</th>\n",
       "      <td>4CmPFCuDPQoC0h48CmxXtx</td>\n",
       "      <td>Emos Not Dead</td>\n",
       "      <td>album</td>\n",
       "      <td>Various Artists</td>\n",
       "      <td>2019</td>\n",
       "      <td>2019-10-11</td>\n",
       "      <td>https://i.scdn.co/image/17e239ac15a71b5e387bb6...</td>\n",
       "      <td>21</td>\n",
       "      <td>AE,AR,AT,AU,BE,BG,BH,BO,BR,CA,CH,CL,CO,CR,CY,C...</td>\n",
       "      <td>73</td>\n",
       "      <td>spotify:album:4CmPFCuDPQoC0h48CmxXtx</td>\n",
       "    </tr>\n",
       "    <tr>\n",
       "      <th>21</th>\n",
       "      <td>0Wo1E6xjtogsprOfFot4Se</td>\n",
       "      <td>Throwback Thursday Mix Vol. 2</td>\n",
       "      <td>album</td>\n",
       "      <td>Various Artists</td>\n",
       "      <td>2019</td>\n",
       "      <td>2019-10-11</td>\n",
       "      <td>https://i.scdn.co/image/9114152cc314972972f390...</td>\n",
       "      <td>50</td>\n",
       "      <td>AE,AR,AT,AU,BE,BG,BH,BO,BR,CA,CH,CL,CO,CR,CY,C...</td>\n",
       "      <td>73</td>\n",
       "      <td>spotify:album:0Wo1E6xjtogsprOfFot4Se</td>\n",
       "    </tr>\n",
       "    <tr>\n",
       "      <th>22</th>\n",
       "      <td>7BU1MiHemFcQKn3xEn7cOz</td>\n",
       "      <td>Halloween 2019</td>\n",
       "      <td>album</td>\n",
       "      <td>Various Artists</td>\n",
       "      <td>2019</td>\n",
       "      <td>2019-09-27</td>\n",
       "      <td>https://i.scdn.co/image/52264d17c6a67d81208c28...</td>\n",
       "      <td>38</td>\n",
       "      <td>AE,AR,AT,AU,BE,BG,BH,BO,BR,CA,CH,CL,CO,CR,CY,C...</td>\n",
       "      <td>73</td>\n",
       "      <td>spotify:album:7BU1MiHemFcQKn3xEn7cOz</td>\n",
       "    </tr>\n",
       "    <tr>\n",
       "      <th>23</th>\n",
       "      <td>2uX8vuhVKDOKwqJoUeBQTh</td>\n",
       "      <td>Halloween Mix</td>\n",
       "      <td>album</td>\n",
       "      <td>Various Artists</td>\n",
       "      <td>2019</td>\n",
       "      <td>2019-09-27</td>\n",
       "      <td>https://i.scdn.co/image/5c9d3d6c06aa541db3b0c9...</td>\n",
       "      <td>39</td>\n",
       "      <td>AE,AR,AT,AU,BE,BG,BH,BO,BR,CA,CH,CL,CO,CR,CY,C...</td>\n",
       "      <td>73</td>\n",
       "      <td>spotify:album:2uX8vuhVKDOKwqJoUeBQTh</td>\n",
       "    </tr>\n",
       "    <tr>\n",
       "      <th>24</th>\n",
       "      <td>3CPeuuTbZ2x9nAIUMfaJ8Z</td>\n",
       "      <td>Halloween Party</td>\n",
       "      <td>album</td>\n",
       "      <td>Various Artists</td>\n",
       "      <td>2019</td>\n",
       "      <td>2019-09-27</td>\n",
       "      <td>https://i.scdn.co/image/dd09a143fa936c4f12b4d8...</td>\n",
       "      <td>28</td>\n",
       "      <td>AE,AR,AT,AU,BE,BG,BH,BO,BR,CA,CH,CL,CO,CR,CY,C...</td>\n",
       "      <td>73</td>\n",
       "      <td>spotify:album:3CPeuuTbZ2x9nAIUMfaJ8Z</td>\n",
       "    </tr>\n",
       "    <tr>\n",
       "      <th>25</th>\n",
       "      <td>4hrtczCTsfNDHFwVOVYuxz</td>\n",
       "      <td>Halloween Songs</td>\n",
       "      <td>album</td>\n",
       "      <td>Various Artists</td>\n",
       "      <td>2019</td>\n",
       "      <td>2019-09-27</td>\n",
       "      <td>https://i.scdn.co/image/fb68c94981894bc84aea2e...</td>\n",
       "      <td>34</td>\n",
       "      <td>AE,AR,AT,AU,BE,BG,BH,BO,BR,CA,CH,CL,CO,CR,CY,C...</td>\n",
       "      <td>73</td>\n",
       "      <td>spotify:album:4hrtczCTsfNDHFwVOVYuxz</td>\n",
       "    </tr>\n",
       "    <tr>\n",
       "      <th>26</th>\n",
       "      <td>4zo0GpI4ydhGVhZon21uE6</td>\n",
       "      <td>Emo/Pop Rock Anos 2000</td>\n",
       "      <td>album</td>\n",
       "      <td>Various Artists</td>\n",
       "      <td>2019</td>\n",
       "      <td>2019-09-20</td>\n",
       "      <td>https://i.scdn.co/image/fce8fcec951a16c9edd9b7...</td>\n",
       "      <td>20</td>\n",
       "      <td>AR,BO,BR,CL,CO,CR,EC,GT,HN,MX,NI,PA,PE,PY,SV,UY</td>\n",
       "      <td>16</td>\n",
       "      <td>spotify:album:4zo0GpI4ydhGVhZon21uE6</td>\n",
       "    </tr>\n",
       "    <tr>\n",
       "      <th>27</th>\n",
       "      <td>6nIQVkL2OlugxAIQVugdmn</td>\n",
       "      <td>Punk Rock 90's &amp; 00's</td>\n",
       "      <td>album</td>\n",
       "      <td>Various Artists</td>\n",
       "      <td>2019</td>\n",
       "      <td>2019-08-30</td>\n",
       "      <td>https://i.scdn.co/image/59496ddeb1d0446dbedd36...</td>\n",
       "      <td>28</td>\n",
       "      <td>AR,AT,AU,BE,BG,BO,BR,CA,CH,CL,CO,CR,CZ,DE,DK,E...</td>\n",
       "      <td>53</td>\n",
       "      <td>spotify:album:6nIQVkL2OlugxAIQVugdmn</td>\n",
       "    </tr>\n",
       "    <tr>\n",
       "      <th>28</th>\n",
       "      <td>3wOvm15NeID1mAqcT5R1OF</td>\n",
       "      <td>2000's Kids</td>\n",
       "      <td>compilation</td>\n",
       "      <td>Various Artists</td>\n",
       "      <td>2019</td>\n",
       "      <td>2019-08-16</td>\n",
       "      <td>https://i.scdn.co/image/ab67616d0000b2739cf200...</td>\n",
       "      <td>25</td>\n",
       "      <td>AR,AT,AU,BE,BG,BO,BR,CA,CH,CL,CO,CR,CZ,DE,DK,E...</td>\n",
       "      <td>53</td>\n",
       "      <td>spotify:album:3wOvm15NeID1mAqcT5R1OF</td>\n",
       "    </tr>\n",
       "    <tr>\n",
       "      <th>29</th>\n",
       "      <td>693A9RtWyZlWc7Il4w7iSm</td>\n",
       "      <td>Memes For Teens</td>\n",
       "      <td>compilation</td>\n",
       "      <td>Various Artists</td>\n",
       "      <td>2019</td>\n",
       "      <td>2019-08-09</td>\n",
       "      <td>https://i.scdn.co/image/ab67616d0000b273b8c144...</td>\n",
       "      <td>20</td>\n",
       "      <td>AR,AT,AU,BE,BG,BO,BR,CA,CH,CL,CO,CR,CZ,DE,DK,E...</td>\n",
       "      <td>53</td>\n",
       "      <td>spotify:album:693A9RtWyZlWc7Il4w7iSm</td>\n",
       "    </tr>\n",
       "    <tr>\n",
       "      <th>30</th>\n",
       "      <td>62Kco7ljJvAdQ25SzugNAj</td>\n",
       "      <td>Songs About Death</td>\n",
       "      <td>compilation</td>\n",
       "      <td>Various Artists</td>\n",
       "      <td>2019</td>\n",
       "      <td>2019-08-09</td>\n",
       "      <td>https://i.scdn.co/image/ab67616d0000b273de86e3...</td>\n",
       "      <td>26</td>\n",
       "      <td>AR,AT,AU,BE,BG,BO,BR,CA,CH,CL,CO,CR,CZ,DE,DK,E...</td>\n",
       "      <td>53</td>\n",
       "      <td>spotify:album:62Kco7ljJvAdQ25SzugNAj</td>\n",
       "    </tr>\n",
       "    <tr>\n",
       "      <th>31</th>\n",
       "      <td>6v68oJEGbakd1s7K1LXDUe</td>\n",
       "      <td>Stripped Down Hits</td>\n",
       "      <td>compilation</td>\n",
       "      <td>Various Artists</td>\n",
       "      <td>2019</td>\n",
       "      <td>2019-08-02</td>\n",
       "      <td>https://i.scdn.co/image/ab67616d0000b273a5e826...</td>\n",
       "      <td>30</td>\n",
       "      <td>AR,AT,AU,BE,BG,BO,BR,CA,CH,CL,CO,CR,CZ,DE,DK,E...</td>\n",
       "      <td>53</td>\n",
       "      <td>spotify:album:6v68oJEGbakd1s7K1LXDUe</td>\n",
       "    </tr>\n",
       "    <tr>\n",
       "      <th>32</th>\n",
       "      <td>09SaFiWfmNLBPtC5FyH567</td>\n",
       "      <td>Back To School</td>\n",
       "      <td>compilation</td>\n",
       "      <td>Various Artists</td>\n",
       "      <td>2019</td>\n",
       "      <td>2019-07-26</td>\n",
       "      <td>https://i.scdn.co/image/ab67616d0000b273efd2e7...</td>\n",
       "      <td>27</td>\n",
       "      <td>AR,AT,AU,BE,BG,BO,BR,CA,CH,CL,CO,CR,CZ,DE,DK,E...</td>\n",
       "      <td>53</td>\n",
       "      <td>spotify:album:09SaFiWfmNLBPtC5FyH567</td>\n",
       "    </tr>\n",
       "    <tr>\n",
       "      <th>33</th>\n",
       "      <td>0XuhTDe4zV2NeufbpmsBes</td>\n",
       "      <td>Top Pop Rock</td>\n",
       "      <td>compilation</td>\n",
       "      <td>Various Artists</td>\n",
       "      <td>2019</td>\n",
       "      <td>2019-07-26</td>\n",
       "      <td>https://i.scdn.co/image/ab67616d0000b273b18b72...</td>\n",
       "      <td>42</td>\n",
       "      <td>AR,AT,AU,BE,BG,BO,BR,CA,CH,CL,CO,CR,CZ,DE,DK,E...</td>\n",
       "      <td>53</td>\n",
       "      <td>spotify:album:0XuhTDe4zV2NeufbpmsBes</td>\n",
       "    </tr>\n",
       "    <tr>\n",
       "      <th>34</th>\n",
       "      <td>6His9gNlruPcLPMB3EzkPT</td>\n",
       "      <td>Mellow Rock</td>\n",
       "      <td>compilation</td>\n",
       "      <td>Various Artists</td>\n",
       "      <td>2019</td>\n",
       "      <td>2019-07-19</td>\n",
       "      <td>https://i.scdn.co/image/ab67616d0000b2739efe8f...</td>\n",
       "      <td>28</td>\n",
       "      <td>AR,AT,AU,BE,BG,BO,BR,CA,CH,CL,CO,CR,CZ,DE,DK,E...</td>\n",
       "      <td>53</td>\n",
       "      <td>spotify:album:6His9gNlruPcLPMB3EzkPT</td>\n",
       "    </tr>\n",
       "    <tr>\n",
       "      <th>35</th>\n",
       "      <td>54VeuILXLcZMmJe6YG1X06</td>\n",
       "      <td>Teenage Dirtbag Skate Rock</td>\n",
       "      <td>compilation</td>\n",
       "      <td>Various Artists</td>\n",
       "      <td>2019</td>\n",
       "      <td>2019-07-12</td>\n",
       "      <td>https://i.scdn.co/image/ab67616d0000b27371923c...</td>\n",
       "      <td>30</td>\n",
       "      <td>AR,AT,AU,BE,BG,BO,BR,CA,CH,CL,CO,CR,CZ,DE,DK,E...</td>\n",
       "      <td>53</td>\n",
       "      <td>spotify:album:54VeuILXLcZMmJe6YG1X06</td>\n",
       "    </tr>\n",
       "    <tr>\n",
       "      <th>36</th>\n",
       "      <td>7p3J3jwjcXgvz8Aqd9LZrL</td>\n",
       "      <td>00s Top Rock</td>\n",
       "      <td>compilation</td>\n",
       "      <td>Various Artists</td>\n",
       "      <td>2019</td>\n",
       "      <td>2019-07-05</td>\n",
       "      <td>https://i.scdn.co/image/ab67616d0000b273b4689a...</td>\n",
       "      <td>50</td>\n",
       "      <td>AR,AT,AU,BE,BG,BO,BR,CA,CH,CL,CO,CR,CZ,DE,DK,E...</td>\n",
       "      <td>53</td>\n",
       "      <td>spotify:album:7p3J3jwjcXgvz8Aqd9LZrL</td>\n",
       "    </tr>\n",
       "    <tr>\n",
       "      <th>37</th>\n",
       "      <td>66TzFI9NUig9AnbDlY49fi</td>\n",
       "      <td>Alt Throwback</td>\n",
       "      <td>compilation</td>\n",
       "      <td>Various Artists</td>\n",
       "      <td>2019</td>\n",
       "      <td>2019-06-28</td>\n",
       "      <td>https://i.scdn.co/image/ab67616d0000b2736cee7e...</td>\n",
       "      <td>26</td>\n",
       "      <td>AR,AT,AU,BE,BG,BO,BR,CA,CH,CL,CO,CR,CZ,DE,DK,E...</td>\n",
       "      <td>53</td>\n",
       "      <td>spotify:album:66TzFI9NUig9AnbDlY49fi</td>\n",
       "    </tr>\n",
       "    <tr>\n",
       "      <th>38</th>\n",
       "      <td>6xobTZNBbeDDHCXVqYgjNK</td>\n",
       "      <td>00s Music</td>\n",
       "      <td>compilation</td>\n",
       "      <td>Various Artists</td>\n",
       "      <td>2019</td>\n",
       "      <td>2019-06-21</td>\n",
       "      <td>https://i.scdn.co/image/ab67616d0000b273db688b...</td>\n",
       "      <td>55</td>\n",
       "      <td>AR,AT,AU,BE,BG,BO,BR,CA,CH,CL,CO,CR,CZ,DE,DK,E...</td>\n",
       "      <td>53</td>\n",
       "      <td>spotify:album:6xobTZNBbeDDHCXVqYgjNK</td>\n",
       "    </tr>\n",
       "    <tr>\n",
       "      <th>39</th>\n",
       "      <td>6CZrEIo3Zz7ID0cE7iILl2</td>\n",
       "      <td>00s Pop</td>\n",
       "      <td>compilation</td>\n",
       "      <td>Various Artists</td>\n",
       "      <td>2019</td>\n",
       "      <td>2019-06-21</td>\n",
       "      <td>https://i.scdn.co/image/ab67616d0000b2730b425c...</td>\n",
       "      <td>36</td>\n",
       "      <td>AR,AT,AU,BE,BG,BO,BR,CA,CH,CL,CO,CR,CZ,DE,DK,E...</td>\n",
       "      <td>53</td>\n",
       "      <td>spotify:album:6CZrEIo3Zz7ID0cE7iILl2</td>\n",
       "    </tr>\n",
       "    <tr>\n",
       "      <th>40</th>\n",
       "      <td>6r4f5B7hDTYwRKR6qGo6qo</td>\n",
       "      <td>00s Rock</td>\n",
       "      <td>compilation</td>\n",
       "      <td>Various Artists</td>\n",
       "      <td>2019</td>\n",
       "      <td>2019-05-17</td>\n",
       "      <td>https://i.scdn.co/image/ab67616d0000b273a7c048...</td>\n",
       "      <td>36</td>\n",
       "      <td>AR,AT,AU,BO,BR,CA,CH,CL,CO,CR,DE,DK,EC,ES,FI,F...</td>\n",
       "      <td>29</td>\n",
       "      <td>spotify:album:6r4f5B7hDTYwRKR6qGo6qo</td>\n",
       "    </tr>\n",
       "    <tr>\n",
       "      <th>41</th>\n",
       "      <td>4Vvpp97X7j02Zk9nQDrdvJ</td>\n",
       "      <td>Winter Is Coming</td>\n",
       "      <td>compilation</td>\n",
       "      <td>Various Artists</td>\n",
       "      <td>2019</td>\n",
       "      <td>2019-04-12</td>\n",
       "      <td>https://i.scdn.co/image/ab67616d0000b273ca1165...</td>\n",
       "      <td>52</td>\n",
       "      <td>AR,AT,AU,BO,BR,CA,CH,CL,CO,CR,DE,DK,EC,ES,FI,F...</td>\n",
       "      <td>29</td>\n",
       "      <td>spotify:album:4Vvpp97X7j02Zk9nQDrdvJ</td>\n",
       "    </tr>\n",
       "    <tr>\n",
       "      <th>42</th>\n",
       "      <td>2WRPvkpgmkC26Gqaw2xN4G</td>\n",
       "      <td>Winter Is Here</td>\n",
       "      <td>compilation</td>\n",
       "      <td>Various Artists</td>\n",
       "      <td>2019</td>\n",
       "      <td>2019-04-12</td>\n",
       "      <td>https://i.scdn.co/image/ab67616d0000b273d1b365...</td>\n",
       "      <td>52</td>\n",
       "      <td>AR,AT,AU,BO,BR,CA,CH,CL,CO,CR,DE,DK,EC,ES,FI,F...</td>\n",
       "      <td>29</td>\n",
       "      <td>spotify:album:2WRPvkpgmkC26Gqaw2xN4G</td>\n",
       "    </tr>\n",
       "    <tr>\n",
       "      <th>43</th>\n",
       "      <td>2gbaEKe5rqHNmatEWPoDUu</td>\n",
       "      <td>00s Anthems</td>\n",
       "      <td>compilation</td>\n",
       "      <td>Various Artists</td>\n",
       "      <td>2019</td>\n",
       "      <td>2019-03-15</td>\n",
       "      <td>https://i.scdn.co/image/ab67616d0000b2736b7821...</td>\n",
       "      <td>47</td>\n",
       "      <td>AR,AT,AU,BO,BR,CA,CH,CL,CO,CR,DE,DK,EC,ES,FI,F...</td>\n",
       "      <td>29</td>\n",
       "      <td>spotify:album:2gbaEKe5rqHNmatEWPoDUu</td>\n",
       "    </tr>\n",
       "    <tr>\n",
       "      <th>44</th>\n",
       "      <td>1AQGra8TF7PX94whCy7tsY</td>\n",
       "      <td>Halloween Party</td>\n",
       "      <td>compilation</td>\n",
       "      <td>Various Artists</td>\n",
       "      <td>2018</td>\n",
       "      <td>2018-10-19</td>\n",
       "      <td>https://i.scdn.co/image/ab67616d0000b27358497e...</td>\n",
       "      <td>22</td>\n",
       "      <td>AR,AT,AU,BO,BR,CA,CH,CL,CO,CR,DE,DK,DO,EC,ES,F...</td>\n",
       "      <td>30</td>\n",
       "      <td>spotify:album:1AQGra8TF7PX94whCy7tsY</td>\n",
       "    </tr>\n",
       "    <tr>\n",
       "      <th>45</th>\n",
       "      <td>76BX9WcjIOs7iOTZXxqp52</td>\n",
       "      <td>MNM Love Songs Vol.4</td>\n",
       "      <td>compilation</td>\n",
       "      <td>Various Artists</td>\n",
       "      <td>2014</td>\n",
       "      <td>2014-01-01</td>\n",
       "      <td>https://i.scdn.co/image/ab67616d0000b2737bb0c9...</td>\n",
       "      <td>40</td>\n",
       "      <td>BE,LU</td>\n",
       "      <td>2</td>\n",
       "      <td>spotify:album:76BX9WcjIOs7iOTZXxqp52</td>\n",
       "    </tr>\n",
       "    <tr>\n",
       "      <th>46</th>\n",
       "      <td>4D10Iig1KomfsGz31wBZoX</td>\n",
       "      <td>Hits Forever - Greatest Love Songs</td>\n",
       "      <td>compilation</td>\n",
       "      <td>Various Artists</td>\n",
       "      <td>2013</td>\n",
       "      <td>2013-01-01</td>\n",
       "      <td>https://i.scdn.co/image/ab67616d0000b27373a383...</td>\n",
       "      <td>20</td>\n",
       "      <td>IN</td>\n",
       "      <td>1</td>\n",
       "      <td>spotify:album:4D10Iig1KomfsGz31wBZoX</td>\n",
       "    </tr>\n",
       "    <tr>\n",
       "      <th>47</th>\n",
       "      <td>1rlLAIUGebTGikzzGBkQ0F</td>\n",
       "      <td>Teenage Dirtbags</td>\n",
       "      <td>compilation</td>\n",
       "      <td>Various Artists</td>\n",
       "      <td>2013</td>\n",
       "      <td>2013-01-01</td>\n",
       "      <td>https://i.scdn.co/image/ab67616d0000b273476570...</td>\n",
       "      <td>44</td>\n",
       "      <td>GB,IE</td>\n",
       "      <td>2</td>\n",
       "      <td>spotify:album:1rlLAIUGebTGikzzGBkQ0F</td>\n",
       "    </tr>\n",
       "    <tr>\n",
       "      <th>48</th>\n",
       "      <td>4eXolm0tNOLblagTVn6Wgy</td>\n",
       "      <td>Avengers Assemble (International Version)</td>\n",
       "      <td>compilation</td>\n",
       "      <td>Various Artists</td>\n",
       "      <td>2012</td>\n",
       "      <td>2012-05-01</td>\n",
       "      <td>https://i.scdn.co/image/ab67616d0000b273caf88b...</td>\n",
       "      <td>13</td>\n",
       "      <td>AD,AR,AT,AU,BE,BG,BO,BR,CA,CH,CL,CO,CR,CY,CZ,D...</td>\n",
       "      <td>60</td>\n",
       "      <td>spotify:album:4eXolm0tNOLblagTVn6Wgy</td>\n",
       "    </tr>\n",
       "    <tr>\n",
       "      <th>49</th>\n",
       "      <td>2hfaqbY4mY9JL2i0zfialy</td>\n",
       "      <td>Underworld Awakening (Original Motion Picture ...</td>\n",
       "      <td>compilation</td>\n",
       "      <td>Various Artists</td>\n",
       "      <td>2012</td>\n",
       "      <td>2012-01-17</td>\n",
       "      <td>https://i.scdn.co/image/ab67616d0000b27337f6c9...</td>\n",
       "      <td>17</td>\n",
       "      <td>CA,US</td>\n",
       "      <td>2</td>\n",
       "      <td>spotify:album:2hfaqbY4mY9JL2i0zfialy</td>\n",
       "    </tr>\n",
       "    <tr>\n",
       "      <th>50</th>\n",
       "      <td>65HdXCLpwIXZGt7kQe3bK6</td>\n",
       "      <td>Midnight Diaries</td>\n",
       "      <td>compilation</td>\n",
       "      <td>Various Artists</td>\n",
       "      <td>2010</td>\n",
       "      <td>2010-01-01</td>\n",
       "      <td>https://i.scdn.co/image/798538bdf6f3c63af2c198...</td>\n",
       "      <td>36</td>\n",
       "      <td>MX</td>\n",
       "      <td>1</td>\n",
       "      <td>spotify:album:65HdXCLpwIXZGt7kQe3bK6</td>\n",
       "    </tr>\n",
       "    <tr>\n",
       "      <th>51</th>\n",
       "      <td>0anDTe9W7YJ82hIpJCsYft</td>\n",
       "      <td>iMusic1 Rocks</td>\n",
       "      <td>compilation</td>\n",
       "      <td>Various Artists</td>\n",
       "      <td>2009</td>\n",
       "      <td>2009-08-28</td>\n",
       "      <td>https://i.scdn.co/image/ab67616d0000b2733593d2...</td>\n",
       "      <td>39</td>\n",
       "      <td>AT,CH,DE</td>\n",
       "      <td>3</td>\n",
       "      <td>spotify:album:0anDTe9W7YJ82hIpJCsYft</td>\n",
       "    </tr>\n",
       "    <tr>\n",
       "      <th>52</th>\n",
       "      <td>5jc6tOSK9BpocWWQgFo8Md</td>\n",
       "      <td>ThriveMix Presents: DanceAnthems 2</td>\n",
       "      <td>compilation</td>\n",
       "      <td>Various Artists</td>\n",
       "      <td>2008</td>\n",
       "      <td>2008-01-01</td>\n",
       "      <td>https://i.scdn.co/image/ab67616d0000b273bacab0...</td>\n",
       "      <td>16</td>\n",
       "      <td>US</td>\n",
       "      <td>1</td>\n",
       "      <td>spotify:album:5jc6tOSK9BpocWWQgFo8Md</td>\n",
       "    </tr>\n",
       "    <tr>\n",
       "      <th>53</th>\n",
       "      <td>7soKb31c9JTxBllcJ0J2KT</td>\n",
       "      <td>Now! 12</td>\n",
       "      <td>compilation</td>\n",
       "      <td>Various Artists</td>\n",
       "      <td>2007</td>\n",
       "      <td>2007-01-01</td>\n",
       "      <td>https://i.scdn.co/image/91dfccfbd04e0fa6558489...</td>\n",
       "      <td>18</td>\n",
       "      <td>CA</td>\n",
       "      <td>1</td>\n",
       "      <td>spotify:album:7soKb31c9JTxBllcJ0J2KT</td>\n",
       "    </tr>\n",
       "    <tr>\n",
       "      <th>54</th>\n",
       "      <td>5oi50Gv8yvqAqPbWDdZhYA</td>\n",
       "      <td>Elektra: The Album</td>\n",
       "      <td>compilation</td>\n",
       "      <td>Various Artists</td>\n",
       "      <td>2005</td>\n",
       "      <td>2005-01-01</td>\n",
       "      <td>https://i.scdn.co/image/ab67616d0000b273a7d9fa...</td>\n",
       "      <td>15</td>\n",
       "      <td>US</td>\n",
       "      <td>1</td>\n",
       "      <td>spotify:album:5oi50Gv8yvqAqPbWDdZhYA</td>\n",
       "    </tr>\n",
       "  </tbody>\n",
       "</table>\n",
       "</div>"
      ],
      "text/plain": [
       "                  album_id                                         album_name  \\\n",
       "0   12NBjimNnuWAP0OXIlwyrZ                                     Synthesis Live   \n",
       "1   2Qg3CxIQ1Urnv700y5jP3j                                          Synthesis   \n",
       "2   78S8Z3EOl7hbzePSH4GQyF                                          Synthesis   \n",
       "3   55VNOaV0zcQqGSrjOBHKVG                                      Lost Whispers   \n",
       "4   3U85Q4GtR0I3VwgDOKHttO                                        Evanescence   \n",
       "5   0CHgu3JbE3Y0XQSejmQqLU                       Evanescence (Deluxe Version)   \n",
       "6   3lFQ9ihSNR5YD0yi0yTzdC                                      The Open Door   \n",
       "7   5SpQ4sf9sXFWHgUKYCZSDF                           Anywhere But Home (Live)   \n",
       "8   02w1xMzzdF2OJxTeh1basm                                             Fallen   \n",
       "9   30XHtkoW2UpzScXmEq34GA                                 Hi-Lo (Radio Edit)   \n",
       "10  2ZdOV9vcsIqhCdZsUk0xZf                     Hi-Lo (feat. Lindsey Stirling)   \n",
       "11  5CJaHXc24NUCxl1NTDoiXZ                                          Lacrymosa   \n",
       "12  0IOH9SFPWkoggrv6T0fjO3                                       Imperfection   \n",
       "13  5jZYa2Za6usEVssTFuIFY0                       Bring Me To Life (Synthesis)   \n",
       "14  0P2m1IsAPVcRGmnBUTW8G7                       Bring Me to Life (Synthesis)   \n",
       "15  75txZS6Wt4fL3rFrrSJtzC                       Bring Me To Life (Synthesis)   \n",
       "16  6HuLNUKcAkcIUSKZxRU9sO                                     Together Again   \n",
       "17  6KToKw0CRf4XPJNAi11utr                                         Meme Songs   \n",
       "18  0oMHEiOI8FROtEQM1QTCVB                      Throwback Thursday Mix Vol. 4   \n",
       "19  6YUdCuDBFQP2Aj6KMdnvjH                      Throwback Thursday Mix Vol. 3   \n",
       "20  4CmPFCuDPQoC0h48CmxXtx                                      Emos Not Dead   \n",
       "21  0Wo1E6xjtogsprOfFot4Se                      Throwback Thursday Mix Vol. 2   \n",
       "22  7BU1MiHemFcQKn3xEn7cOz                                     Halloween 2019   \n",
       "23  2uX8vuhVKDOKwqJoUeBQTh                                      Halloween Mix   \n",
       "24  3CPeuuTbZ2x9nAIUMfaJ8Z                                    Halloween Party   \n",
       "25  4hrtczCTsfNDHFwVOVYuxz                                    Halloween Songs   \n",
       "26  4zo0GpI4ydhGVhZon21uE6                             Emo/Pop Rock Anos 2000   \n",
       "27  6nIQVkL2OlugxAIQVugdmn                              Punk Rock 90's & 00's   \n",
       "28  3wOvm15NeID1mAqcT5R1OF                                        2000's Kids   \n",
       "29  693A9RtWyZlWc7Il4w7iSm                                    Memes For Teens   \n",
       "30  62Kco7ljJvAdQ25SzugNAj                                  Songs About Death   \n",
       "31  6v68oJEGbakd1s7K1LXDUe                                 Stripped Down Hits   \n",
       "32  09SaFiWfmNLBPtC5FyH567                                     Back To School   \n",
       "33  0XuhTDe4zV2NeufbpmsBes                                       Top Pop Rock   \n",
       "34  6His9gNlruPcLPMB3EzkPT                                        Mellow Rock   \n",
       "35  54VeuILXLcZMmJe6YG1X06                         Teenage Dirtbag Skate Rock   \n",
       "36  7p3J3jwjcXgvz8Aqd9LZrL                                       00s Top Rock   \n",
       "37  66TzFI9NUig9AnbDlY49fi                                      Alt Throwback   \n",
       "38  6xobTZNBbeDDHCXVqYgjNK                                          00s Music   \n",
       "39  6CZrEIo3Zz7ID0cE7iILl2                                            00s Pop   \n",
       "40  6r4f5B7hDTYwRKR6qGo6qo                                           00s Rock   \n",
       "41  4Vvpp97X7j02Zk9nQDrdvJ                                   Winter Is Coming   \n",
       "42  2WRPvkpgmkC26Gqaw2xN4G                                     Winter Is Here   \n",
       "43  2gbaEKe5rqHNmatEWPoDUu                                        00s Anthems   \n",
       "44  1AQGra8TF7PX94whCy7tsY                                    Halloween Party   \n",
       "45  76BX9WcjIOs7iOTZXxqp52                               MNM Love Songs Vol.4   \n",
       "46  4D10Iig1KomfsGz31wBZoX                 Hits Forever - Greatest Love Songs   \n",
       "47  1rlLAIUGebTGikzzGBkQ0F                                   Teenage Dirtbags   \n",
       "48  4eXolm0tNOLblagTVn6Wgy          Avengers Assemble (International Version)   \n",
       "49  2hfaqbY4mY9JL2i0zfialy  Underworld Awakening (Original Motion Picture ...   \n",
       "50  65HdXCLpwIXZGt7kQe3bK6                                   Midnight Diaries   \n",
       "51  0anDTe9W7YJ82hIpJCsYft                                      iMusic1 Rocks   \n",
       "52  5jc6tOSK9BpocWWQgFo8Md                 ThriveMix Presents: DanceAnthems 2   \n",
       "53  7soKb31c9JTxBllcJ0J2KT                                            Now! 12   \n",
       "54  5oi50Gv8yvqAqPbWDdZhYA                                 Elektra: The Album   \n",
       "\n",
       "     album_type          artists  release_year release_date  \\\n",
       "0         album      Evanescence          2018   2018-12-14   \n",
       "1         album      Evanescence          2017   2017-11-10   \n",
       "2         album      Evanescence          2017   2017-11-08   \n",
       "3         album      Evanescence          2016   2016-01-01   \n",
       "4         album      Evanescence          2011   2011-01-01   \n",
       "5         album      Evanescence          2011   2011-01-01   \n",
       "6         album      Evanescence          2006   2006-01-01   \n",
       "7         album      Evanescence          2004   2004-01-01   \n",
       "8         album      Evanescence          2003   2003-01-01   \n",
       "9        single      Evanescence          2018   2018-06-08   \n",
       "10       single      Evanescence          2018   2018-06-08   \n",
       "11       single      Evanescence          2017   2017-10-27   \n",
       "12       single      Evanescence          2017   2017-09-15   \n",
       "13       single      Evanescence          2017   2017-09-01   \n",
       "14       single      Evanescence          2017   2017-08-18   \n",
       "15       single      Evanescence          2017   2017-08-18   \n",
       "16       single      Evanescence          2010   2010-01-01   \n",
       "17        album  Various Artists          2019   2019-10-25   \n",
       "18        album  Various Artists          2019   2019-10-25   \n",
       "19        album  Various Artists          2019   2019-10-18   \n",
       "20        album  Various Artists          2019   2019-10-11   \n",
       "21        album  Various Artists          2019   2019-10-11   \n",
       "22        album  Various Artists          2019   2019-09-27   \n",
       "23        album  Various Artists          2019   2019-09-27   \n",
       "24        album  Various Artists          2019   2019-09-27   \n",
       "25        album  Various Artists          2019   2019-09-27   \n",
       "26        album  Various Artists          2019   2019-09-20   \n",
       "27        album  Various Artists          2019   2019-08-30   \n",
       "28  compilation  Various Artists          2019   2019-08-16   \n",
       "29  compilation  Various Artists          2019   2019-08-09   \n",
       "30  compilation  Various Artists          2019   2019-08-09   \n",
       "31  compilation  Various Artists          2019   2019-08-02   \n",
       "32  compilation  Various Artists          2019   2019-07-26   \n",
       "33  compilation  Various Artists          2019   2019-07-26   \n",
       "34  compilation  Various Artists          2019   2019-07-19   \n",
       "35  compilation  Various Artists          2019   2019-07-12   \n",
       "36  compilation  Various Artists          2019   2019-07-05   \n",
       "37  compilation  Various Artists          2019   2019-06-28   \n",
       "38  compilation  Various Artists          2019   2019-06-21   \n",
       "39  compilation  Various Artists          2019   2019-06-21   \n",
       "40  compilation  Various Artists          2019   2019-05-17   \n",
       "41  compilation  Various Artists          2019   2019-04-12   \n",
       "42  compilation  Various Artists          2019   2019-04-12   \n",
       "43  compilation  Various Artists          2019   2019-03-15   \n",
       "44  compilation  Various Artists          2018   2018-10-19   \n",
       "45  compilation  Various Artists          2014   2014-01-01   \n",
       "46  compilation  Various Artists          2013   2013-01-01   \n",
       "47  compilation  Various Artists          2013   2013-01-01   \n",
       "48  compilation  Various Artists          2012   2012-05-01   \n",
       "49  compilation  Various Artists          2012   2012-01-17   \n",
       "50  compilation  Various Artists          2010   2010-01-01   \n",
       "51  compilation  Various Artists          2009   2009-08-28   \n",
       "52  compilation  Various Artists          2008   2008-01-01   \n",
       "53  compilation  Various Artists          2007   2007-01-01   \n",
       "54  compilation  Various Artists          2005   2005-01-01   \n",
       "\n",
       "                                          cover_album  total_tracks  \\\n",
       "0   https://i.scdn.co/image/ab67616d0000b273d7d7b2...            16   \n",
       "1   https://i.scdn.co/image/ab67616d0000b273da80a3...            16   \n",
       "2   https://i.scdn.co/image/ab67616d0000b2731a3c16...            16   \n",
       "3   https://i.scdn.co/image/5cc5773196912b58bb4d0f...            12   \n",
       "4   https://i.scdn.co/image/ab67616d0000b273d1eb58...            12   \n",
       "5   https://i.scdn.co/image/ab67616d0000b273d8f604...            16   \n",
       "6   https://i.scdn.co/image/ab67616d0000b273acaaa7...            13   \n",
       "7   https://i.scdn.co/image/ab67616d0000b273671452...            14   \n",
       "8   https://i.scdn.co/image/25d08410eb1e3cadc3834f...            12   \n",
       "9   https://i.scdn.co/image/ab67616d0000b273e1a2c8...             1   \n",
       "10  https://i.scdn.co/image/ab67616d0000b27399c16e...             1   \n",
       "11  https://i.scdn.co/image/ab67616d0000b27331fcb2...             1   \n",
       "12  https://i.scdn.co/image/ab67616d0000b273d543e2...             1   \n",
       "13  https://i.scdn.co/image/ab67616d0000b273a3f635...             1   \n",
       "14  https://i.scdn.co/image/ab67616d0000b273fab921...             1   \n",
       "15  https://i.scdn.co/image/ab67616d0000b2739157db...             1   \n",
       "16  https://i.scdn.co/image/4b7da0b6ca9311f9e02cdd...             1   \n",
       "17  https://i.scdn.co/image/eb68e5394a4805962bf56d...            26   \n",
       "18  https://i.scdn.co/image/7afc7b5676f723ac0c6f8c...            50   \n",
       "19  https://i.scdn.co/image/4a942f68da8c07f3b2e9e4...            50   \n",
       "20  https://i.scdn.co/image/17e239ac15a71b5e387bb6...            21   \n",
       "21  https://i.scdn.co/image/9114152cc314972972f390...            50   \n",
       "22  https://i.scdn.co/image/52264d17c6a67d81208c28...            38   \n",
       "23  https://i.scdn.co/image/5c9d3d6c06aa541db3b0c9...            39   \n",
       "24  https://i.scdn.co/image/dd09a143fa936c4f12b4d8...            28   \n",
       "25  https://i.scdn.co/image/fb68c94981894bc84aea2e...            34   \n",
       "26  https://i.scdn.co/image/fce8fcec951a16c9edd9b7...            20   \n",
       "27  https://i.scdn.co/image/59496ddeb1d0446dbedd36...            28   \n",
       "28  https://i.scdn.co/image/ab67616d0000b2739cf200...            25   \n",
       "29  https://i.scdn.co/image/ab67616d0000b273b8c144...            20   \n",
       "30  https://i.scdn.co/image/ab67616d0000b273de86e3...            26   \n",
       "31  https://i.scdn.co/image/ab67616d0000b273a5e826...            30   \n",
       "32  https://i.scdn.co/image/ab67616d0000b273efd2e7...            27   \n",
       "33  https://i.scdn.co/image/ab67616d0000b273b18b72...            42   \n",
       "34  https://i.scdn.co/image/ab67616d0000b2739efe8f...            28   \n",
       "35  https://i.scdn.co/image/ab67616d0000b27371923c...            30   \n",
       "36  https://i.scdn.co/image/ab67616d0000b273b4689a...            50   \n",
       "37  https://i.scdn.co/image/ab67616d0000b2736cee7e...            26   \n",
       "38  https://i.scdn.co/image/ab67616d0000b273db688b...            55   \n",
       "39  https://i.scdn.co/image/ab67616d0000b2730b425c...            36   \n",
       "40  https://i.scdn.co/image/ab67616d0000b273a7c048...            36   \n",
       "41  https://i.scdn.co/image/ab67616d0000b273ca1165...            52   \n",
       "42  https://i.scdn.co/image/ab67616d0000b273d1b365...            52   \n",
       "43  https://i.scdn.co/image/ab67616d0000b2736b7821...            47   \n",
       "44  https://i.scdn.co/image/ab67616d0000b27358497e...            22   \n",
       "45  https://i.scdn.co/image/ab67616d0000b2737bb0c9...            40   \n",
       "46  https://i.scdn.co/image/ab67616d0000b27373a383...            20   \n",
       "47  https://i.scdn.co/image/ab67616d0000b273476570...            44   \n",
       "48  https://i.scdn.co/image/ab67616d0000b273caf88b...            13   \n",
       "49  https://i.scdn.co/image/ab67616d0000b27337f6c9...            17   \n",
       "50  https://i.scdn.co/image/798538bdf6f3c63af2c198...            36   \n",
       "51  https://i.scdn.co/image/ab67616d0000b2733593d2...            39   \n",
       "52  https://i.scdn.co/image/ab67616d0000b273bacab0...            16   \n",
       "53  https://i.scdn.co/image/91dfccfbd04e0fa6558489...            18   \n",
       "54  https://i.scdn.co/image/ab67616d0000b273a7d9fa...            15   \n",
       "\n",
       "                                    available_markets  \\\n",
       "0   AD,AE,AT,AU,BE,BG,BH,CH,CY,CZ,DE,DK,DZ,EE,EG,E...   \n",
       "1   AR,BO,BR,CA,CL,CO,CR,DO,EC,GT,HN,MX,NI,PA,PE,P...   \n",
       "2                                                  JP   \n",
       "3   AD,AE,AR,AT,AU,BE,BG,BH,BO,BR,CA,CH,CL,CO,CR,C...   \n",
       "4   AD,AE,AR,AT,AU,BE,BG,BH,BO,BR,CA,CH,CL,CO,CR,C...   \n",
       "5   AD,AE,AR,AT,AU,BE,BG,BH,BO,BR,CA,CH,CL,CO,CR,C...   \n",
       "6   AD,AE,AR,AT,AU,BE,BG,BH,BO,BR,CA,CH,CL,CO,CR,C...   \n",
       "7   AD,AE,AR,AT,AU,BE,BG,BH,BO,BR,CA,CH,CL,CO,CR,C...   \n",
       "8   AD,AE,AR,AT,AU,BE,BG,BH,BO,BR,CA,CH,CL,CO,CR,C...   \n",
       "9   AD,AT,BE,BG,CH,CY,CZ,DE,DK,DZ,EE,ES,FI,FR,GB,G...   \n",
       "10  AR,BO,BR,CA,CL,CO,CR,DO,EC,GT,HN,MX,NI,PA,PE,P...   \n",
       "11  AD,AT,AU,BE,BG,CH,CY,CZ,DE,DK,DZ,EE,EG,ES,FI,F...   \n",
       "12  AD,AT,AU,BE,BG,CH,CY,CZ,DE,DK,DZ,EE,EG,ES,FI,F...   \n",
       "13                                                 JP   \n",
       "14  AD,AE,AT,AU,BE,BG,BH,CH,CY,CZ,DE,DK,DZ,EE,EG,E...   \n",
       "15  AR,BO,BR,CA,CL,CO,CR,DO,EC,GT,HN,MX,NI,PA,PE,P...   \n",
       "16  AD,AE,AR,AT,AU,BE,BG,BH,BO,BR,CA,CH,CL,CO,CR,C...   \n",
       "17  AE,AT,AU,BE,BG,BH,CH,CY,CZ,DE,DK,EE,EG,ES,FI,F...   \n",
       "18  AE,AT,AU,BE,BG,BH,CH,CY,CZ,DE,DK,EE,EG,ES,FI,F...   \n",
       "19  AE,AR,AT,AU,BE,BG,BH,BO,BR,CA,CH,CL,CO,CR,CY,C...   \n",
       "20  AE,AR,AT,AU,BE,BG,BH,BO,BR,CA,CH,CL,CO,CR,CY,C...   \n",
       "21  AE,AR,AT,AU,BE,BG,BH,BO,BR,CA,CH,CL,CO,CR,CY,C...   \n",
       "22  AE,AR,AT,AU,BE,BG,BH,BO,BR,CA,CH,CL,CO,CR,CY,C...   \n",
       "23  AE,AR,AT,AU,BE,BG,BH,BO,BR,CA,CH,CL,CO,CR,CY,C...   \n",
       "24  AE,AR,AT,AU,BE,BG,BH,BO,BR,CA,CH,CL,CO,CR,CY,C...   \n",
       "25  AE,AR,AT,AU,BE,BG,BH,BO,BR,CA,CH,CL,CO,CR,CY,C...   \n",
       "26    AR,BO,BR,CL,CO,CR,EC,GT,HN,MX,NI,PA,PE,PY,SV,UY   \n",
       "27  AR,AT,AU,BE,BG,BO,BR,CA,CH,CL,CO,CR,CZ,DE,DK,E...   \n",
       "28  AR,AT,AU,BE,BG,BO,BR,CA,CH,CL,CO,CR,CZ,DE,DK,E...   \n",
       "29  AR,AT,AU,BE,BG,BO,BR,CA,CH,CL,CO,CR,CZ,DE,DK,E...   \n",
       "30  AR,AT,AU,BE,BG,BO,BR,CA,CH,CL,CO,CR,CZ,DE,DK,E...   \n",
       "31  AR,AT,AU,BE,BG,BO,BR,CA,CH,CL,CO,CR,CZ,DE,DK,E...   \n",
       "32  AR,AT,AU,BE,BG,BO,BR,CA,CH,CL,CO,CR,CZ,DE,DK,E...   \n",
       "33  AR,AT,AU,BE,BG,BO,BR,CA,CH,CL,CO,CR,CZ,DE,DK,E...   \n",
       "34  AR,AT,AU,BE,BG,BO,BR,CA,CH,CL,CO,CR,CZ,DE,DK,E...   \n",
       "35  AR,AT,AU,BE,BG,BO,BR,CA,CH,CL,CO,CR,CZ,DE,DK,E...   \n",
       "36  AR,AT,AU,BE,BG,BO,BR,CA,CH,CL,CO,CR,CZ,DE,DK,E...   \n",
       "37  AR,AT,AU,BE,BG,BO,BR,CA,CH,CL,CO,CR,CZ,DE,DK,E...   \n",
       "38  AR,AT,AU,BE,BG,BO,BR,CA,CH,CL,CO,CR,CZ,DE,DK,E...   \n",
       "39  AR,AT,AU,BE,BG,BO,BR,CA,CH,CL,CO,CR,CZ,DE,DK,E...   \n",
       "40  AR,AT,AU,BO,BR,CA,CH,CL,CO,CR,DE,DK,EC,ES,FI,F...   \n",
       "41  AR,AT,AU,BO,BR,CA,CH,CL,CO,CR,DE,DK,EC,ES,FI,F...   \n",
       "42  AR,AT,AU,BO,BR,CA,CH,CL,CO,CR,DE,DK,EC,ES,FI,F...   \n",
       "43  AR,AT,AU,BO,BR,CA,CH,CL,CO,CR,DE,DK,EC,ES,FI,F...   \n",
       "44  AR,AT,AU,BO,BR,CA,CH,CL,CO,CR,DE,DK,DO,EC,ES,F...   \n",
       "45                                              BE,LU   \n",
       "46                                                 IN   \n",
       "47                                              GB,IE   \n",
       "48  AD,AR,AT,AU,BE,BG,BO,BR,CA,CH,CL,CO,CR,CY,CZ,D...   \n",
       "49                                              CA,US   \n",
       "50                                                 MX   \n",
       "51                                           AT,CH,DE   \n",
       "52                                                 US   \n",
       "53                                                 CA   \n",
       "54                                                 US   \n",
       "\n",
       "    total_available_markets                                   uri  \n",
       "0                        58  spotify:album:12NBjimNnuWAP0OXIlwyrZ  \n",
       "1                        19  spotify:album:2Qg3CxIQ1Urnv700y5jP3j  \n",
       "2                         1  spotify:album:78S8Z3EOl7hbzePSH4GQyF  \n",
       "3                        79  spotify:album:55VNOaV0zcQqGSrjOBHKVG  \n",
       "4                        79  spotify:album:3U85Q4GtR0I3VwgDOKHttO  \n",
       "5                        79  spotify:album:0CHgu3JbE3Y0XQSejmQqLU  \n",
       "6                        79  spotify:album:3lFQ9ihSNR5YD0yi0yTzdC  \n",
       "7                        79  spotify:album:5SpQ4sf9sXFWHgUKYCZSDF  \n",
       "8                        79  spotify:album:02w1xMzzdF2OJxTeh1basm  \n",
       "9                        38  spotify:album:30XHtkoW2UpzScXmEq34GA  \n",
       "10                       19  spotify:album:2ZdOV9vcsIqhCdZsUk0xZf  \n",
       "11                       49  spotify:album:5CJaHXc24NUCxl1NTDoiXZ  \n",
       "12                       49  spotify:album:0IOH9SFPWkoggrv6T0fjO3  \n",
       "13                        1  spotify:album:5jZYa2Za6usEVssTFuIFY0  \n",
       "14                       57  spotify:album:0P2m1IsAPVcRGmnBUTW8G7  \n",
       "15                       19  spotify:album:75txZS6Wt4fL3rFrrSJtzC  \n",
       "16                       79  spotify:album:6HuLNUKcAkcIUSKZxRU9sO  \n",
       "17                       73  spotify:album:6KToKw0CRf4XPJNAi11utr  \n",
       "18                       73  spotify:album:0oMHEiOI8FROtEQM1QTCVB  \n",
       "19                       73  spotify:album:6YUdCuDBFQP2Aj6KMdnvjH  \n",
       "20                       73  spotify:album:4CmPFCuDPQoC0h48CmxXtx  \n",
       "21                       73  spotify:album:0Wo1E6xjtogsprOfFot4Se  \n",
       "22                       73  spotify:album:7BU1MiHemFcQKn3xEn7cOz  \n",
       "23                       73  spotify:album:2uX8vuhVKDOKwqJoUeBQTh  \n",
       "24                       73  spotify:album:3CPeuuTbZ2x9nAIUMfaJ8Z  \n",
       "25                       73  spotify:album:4hrtczCTsfNDHFwVOVYuxz  \n",
       "26                       16  spotify:album:4zo0GpI4ydhGVhZon21uE6  \n",
       "27                       53  spotify:album:6nIQVkL2OlugxAIQVugdmn  \n",
       "28                       53  spotify:album:3wOvm15NeID1mAqcT5R1OF  \n",
       "29                       53  spotify:album:693A9RtWyZlWc7Il4w7iSm  \n",
       "30                       53  spotify:album:62Kco7ljJvAdQ25SzugNAj  \n",
       "31                       53  spotify:album:6v68oJEGbakd1s7K1LXDUe  \n",
       "32                       53  spotify:album:09SaFiWfmNLBPtC5FyH567  \n",
       "33                       53  spotify:album:0XuhTDe4zV2NeufbpmsBes  \n",
       "34                       53  spotify:album:6His9gNlruPcLPMB3EzkPT  \n",
       "35                       53  spotify:album:54VeuILXLcZMmJe6YG1X06  \n",
       "36                       53  spotify:album:7p3J3jwjcXgvz8Aqd9LZrL  \n",
       "37                       53  spotify:album:66TzFI9NUig9AnbDlY49fi  \n",
       "38                       53  spotify:album:6xobTZNBbeDDHCXVqYgjNK  \n",
       "39                       53  spotify:album:6CZrEIo3Zz7ID0cE7iILl2  \n",
       "40                       29  spotify:album:6r4f5B7hDTYwRKR6qGo6qo  \n",
       "41                       29  spotify:album:4Vvpp97X7j02Zk9nQDrdvJ  \n",
       "42                       29  spotify:album:2WRPvkpgmkC26Gqaw2xN4G  \n",
       "43                       29  spotify:album:2gbaEKe5rqHNmatEWPoDUu  \n",
       "44                       30  spotify:album:1AQGra8TF7PX94whCy7tsY  \n",
       "45                        2  spotify:album:76BX9WcjIOs7iOTZXxqp52  \n",
       "46                        1  spotify:album:4D10Iig1KomfsGz31wBZoX  \n",
       "47                        2  spotify:album:1rlLAIUGebTGikzzGBkQ0F  \n",
       "48                       60  spotify:album:4eXolm0tNOLblagTVn6Wgy  \n",
       "49                        2  spotify:album:2hfaqbY4mY9JL2i0zfialy  \n",
       "50                        1  spotify:album:65HdXCLpwIXZGt7kQe3bK6  \n",
       "51                        3  spotify:album:0anDTe9W7YJ82hIpJCsYft  \n",
       "52                        1  spotify:album:5jc6tOSK9BpocWWQgFo8Md  \n",
       "53                        1  spotify:album:7soKb31c9JTxBllcJ0J2KT  \n",
       "54                        1  spotify:album:5oi50Gv8yvqAqPbWDdZhYA  "
      ]
     },
     "execution_count": 18,
     "metadata": {},
     "output_type": "execute_result"
    }
   ],
   "source": [
    "df_albums_evanescence"
   ]
  },
  {
   "cell_type": "markdown",
   "metadata": {},
   "source": [
    "Let's filter albums that are not of type compilation or single. First, compilations usually include tracks of other artists. Second, singles are usually included later in an album. Observe, that  in the dataframe above there are albums that should be classified as `compilation` (artists: Various Artists) but are still classified as `album`. Therefore, we will filter out `album_type` compilation and single, and artists Various Artists.\n",
    "\n",
    "After all the filtering, a list of id of these albums will be created so we will use it to retrieve information about albums' tracks."
   ]
  },
  {
   "cell_type": "code",
   "execution_count": 19,
   "metadata": {
    "ExecuteTime": {
     "end_time": "2019-10-26T07:03:31.454715Z",
     "start_time": "2019-10-26T07:03:31.434760Z"
    }
   },
   "outputs": [],
   "source": [
    "df_albums_evanescence_filtered = df_albums_evanescence.copy()\n",
    "\n",
    "# only albums of type 'album' and from artist 'eva'\n",
    "df_albums_evanescence_filtered = df_albums_evanescence_filtered[(df_albums_evanescence_filtered['album_type']=='album')\n",
    "                                                                &(df_albums_evanescence_filtered['artists']=='Evanescence')]\n",
    "\n",
    "# organize by album's release date\n",
    "df_albums_evanescence_filtered = df_albums_evanescence_filtered.sort_values(by='release_year')\n",
    "\n",
    "# reset index\n",
    "df_albums_evanescence_filtered.reset_index(inplace=True, drop = True)"
   ]
  },
  {
   "cell_type": "code",
   "execution_count": 20,
   "metadata": {
    "ExecuteTime": {
     "end_time": "2019-10-26T07:03:34.781586Z",
     "start_time": "2019-10-26T07:03:34.765611Z"
    }
   },
   "outputs": [
    {
     "data": {
      "text/html": [
       "<div>\n",
       "<style scoped>\n",
       "    .dataframe tbody tr th:only-of-type {\n",
       "        vertical-align: middle;\n",
       "    }\n",
       "\n",
       "    .dataframe tbody tr th {\n",
       "        vertical-align: top;\n",
       "    }\n",
       "\n",
       "    .dataframe thead th {\n",
       "        text-align: right;\n",
       "    }\n",
       "</style>\n",
       "<table border=\"1\" class=\"dataframe\">\n",
       "  <thead>\n",
       "    <tr style=\"text-align: right;\">\n",
       "      <th></th>\n",
       "      <th>album_id</th>\n",
       "      <th>album_name</th>\n",
       "      <th>album_type</th>\n",
       "      <th>artists</th>\n",
       "      <th>release_year</th>\n",
       "      <th>release_date</th>\n",
       "      <th>cover_album</th>\n",
       "      <th>total_tracks</th>\n",
       "      <th>available_markets</th>\n",
       "      <th>total_available_markets</th>\n",
       "      <th>uri</th>\n",
       "    </tr>\n",
       "  </thead>\n",
       "  <tbody>\n",
       "    <tr>\n",
       "      <th>0</th>\n",
       "      <td>02w1xMzzdF2OJxTeh1basm</td>\n",
       "      <td>Fallen</td>\n",
       "      <td>album</td>\n",
       "      <td>Evanescence</td>\n",
       "      <td>2003</td>\n",
       "      <td>2003-01-01</td>\n",
       "      <td>https://i.scdn.co/image/25d08410eb1e3cadc3834f...</td>\n",
       "      <td>12</td>\n",
       "      <td>AD,AE,AR,AT,AU,BE,BG,BH,BO,BR,CA,CH,CL,CO,CR,C...</td>\n",
       "      <td>79</td>\n",
       "      <td>spotify:album:02w1xMzzdF2OJxTeh1basm</td>\n",
       "    </tr>\n",
       "    <tr>\n",
       "      <th>1</th>\n",
       "      <td>5SpQ4sf9sXFWHgUKYCZSDF</td>\n",
       "      <td>Anywhere But Home (Live)</td>\n",
       "      <td>album</td>\n",
       "      <td>Evanescence</td>\n",
       "      <td>2004</td>\n",
       "      <td>2004-01-01</td>\n",
       "      <td>https://i.scdn.co/image/ab67616d0000b273671452...</td>\n",
       "      <td>14</td>\n",
       "      <td>AD,AE,AR,AT,AU,BE,BG,BH,BO,BR,CA,CH,CL,CO,CR,C...</td>\n",
       "      <td>79</td>\n",
       "      <td>spotify:album:5SpQ4sf9sXFWHgUKYCZSDF</td>\n",
       "    </tr>\n",
       "    <tr>\n",
       "      <th>2</th>\n",
       "      <td>3lFQ9ihSNR5YD0yi0yTzdC</td>\n",
       "      <td>The Open Door</td>\n",
       "      <td>album</td>\n",
       "      <td>Evanescence</td>\n",
       "      <td>2006</td>\n",
       "      <td>2006-01-01</td>\n",
       "      <td>https://i.scdn.co/image/ab67616d0000b273acaaa7...</td>\n",
       "      <td>13</td>\n",
       "      <td>AD,AE,AR,AT,AU,BE,BG,BH,BO,BR,CA,CH,CL,CO,CR,C...</td>\n",
       "      <td>79</td>\n",
       "      <td>spotify:album:3lFQ9ihSNR5YD0yi0yTzdC</td>\n",
       "    </tr>\n",
       "    <tr>\n",
       "      <th>3</th>\n",
       "      <td>3U85Q4GtR0I3VwgDOKHttO</td>\n",
       "      <td>Evanescence</td>\n",
       "      <td>album</td>\n",
       "      <td>Evanescence</td>\n",
       "      <td>2011</td>\n",
       "      <td>2011-01-01</td>\n",
       "      <td>https://i.scdn.co/image/ab67616d0000b273d1eb58...</td>\n",
       "      <td>12</td>\n",
       "      <td>AD,AE,AR,AT,AU,BE,BG,BH,BO,BR,CA,CH,CL,CO,CR,C...</td>\n",
       "      <td>79</td>\n",
       "      <td>spotify:album:3U85Q4GtR0I3VwgDOKHttO</td>\n",
       "    </tr>\n",
       "    <tr>\n",
       "      <th>4</th>\n",
       "      <td>0CHgu3JbE3Y0XQSejmQqLU</td>\n",
       "      <td>Evanescence (Deluxe Version)</td>\n",
       "      <td>album</td>\n",
       "      <td>Evanescence</td>\n",
       "      <td>2011</td>\n",
       "      <td>2011-01-01</td>\n",
       "      <td>https://i.scdn.co/image/ab67616d0000b273d8f604...</td>\n",
       "      <td>16</td>\n",
       "      <td>AD,AE,AR,AT,AU,BE,BG,BH,BO,BR,CA,CH,CL,CO,CR,C...</td>\n",
       "      <td>79</td>\n",
       "      <td>spotify:album:0CHgu3JbE3Y0XQSejmQqLU</td>\n",
       "    </tr>\n",
       "    <tr>\n",
       "      <th>5</th>\n",
       "      <td>55VNOaV0zcQqGSrjOBHKVG</td>\n",
       "      <td>Lost Whispers</td>\n",
       "      <td>album</td>\n",
       "      <td>Evanescence</td>\n",
       "      <td>2016</td>\n",
       "      <td>2016-01-01</td>\n",
       "      <td>https://i.scdn.co/image/5cc5773196912b58bb4d0f...</td>\n",
       "      <td>12</td>\n",
       "      <td>AD,AE,AR,AT,AU,BE,BG,BH,BO,BR,CA,CH,CL,CO,CR,C...</td>\n",
       "      <td>79</td>\n",
       "      <td>spotify:album:55VNOaV0zcQqGSrjOBHKVG</td>\n",
       "    </tr>\n",
       "    <tr>\n",
       "      <th>6</th>\n",
       "      <td>2Qg3CxIQ1Urnv700y5jP3j</td>\n",
       "      <td>Synthesis</td>\n",
       "      <td>album</td>\n",
       "      <td>Evanescence</td>\n",
       "      <td>2017</td>\n",
       "      <td>2017-11-10</td>\n",
       "      <td>https://i.scdn.co/image/ab67616d0000b273da80a3...</td>\n",
       "      <td>16</td>\n",
       "      <td>AR,BO,BR,CA,CL,CO,CR,DO,EC,GT,HN,MX,NI,PA,PE,P...</td>\n",
       "      <td>19</td>\n",
       "      <td>spotify:album:2Qg3CxIQ1Urnv700y5jP3j</td>\n",
       "    </tr>\n",
       "    <tr>\n",
       "      <th>7</th>\n",
       "      <td>78S8Z3EOl7hbzePSH4GQyF</td>\n",
       "      <td>Synthesis</td>\n",
       "      <td>album</td>\n",
       "      <td>Evanescence</td>\n",
       "      <td>2017</td>\n",
       "      <td>2017-11-08</td>\n",
       "      <td>https://i.scdn.co/image/ab67616d0000b2731a3c16...</td>\n",
       "      <td>16</td>\n",
       "      <td>JP</td>\n",
       "      <td>1</td>\n",
       "      <td>spotify:album:78S8Z3EOl7hbzePSH4GQyF</td>\n",
       "    </tr>\n",
       "    <tr>\n",
       "      <th>8</th>\n",
       "      <td>12NBjimNnuWAP0OXIlwyrZ</td>\n",
       "      <td>Synthesis Live</td>\n",
       "      <td>album</td>\n",
       "      <td>Evanescence</td>\n",
       "      <td>2018</td>\n",
       "      <td>2018-12-14</td>\n",
       "      <td>https://i.scdn.co/image/ab67616d0000b273d7d7b2...</td>\n",
       "      <td>16</td>\n",
       "      <td>AD,AE,AT,AU,BE,BG,BH,CH,CY,CZ,DE,DK,DZ,EE,EG,E...</td>\n",
       "      <td>58</td>\n",
       "      <td>spotify:album:12NBjimNnuWAP0OXIlwyrZ</td>\n",
       "    </tr>\n",
       "  </tbody>\n",
       "</table>\n",
       "</div>"
      ],
      "text/plain": [
       "                 album_id                    album_name album_type  \\\n",
       "0  02w1xMzzdF2OJxTeh1basm                        Fallen      album   \n",
       "1  5SpQ4sf9sXFWHgUKYCZSDF      Anywhere But Home (Live)      album   \n",
       "2  3lFQ9ihSNR5YD0yi0yTzdC                 The Open Door      album   \n",
       "3  3U85Q4GtR0I3VwgDOKHttO                   Evanescence      album   \n",
       "4  0CHgu3JbE3Y0XQSejmQqLU  Evanescence (Deluxe Version)      album   \n",
       "5  55VNOaV0zcQqGSrjOBHKVG                 Lost Whispers      album   \n",
       "6  2Qg3CxIQ1Urnv700y5jP3j                     Synthesis      album   \n",
       "7  78S8Z3EOl7hbzePSH4GQyF                     Synthesis      album   \n",
       "8  12NBjimNnuWAP0OXIlwyrZ                Synthesis Live      album   \n",
       "\n",
       "       artists  release_year release_date  \\\n",
       "0  Evanescence          2003   2003-01-01   \n",
       "1  Evanescence          2004   2004-01-01   \n",
       "2  Evanescence          2006   2006-01-01   \n",
       "3  Evanescence          2011   2011-01-01   \n",
       "4  Evanescence          2011   2011-01-01   \n",
       "5  Evanescence          2016   2016-01-01   \n",
       "6  Evanescence          2017   2017-11-10   \n",
       "7  Evanescence          2017   2017-11-08   \n",
       "8  Evanescence          2018   2018-12-14   \n",
       "\n",
       "                                         cover_album  total_tracks  \\\n",
       "0  https://i.scdn.co/image/25d08410eb1e3cadc3834f...            12   \n",
       "1  https://i.scdn.co/image/ab67616d0000b273671452...            14   \n",
       "2  https://i.scdn.co/image/ab67616d0000b273acaaa7...            13   \n",
       "3  https://i.scdn.co/image/ab67616d0000b273d1eb58...            12   \n",
       "4  https://i.scdn.co/image/ab67616d0000b273d8f604...            16   \n",
       "5  https://i.scdn.co/image/5cc5773196912b58bb4d0f...            12   \n",
       "6  https://i.scdn.co/image/ab67616d0000b273da80a3...            16   \n",
       "7  https://i.scdn.co/image/ab67616d0000b2731a3c16...            16   \n",
       "8  https://i.scdn.co/image/ab67616d0000b273d7d7b2...            16   \n",
       "\n",
       "                                   available_markets  total_available_markets  \\\n",
       "0  AD,AE,AR,AT,AU,BE,BG,BH,BO,BR,CA,CH,CL,CO,CR,C...                       79   \n",
       "1  AD,AE,AR,AT,AU,BE,BG,BH,BO,BR,CA,CH,CL,CO,CR,C...                       79   \n",
       "2  AD,AE,AR,AT,AU,BE,BG,BH,BO,BR,CA,CH,CL,CO,CR,C...                       79   \n",
       "3  AD,AE,AR,AT,AU,BE,BG,BH,BO,BR,CA,CH,CL,CO,CR,C...                       79   \n",
       "4  AD,AE,AR,AT,AU,BE,BG,BH,BO,BR,CA,CH,CL,CO,CR,C...                       79   \n",
       "5  AD,AE,AR,AT,AU,BE,BG,BH,BO,BR,CA,CH,CL,CO,CR,C...                       79   \n",
       "6  AR,BO,BR,CA,CL,CO,CR,DO,EC,GT,HN,MX,NI,PA,PE,P...                       19   \n",
       "7                                                 JP                        1   \n",
       "8  AD,AE,AT,AU,BE,BG,BH,CH,CY,CZ,DE,DK,DZ,EE,EG,E...                       58   \n",
       "\n",
       "                                    uri  \n",
       "0  spotify:album:02w1xMzzdF2OJxTeh1basm  \n",
       "1  spotify:album:5SpQ4sf9sXFWHgUKYCZSDF  \n",
       "2  spotify:album:3lFQ9ihSNR5YD0yi0yTzdC  \n",
       "3  spotify:album:3U85Q4GtR0I3VwgDOKHttO  \n",
       "4  spotify:album:0CHgu3JbE3Y0XQSejmQqLU  \n",
       "5  spotify:album:55VNOaV0zcQqGSrjOBHKVG  \n",
       "6  spotify:album:2Qg3CxIQ1Urnv700y5jP3j  \n",
       "7  spotify:album:78S8Z3EOl7hbzePSH4GQyF  \n",
       "8  spotify:album:12NBjimNnuWAP0OXIlwyrZ  "
      ]
     },
     "execution_count": 20,
     "metadata": {},
     "output_type": "execute_result"
    }
   ],
   "source": [
    "df_albums_evanescence_filtered"
   ]
  },
  {
   "cell_type": "markdown",
   "metadata": {},
   "source": [
    "Initially, we retrieved 55 albums. After, filtering we kept 9 albums which are not single or compilation. Notice that two of them have repeated entries. Album `Evanescence` have two versions where the Deluxe version has more tracks. On the other side, album `Synthesis` has also two versions (studio and Live). However, they have the same number of tracks. There is also another entry for `Synthesis` for the studio version with a different release date. Apparently, in Japan this album was released 2 days after the other countries. Because album `Synthesis` seems to differ only on the release date we will apply another filtering to eliminate this case. "
   ]
  },
  {
   "cell_type": "code",
   "execution_count": 21,
   "metadata": {
    "ExecuteTime": {
     "end_time": "2019-10-26T07:32:06.766774Z",
     "start_time": "2019-10-26T07:32:06.750818Z"
    }
   },
   "outputs": [],
   "source": [
    "df_albums_evanescence_filtered.drop_duplicates(subset=['album_name','release_year','total_tracks'], keep='first', inplace = True)"
   ]
  },
  {
   "cell_type": "code",
   "execution_count": 22,
   "metadata": {
    "ExecuteTime": {
     "end_time": "2019-10-26T07:32:07.528919Z",
     "start_time": "2019-10-26T07:32:07.511964Z"
    },
    "scrolled": true
   },
   "outputs": [
    {
     "data": {
      "text/html": [
       "<div>\n",
       "<style scoped>\n",
       "    .dataframe tbody tr th:only-of-type {\n",
       "        vertical-align: middle;\n",
       "    }\n",
       "\n",
       "    .dataframe tbody tr th {\n",
       "        vertical-align: top;\n",
       "    }\n",
       "\n",
       "    .dataframe thead th {\n",
       "        text-align: right;\n",
       "    }\n",
       "</style>\n",
       "<table border=\"1\" class=\"dataframe\">\n",
       "  <thead>\n",
       "    <tr style=\"text-align: right;\">\n",
       "      <th></th>\n",
       "      <th>album_id</th>\n",
       "      <th>album_name</th>\n",
       "      <th>album_type</th>\n",
       "      <th>artists</th>\n",
       "      <th>release_year</th>\n",
       "      <th>release_date</th>\n",
       "      <th>cover_album</th>\n",
       "      <th>total_tracks</th>\n",
       "      <th>available_markets</th>\n",
       "      <th>total_available_markets</th>\n",
       "      <th>uri</th>\n",
       "    </tr>\n",
       "  </thead>\n",
       "  <tbody>\n",
       "    <tr>\n",
       "      <th>0</th>\n",
       "      <td>02w1xMzzdF2OJxTeh1basm</td>\n",
       "      <td>Fallen</td>\n",
       "      <td>album</td>\n",
       "      <td>Evanescence</td>\n",
       "      <td>2003</td>\n",
       "      <td>2003-01-01</td>\n",
       "      <td>https://i.scdn.co/image/25d08410eb1e3cadc3834f...</td>\n",
       "      <td>12</td>\n",
       "      <td>AD,AE,AR,AT,AU,BE,BG,BH,BO,BR,CA,CH,CL,CO,CR,C...</td>\n",
       "      <td>79</td>\n",
       "      <td>spotify:album:02w1xMzzdF2OJxTeh1basm</td>\n",
       "    </tr>\n",
       "    <tr>\n",
       "      <th>1</th>\n",
       "      <td>5SpQ4sf9sXFWHgUKYCZSDF</td>\n",
       "      <td>Anywhere But Home (Live)</td>\n",
       "      <td>album</td>\n",
       "      <td>Evanescence</td>\n",
       "      <td>2004</td>\n",
       "      <td>2004-01-01</td>\n",
       "      <td>https://i.scdn.co/image/ab67616d0000b273671452...</td>\n",
       "      <td>14</td>\n",
       "      <td>AD,AE,AR,AT,AU,BE,BG,BH,BO,BR,CA,CH,CL,CO,CR,C...</td>\n",
       "      <td>79</td>\n",
       "      <td>spotify:album:5SpQ4sf9sXFWHgUKYCZSDF</td>\n",
       "    </tr>\n",
       "    <tr>\n",
       "      <th>2</th>\n",
       "      <td>3lFQ9ihSNR5YD0yi0yTzdC</td>\n",
       "      <td>The Open Door</td>\n",
       "      <td>album</td>\n",
       "      <td>Evanescence</td>\n",
       "      <td>2006</td>\n",
       "      <td>2006-01-01</td>\n",
       "      <td>https://i.scdn.co/image/ab67616d0000b273acaaa7...</td>\n",
       "      <td>13</td>\n",
       "      <td>AD,AE,AR,AT,AU,BE,BG,BH,BO,BR,CA,CH,CL,CO,CR,C...</td>\n",
       "      <td>79</td>\n",
       "      <td>spotify:album:3lFQ9ihSNR5YD0yi0yTzdC</td>\n",
       "    </tr>\n",
       "    <tr>\n",
       "      <th>3</th>\n",
       "      <td>3U85Q4GtR0I3VwgDOKHttO</td>\n",
       "      <td>Evanescence</td>\n",
       "      <td>album</td>\n",
       "      <td>Evanescence</td>\n",
       "      <td>2011</td>\n",
       "      <td>2011-01-01</td>\n",
       "      <td>https://i.scdn.co/image/ab67616d0000b273d1eb58...</td>\n",
       "      <td>12</td>\n",
       "      <td>AD,AE,AR,AT,AU,BE,BG,BH,BO,BR,CA,CH,CL,CO,CR,C...</td>\n",
       "      <td>79</td>\n",
       "      <td>spotify:album:3U85Q4GtR0I3VwgDOKHttO</td>\n",
       "    </tr>\n",
       "    <tr>\n",
       "      <th>4</th>\n",
       "      <td>0CHgu3JbE3Y0XQSejmQqLU</td>\n",
       "      <td>Evanescence (Deluxe Version)</td>\n",
       "      <td>album</td>\n",
       "      <td>Evanescence</td>\n",
       "      <td>2011</td>\n",
       "      <td>2011-01-01</td>\n",
       "      <td>https://i.scdn.co/image/ab67616d0000b273d8f604...</td>\n",
       "      <td>16</td>\n",
       "      <td>AD,AE,AR,AT,AU,BE,BG,BH,BO,BR,CA,CH,CL,CO,CR,C...</td>\n",
       "      <td>79</td>\n",
       "      <td>spotify:album:0CHgu3JbE3Y0XQSejmQqLU</td>\n",
       "    </tr>\n",
       "    <tr>\n",
       "      <th>5</th>\n",
       "      <td>55VNOaV0zcQqGSrjOBHKVG</td>\n",
       "      <td>Lost Whispers</td>\n",
       "      <td>album</td>\n",
       "      <td>Evanescence</td>\n",
       "      <td>2016</td>\n",
       "      <td>2016-01-01</td>\n",
       "      <td>https://i.scdn.co/image/5cc5773196912b58bb4d0f...</td>\n",
       "      <td>12</td>\n",
       "      <td>AD,AE,AR,AT,AU,BE,BG,BH,BO,BR,CA,CH,CL,CO,CR,C...</td>\n",
       "      <td>79</td>\n",
       "      <td>spotify:album:55VNOaV0zcQqGSrjOBHKVG</td>\n",
       "    </tr>\n",
       "    <tr>\n",
       "      <th>6</th>\n",
       "      <td>2Qg3CxIQ1Urnv700y5jP3j</td>\n",
       "      <td>Synthesis</td>\n",
       "      <td>album</td>\n",
       "      <td>Evanescence</td>\n",
       "      <td>2017</td>\n",
       "      <td>2017-11-10</td>\n",
       "      <td>https://i.scdn.co/image/ab67616d0000b273da80a3...</td>\n",
       "      <td>16</td>\n",
       "      <td>AR,BO,BR,CA,CL,CO,CR,DO,EC,GT,HN,MX,NI,PA,PE,P...</td>\n",
       "      <td>19</td>\n",
       "      <td>spotify:album:2Qg3CxIQ1Urnv700y5jP3j</td>\n",
       "    </tr>\n",
       "    <tr>\n",
       "      <th>7</th>\n",
       "      <td>12NBjimNnuWAP0OXIlwyrZ</td>\n",
       "      <td>Synthesis Live</td>\n",
       "      <td>album</td>\n",
       "      <td>Evanescence</td>\n",
       "      <td>2018</td>\n",
       "      <td>2018-12-14</td>\n",
       "      <td>https://i.scdn.co/image/ab67616d0000b273d7d7b2...</td>\n",
       "      <td>16</td>\n",
       "      <td>AD,AE,AT,AU,BE,BG,BH,CH,CY,CZ,DE,DK,DZ,EE,EG,E...</td>\n",
       "      <td>58</td>\n",
       "      <td>spotify:album:12NBjimNnuWAP0OXIlwyrZ</td>\n",
       "    </tr>\n",
       "  </tbody>\n",
       "</table>\n",
       "</div>"
      ],
      "text/plain": [
       "                 album_id                    album_name album_type  \\\n",
       "0  02w1xMzzdF2OJxTeh1basm                        Fallen      album   \n",
       "1  5SpQ4sf9sXFWHgUKYCZSDF      Anywhere But Home (Live)      album   \n",
       "2  3lFQ9ihSNR5YD0yi0yTzdC                 The Open Door      album   \n",
       "3  3U85Q4GtR0I3VwgDOKHttO                   Evanescence      album   \n",
       "4  0CHgu3JbE3Y0XQSejmQqLU  Evanescence (Deluxe Version)      album   \n",
       "5  55VNOaV0zcQqGSrjOBHKVG                 Lost Whispers      album   \n",
       "6  2Qg3CxIQ1Urnv700y5jP3j                     Synthesis      album   \n",
       "7  12NBjimNnuWAP0OXIlwyrZ                Synthesis Live      album   \n",
       "\n",
       "       artists  release_year release_date  \\\n",
       "0  Evanescence          2003   2003-01-01   \n",
       "1  Evanescence          2004   2004-01-01   \n",
       "2  Evanescence          2006   2006-01-01   \n",
       "3  Evanescence          2011   2011-01-01   \n",
       "4  Evanescence          2011   2011-01-01   \n",
       "5  Evanescence          2016   2016-01-01   \n",
       "6  Evanescence          2017   2017-11-10   \n",
       "7  Evanescence          2018   2018-12-14   \n",
       "\n",
       "                                         cover_album  total_tracks  \\\n",
       "0  https://i.scdn.co/image/25d08410eb1e3cadc3834f...            12   \n",
       "1  https://i.scdn.co/image/ab67616d0000b273671452...            14   \n",
       "2  https://i.scdn.co/image/ab67616d0000b273acaaa7...            13   \n",
       "3  https://i.scdn.co/image/ab67616d0000b273d1eb58...            12   \n",
       "4  https://i.scdn.co/image/ab67616d0000b273d8f604...            16   \n",
       "5  https://i.scdn.co/image/5cc5773196912b58bb4d0f...            12   \n",
       "6  https://i.scdn.co/image/ab67616d0000b273da80a3...            16   \n",
       "7  https://i.scdn.co/image/ab67616d0000b273d7d7b2...            16   \n",
       "\n",
       "                                   available_markets  total_available_markets  \\\n",
       "0  AD,AE,AR,AT,AU,BE,BG,BH,BO,BR,CA,CH,CL,CO,CR,C...                       79   \n",
       "1  AD,AE,AR,AT,AU,BE,BG,BH,BO,BR,CA,CH,CL,CO,CR,C...                       79   \n",
       "2  AD,AE,AR,AT,AU,BE,BG,BH,BO,BR,CA,CH,CL,CO,CR,C...                       79   \n",
       "3  AD,AE,AR,AT,AU,BE,BG,BH,BO,BR,CA,CH,CL,CO,CR,C...                       79   \n",
       "4  AD,AE,AR,AT,AU,BE,BG,BH,BO,BR,CA,CH,CL,CO,CR,C...                       79   \n",
       "5  AD,AE,AR,AT,AU,BE,BG,BH,BO,BR,CA,CH,CL,CO,CR,C...                       79   \n",
       "6  AR,BO,BR,CA,CL,CO,CR,DO,EC,GT,HN,MX,NI,PA,PE,P...                       19   \n",
       "7  AD,AE,AT,AU,BE,BG,BH,CH,CY,CZ,DE,DK,DZ,EE,EG,E...                       58   \n",
       "\n",
       "                                    uri  \n",
       "0  spotify:album:02w1xMzzdF2OJxTeh1basm  \n",
       "1  spotify:album:5SpQ4sf9sXFWHgUKYCZSDF  \n",
       "2  spotify:album:3lFQ9ihSNR5YD0yi0yTzdC  \n",
       "3  spotify:album:3U85Q4GtR0I3VwgDOKHttO  \n",
       "4  spotify:album:0CHgu3JbE3Y0XQSejmQqLU  \n",
       "5  spotify:album:55VNOaV0zcQqGSrjOBHKVG  \n",
       "6  spotify:album:2Qg3CxIQ1Urnv700y5jP3j  \n",
       "7  spotify:album:12NBjimNnuWAP0OXIlwyrZ  "
      ]
     },
     "execution_count": 22,
     "metadata": {},
     "output_type": "execute_result"
    }
   ],
   "source": [
    "df_albums_evanescence_filtered.reset_index(inplace=True, drop=True)\n",
    "df_albums_evanescence_filtered"
   ]
  },
  {
   "cell_type": "markdown",
   "metadata": {},
   "source": [
    "At this point we have 8 albums and we are still keeping the two versions of `Evanescence` and `Synthesis`. Any repeated tracks will be eliminated later. Now we use the `album_id` of these 8 albums to retrieve their tracks."
   ]
  },
  {
   "cell_type": "code",
   "execution_count": 25,
   "metadata": {
    "ExecuteTime": {
     "end_time": "2019-10-26T07:36:42.925679Z",
     "start_time": "2019-10-26T07:36:42.919695Z"
    }
   },
   "outputs": [
    {
     "data": {
      "text/plain": [
       "['02w1xMzzdF2OJxTeh1basm',\n",
       " '5SpQ4sf9sXFWHgUKYCZSDF',\n",
       " '3lFQ9ihSNR5YD0yi0yTzdC',\n",
       " '3U85Q4GtR0I3VwgDOKHttO',\n",
       " '0CHgu3JbE3Y0XQSejmQqLU',\n",
       " '55VNOaV0zcQqGSrjOBHKVG',\n",
       " '2Qg3CxIQ1Urnv700y5jP3j',\n",
       " '12NBjimNnuWAP0OXIlwyrZ']"
      ]
     },
     "execution_count": 25,
     "metadata": {},
     "output_type": "execute_result"
    }
   ],
   "source": [
    "# creating a list with albums ids based on the last dataframe\n",
    "\n",
    "album_id_list = df_albums_evanescence_filtered['album_id'].tolist()\n",
    "album_id_list"
   ]
  },
  {
   "cell_type": "markdown",
   "metadata": {},
   "source": [
    "**TO DO**\n",
    "\n",
    "- Solve the problem 'AttributeError: 'str' object has no attribute 'append''\n",
    "\n",
    "- Try to make smaller functions and put all together to have metadata and audio features from tracks of all albums."
   ]
  },
  {
   "cell_type": "code",
   "execution_count": 99,
   "metadata": {
    "ExecuteTime": {
     "end_time": "2019-10-26T08:42:20.751558Z",
     "start_time": "2019-10-26T08:42:20.739493Z"
    }
   },
   "outputs": [],
   "source": [
    "def retrieve_tracks_info(album_id):\n",
    "    \n",
    "    tracks_info = sp.album_tracks(album_id, limit=50, offset=0)\n",
    "    \n",
    "    for idx in range(len(tracks_info['items'])):\n",
    "        tracks_id.append(tracks_info['items'][idx]['id'])\n",
    "        \n",
    "        \n",
    "    album_name = []\n",
    "    track_id = []\n",
    "    track_name = []\n",
    "    track_duration = []\n",
    "    track_popularity = []\n",
    "    track_preview = []\n",
    "\n",
    "\n",
    "    for track_id in tracks_id:\n",
    "        track_metadata = sp.track(track_id)\n",
    "        \n",
    "        album_name.append(track_metadata['album']['name'])\n",
    "        track_id.append(track_metadata['id'])\n",
    "        track_name.append(track_metadata['name'])\n",
    "        track_duration(track_metadata['duration_ms'])\n",
    "        track_popularity.append(track_metadata['popularity'])\n",
    "        track_preview.append(track_metadata['preview_url'])\n",
    "        \n",
    "    dict_tracks = {'album_name':album_name,\n",
    "                  'track_id':track_id,\n",
    "                  'track_name':track_name,\n",
    "                  'track_duration':track_duration,\n",
    "                  'track_popularity':track_popularity,\n",
    "                  'track_preview':track_preview}\n",
    "    \n",
    "    df_metadata = pd.DataFrame(dict_tracks)\n",
    "    \n",
    "    return df_metadata\n",
    "\n",
    "    \n",
    "    "
   ]
  },
  {
   "cell_type": "code",
   "execution_count": null,
   "metadata": {},
   "outputs": [],
   "source": [
    "retrieve_tracks_info"
   ]
  },
  {
   "cell_type": "code",
   "execution_count": 100,
   "metadata": {
    "ExecuteTime": {
     "end_time": "2019-10-26T08:42:51.158023Z",
     "start_time": "2019-10-26T08:42:50.888250Z"
    }
   },
   "outputs": [
    {
     "ename": "AttributeError",
     "evalue": "'str' object has no attribute 'append'",
     "output_type": "error",
     "traceback": [
      "\u001b[1;31m---------------------------------------------------------------------------\u001b[0m",
      "\u001b[1;31mAttributeError\u001b[0m                            Traceback (most recent call last)",
      "\u001b[1;32m<ipython-input-100-9b96856b8a8a>\u001b[0m in \u001b[0;36m<module>\u001b[1;34m()\u001b[0m\n\u001b[1;32m----> 1\u001b[1;33m \u001b[0mretrieve_tracks_info\u001b[0m\u001b[1;33m(\u001b[0m\u001b[0malbum_id_list\u001b[0m\u001b[1;33m[\u001b[0m\u001b[1;36m0\u001b[0m\u001b[1;33m]\u001b[0m\u001b[1;33m)\u001b[0m\u001b[1;33m\u001b[0m\u001b[0m\n\u001b[0m",
      "\u001b[1;32m<ipython-input-99-e5814b33cb1a>\u001b[0m in \u001b[0;36mretrieve_tracks_info\u001b[1;34m(album_id)\u001b[0m\n\u001b[0;32m     19\u001b[0m \u001b[1;33m\u001b[0m\u001b[0m\n\u001b[0;32m     20\u001b[0m         \u001b[0malbum_name\u001b[0m\u001b[1;33m.\u001b[0m\u001b[0mappend\u001b[0m\u001b[1;33m(\u001b[0m\u001b[0mtrack_metadata\u001b[0m\u001b[1;33m[\u001b[0m\u001b[1;34m'album'\u001b[0m\u001b[1;33m]\u001b[0m\u001b[1;33m[\u001b[0m\u001b[1;34m'name'\u001b[0m\u001b[1;33m]\u001b[0m\u001b[1;33m)\u001b[0m\u001b[1;33m\u001b[0m\u001b[0m\n\u001b[1;32m---> 21\u001b[1;33m         \u001b[0mtrack_id\u001b[0m\u001b[1;33m.\u001b[0m\u001b[0mappend\u001b[0m\u001b[1;33m(\u001b[0m\u001b[0mtrack_metadata\u001b[0m\u001b[1;33m[\u001b[0m\u001b[1;34m'id'\u001b[0m\u001b[1;33m]\u001b[0m\u001b[1;33m)\u001b[0m\u001b[1;33m\u001b[0m\u001b[0m\n\u001b[0m\u001b[0;32m     22\u001b[0m         \u001b[0mtrack_name\u001b[0m\u001b[1;33m.\u001b[0m\u001b[0mappend\u001b[0m\u001b[1;33m(\u001b[0m\u001b[0mtrack_metadata\u001b[0m\u001b[1;33m[\u001b[0m\u001b[1;34m'name'\u001b[0m\u001b[1;33m]\u001b[0m\u001b[1;33m)\u001b[0m\u001b[1;33m\u001b[0m\u001b[0m\n\u001b[0;32m     23\u001b[0m         \u001b[0mtrack_duration\u001b[0m\u001b[1;33m(\u001b[0m\u001b[0mtrack_metadata\u001b[0m\u001b[1;33m[\u001b[0m\u001b[1;34m'duration_ms'\u001b[0m\u001b[1;33m]\u001b[0m\u001b[1;33m)\u001b[0m\u001b[1;33m\u001b[0m\u001b[0m\n",
      "\u001b[1;31mAttributeError\u001b[0m: 'str' object has no attribute 'append'"
     ]
    }
   ],
   "source": [
    "retrieve_tracks_info(album_id_list[0])"
   ]
  },
  {
   "cell_type": "code",
   "execution_count": 27,
   "metadata": {
    "ExecuteTime": {
     "end_time": "2019-10-26T07:37:04.639211Z",
     "start_time": "2019-10-26T07:37:04.550482Z"
    }
   },
   "outputs": [],
   "source": [
    "album_id = album_id_list[0]\n",
    "tracks_info = sp.album_tracks(album_id, limit=50, offset=0)"
   ]
  },
  {
   "cell_type": "code",
   "execution_count": 68,
   "metadata": {
    "ExecuteTime": {
     "end_time": "2019-10-26T08:11:51.734537Z",
     "start_time": "2019-10-26T08:11:51.648347Z"
    }
   },
   "outputs": [],
   "source": [
    "track_metadata = sp.track(tracks_uri[0])"
   ]
  },
  {
   "cell_type": "code",
   "execution_count": 69,
   "metadata": {
    "ExecuteTime": {
     "end_time": "2019-10-26T08:12:00.830889Z",
     "start_time": "2019-10-26T08:12:00.826883Z"
    }
   },
   "outputs": [
    {
     "data": {
      "text/plain": [
       "dict_keys(['album', 'artists', 'available_markets', 'disc_number', 'duration_ms', 'explicit', 'external_ids', 'external_urls', 'href', 'id', 'is_local', 'name', 'popularity', 'preview_url', 'track_number', 'type', 'uri'])"
      ]
     },
     "execution_count": 69,
     "metadata": {},
     "output_type": "execute_result"
    }
   ],
   "source": [
    "track_metadata.keys()"
   ]
  },
  {
   "cell_type": "code",
   "execution_count": 96,
   "metadata": {
    "ExecuteTime": {
     "end_time": "2019-10-26T08:31:00.181631Z",
     "start_time": "2019-10-26T08:31:00.177618Z"
    }
   },
   "outputs": [],
   "source": [
    "tracks_id = []\n",
    "for idx in range(len(tracks_info['items'])):\n",
    "    tracks_id.append(tracks_info['items'][idx]['id'])\n",
    "    "
   ]
  },
  {
   "cell_type": "code",
   "execution_count": 112,
   "metadata": {
    "ExecuteTime": {
     "end_time": "2019-10-26T08:48:31.163202Z",
     "start_time": "2019-10-26T08:48:29.188688Z"
    }
   },
   "outputs": [],
   "source": [
    "album_name = []\n",
    "track_id = []\n",
    "track_name = []\n",
    "track_duration = []\n",
    "track_popularity = []\n",
    "\n",
    "\n",
    "for track_id in tracks_id:\n",
    "    track_metadata = sp.track(track_id)\n",
    "    album_name.append(track_metadata['album']['name'])\n",
    "    track_duration.append(track_metadata['duration_ms'])\n",
    "#     print(track_duration)\n",
    "#     print(track_id)\n",
    "    list(track_id).append(track_metadata['id'])\n",
    "#     track_metadata['name']\n",
    "#     track_metadata['popularity']\n",
    "#     track_metadata['preview_url']\n",
    "#     track_metadata['uri']\n",
    "\n"
   ]
  },
  {
   "cell_type": "code",
   "execution_count": 113,
   "metadata": {
    "ExecuteTime": {
     "end_time": "2019-10-26T08:48:34.166126Z",
     "start_time": "2019-10-26T08:48:34.161138Z"
    }
   },
   "outputs": [
    {
     "data": {
      "text/plain": [
       "'3PYdxIDuBIuJSDGwfptFx4'"
      ]
     },
     "execution_count": 113,
     "metadata": {},
     "output_type": "execute_result"
    }
   ],
   "source": [
    "track_id"
   ]
  },
  {
   "cell_type": "code",
   "execution_count": 95,
   "metadata": {
    "ExecuteTime": {
     "end_time": "2019-10-26T08:29:56.322130Z",
     "start_time": "2019-10-26T08:29:56.294208Z"
    }
   },
   "outputs": [
    {
     "ename": "ValueError",
     "evalue": "If using all scalar values, you must pass an index",
     "output_type": "error",
     "traceback": [
      "\u001b[1;31m---------------------------------------------------------------------------\u001b[0m",
      "\u001b[1;31mValueError\u001b[0m                                Traceback (most recent call last)",
      "\u001b[1;32m<ipython-input-95-44a8def8d6bd>\u001b[0m in \u001b[0;36m<module>\u001b[1;34m()\u001b[0m\n\u001b[1;32m----> 1\u001b[1;33m \u001b[0mdf\u001b[0m \u001b[1;33m=\u001b[0m \u001b[0mpd\u001b[0m\u001b[1;33m.\u001b[0m\u001b[0mDataFrame\u001b[0m\u001b[1;33m(\u001b[0m\u001b[0mfeature_results\u001b[0m\u001b[1;33m[\u001b[0m\u001b[1;36m0\u001b[0m\u001b[1;33m]\u001b[0m\u001b[1;33m)\u001b[0m\u001b[1;33m\u001b[0m\u001b[0m\n\u001b[0m",
      "\u001b[1;32m~\\AppData\\Local\\Continuum\\anaconda3\\lib\\site-packages\\pandas\\core\\frame.py\u001b[0m in \u001b[0;36m__init__\u001b[1;34m(self, data, index, columns, dtype, copy)\u001b[0m\n\u001b[0;32m    328\u001b[0m                                  dtype=dtype, copy=copy)\n\u001b[0;32m    329\u001b[0m         \u001b[1;32melif\u001b[0m \u001b[0misinstance\u001b[0m\u001b[1;33m(\u001b[0m\u001b[0mdata\u001b[0m\u001b[1;33m,\u001b[0m \u001b[0mdict\u001b[0m\u001b[1;33m)\u001b[0m\u001b[1;33m:\u001b[0m\u001b[1;33m\u001b[0m\u001b[0m\n\u001b[1;32m--> 330\u001b[1;33m             \u001b[0mmgr\u001b[0m \u001b[1;33m=\u001b[0m \u001b[0mself\u001b[0m\u001b[1;33m.\u001b[0m\u001b[0m_init_dict\u001b[0m\u001b[1;33m(\u001b[0m\u001b[0mdata\u001b[0m\u001b[1;33m,\u001b[0m \u001b[0mindex\u001b[0m\u001b[1;33m,\u001b[0m \u001b[0mcolumns\u001b[0m\u001b[1;33m,\u001b[0m \u001b[0mdtype\u001b[0m\u001b[1;33m=\u001b[0m\u001b[0mdtype\u001b[0m\u001b[1;33m)\u001b[0m\u001b[1;33m\u001b[0m\u001b[0m\n\u001b[0m\u001b[0;32m    331\u001b[0m         \u001b[1;32melif\u001b[0m \u001b[0misinstance\u001b[0m\u001b[1;33m(\u001b[0m\u001b[0mdata\u001b[0m\u001b[1;33m,\u001b[0m \u001b[0mma\u001b[0m\u001b[1;33m.\u001b[0m\u001b[0mMaskedArray\u001b[0m\u001b[1;33m)\u001b[0m\u001b[1;33m:\u001b[0m\u001b[1;33m\u001b[0m\u001b[0m\n\u001b[0;32m    332\u001b[0m             \u001b[1;32mimport\u001b[0m \u001b[0mnumpy\u001b[0m\u001b[1;33m.\u001b[0m\u001b[0mma\u001b[0m\u001b[1;33m.\u001b[0m\u001b[0mmrecords\u001b[0m \u001b[1;32mas\u001b[0m \u001b[0mmrecords\u001b[0m\u001b[1;33m\u001b[0m\u001b[0m\n",
      "\u001b[1;32m~\\AppData\\Local\\Continuum\\anaconda3\\lib\\site-packages\\pandas\\core\\frame.py\u001b[0m in \u001b[0;36m_init_dict\u001b[1;34m(self, data, index, columns, dtype)\u001b[0m\n\u001b[0;32m    459\u001b[0m             \u001b[0marrays\u001b[0m \u001b[1;33m=\u001b[0m \u001b[1;33m[\u001b[0m\u001b[0mdata\u001b[0m\u001b[1;33m[\u001b[0m\u001b[0mk\u001b[0m\u001b[1;33m]\u001b[0m \u001b[1;32mfor\u001b[0m \u001b[0mk\u001b[0m \u001b[1;32min\u001b[0m \u001b[0mkeys\u001b[0m\u001b[1;33m]\u001b[0m\u001b[1;33m\u001b[0m\u001b[0m\n\u001b[0;32m    460\u001b[0m \u001b[1;33m\u001b[0m\u001b[0m\n\u001b[1;32m--> 461\u001b[1;33m         \u001b[1;32mreturn\u001b[0m \u001b[0m_arrays_to_mgr\u001b[0m\u001b[1;33m(\u001b[0m\u001b[0marrays\u001b[0m\u001b[1;33m,\u001b[0m \u001b[0mdata_names\u001b[0m\u001b[1;33m,\u001b[0m \u001b[0mindex\u001b[0m\u001b[1;33m,\u001b[0m \u001b[0mcolumns\u001b[0m\u001b[1;33m,\u001b[0m \u001b[0mdtype\u001b[0m\u001b[1;33m=\u001b[0m\u001b[0mdtype\u001b[0m\u001b[1;33m)\u001b[0m\u001b[1;33m\u001b[0m\u001b[0m\n\u001b[0m\u001b[0;32m    462\u001b[0m \u001b[1;33m\u001b[0m\u001b[0m\n\u001b[0;32m    463\u001b[0m     \u001b[1;32mdef\u001b[0m \u001b[0m_init_ndarray\u001b[0m\u001b[1;33m(\u001b[0m\u001b[0mself\u001b[0m\u001b[1;33m,\u001b[0m \u001b[0mvalues\u001b[0m\u001b[1;33m,\u001b[0m \u001b[0mindex\u001b[0m\u001b[1;33m,\u001b[0m \u001b[0mcolumns\u001b[0m\u001b[1;33m,\u001b[0m \u001b[0mdtype\u001b[0m\u001b[1;33m=\u001b[0m\u001b[1;32mNone\u001b[0m\u001b[1;33m,\u001b[0m \u001b[0mcopy\u001b[0m\u001b[1;33m=\u001b[0m\u001b[1;32mFalse\u001b[0m\u001b[1;33m)\u001b[0m\u001b[1;33m:\u001b[0m\u001b[1;33m\u001b[0m\u001b[0m\n",
      "\u001b[1;32m~\\AppData\\Local\\Continuum\\anaconda3\\lib\\site-packages\\pandas\\core\\frame.py\u001b[0m in \u001b[0;36m_arrays_to_mgr\u001b[1;34m(arrays, arr_names, index, columns, dtype)\u001b[0m\n\u001b[0;32m   6161\u001b[0m     \u001b[1;31m# figure out the index, if necessary\u001b[0m\u001b[1;33m\u001b[0m\u001b[1;33m\u001b[0m\u001b[0m\n\u001b[0;32m   6162\u001b[0m     \u001b[1;32mif\u001b[0m \u001b[0mindex\u001b[0m \u001b[1;32mis\u001b[0m \u001b[1;32mNone\u001b[0m\u001b[1;33m:\u001b[0m\u001b[1;33m\u001b[0m\u001b[0m\n\u001b[1;32m-> 6163\u001b[1;33m         \u001b[0mindex\u001b[0m \u001b[1;33m=\u001b[0m \u001b[0mextract_index\u001b[0m\u001b[1;33m(\u001b[0m\u001b[0marrays\u001b[0m\u001b[1;33m)\u001b[0m\u001b[1;33m\u001b[0m\u001b[0m\n\u001b[0m\u001b[0;32m   6164\u001b[0m     \u001b[1;32melse\u001b[0m\u001b[1;33m:\u001b[0m\u001b[1;33m\u001b[0m\u001b[0m\n\u001b[0;32m   6165\u001b[0m         \u001b[0mindex\u001b[0m \u001b[1;33m=\u001b[0m \u001b[0m_ensure_index\u001b[0m\u001b[1;33m(\u001b[0m\u001b[0mindex\u001b[0m\u001b[1;33m)\u001b[0m\u001b[1;33m\u001b[0m\u001b[0m\n",
      "\u001b[1;32m~\\AppData\\Local\\Continuum\\anaconda3\\lib\\site-packages\\pandas\\core\\frame.py\u001b[0m in \u001b[0;36mextract_index\u001b[1;34m(data)\u001b[0m\n\u001b[0;32m   6200\u001b[0m \u001b[1;33m\u001b[0m\u001b[0m\n\u001b[0;32m   6201\u001b[0m         \u001b[1;32mif\u001b[0m \u001b[1;32mnot\u001b[0m \u001b[0mindexes\u001b[0m \u001b[1;32mand\u001b[0m \u001b[1;32mnot\u001b[0m \u001b[0mraw_lengths\u001b[0m\u001b[1;33m:\u001b[0m\u001b[1;33m\u001b[0m\u001b[0m\n\u001b[1;32m-> 6202\u001b[1;33m             raise ValueError('If using all scalar values, you must pass'\n\u001b[0m\u001b[0;32m   6203\u001b[0m                              ' an index')\n\u001b[0;32m   6204\u001b[0m \u001b[1;33m\u001b[0m\u001b[0m\n",
      "\u001b[1;31mValueError\u001b[0m: If using all scalar values, you must pass an index"
     ]
    }
   ],
   "source": [
    "df = pd.DataFrame(feature_results[0])"
   ]
  },
  {
   "cell_type": "code",
   "execution_count": 83,
   "metadata": {
    "ExecuteTime": {
     "end_time": "2019-10-26T08:16:44.947515Z",
     "start_time": "2019-10-26T08:16:44.941529Z"
    }
   },
   "outputs": [
    {
     "data": {
      "text/plain": [
       "[{'danceability': 0.367,\n",
       "  'energy': 0.86,\n",
       "  'key': 11,\n",
       "  'loudness': -4.82,\n",
       "  'mode': 0,\n",
       "  'speechiness': 0.0535,\n",
       "  'acousticness': 0.00744,\n",
       "  'instrumentalness': 0.000109,\n",
       "  'liveness': 0.214,\n",
       "  'valence': 0.461,\n",
       "  'tempo': 175.021,\n",
       "  'type': 'audio_features',\n",
       "  'id': '3UygY7qW2cvG9Llkay6i1i',\n",
       "  'uri': 'spotify:track:3UygY7qW2cvG9Llkay6i1i',\n",
       "  'track_href': 'https://api.spotify.com/v1/tracks/3UygY7qW2cvG9Llkay6i1i',\n",
       "  'analysis_url': 'https://api.spotify.com/v1/audio-analysis/3UygY7qW2cvG9Llkay6i1i',\n",
       "  'duration_ms': 214947,\n",
       "  'time_signature': 4}]"
      ]
     },
     "execution_count": 83,
     "metadata": {},
     "output_type": "execute_result"
    }
   ],
   "source": [
    "feature_results"
   ]
  },
  {
   "cell_type": "code",
   "execution_count": 53,
   "metadata": {
    "ExecuteTime": {
     "end_time": "2019-10-26T07:44:19.884927Z",
     "start_time": "2019-10-26T07:44:19.879948Z"
    }
   },
   "outputs": [
    {
     "data": {
      "text/plain": [
       "'spotify:track:0COqiPhxzoWICwFCS4eZcp'"
      ]
     },
     "execution_count": 53,
     "metadata": {},
     "output_type": "execute_result"
    }
   ],
   "source": [
    "def retrieve_tracks_metadata(album_id, album_name):\n",
    "    \"\"\" retrieve some \"\"\"\n",
    "    \n",
    "\n",
    "    tracks_info['items'][1]['id']\n",
    "    tracks_info['items'][1]['name']\n"
   ]
  },
  {
   "cell_type": "code",
   "execution_count": null,
   "metadata": {},
   "outputs": [],
   "source": [
    "sp.audio_features()"
   ]
  },
  {
   "cell_type": "code",
   "execution_count": 57,
   "metadata": {
    "ExecuteTime": {
     "end_time": "2019-10-26T07:53:25.643508Z",
     "start_time": "2019-10-26T07:53:25.639520Z"
    }
   },
   "outputs": [],
   "source": [
    "tracks_uri = []\n",
    "for idx in range(len(tracks_info['items'])):\n",
    "    tracks_uri.append(tracks_info['items'][idx]['id'])\n",
    "    \n",
    "    "
   ]
  },
  {
   "cell_type": "code",
   "execution_count": 58,
   "metadata": {
    "ExecuteTime": {
     "end_time": "2019-10-26T07:53:26.173636Z",
     "start_time": "2019-10-26T07:53:26.169646Z"
    }
   },
   "outputs": [
    {
     "data": {
      "text/plain": [
       "['3UygY7qW2cvG9Llkay6i1i',\n",
       " '0COqiPhxzoWICwFCS4eZcp',\n",
       " '0tWEB6BxbI48XN79QE1JbT',\n",
       " '4UzVcXufOhGUwF56HT7b8M',\n",
       " '6Z77oDcn6iI1MHFCBPjl24',\n",
       " '46fyLy4W9HhAkcb67kLaAV',\n",
       " '7q6CybWAg3uYLgS5tDWqmd',\n",
       " '5j7gLuOsBOyqooruGxX4nx',\n",
       " '0aYUqsvZG7bAslrUkd9Z0g',\n",
       " '2aUuMeSbt2aEv94MdG2BYS',\n",
       " '1TU3KOnNwSERgNbF2Yzl7N',\n",
       " '3PYdxIDuBIuJSDGwfptFx4']"
      ]
     },
     "execution_count": 58,
     "metadata": {},
     "output_type": "execute_result"
    }
   ],
   "source": [
    "tracks_uri"
   ]
  },
  {
   "cell_type": "code",
   "execution_count": 61,
   "metadata": {
    "ExecuteTime": {
     "end_time": "2019-10-26T07:54:47.531115Z",
     "start_time": "2019-10-26T07:54:47.520164Z"
    }
   },
   "outputs": [
    {
     "ename": "TypeError",
     "evalue": "'method' object is not subscriptable",
     "output_type": "error",
     "traceback": [
      "\u001b[1;31m---------------------------------------------------------------------------\u001b[0m",
      "\u001b[1;31mTypeError\u001b[0m                                 Traceback (most recent call last)",
      "\u001b[1;32m<ipython-input-61-333ae206bff1>\u001b[0m in \u001b[0;36m<module>\u001b[1;34m()\u001b[0m\n\u001b[1;32m----> 1\u001b[1;33m \u001b[0msp\u001b[0m\u001b[1;33m.\u001b[0m\u001b[0maudio_features\u001b[0m\u001b[1;33m[\u001b[0m\u001b[1;34m'3UygY7qW2cvG9Llkay6i1i'\u001b[0m\u001b[1;33m]\u001b[0m\u001b[1;33m\u001b[0m\u001b[0m\n\u001b[0m",
      "\u001b[1;31mTypeError\u001b[0m: 'method' object is not subscriptable"
     ]
    }
   ],
   "source": [
    "sp.audio_features['3UygY7qW2cvG9Llkay6i1i']"
   ]
  },
  {
   "cell_type": "code",
   "execution_count": 62,
   "metadata": {
    "ExecuteTime": {
     "end_time": "2019-10-26T07:58:56.212061Z",
     "start_time": "2019-10-26T07:58:56.207094Z"
    }
   },
   "outputs": [],
   "source": [
    "def retrieve_audio_features_tracks_playlist(track_ids):\n",
    "    \"\"\" Retrieve audio features of tracks of a playlist\n",
    "    \n",
    "    Input: \n",
    "        track_ids: list of track_ids\n",
    "    \n",
    "    Output:\n",
    "        audio_features: list of dictionary with audiofeatures for each track_id in track_ids\n",
    "    \"\"\"\n",
    "    \n",
    "    audio_features = []\n",
    "    batchsize = 100\n",
    "    None_counter = 0\n",
    "    \n",
    "    for i in range(0,len(track_ids),batchsize):\n",
    "        batch = track_ids[i:i+batchsize]\n",
    "        feature_results = sp.audio_features(batch)\n",
    "        for i, t in enumerate(feature_results):\n",
    "            if t == None:\n",
    "                None_counter = None_counter + 1\n",
    "            else:\n",
    "                audio_features.append(t)\n",
    "    \n",
    "    return audio_features\n"
   ]
  },
  {
   "cell_type": "code",
   "execution_count": 64,
   "metadata": {
    "ExecuteTime": {
     "end_time": "2019-10-26T08:03:40.092338Z",
     "start_time": "2019-10-26T08:03:39.978621Z"
    }
   },
   "outputs": [],
   "source": [
    "audio_features = retrieve_audio_features_tracks_playlist(tracks_uri)"
   ]
  },
  {
   "cell_type": "code",
   "execution_count": 66,
   "metadata": {
    "ExecuteTime": {
     "end_time": "2019-10-26T08:04:09.459968Z",
     "start_time": "2019-10-26T08:04:09.453984Z"
    }
   },
   "outputs": [
    {
     "data": {
      "text/plain": [
       "{'danceability': 0.367,\n",
       " 'energy': 0.86,\n",
       " 'key': 11,\n",
       " 'loudness': -4.82,\n",
       " 'mode': 0,\n",
       " 'speechiness': 0.0535,\n",
       " 'acousticness': 0.00744,\n",
       " 'instrumentalness': 0.000109,\n",
       " 'liveness': 0.214,\n",
       " 'valence': 0.461,\n",
       " 'tempo': 175.021,\n",
       " 'type': 'audio_features',\n",
       " 'id': '3UygY7qW2cvG9Llkay6i1i',\n",
       " 'uri': 'spotify:track:3UygY7qW2cvG9Llkay6i1i',\n",
       " 'track_href': 'https://api.spotify.com/v1/tracks/3UygY7qW2cvG9Llkay6i1i',\n",
       " 'analysis_url': 'https://api.spotify.com/v1/audio-analysis/3UygY7qW2cvG9Llkay6i1i',\n",
       " 'duration_ms': 214947,\n",
       " 'time_signature': 4}"
      ]
     },
     "execution_count": 66,
     "metadata": {},
     "output_type": "execute_result"
    }
   ],
   "source": [
    "audio_features[0]"
   ]
  },
  {
   "cell_type": "code",
   "execution_count": 60,
   "metadata": {
    "ExecuteTime": {
     "end_time": "2019-10-26T07:53:45.906889Z",
     "start_time": "2019-10-26T07:53:45.903868Z"
    },
    "scrolled": true
   },
   "outputs": [
    {
     "ename": "SyntaxError",
     "evalue": "invalid syntax (<ipython-input-60-02540a195bde>, line 1)",
     "output_type": "error",
     "traceback": [
      "\u001b[1;36m  File \u001b[1;32m\"<ipython-input-60-02540a195bde>\"\u001b[1;36m, line \u001b[1;32m1\u001b[0m\n\u001b[1;33m    sp.audio_features[tracks = tracks_uri]\u001b[0m\n\u001b[1;37m                             ^\u001b[0m\n\u001b[1;31mSyntaxError\u001b[0m\u001b[1;31m:\u001b[0m invalid syntax\n"
     ]
    }
   ],
   "source": [
    "sp.audio_features[tracks = tracks_uri]"
   ]
  },
  {
   "cell_type": "code",
   "execution_count": 35,
   "metadata": {
    "ExecuteTime": {
     "end_time": "2019-10-26T07:38:40.722787Z",
     "start_time": "2019-10-26T07:38:40.718798Z"
    }
   },
   "outputs": [
    {
     "data": {
      "text/plain": [
       "12"
      ]
     },
     "execution_count": 35,
     "metadata": {},
     "output_type": "execute_result"
    }
   ],
   "source": [
    "# number of tracks?\n",
    "tracks_info['total']"
   ]
  },
  {
   "cell_type": "markdown",
   "metadata": {},
   "source": [
    "**NEXT: "
   ]
  },
  {
   "cell_type": "code",
   "execution_count": null,
   "metadata": {},
   "outputs": [],
   "source": [
    "df_albums_evanescence_filtered[df_albums_evanescence_filtered]"
   ]
  },
  {
   "cell_type": "code",
   "execution_count": null,
   "metadata": {
    "ExecuteTime": {
     "end_time": "2019-10-23T17:58:53.553648Z",
     "start_time": "2019-10-23T17:58:53.438942Z"
    }
   },
   "outputs": [],
   "source": [
    "sp.album_tracks('3U85Q4GtR0I3VwgDOKHttO')"
   ]
  },
  {
   "cell_type": "code",
   "execution_count": null,
   "metadata": {
    "ExecuteTime": {
     "end_time": "2019-10-23T15:02:15.349731Z",
     "start_time": "2019-10-23T15:02:15.246747Z"
    },
    "scrolled": false
   },
   "outputs": [],
   "source": [
    "len(sp.album_tracks('12NBjimNnuWAP0OXIlwyrZ')['items'])"
   ]
  },
  {
   "cell_type": "code",
   "execution_count": null,
   "metadata": {
    "ExecuteTime": {
     "end_time": "2019-10-23T15:03:03.047833Z",
     "start_time": "2019-10-23T15:03:02.955696Z"
    }
   },
   "outputs": [],
   "source": [
    "sp.album_tracks('12NBjimNnuWAP0OXIlwyrZ')['items'][0].keys()"
   ]
  },
  {
   "cell_type": "code",
   "execution_count": null,
   "metadata": {
    "ExecuteTime": {
     "end_time": "2019-10-23T15:05:28.547059Z",
     "start_time": "2019-10-23T15:05:28.409913Z"
    },
    "scrolled": true
   },
   "outputs": [],
   "source": [
    "sp.album_tracks('12NBjimNnuWAP0OXIlwyrZ')['items']"
   ]
  },
  {
   "cell_type": "code",
   "execution_count": null,
   "metadata": {
    "ExecuteTime": {
     "end_time": "2019-10-23T18:04:11.466593Z",
     "start_time": "2019-10-23T18:04:10.991302Z"
    }
   },
   "outputs": [],
   "source": [
    "\n",
    "\n",
    "print(sp.album_tracks('12NBjimNnuWAP0OXIlwyrZ')['items'][1]['id'])\n",
    "print(sp.album_tracks('12NBjimNnuWAP0OXIlwyrZ')['items'][0]['name'])\n",
    "print(sp.album_tracks('12NBjimNnuWAP0OXIlwyrZ')['items'][0]['preview_url'])\n",
    "print(sp.album_tracks('12NBjimNnuWAP0OXIlwyrZ')['items'][0]['uri'])\n"
   ]
  },
  {
   "cell_type": "code",
   "execution_count": null,
   "metadata": {
    "ExecuteTime": {
     "end_time": "2019-10-23T18:04:24.694861Z",
     "start_time": "2019-10-23T18:04:24.609061Z"
    }
   },
   "outputs": [],
   "source": [
    "sp.audio_features(tracks=['4d4kQ4RAVexSLnLNBiid1m','2ujFfnr1No4tWf4W3mSVbK'])"
   ]
  },
  {
   "cell_type": "code",
   "execution_count": null,
   "metadata": {},
   "outputs": [],
   "source": []
  }
 ],
 "metadata": {
  "hide_input": false,
  "kernelspec": {
   "display_name": "Python 3",
   "language": "python",
   "name": "python3"
  },
  "language_info": {
   "codemirror_mode": {
    "name": "ipython",
    "version": 3
   },
   "file_extension": ".py",
   "mimetype": "text/x-python",
   "name": "python",
   "nbconvert_exporter": "python",
   "pygments_lexer": "ipython3",
   "version": "3.6.5"
  },
  "toc": {
   "base_numbering": 1,
   "nav_menu": {},
   "number_sections": true,
   "sideBar": true,
   "skip_h1_title": false,
   "title_cell": "Table of Contents",
   "title_sidebar": "Contents",
   "toc_cell": false,
   "toc_position": {},
   "toc_section_display": true,
   "toc_window_display": false
  },
  "varInspector": {
   "cols": {
    "lenName": 16,
    "lenType": 16,
    "lenVar": 40
   },
   "kernels_config": {
    "python": {
     "delete_cmd_postfix": "",
     "delete_cmd_prefix": "del ",
     "library": "var_list.py",
     "varRefreshCmd": "print(var_dic_list())"
    },
    "r": {
     "delete_cmd_postfix": ") ",
     "delete_cmd_prefix": "rm(",
     "library": "var_list.r",
     "varRefreshCmd": "cat(var_dic_list()) "
    }
   },
   "types_to_exclude": [
    "module",
    "function",
    "builtin_function_or_method",
    "instance",
    "_Feature"
   ],
   "window_display": false
  }
 },
 "nbformat": 4,
 "nbformat_minor": 2
}
