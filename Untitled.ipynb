{
 "cells": [
  {
   "cell_type": "code",
   "execution_count": 1,
   "metadata": {},
   "outputs": [],
   "source": [
    "# importing packages\n",
    "\n",
    "import requests\n",
    "from bs4 import BeautifulSoup\n",
    "import pandas as pd\n",
    "import time\n",
    "\n",
    "TodaysDate = time.strftime(\"%Y-%m-%d\")\n"
   ]
  },
  {
   "cell_type": "code",
   "execution_count": 5,
   "metadata": {},
   "outputs": [],
   "source": [
    "def retrieve_hyperlinks(main_url):\n",
    "    \"\"\" \n",
    "    Extract all hyperlinks in 'main_url' and return a list with these hyperlinks \n",
    "    \"\"\"\n",
    "    \n",
    "    # Send request and catch response: r\n",
    "\n",
    "    r = requests.get(main_url)\n",
    "\n",
    "    # Extracts response as html: html_doc\n",
    "    html_doc = r.text\n",
    "\n",
    "    # Create a BeautifulSoup object from the HTML: soup\n",
    "    soup = BeautifulSoup(html_doc,\"lxml\")\n",
    "    \n",
    "    # Find all 'a' tags (which define hyperlinks): a_tags\n",
    "\n",
    "    a_tags = soup.find_all('a')\n",
    "    \n",
    "    # Create a list with hyperlinks found\n",
    "\n",
    "    list_links = [link.get('href') for link in a_tags]\n",
    "    \n",
    "    # Remove none values if there is some\n",
    "    \n",
    "    list_links = list(filter(None, list_links)) \n",
    "    \n",
    "    return list_links"
   ]
  },
  {
   "cell_type": "code",
   "execution_count": 6,
   "metadata": {},
   "outputs": [
    {
     "name": "stdout",
     "output_type": "stream",
     "text": [
      "Number of links before filtering: 233\n"
     ]
    }
   ],
   "source": [
    "# retrieving all hyperlinks\n",
    "urls = ['https://songteksten.net/artist/lyrics/1938/evanescence.html',\n",
    "       'https://songteksten.net/artist/lyrics/1938/evanescence/page/2.html',\n",
    "       'https://songteksten.net/artist/lyrics/1938/evanescence/page/3.html']\n",
    "\n",
    "list_links_lyrics_songteksten_net = []\n",
    "\n",
    "for url in urls:\n",
    "    list_links_lyrics_songteksten_net.extend(retrieve_hyperlinks(url))\n",
    "    \n",
    "# remove probable repetitions\n",
    "\n",
    "list_links_lyrics_songteksten_net = list(set(list_links_lyrics_songteksten_net))\n",
    "\n",
    "    \n",
    "print('Number of links before filtering:', len(list_links_lyrics_songteksten_net))"
   ]
  },
  {
   "cell_type": "code",
   "execution_count": 7,
   "metadata": {},
   "outputs": [
    {
     "name": "stdout",
     "output_type": "stream",
     "text": [
      "Number of links after filtering: 86\n"
     ]
    }
   ],
   "source": [
    "# using url address to filter lyrics\n",
    "\n",
    "spliting = urls[0].split('/')\n",
    "filter_lyrics = spliting[2]+'/lyric/'+spliting[-2]\n",
    "\n",
    "list_links_lyrics_songteksten_net = [link for link in list_links_lyrics_songteksten_net if (filter_lyrics \n",
    "                                                                              in link) ]\n",
    "\n",
    "print('Number of links after filtering:', len(list_links_lyrics_songteksten_net))\n"
   ]
  },
  {
   "cell_type": "code",
   "execution_count": 9,
   "metadata": {},
   "outputs": [],
   "source": [
    "def extract_lyric_from_url(url_lyric):\n",
    "    \"\"\" \n",
    "    Extract lyrics after prettify beautiful soup from www.songteksten.nl \n",
    "    \"\"\"\n",
    "    \n",
    "    \n",
    "    # send a http request\n",
    "    r_lyric = requests.get(url_lyric)\n",
    "    \n",
    "    # obtain text with html containt of the url\n",
    "    html_doc_lyric = r_lyric.text\n",
    "    \n",
    "    # making html easier to read\n",
    "    soup_lyric = BeautifulSoup(html_doc_lyric,\"lxml\")\n",
    "\n",
    "    \n",
    "    # prettifying it\n",
    "    soup_lyric_pretty = soup_lyric.prettify()\n",
    "    \n",
    "    # Isolating deal that contains the lyric\n",
    "    \n",
    "    text = soup_lyric_pretty.split('</h1>\\n')[1].split('<div class=\"buma-consent\" role=\"alert\">')[0]\n",
    "\n",
    "    # Cleaning text and building a list with it\n",
    "    list_lyrics = text.split('<br/>\\n')\n",
    "    list_lyrics = [item.replace('\\n','') for item in list_lyrics]\n",
    "    list_lyrics = [item.lstrip().rstrip() for item in list_lyrics]\n",
    "    \n",
    "    # removing empty elements from the list\n",
    "    \n",
    "    for item in list_lyrics:\n",
    "        if str(item) == '':\n",
    "            list_lyrics.remove(item)\n",
    "            \n",
    "    # this part was added after noticing that at least one lyric was not following the normal pattern\n",
    "    \n",
    "    if '<div' in list_lyrics[0]:\n",
    "        list_lyrics = list_lyrics[1:]\n",
    "        \n",
    "        \n",
    "    # Having the lyrics in string format\n",
    "    \n",
    "    lyrics = '. '.join(list_lyrics)\n",
    "            \n",
    "    \n",
    "    # returning both list and string\n",
    "    \n",
    "    return list_lyrics, lyrics"
   ]
  },
  {
   "cell_type": "code",
   "execution_count": 10,
   "metadata": {},
   "outputs": [],
   "source": [
    "list_lyrics_evanescence = []\n",
    "list_title_lyrics_evanescence = []\n",
    "\n",
    "# building lists with titles of lyrics and lyrics\n",
    "\n",
    "for url_lyric in list_links_lyrics_songteksten_net:\n",
    "    \n",
    "    list_title_lyrics_evanescence.append(url_lyric.split('/')[-1].split('.')[-2])\n",
    "    list_lyrics_evanescence.append(extract_lyric_from_url(url_lyric)[1])\n"
   ]
  },
  {
   "cell_type": "code",
   "execution_count": 11,
   "metadata": {},
   "outputs": [],
   "source": [
    "# Creating a dataframe with song titles and lyrics\n",
    "\n",
    "df = pd.DataFrame({'song_title': list_title_lyrics_evanescence,\n",
    "                  'lyrics': list_lyrics_evanescence})\n",
    "\n",
    "# lower case titles and remove '-'\n",
    "\n",
    "df['song_title'] = df['song_title'].apply(lambda x: x.replace('-',' ').lower())\n",
    "\n",
    "# Organize dataframe in alphabetical order\n",
    "df.sort_values('song_title', inplace = True)\n",
    "df.reset_index(drop = True, inplace = True)\n",
    "df.head()\n",
    "\n",
    "# saving dataframe to .csv\n",
    "\n",
    "df.to_csv(\"./data/lyrics_evanescence_\"+TodaysDate+\".csv\", index = False)"
   ]
  },
  {
   "cell_type": "markdown",
   "metadata": {},
   "source": [
    "# within temptation"
   ]
  },
  {
   "cell_type": "code",
   "execution_count": 12,
   "metadata": {},
   "outputs": [
    {
     "name": "stdout",
     "output_type": "stream",
     "text": [
      "Number of links before filtering: 231\n"
     ]
    }
   ],
   "source": [
    "# retrieving all hyperlinks\n",
    "urls = ['https://songteksten.net/artist/lyrics/320/within-temptation.html',\n",
    "       'https://songteksten.net/artist/lyrics/320/within-temptation/page/2.html',\n",
    "       'https://songteksten.net/artist/lyrics/320/within-temptation/page/3.html']\n",
    "\n",
    "list_links_lyrics_songteksten_net = []\n",
    "\n",
    "for url in urls:\n",
    "    list_links_lyrics_songteksten_net.extend(retrieve_hyperlinks(url))\n",
    "    \n",
    "# removing possible duplicates\n",
    "list_links_lyrics_songteksten_net = list(set(list_links_lyrics_songteksten_net))\n",
    "\n",
    "    \n",
    "print('Number of links before filtering:', len(list_links_lyrics_songteksten_net))"
   ]
  },
  {
   "cell_type": "code",
   "execution_count": 13,
   "metadata": {},
   "outputs": [
    {
     "name": "stdout",
     "output_type": "stream",
     "text": [
      "Number of links after filtering: 74\n"
     ]
    }
   ],
   "source": [
    "# filtering hyperlinks which contain lyrics - specific for songteksten.net\n",
    "\n",
    "# using url address to filter lyrics\n",
    "\n",
    "spliting = urls[0].split('/')\n",
    "filter_lyrics = spliting[2]+'/lyric/'+spliting[-2]\n",
    "\n",
    "list_links_lyrics_songteksten_net = [link for link in list_links_lyrics_songteksten_net if (filter_lyrics \n",
    "                                                                              in link) ]\n",
    "\n",
    "print('Number of links after filtering:', len(list_links_lyrics_songteksten_net))"
   ]
  },
  {
   "cell_type": "code",
   "execution_count": 14,
   "metadata": {},
   "outputs": [],
   "source": [
    "# building lists with titles of lyrics and lyrics\n",
    "list_title_lyrics_within_temptation = []\n",
    "list_lyrics_within_temptation = []\n",
    "\n",
    "for url_lyric in list_links_lyrics_songteksten_net:\n",
    "    \n",
    "    list_title_lyrics_within_temptation.append(url_lyric.split('/')[-1].split('.')[-2])\n",
    "    list_lyrics_within_temptation.append(extract_lyric_from_url(url_lyric)[1])"
   ]
  },
  {
   "cell_type": "code",
   "execution_count": null,
   "metadata": {},
   "outputs": [],
   "source": []
  }
 ],
 "metadata": {
  "kernelspec": {
   "display_name": "Python 3",
   "language": "python",
   "name": "python3"
  },
  "language_info": {
   "codemirror_mode": {
    "name": "ipython",
    "version": 3
   },
   "file_extension": ".py",
   "mimetype": "text/x-python",
   "name": "python",
   "nbconvert_exporter": "python",
   "pygments_lexer": "ipython3",
   "version": "3.6.7"
  },
  "toc": {
   "base_numbering": 1,
   "nav_menu": {},
   "number_sections": true,
   "sideBar": true,
   "skip_h1_title": false,
   "title_cell": "Table of Contents",
   "title_sidebar": "Contents",
   "toc_cell": false,
   "toc_position": {},
   "toc_section_display": true,
   "toc_window_display": false
  }
 },
 "nbformat": 4,
 "nbformat_minor": 4
}
